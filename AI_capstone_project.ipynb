{
 "cells": [
  {
   "cell_type": "markdown",
   "id": "dd50aa4c-7ae8-435c-8b7f-a0ba815f115a",
   "metadata": {},
   "source": [
    "# E-Commerce Project \n",
    "## Project Task: Week 1\n",
    "### Step-1: Perform an EDA on the dataset."
   ]
  },
  {
   "cell_type": "code",
   "execution_count": 1,
   "id": "89b3670f-7f5b-4a27-91d9-81299a818dcb",
   "metadata": {},
   "outputs": [],
   "source": [
    "import pandas as pd\n",
    "import numpy as np\n",
    "import matplotlib.pyplot as plt\n",
    "import seaborn as sns"
   ]
  },
  {
   "cell_type": "code",
   "execution_count": 3,
   "id": "648fd53e-c5bc-41ab-8df4-0596f0108bbe",
   "metadata": {},
   "outputs": [
    {
     "data": {
      "text/html": [
       "<div>\n",
       "<style scoped>\n",
       "    .dataframe tbody tr th:only-of-type {\n",
       "        vertical-align: middle;\n",
       "    }\n",
       "\n",
       "    .dataframe tbody tr th {\n",
       "        vertical-align: top;\n",
       "    }\n",
       "\n",
       "    .dataframe thead th {\n",
       "        text-align: right;\n",
       "    }\n",
       "</style>\n",
       "<table border=\"1\" class=\"dataframe\">\n",
       "  <thead>\n",
       "    <tr style=\"text-align: right;\">\n",
       "      <th></th>\n",
       "      <th>name</th>\n",
       "      <th>brand</th>\n",
       "      <th>categories</th>\n",
       "      <th>primaryCategories</th>\n",
       "      <th>reviews.date</th>\n",
       "      <th>reviews.text</th>\n",
       "      <th>reviews.title</th>\n",
       "      <th>sentiment</th>\n",
       "    </tr>\n",
       "  </thead>\n",
       "  <tbody>\n",
       "    <tr>\n",
       "      <th>0</th>\n",
       "      <td>All-New Fire HD 8 Tablet, 8\" HD Display, Wi-Fi...</td>\n",
       "      <td>Amazon</td>\n",
       "      <td>Electronics,iPad &amp; Tablets,All Tablets,Fire Ta...</td>\n",
       "      <td>Electronics</td>\n",
       "      <td>2016-12-26T00:00:00.000Z</td>\n",
       "      <td>Purchased on Black FridayPros - Great Price (e...</td>\n",
       "      <td>Powerful tablet</td>\n",
       "      <td>Positive</td>\n",
       "    </tr>\n",
       "    <tr>\n",
       "      <th>1</th>\n",
       "      <td>Amazon - Echo Plus w/ Built-In Hub - Silver</td>\n",
       "      <td>Amazon</td>\n",
       "      <td>Amazon Echo,Smart Home,Networking,Home &amp; Tools...</td>\n",
       "      <td>Electronics,Hardware</td>\n",
       "      <td>2018-01-17T00:00:00.000Z</td>\n",
       "      <td>I purchased two Amazon in Echo Plus and two do...</td>\n",
       "      <td>Amazon Echo Plus AWESOME</td>\n",
       "      <td>Positive</td>\n",
       "    </tr>\n",
       "    <tr>\n",
       "      <th>2</th>\n",
       "      <td>Amazon Echo Show Alexa-enabled Bluetooth Speak...</td>\n",
       "      <td>Amazon</td>\n",
       "      <td>Amazon Echo,Virtual Assistant Speakers,Electro...</td>\n",
       "      <td>Electronics,Hardware</td>\n",
       "      <td>2017-12-20T00:00:00.000Z</td>\n",
       "      <td>Just an average Alexa option. Does show a few ...</td>\n",
       "      <td>Average</td>\n",
       "      <td>Neutral</td>\n",
       "    </tr>\n",
       "    <tr>\n",
       "      <th>3</th>\n",
       "      <td>Fire HD 10 Tablet, 10.1 HD Display, Wi-Fi, 16 ...</td>\n",
       "      <td>Amazon</td>\n",
       "      <td>eBook Readers,Fire Tablets,Electronics Feature...</td>\n",
       "      <td>Office Supplies,Electronics</td>\n",
       "      <td>2017-08-04T00:00:00.000Z</td>\n",
       "      <td>very good product. Exactly what I wanted, and ...</td>\n",
       "      <td>Greattttttt</td>\n",
       "      <td>Positive</td>\n",
       "    </tr>\n",
       "    <tr>\n",
       "      <th>4</th>\n",
       "      <td>Brand New Amazon Kindle Fire 16gb 7\" Ips Displ...</td>\n",
       "      <td>Amazon</td>\n",
       "      <td>Computers/Tablets &amp; Networking,Tablets &amp; eBook...</td>\n",
       "      <td>Electronics</td>\n",
       "      <td>2017-01-23T00:00:00.000Z</td>\n",
       "      <td>This is the 3rd one I've purchased. I've bough...</td>\n",
       "      <td>Very durable!</td>\n",
       "      <td>Positive</td>\n",
       "    </tr>\n",
       "  </tbody>\n",
       "</table>\n",
       "</div>"
      ],
      "text/plain": [
       "                                                name   brand  \\\n",
       "0  All-New Fire HD 8 Tablet, 8\" HD Display, Wi-Fi...  Amazon   \n",
       "1        Amazon - Echo Plus w/ Built-In Hub - Silver  Amazon   \n",
       "2  Amazon Echo Show Alexa-enabled Bluetooth Speak...  Amazon   \n",
       "3  Fire HD 10 Tablet, 10.1 HD Display, Wi-Fi, 16 ...  Amazon   \n",
       "4  Brand New Amazon Kindle Fire 16gb 7\" Ips Displ...  Amazon   \n",
       "\n",
       "                                          categories  \\\n",
       "0  Electronics,iPad & Tablets,All Tablets,Fire Ta...   \n",
       "1  Amazon Echo,Smart Home,Networking,Home & Tools...   \n",
       "2  Amazon Echo,Virtual Assistant Speakers,Electro...   \n",
       "3  eBook Readers,Fire Tablets,Electronics Feature...   \n",
       "4  Computers/Tablets & Networking,Tablets & eBook...   \n",
       "\n",
       "             primaryCategories              reviews.date  \\\n",
       "0                  Electronics  2016-12-26T00:00:00.000Z   \n",
       "1         Electronics,Hardware  2018-01-17T00:00:00.000Z   \n",
       "2         Electronics,Hardware  2017-12-20T00:00:00.000Z   \n",
       "3  Office Supplies,Electronics  2017-08-04T00:00:00.000Z   \n",
       "4                  Electronics  2017-01-23T00:00:00.000Z   \n",
       "\n",
       "                                        reviews.text  \\\n",
       "0  Purchased on Black FridayPros - Great Price (e...   \n",
       "1  I purchased two Amazon in Echo Plus and two do...   \n",
       "2  Just an average Alexa option. Does show a few ...   \n",
       "3  very good product. Exactly what I wanted, and ...   \n",
       "4  This is the 3rd one I've purchased. I've bough...   \n",
       "\n",
       "              reviews.title sentiment  \n",
       "0           Powerful tablet  Positive  \n",
       "1  Amazon Echo Plus AWESOME  Positive  \n",
       "2                   Average   Neutral  \n",
       "3               Greattttttt  Positive  \n",
       "4             Very durable!  Positive  "
      ]
     },
     "execution_count": 3,
     "metadata": {},
     "output_type": "execute_result"
    }
   ],
   "source": [
    "df_train = pd.read_csv(r\"C:\\Users\\utkri\\Simplilearn\\Projects\\AI Capstone Project\\Ecommerce\\train_data.csv\")\n",
    "df_train.head()"
   ]
  },
  {
   "cell_type": "markdown",
   "id": "febc0d03-e504-42bc-afdb-7af10809da75",
   "metadata": {},
   "source": [
    "#### Step-1a: See what a positive, negative, and neutral review looks like"
   ]
  },
  {
   "cell_type": "code",
   "execution_count": 4,
   "id": "ac29d060-d273-41a3-8b68-8fae197dfecf",
   "metadata": {},
   "outputs": [
    {
     "name": "stdout",
     "output_type": "stream",
     "text": [
      "Sentiment : Positive\n",
      "Text : This is a great product. Light weight. I wish it has wifi to download from online.\n",
      "-----------------------------------------\n",
      "\n",
      "Sentiment : Neutral\n",
      "Text : My 7-year old daughter saved up to by this. Her brother bought the 8GB about a year earlier, so new she needed more space. The OS is a bit clunky, and less intuitive then on higher priced tablets, but tough to beat the price. Speed isn't great for web or certain gaming apps, but fine for books. Parental controls are helpful, but take time to figure out and require more steps than seem necessary to change. Overall, OK first tablet for kids, considering the price. For adults, fine for e-books and VERY basic apps. Otherwise, best to pay up for better quality and OS efficiency.\n",
      "-----------------------------------------\n",
      "\n",
      "Sentiment : Positive\n",
      "Text : Purchased this for my son. Has room to upgrade memory to allow more books & games. But the speakers could be better or located in a better position.\n",
      "-----------------------------------------\n",
      "\n",
      "Sentiment : Positive\n",
      "Text : Bought this for my mom and it was just what she needed and at a great price. Been wanting to get an Ipad for myself, but think this might be a great less expensive option for me as well.\n",
      "-----------------------------------------\n",
      "\n",
      "Sentiment : Negative\n",
      "Text : was cheap, can not run chrome stuff, returned to store.\n",
      "-----------------------------------------\n",
      "\n"
     ]
    }
   ],
   "source": [
    "for row in df_train[5:10].itertuples():\n",
    "    _,_,_,_,_,_,text,_,sentiment = row\n",
    "    print(f\"Sentiment : {sentiment}\")\n",
    "    print(f\"Text : {text}\")\n",
    "    print(\"-----------------------------------------\\n\")"
   ]
  },
  {
   "cell_type": "markdown",
   "id": "a869df83-d57c-4fa6-924e-48e44ec1b42e",
   "metadata": {},
   "source": [
    "To visualize in general, let's print word cloud for all three positive, neagtive and neutral and let's see how they looks like. "
   ]
  },
  {
   "cell_type": "code",
   "execution_count": 5,
   "id": "5ac1bd18-75f5-4f28-82e7-fc08e2a2a536",
   "metadata": {},
   "outputs": [],
   "source": [
    "positive = df_train.loc[df_train[\"sentiment\"]==\"Positive\"].reset_index(drop=True)\n",
    "negative = df_train.loc[df_train[\"sentiment\"]==\"Negative\"].reset_index(drop=True)\n",
    "neutral = df_train.loc[df_train[\"sentiment\"]==\"Neutral\"].reset_index(drop=True)"
   ]
  },
  {
   "cell_type": "code",
   "execution_count": 6,
   "id": "51ab8222-3673-4744-9982-0fe9eb50b202",
   "metadata": {},
   "outputs": [],
   "source": [
    "# importing necessary libraries\n",
    "from wordcloud import WordCloud, ImageColorGenerator"
   ]
  },
  {
   "cell_type": "markdown",
   "id": "597047fa-66a7-45be-8b28-4a96ed1d425b",
   "metadata": {},
   "source": [
    "Printing wordcloud for positive sentences."
   ]
  },
  {
   "cell_type": "code",
   "execution_count": 7,
   "id": "0807f72b-486d-42e7-a9b8-846d60d39c8c",
   "metadata": {},
   "outputs": [
    {
     "data": {
      "image/png": "[encoded data removed]",
      "text/plain": [
       "<Figure size 576x576 with 1 Axes>"
      ]
     },
     "metadata": {
      "needs_background": "light"
     },
     "output_type": "display_data"
    }
   ],
   "source": [
    "text = positive[\"reviews.text\"][0]\n",
    "# create and generate word cloud image\n",
    "wordcloud = WordCloud().generate(text)\n",
    "\n",
    "# Display the generated image\n",
    "plt.figure(figsize=(8,8))\n",
    "plt.imshow(wordcloud,interpolation=\"bilinear\")\n",
    "plt.axis(\"off\")\n",
    "plt.show()"
   ]
  },
  {
   "cell_type": "markdown",
   "id": "a9957e5a-de61-4e96-8320-be6617bc91d7",
   "metadata": {},
   "source": [
    "Word cloud for negative sentences."
   ]
  },
  {
   "cell_type": "code",
   "execution_count": 8,
   "id": "9ca707c5-2716-48b1-b01f-6efc66497999",
   "metadata": {},
   "outputs": [
    {
     "data": {
      "image/png": "[encoded data removed]",
      "text/plain": [
       "<Figure size 576x576 with 1 Axes>"
      ]
     },
     "metadata": {
      "needs_background": "light"
     },
     "output_type": "display_data"
    }
   ],
   "source": [
    "text_neg = negative[\"reviews.text\"][0]\n",
    "# create and generate word cloud image\n",
    "wordcloud_1 = WordCloud().generate(text_neg)\n",
    "\n",
    "# Display the generated image\n",
    "plt.figure(figsize=(8,8))\n",
    "plt.imshow(wordcloud_1,interpolation=\"bilinear\")\n",
    "plt.axis(\"off\")\n",
    "plt.show()"
   ]
  },
  {
   "cell_type": "markdown",
   "id": "44f6bfdb-7ba7-4370-8081-8f52d336001f",
   "metadata": {},
   "source": [
    "Printing wordcloud for neutral sentences."
   ]
  },
  {
   "cell_type": "code",
   "execution_count": 9,
   "id": "4fb4d8c1-90bb-4956-8b53-03c9b618c25b",
   "metadata": {},
   "outputs": [
    {
     "data": {
      "image/png": "[encoded data removed]",
      "text/plain": [
       "<Figure size 576x576 with 1 Axes>"
      ]
     },
     "metadata": {
      "needs_background": "light"
     },
     "output_type": "display_data"
    }
   ],
   "source": [
    "text_neu = neutral[\"reviews.text\"][0]\n",
    "# create and generate word cloud image\n",
    "wordcloud_2 = WordCloud().generate(text_neu)\n",
    "\n",
    "# Display the generated image\n",
    "plt.figure(figsize=(8,8))\n",
    "plt.imshow(wordcloud_2,interpolation=\"bilinear\")\n",
    "plt.axis(\"off\")\n",
    "plt.show()"
   ]
  },
  {
   "cell_type": "markdown",
   "id": "6dd07271-c7e7-4392-ad5d-4d5eaf7766de",
   "metadata": {},
   "source": [
    "#### Step-1b: Check the class count for each class. It’s a class imbalance problem."
   ]
  },
  {
   "cell_type": "markdown",
   "id": "353428e4-e5f5-4d14-8485-fc189fb151e9",
   "metadata": {},
   "source": [
    "Since it is written that dataset is imbalanced dataset. Let's look at those classes."
   ]
  },
  {
   "cell_type": "code",
   "execution_count": 10,
   "id": "327eed99-1260-4ec9-8514-9ce95639076a",
   "metadata": {},
   "outputs": [
    {
     "data": {
      "text/plain": [
       "Positive    3749\n",
       "Neutral      158\n",
       "Negative      93\n",
       "Name: sentiment, dtype: int64"
      ]
     },
     "execution_count": 10,
     "metadata": {},
     "output_type": "execute_result"
    }
   ],
   "source": [
    "# Check the dataset \n",
    "df_train[\"sentiment\"].value_counts()"
   ]
  },
  {
   "cell_type": "markdown",
   "id": "4c05448e-3a2c-4a2d-b5c9-9f5cd28783e3",
   "metadata": {},
   "source": [
    "As clearly the data is given as unbalanced data as also mentioned in the data description of the project. Let's check this by plotting a graph."
   ]
  },
  {
   "cell_type": "code",
   "execution_count": 11,
   "id": "7743c46b-84cf-4ea1-ac4e-e531c5c379e2",
   "metadata": {},
   "outputs": [
    {
     "data": {
      "image/png": "[encoded data removed]",
      "text/plain": [
       "<Figure size 432x288 with 1 Axes>"
      ]
     },
     "metadata": {
      "needs_background": "light"
     },
     "output_type": "display_data"
    }
   ],
   "source": [
    "sns.countplot(y=\"sentiment\",data=df_train)\n",
    "plt.show()"
   ]
  },
  {
   "cell_type": "code",
   "execution_count": 12,
   "id": "dda54df5-f773-4a69-a78f-1f3e62acd85a",
   "metadata": {},
   "outputs": [
    {
     "data": {
      "text/plain": [
       "name                  0\n",
       "brand                 0\n",
       "categories            0\n",
       "primaryCategories     0\n",
       "reviews.date          0\n",
       "reviews.text          0\n",
       "reviews.title        10\n",
       "sentiment             0\n",
       "dtype: int64"
      ]
     },
     "execution_count": 12,
     "metadata": {},
     "output_type": "execute_result"
    }
   ],
   "source": [
    "# Checking for presence of any null value\n",
    "df_train.isna().sum()"
   ]
  },
  {
   "cell_type": "markdown",
   "id": "65efbbb6-2a0b-499a-bb9b-709aeae548ef",
   "metadata": {},
   "source": [
    "We are only intersted in here the review text and sentiment. So, we will make a separate list for these two variables."
   ]
  },
  {
   "cell_type": "code",
   "execution_count": 13,
   "id": "9e17bd9a-2c02-46f0-a1a9-eca08ced768a",
   "metadata": {},
   "outputs": [],
   "source": [
    "text = df_train[\"reviews.text\"].to_numpy()\n",
    "sentiment = df_train[\"sentiment\"].to_numpy()"
   ]
  },
  {
   "cell_type": "code",
   "execution_count": 14,
   "id": "f0c56c3c-c3e5-485c-b272-252c1ce1a2fc",
   "metadata": {},
   "outputs": [
    {
     "data": {
      "text/plain": [
       "array(['Purchased on Black FridayPros - Great Price (even off sale)Very powerful and fast with quad core processors Amazing soundWell builtCons -Amazon ads, Amazon need this to subsidize the tablet and will remove the adds if you pay them $15.Inability to access other apps except the ones from Amazon. There is a way which I was able to accomplish to add the Google Play storeNet this is a great tablet for the money',\n",
       "       'I purchased two Amazon in Echo Plus and two dots plus four fire sticks and the hub Philips hue for lamp for the family at Christmas 2017. I‚Äôm so happy with these purchases and learning so much with Alexa. You can start your daily routine with Alexa and program it to whatever you would like to include news weather music horoscope ALSO you can start your day off with a compliment and I think is very important. Alexa gave me the BEST CHILI RECIPE I MEAN THE BEST it‚Äôs called Chili I. I want my husband to use Alexa to stay organized for business dates and reminders. This is the way to go',\n",
       "       'Just an average Alexa option. Does show a few things on screen but still limited.',\n",
       "       'very good product. Exactly what I wanted, and a very good price',\n",
       "       \"This is the 3rd one I've purchased. I've bought one for all of my nieces. No other case compares to this one. It has held protected the tablet so many times from them dropping it.\"],\n",
       "      dtype=object)"
      ]
     },
     "execution_count": 14,
     "metadata": {},
     "output_type": "execute_result"
    }
   ],
   "source": [
    "text[:5]"
   ]
  },
  {
   "cell_type": "markdown",
   "id": "af8813af-6232-4610-b146-ead7edb22a49",
   "metadata": {},
   "source": [
    "Now we will lower the whole of the sentences."
   ]
  },
  {
   "cell_type": "code",
   "execution_count": 15,
   "id": "b03088fa-6916-4725-aebc-90e7a2ac6031",
   "metadata": {},
   "outputs": [],
   "source": [
    "sentences = [text_lower.lower() for text_lower in text]"
   ]
  },
  {
   "cell_type": "code",
   "execution_count": 16,
   "id": "b02041d5-00b4-4cb3-8474-d6068387f712",
   "metadata": {},
   "outputs": [
    {
     "data": {
      "text/plain": [
       "['purchased on black fridaypros - great price (even off sale)very powerful and fast with quad core processors amazing soundwell builtcons -amazon ads, amazon need this to subsidize the tablet and will remove the adds if you pay them $15.inability to access other apps except the ones from amazon. there is a way which i was able to accomplish to add the google play storenet this is a great tablet for the money',\n",
       " 'i purchased two amazon in echo plus and two dots plus four fire sticks and the hub philips hue for lamp for the family at christmas 2017. i‚äôm so happy with these purchases and learning so much with alexa. you can start your daily routine with alexa and program it to whatever you would like to include news weather music horoscope also you can start your day off with a compliment and i think is very important. alexa gave me the best chili recipe i mean the best it‚äôs called chili i. i want my husband to use alexa to stay organized for business dates and reminders. this is the way to go',\n",
       " 'just an average alexa option. does show a few things on screen but still limited.',\n",
       " 'very good product. exactly what i wanted, and a very good price',\n",
       " \"this is the 3rd one i've purchased. i've bought one for all of my nieces. no other case compares to this one. it has held protected the tablet so many times from them dropping it.\"]"
      ]
     },
     "execution_count": 16,
     "metadata": {},
     "output_type": "execute_result"
    }
   ],
   "source": [
    "sentences[:5]"
   ]
  },
  {
   "cell_type": "markdown",
   "id": "84a8d700-6892-4609-88a9-468bbbd62171",
   "metadata": {},
   "source": [
    "Now let's check about sentiment."
   ]
  },
  {
   "cell_type": "code",
   "execution_count": 17,
   "id": "584df23c-3419-4bd5-8200-0ae954b61cf7",
   "metadata": {},
   "outputs": [
    {
     "data": {
      "text/plain": [
       "array(['Positive', 'Positive', 'Neutral', 'Positive', 'Positive'],\n",
       "      dtype=object)"
      ]
     },
     "execution_count": 17,
     "metadata": {},
     "output_type": "execute_result"
    }
   ],
   "source": [
    "sentiment[:5]"
   ]
  },
  {
   "cell_type": "markdown",
   "id": "0174ee9b-2d67-4600-8158-797eb094631c",
   "metadata": {},
   "source": [
    "We need to label encode these."
   ]
  },
  {
   "cell_type": "code",
   "execution_count": 18,
   "id": "071b414e-e69c-479d-8ca5-0f905184865b",
   "metadata": {},
   "outputs": [],
   "source": [
    "from sklearn.preprocessing import LabelEncoder\n",
    "le = LabelEncoder()\n",
    "y = le.fit_transform(sentiment)"
   ]
  },
  {
   "cell_type": "code",
   "execution_count": 19,
   "id": "5123fac6-f352-49e3-8bdd-9b51a2eb4298",
   "metadata": {},
   "outputs": [
    {
     "data": {
      "text/plain": [
       "array([2, 2, 1, 2, 2])"
      ]
     },
     "execution_count": 19,
     "metadata": {},
     "output_type": "execute_result"
    }
   ],
   "source": [
    "y[:5]"
   ]
  },
  {
   "cell_type": "code",
   "execution_count": 20,
   "id": "28adeb65-78f4-4c69-aaa1-28ecd0ce4f08",
   "metadata": {},
   "outputs": [
    {
     "name": "stdout",
     "output_type": "stream",
     "text": [
      "['Negative' 'Neutral' 'Positive']\n"
     ]
    }
   ],
   "source": [
    "# let's check their class names\n",
    "class_names = le.classes_\n",
    "print(class_names)"
   ]
  },
  {
   "cell_type": "markdown",
   "id": "1179d0a4-228b-4bcb-abc4-3682dec02301",
   "metadata": {},
   "source": [
    "Get the data for train and test split."
   ]
  },
  {
   "cell_type": "code",
   "execution_count": 21,
   "id": "ec5c6dd5-629f-4bc4-8c6c-9f35b49d83a4",
   "metadata": {},
   "outputs": [
    {
     "data": {
      "text/plain": [
       "(3200, 800, 3200, 800)"
      ]
     },
     "execution_count": 21,
     "metadata": {},
     "output_type": "execute_result"
    }
   ],
   "source": [
    "from sklearn.model_selection import train_test_split\n",
    "train_sentences, test_sentences, train_label, test_label = train_test_split(sentences,y,test_size=0.2,random_state=42)\n",
    "len(train_sentences), len(test_sentences), len(train_label), len(test_label)"
   ]
  },
  {
   "cell_type": "code",
   "execution_count": 22,
   "id": "5aa758f7-d14d-4d5b-83eb-a408b7daf6c6",
   "metadata": {},
   "outputs": [
    {
     "data": {
      "text/plain": [
       "['it is great , i like it very much. i can find anything you want.',\n",
       " \"i bought this kindle for my 11yr old granddaughter for christmas. me and my husband both had kindles several years prior, and she and my 6 year old grandson love watching and playing on them. both children have all kinds of game systems but use the kindle way more. my 6 yr old grandson still plays with mine and loves watching you tube, videos and playing games on it. he has several game systems, xbox, sega, ds but still uses my kindle all the time over those systems.my husband used his all the time for everything from internet to watching movies and shows. i'm getting ready to buy my grandson a new kindle( mine is a bit older and has cracked screen now but still works good).he would like one to call his own. i'm looking at a 16 gb or 32 gb.they are really durable and tough.\",\n",
       " 'great for my kids and is easy to block purchases. even better if you have amazon prime.']"
      ]
     },
     "execution_count": 22,
     "metadata": {},
     "output_type": "execute_result"
    }
   ],
   "source": [
    "# Checking for train_sentences\n",
    "train_sentences[:3]"
   ]
  },
  {
   "cell_type": "code",
   "execution_count": 23,
   "id": "b464fc1b-ef07-4373-9388-44823ea350e3",
   "metadata": {},
   "outputs": [
    {
     "data": {
      "text/plain": [
       "array([2, 2, 2])"
      ]
     },
     "execution_count": 23,
     "metadata": {},
     "output_type": "execute_result"
    }
   ],
   "source": [
    "train_label[:3]"
   ]
  },
  {
   "cell_type": "markdown",
   "id": "74320891-6d5f-4602-a066-2db8dfcdf53e",
   "metadata": {},
   "source": [
    "### Setp-2 & 3: Covert the review in Tf-Idf score and run the multinomial Naive Bayes classifier. Everything will be classified as positive because of the class imbalance."
   ]
  },
  {
   "cell_type": "markdown",
   "id": "d0f817f5-75b2-44c9-8e7c-04b7e16c690d",
   "metadata": {},
   "source": [
    "First task under this segment is to load all the necessary libraries. "
   ]
  },
  {
   "cell_type": "code",
   "execution_count": 24,
   "id": "eba94352-bfd2-4f10-acc0-afb24466f146",
   "metadata": {},
   "outputs": [],
   "source": [
    "from sklearn.feature_extraction.text import TfidfVectorizer\n",
    "from sklearn.naive_bayes import MultinomialNB\n",
    "from sklearn.pipeline import Pipeline"
   ]
  },
  {
   "cell_type": "code",
   "execution_count": 36,
   "id": "0f0f02cc-0280-4076-8a23-b4ec82c012ee",
   "metadata": {},
   "outputs": [],
   "source": [
    "model_naive = Pipeline([\n",
    "    (\"tfidf\",TfidfVectorizer()),\n",
    "    (\"naive_bayes\",MultinomialNB())\n",
    "]) "
   ]
  },
  {
   "cell_type": "code",
   "execution_count": 37,
   "id": "a1eaffb5-90dd-4476-9f33-7da532d25bd9",
   "metadata": {},
   "outputs": [
    {
     "data": {
      "text/plain": [
       "Pipeline(steps=[('tfidf', TfidfVectorizer()), ('naive_bayes', MultinomialNB())])"
      ]
     },
     "execution_count": 37,
     "metadata": {},
     "output_type": "execute_result"
    }
   ],
   "source": [
    "model_naive.fit(train_sentences,train_label)"
   ]
  },
  {
   "cell_type": "code",
   "execution_count": 38,
   "id": "0a4367d0-9f1d-4f55-a492-688f90f278af",
   "metadata": {},
   "outputs": [
    {
     "data": {
      "text/plain": [
       "0.93875"
      ]
     },
     "execution_count": 38,
     "metadata": {},
     "output_type": "execute_result"
    }
   ],
   "source": [
    "# Checking the accuracy of test_sentences\n",
    "model_naive.score(test_sentences,test_label) "
   ]
  },
  {
   "cell_type": "markdown",
   "id": "ead52981-a7ce-4ff6-a32b-11420d2939a4",
   "metadata": {},
   "source": [
    "As expected we have seen the high accuracy, becuase most of our data belongs to positive class. Let's check the prediction. "
   ]
  },
  {
   "cell_type": "code",
   "execution_count": 39,
   "id": "d59313be-6731-42a1-821e-87120feb4b13",
   "metadata": {},
   "outputs": [
    {
     "data": {
      "text/plain": [
       "array([2, 2, 2, 2, 2, 2, 2, 2, 2, 2, 2, 2, 2, 2, 2])"
      ]
     },
     "execution_count": 39,
     "metadata": {},
     "output_type": "execute_result"
    }
   ],
   "source": [
    "naive_pred = model_naive.predict(test_sentences)\n",
    "naive_pred[:15]"
   ]
  },
  {
   "cell_type": "markdown",
   "id": "fe7b16a7-5ec4-47da-a498-e46377fed830",
   "metadata": {},
   "source": [
    "As given in the problem manual everything is predicted as **positive**."
   ]
  },
  {
   "cell_type": "markdown",
   "id": "8708aac4-3d96-449d-80a0-39a8b88498f1",
   "metadata": {},
   "source": [
    "Let's create a function to predict the accuracy, f1 and other useful metrics."
   ]
  },
  {
   "cell_type": "code",
   "execution_count": 40,
   "id": "cf513951-0b98-42ac-99d6-139413f98a7c",
   "metadata": {},
   "outputs": [],
   "source": [
    "from sklearn.metrics import accuracy_score, precision_recall_fscore_support"
   ]
  },
  {
   "cell_type": "code",
   "execution_count": 41,
   "id": "8a99abf5-9cbd-4c1f-8df3-cee0c849f334",
   "metadata": {},
   "outputs": [],
   "source": [
    "def result(y_true,y_pred):\n",
    "    accuracy = accuracy_score(y_true,y_pred)\n",
    "    precision,recall,f1_score,_ = precision_recall_fscore_support(y_true,y_pred,average=\"weighted\")\n",
    "    return {\n",
    "        \"accuracy\":accuracy,\n",
    "        \"precision\":precision,\n",
    "        \"recall\":recall,\n",
    "        \"f1-score\":f1_score\n",
    "    }"
   ]
  },
  {
   "cell_type": "code",
   "execution_count": 42,
   "id": "99f7e170-12f1-44df-9fec-bd729abfdebc",
   "metadata": {},
   "outputs": [
    {
     "name": "stderr",
     "output_type": "stream",
     "text": [
      "C:\\Users\\utkri\\anaconda3\\envs\\tf-gpu\\lib\\site-packages\\sklearn\\metrics\\_classification.py:1308: UndefinedMetricWarning: Precision and F-score are ill-defined and being set to 0.0 in labels with no predicted samples. Use `zero_division` parameter to control this behavior.\n",
      "  _warn_prf(average, modifier, msg_start, len(result))\n"
     ]
    },
    {
     "data": {
      "text/plain": [
       "{'accuracy': 0.93875,\n",
       " 'precision': 0.8812515625,\n",
       " 'recall': 0.93875,\n",
       " 'f1-score': 0.9090925209542232}"
      ]
     },
     "execution_count": 42,
     "metadata": {},
     "output_type": "execute_result"
    }
   ],
   "source": [
    "naive_results = result(y_true=test_label,y_pred=naive_pred)\n",
    "naive_results"
   ]
  },
  {
   "cell_type": "markdown",
   "id": "9324521b-5743-4bd9-b9ea-28e30c0c53a2",
   "metadata": {},
   "source": [
    "### Step-4: Using oversampling and undersampling to tackle the imbalance problem"
   ]
  },
  {
   "cell_type": "markdown",
   "id": "3f73ba08-6d43-48af-97c0-5c0d5dcd6466",
   "metadata": {},
   "source": [
    "To tackle the problem of class imbalancing we will use oversampling and undersampling via `SMOTE` method and `NearMiss` module of *imblearn* library. <br/>\n",
    "#### <b> Oversampling </b>"
   ]
  },
  {
   "cell_type": "code",
   "execution_count": 43,
   "id": "b176b559-0e99-4433-afac-7cd14f42b2a3",
   "metadata": {},
   "outputs": [],
   "source": [
    "from imblearn.pipeline import Pipeline\n",
    "from imblearn.over_sampling import SMOTE"
   ]
  },
  {
   "cell_type": "code",
   "execution_count": 44,
   "id": "f76ea66b-2505-4131-ade8-0a439ad5d19c",
   "metadata": {},
   "outputs": [
    {
     "data": {
      "text/plain": [
       "Positive    3749\n",
       "Neutral      158\n",
       "Negative      93\n",
       "Name: sentiment, dtype: int64"
      ]
     },
     "execution_count": 44,
     "metadata": {},
     "output_type": "execute_result"
    }
   ],
   "source": [
    "# Check the dataset \n",
    "df_train[\"sentiment\"].value_counts()"
   ]
  },
  {
   "cell_type": "code",
   "execution_count": 45,
   "id": "5cefe4d0-3d44-4045-9948-944c9a1dbe2e",
   "metadata": {},
   "outputs": [],
   "source": [
    "vectorizer = TfidfVectorizer()\n",
    "X_train_array = vectorizer.fit_transform(train_sentences)"
   ]
  },
  {
   "cell_type": "code",
   "execution_count": 46,
   "id": "30396bc8-d408-45a2-871b-d25998251595",
   "metadata": {},
   "outputs": [],
   "source": [
    "X_train_array = X_train_array.toarray()"
   ]
  },
  {
   "cell_type": "code",
   "execution_count": 47,
   "id": "85c2f43d-5a3b-4c48-bf18-32d35e454154",
   "metadata": {},
   "outputs": [],
   "source": [
    "y_train_array = np.array(train_label).reshape(-1,1) "
   ]
  },
  {
   "cell_type": "code",
   "execution_count": 48,
   "id": "5956abfb-b182-465a-8cd4-c3c5584adffb",
   "metadata": {},
   "outputs": [
    {
     "data": {
      "text/plain": [
       "array([[2],\n",
       "       [2],\n",
       "       [2],\n",
       "       [2],\n",
       "       [2]])"
      ]
     },
     "execution_count": 48,
     "metadata": {},
     "output_type": "execute_result"
    }
   ],
   "source": [
    "y_train_array[:5]"
   ]
  },
  {
   "cell_type": "code",
   "execution_count": 49,
   "id": "1f1f5ccd-1961-4f9a-a14d-f5f2d6399e24",
   "metadata": {},
   "outputs": [],
   "source": [
    "oversample = SMOTE()\n",
    "X_balanced, y_balanced = oversample.fit_resample(X_train_array,y_train_array)"
   ]
  },
  {
   "cell_type": "code",
   "execution_count": 50,
   "id": "ddec6c68-e407-47fa-ad00-fd194874ecfb",
   "metadata": {},
   "outputs": [
    {
     "name": "stdout",
     "output_type": "stream",
     "text": [
      "Counter({2: 2998, 1: 2998, 0: 2998})\n"
     ]
    }
   ],
   "source": [
    "from collections import Counter\n",
    "values_counter = Counter(y_balanced)\n",
    "print(values_counter)"
   ]
  },
  {
   "cell_type": "code",
   "execution_count": 51,
   "id": "43722da4-8e68-49a1-9e35-b9c8dac5a803",
   "metadata": {},
   "outputs": [
    {
     "data": {
      "text/plain": [
       "array([1, 1, 1, 1, 1])"
      ]
     },
     "execution_count": 51,
     "metadata": {},
     "output_type": "execute_result"
    }
   ],
   "source": [
    "y_balanced[-5:]"
   ]
  },
  {
   "cell_type": "markdown",
   "id": "fff66e71-570a-4c20-81c5-7fe7b191f999",
   "metadata": {},
   "source": [
    "Doing the same for test data."
   ]
  },
  {
   "cell_type": "code",
   "execution_count": 52,
   "id": "8a9d90fd-1414-4566-a694-a0b1f62126cc",
   "metadata": {},
   "outputs": [],
   "source": [
    "X_test_array = vectorizer.transform(test_sentences)\n",
    "X_test_array = X_test_array.toarray()"
   ]
  },
  {
   "cell_type": "code",
   "execution_count": 53,
   "id": "651debd8-371d-4b97-8dcb-b9c830660dac",
   "metadata": {},
   "outputs": [],
   "source": [
    "y_test_array = np.array(test_label).reshape(-1,1) "
   ]
  },
  {
   "cell_type": "code",
   "execution_count": 54,
   "id": "37547a61-4762-4130-858c-bbb28567fee7",
   "metadata": {},
   "outputs": [
    {
     "data": {
      "text/plain": [
       "array([[2],\n",
       "       [2],\n",
       "       [2],\n",
       "       [2],\n",
       "       [2]])"
      ]
     },
     "execution_count": 54,
     "metadata": {},
     "output_type": "execute_result"
    }
   ],
   "source": [
    "y_test_array[:5]"
   ]
  },
  {
   "cell_type": "code",
   "execution_count": 55,
   "id": "00fd7ab4-e288-450c-bd0d-dc8528263f07",
   "metadata": {},
   "outputs": [
    {
     "data": {
      "text/plain": [
       "RandomForestClassifier(random_state=42)"
      ]
     },
     "execution_count": 55,
     "metadata": {},
     "output_type": "execute_result"
    }
   ],
   "source": [
    "from sklearn.ensemble import RandomForestClassifier\n",
    "model_rf = RandomForestClassifier(random_state=42)\n",
    "model_rf.fit(X_balanced,y_balanced)"
   ]
  },
  {
   "cell_type": "code",
   "execution_count": 56,
   "id": "80b31baa-aa96-425b-a789-6e6ffbf9e821",
   "metadata": {},
   "outputs": [
    {
     "data": {
      "text/plain": [
       "0.955"
      ]
     },
     "execution_count": 56,
     "metadata": {},
     "output_type": "execute_result"
    }
   ],
   "source": [
    "model_rf.score(X_test_array,y_test_array)"
   ]
  },
  {
   "cell_type": "code",
   "execution_count": 57,
   "id": "aab82281-8fd7-48f7-9a16-6b9305fa7905",
   "metadata": {},
   "outputs": [],
   "source": [
    "y_pred_over = model_rf.predict(X_test_array)"
   ]
  },
  {
   "cell_type": "code",
   "execution_count": 58,
   "id": "de426c61-3e42-44ed-aebe-c2ae9c565bfd",
   "metadata": {},
   "outputs": [
    {
     "name": "stdout",
     "output_type": "stream",
     "text": [
      "[2 2 2 2 2]\n"
     ]
    }
   ],
   "source": [
    "print(y_pred_over[:5])"
   ]
  },
  {
   "cell_type": "code",
   "execution_count": 59,
   "id": "95bf6044-7c92-4013-b870-14bbd15e1beb",
   "metadata": {},
   "outputs": [
    {
     "data": {
      "text/plain": [
       "{'accuracy': 0.955,\n",
       " 'precision': 0.9570584498094028,\n",
       " 'recall': 0.955,\n",
       " 'f1-score': 0.9410088008545421}"
      ]
     },
     "execution_count": 59,
     "metadata": {},
     "output_type": "execute_result"
    }
   ],
   "source": [
    "result_smote = result(y_true=np.squeeze(y_test_array),y_pred=y_pred_over)\n",
    "result_smote"
   ]
  },
  {
   "cell_type": "markdown",
   "id": "0356ad6a-cbf5-47f1-9b67-40e1bb02c481",
   "metadata": {},
   "source": [
    "#### <b> Undersampling </b>"
   ]
  },
  {
   "cell_type": "code",
   "execution_count": 41,
   "id": "7ed4b9a2-63e9-4fff-8f80-f88d7f2abd67",
   "metadata": {},
   "outputs": [],
   "source": [
    "from imblearn.under_sampling import NearMiss"
   ]
  },
  {
   "cell_type": "code",
   "execution_count": 42,
   "id": "e67964e4-91ac-4e11-8b33-21e2abfb2036",
   "metadata": {},
   "outputs": [],
   "source": [
    "undersample = NearMiss(version=3)\n",
    "X_under, y_under = undersample.fit_resample(X_train_array,y_train_array)"
   ]
  },
  {
   "cell_type": "code",
   "execution_count": 43,
   "id": "0654521a-634f-4410-b70b-85219e587a12",
   "metadata": {},
   "outputs": [
    {
     "name": "stdout",
     "output_type": "stream",
     "text": [
      "Counter({0: 80, 1: 80, 2: 80})\n"
     ]
    }
   ],
   "source": [
    "y_under_count = Counter(y_under)\n",
    "print(y_under_count)"
   ]
  },
  {
   "cell_type": "code",
   "execution_count": 44,
   "id": "de3ce4a1-8a98-4c6a-a377-72e8e30e3e13",
   "metadata": {},
   "outputs": [
    {
     "data": {
      "text/plain": [
       "RandomForestClassifier(random_state=42)"
      ]
     },
     "execution_count": 44,
     "metadata": {},
     "output_type": "execute_result"
    }
   ],
   "source": [
    "model_rf_under = RandomForestClassifier(random_state=42)\n",
    "model_rf_under.fit(X_under,y_under)"
   ]
  },
  {
   "cell_type": "code",
   "execution_count": 45,
   "id": "81d5ab02-b355-45a9-9ce3-ffc032cd0644",
   "metadata": {},
   "outputs": [
    {
     "data": {
      "text/plain": [
       "0.69125"
      ]
     },
     "execution_count": 45,
     "metadata": {},
     "output_type": "execute_result"
    }
   ],
   "source": [
    "# Check the accuracy score\n",
    "model_rf_under.score(X_test_array,y_test_array)"
   ]
  },
  {
   "cell_type": "code",
   "execution_count": 46,
   "id": "be644851-8d2f-452e-9ff2-cb3ea978e6b2",
   "metadata": {},
   "outputs": [
    {
     "data": {
      "text/plain": [
       "array([2, 2, 2, 2, 2])"
      ]
     },
     "execution_count": 46,
     "metadata": {},
     "output_type": "execute_result"
    }
   ],
   "source": [
    "y_pred_under = model_rf_under.predict(X_test_array)\n",
    "y_pred_under[:5]"
   ]
  },
  {
   "cell_type": "code",
   "execution_count": 47,
   "id": "932fbffa-6c4c-474b-be6c-e06eda995695",
   "metadata": {},
   "outputs": [
    {
     "data": {
      "text/plain": [
       "{'accuracy': 0.69125,\n",
       " 'precision': 0.9266101515297318,\n",
       " 'recall': 0.69125,\n",
       " 'f1-score': 0.7775433762830172}"
      ]
     },
     "execution_count": 47,
     "metadata": {},
     "output_type": "execute_result"
    }
   ],
   "source": [
    "result_nearmiss = result(y_true=np.squeeze(y_test_array),y_pred=y_pred_under)\n",
    "result_nearmiss"
   ]
  },
  {
   "cell_type": "markdown",
   "id": "ad45e1bf-6f06-4d6b-87ba-dd8fb90a98cf",
   "metadata": {},
   "source": [
    "So `f1-score` from the oversampling method is higher."
   ]
  },
  {
   "cell_type": "markdown",
   "id": "a5d3d510-114a-402d-ab33-0d1014ed1893",
   "metadata": {},
   "source": [
    "### Step-5: In case of class imbalance criteria, use the following metrices for evaluating model performance: precision, recall, F1-score, AUC-ROC curve. Use F1-Score as the evaluation criteria for this project."
   ]
  },
  {
   "cell_type": "markdown",
   "id": "7a1bfa21-d3e2-431e-83db-08d2bf90a698",
   "metadata": {},
   "source": [
    "Since we have already dealt with precision, recall, f1-score. We will check for auc_roc_score for both of undersampling as well as oversampling models."
   ]
  },
  {
   "cell_type": "markdown",
   "id": "d56f3515-0719-41d9-8e12-ccd12ced2bf5",
   "metadata": {},
   "source": [
    "We will start with oversampling method."
   ]
  },
  {
   "cell_type": "code",
   "execution_count": 48,
   "id": "4a5ec7c3-df75-43e4-94c3-0393b2d00352",
   "metadata": {},
   "outputs": [],
   "source": [
    "from sklearn.multiclass import OneVsRestClassifier\n",
    "from sklearn.metrics import roc_auc_score, roc_curve, auc"
   ]
  },
  {
   "cell_type": "code",
   "execution_count": 49,
   "id": "575a97b9-88c1-4aa1-87e7-07e4b1f2a2d5",
   "metadata": {},
   "outputs": [],
   "source": [
    "classifier = OneVsRestClassifier(estimator=model_rf,n_jobs=-1)"
   ]
  },
  {
   "cell_type": "code",
   "execution_count": 50,
   "id": "e77a4589-f14c-4176-9316-fac0b0de1baf",
   "metadata": {},
   "outputs": [],
   "source": [
    "y_prob = classifier.fit(X_train_array,y_train_array).predict_proba(X_test_array) "
   ]
  },
  {
   "cell_type": "code",
   "execution_count": 51,
   "id": "1ddbb908-3962-43ed-8246-0603885aea7a",
   "metadata": {},
   "outputs": [
    {
     "data": {
      "text/plain": [
       "array([[0.02083333, 0.01041667, 0.96875   ],\n",
       "       [0.01      , 0.01      , 0.98      ],\n",
       "       [0.        , 0.04901961, 0.95098039],\n",
       "       [0.        , 0.00990099, 0.99009901],\n",
       "       [0.00990099, 0.        , 0.99009901]])"
      ]
     },
     "execution_count": 51,
     "metadata": {},
     "output_type": "execute_result"
    }
   ],
   "source": [
    "y_prob[:5]"
   ]
  },
  {
   "cell_type": "code",
   "execution_count": 52,
   "id": "2d50faed-fad3-4631-85e2-ca06ce74c732",
   "metadata": {},
   "outputs": [],
   "source": [
    "y_test_array = np.squeeze(y_test_array)"
   ]
  },
  {
   "cell_type": "code",
   "execution_count": 53,
   "id": "f73a8a76-fc96-4c54-abf6-4f55e2c0f43e",
   "metadata": {},
   "outputs": [
    {
     "name": "stdout",
     "output_type": "stream",
     "text": [
      "One-vs-One ROC AUC scores:\n",
      "0.7872 (macro),\n",
      "0.8173 (weighted by prevalence)\n",
      "\n",
      "One-vs-Rest ROC AUC scores:\n",
      "0.8014 (macro),\n",
      "0.7846 (weighted by prevalence)\n"
     ]
    }
   ],
   "source": [
    "macro_roc_ovo = roc_auc_score(y_true=y_test_array,y_score=y_prob,multi_class=\"ovo\",average=\"macro\")\n",
    "weighted_roc_ovo = roc_auc_score(y_true=y_test_array,y_score=y_prob,multi_class=\"ovo\",average=\"weighted\")\n",
    "# Now for OnevsRest\n",
    "macro_roc_ovr = roc_auc_score(y_true=y_test_array,y_score=y_prob,multi_class=\"ovr\",average=\"macro\")\n",
    "weighted_roc_ovr = roc_auc_score(y_true=y_test_array,y_score=y_prob,multi_class=\"ovr\",average=\"weighted\")\n",
    "print(\n",
    "    \"One-vs-One ROC AUC scores:\\n{:.4f} (macro),\\n{:.4f} \"\n",
    "    \"(weighted by prevalence)\".format(macro_roc_ovo, weighted_roc_ovo)\n",
    ")\n",
    "print()\n",
    "print(\n",
    "    \"One-vs-Rest ROC AUC scores:\\n{:.4f} (macro),\\n{:.4f} \"\n",
    "    \"(weighted by prevalence)\".format(macro_roc_ovr, weighted_roc_ovr)\n",
    ")"
   ]
  },
  {
   "cell_type": "markdown",
   "id": "90874136-f495-467d-a494-a71b212ee55a",
   "metadata": {},
   "source": [
    "Checking the auc roc score for model defined by undersampling curve."
   ]
  },
  {
   "cell_type": "code",
   "execution_count": 54,
   "id": "00ff890b-a4d8-48ab-8585-0da06da2af00",
   "metadata": {},
   "outputs": [],
   "source": [
    "classifier_under = OneVsRestClassifier(estimator=model_rf_under,n_jobs=-1)"
   ]
  },
  {
   "cell_type": "code",
   "execution_count": 55,
   "id": "614867b9-84a2-49ec-93ed-9cba65e55e9b",
   "metadata": {},
   "outputs": [
    {
     "data": {
      "text/plain": [
       "array([[0.02083333, 0.01041667, 0.96875   ],\n",
       "       [0.01      , 0.01      , 0.98      ],\n",
       "       [0.        , 0.04901961, 0.95098039],\n",
       "       [0.        , 0.00990099, 0.99009901],\n",
       "       [0.00990099, 0.        , 0.99009901]])"
      ]
     },
     "execution_count": 55,
     "metadata": {},
     "output_type": "execute_result"
    }
   ],
   "source": [
    "y_prob = classifier_under.fit(X_train_array,y_train_array).predict_proba(X_test_array) \n",
    "y_prob[:5]"
   ]
  },
  {
   "cell_type": "code",
   "execution_count": 56,
   "id": "1fb690a0-1102-415c-937f-37df8df69853",
   "metadata": {},
   "outputs": [
    {
     "name": "stdout",
     "output_type": "stream",
     "text": [
      "One-vs-One ROC AUC scores:\n",
      "0.7872 (macro),\n",
      "0.8173 (weighted by prevalence)\n",
      "\n",
      "One-vs-Rest ROC AUC scores:\n",
      "0.8014 (macro),\n",
      "0.7846 (weighted by prevalence)\n"
     ]
    }
   ],
   "source": [
    "macro_roc_ovo = roc_auc_score(y_true=y_test_array,y_score=y_prob,multi_class=\"ovo\",average=\"macro\")\n",
    "weighted_roc_ovo = roc_auc_score(y_true=y_test_array,y_score=y_prob,multi_class=\"ovo\",average=\"weighted\")\n",
    "# Now for OnevsRest\n",
    "macro_roc_ovr = roc_auc_score(y_true=y_test_array,y_score=y_prob,multi_class=\"ovr\",average=\"macro\")\n",
    "weighted_roc_ovr = roc_auc_score(y_true=y_test_array,y_score=y_prob,multi_class=\"ovr\",average=\"weighted\")\n",
    "print(\n",
    "    \"One-vs-One ROC AUC scores:\\n{:.4f} (macro),\\n{:.4f} \"\n",
    "    \"(weighted by prevalence)\".format(macro_roc_ovo, weighted_roc_ovo)\n",
    ")\n",
    "print()\n",
    "print(\n",
    "    \"One-vs-Rest ROC AUC scores:\\n{:.4f} (macro),\\n{:.4f} \"\n",
    "    \"(weighted by prevalence)\".format(macro_roc_ovr, weighted_roc_ovr)\n",
    ")"
   ]
  },
  {
   "cell_type": "markdown",
   "id": "d91e9d00-4e0b-4878-9c3d-dd0f818fcf88",
   "metadata": {},
   "source": [
    "So, the scores of both the models are same."
   ]
  },
  {
   "cell_type": "markdown",
   "id": "90370907-11fc-4b50-b89f-a5e2199af7e1",
   "metadata": {},
   "source": [
    "### Step-6: Use Tree-based classifiers like Random Forest and XGBoost"
   ]
  },
  {
   "cell_type": "markdown",
   "id": "e61d8f59-84a7-409f-8800-fe584a897324",
   "metadata": {},
   "source": [
    "Till now we have made the prediction by Decision Tree with the help of undersampling and  oversampling method. We will now use the pre-built parameter `class_weight` "
   ]
  },
  {
   "cell_type": "code",
   "execution_count": 57,
   "id": "c740ad5c-8147-4458-9123-fea4adee6c08",
   "metadata": {},
   "outputs": [],
   "source": [
    "class_weight =  {0:500,1:500,2:500}"
   ]
  },
  {
   "cell_type": "code",
   "execution_count": 58,
   "id": "5212ad71-239c-461f-b8bd-98a464036bc6",
   "metadata": {},
   "outputs": [],
   "source": [
    "rf = RandomForestClassifier(class_weight=class_weight,random_state=42)"
   ]
  },
  {
   "cell_type": "code",
   "execution_count": 59,
   "id": "fe5a2425-93a4-4373-985e-0444c0468fee",
   "metadata": {},
   "outputs": [],
   "source": [
    "model_rf_0 = rf.fit(X_train_array,np.squeeze(y_train_array))"
   ]
  },
  {
   "cell_type": "code",
   "execution_count": 60,
   "id": "cfda48d9-13e3-45a1-ad70-c1aa7664dd2c",
   "metadata": {},
   "outputs": [
    {
     "data": {
      "text/plain": [
       "0.955"
      ]
     },
     "execution_count": 60,
     "metadata": {},
     "output_type": "execute_result"
    }
   ],
   "source": [
    "model_rf_0.score(X_test_array,y_test_array)"
   ]
  },
  {
   "cell_type": "code",
   "execution_count": 61,
   "id": "10b73664-2300-4229-9509-d628ebdb4041",
   "metadata": {},
   "outputs": [
    {
     "data": {
      "text/plain": [
       "array([2, 2, 2, 2, 2])"
      ]
     },
     "execution_count": 61,
     "metadata": {},
     "output_type": "execute_result"
    }
   ],
   "source": [
    "y_pred_random = model_rf_0.predict(X_test_array)\n",
    "y_pred_random[:5]"
   ]
  },
  {
   "cell_type": "code",
   "execution_count": 62,
   "id": "2987b90d-b4c8-440b-a565-5265a991d7c8",
   "metadata": {},
   "outputs": [
    {
     "data": {
      "text/plain": [
       "{'accuracy': 0.955,\n",
       " 'precision': 0.9570584498094028,\n",
       " 'recall': 0.955,\n",
       " 'f1-score': 0.9410088008545421}"
      ]
     },
     "execution_count": 62,
     "metadata": {},
     "output_type": "execute_result"
    }
   ],
   "source": [
    "result_rf_0 = result(y_true=y_test_array,y_pred=y_pred_random)\n",
    "result_rf_0"
   ]
  },
  {
   "cell_type": "markdown",
   "id": "525fddf1-b606-4479-827b-84ea30342221",
   "metadata": {},
   "source": [
    "Now calculating results using XGBoost. First we will make classification using imbalanced data and then we will make using balanced data made by oversampling. "
   ]
  },
  {
   "cell_type": "code",
   "execution_count": 63,
   "id": "5b316b65-1bd0-4d49-b5a4-c1bfad792468",
   "metadata": {},
   "outputs": [
    {
     "name": "stderr",
     "output_type": "stream",
     "text": [
      "C:\\Users\\utkri\\anaconda3\\envs\\tf-gpu\\lib\\site-packages\\xgboost\\sklearn.py:1224: UserWarning: The use of label encoder in XGBClassifier is deprecated and will be removed in a future release. To remove this warning, do the following: 1) Pass option use_label_encoder=False when constructing XGBClassifier object; and 2) Encode your labels (y) as integers starting with 0, i.e. 0, 1, 2, ..., [num_class - 1].\n",
      "  warnings.warn(label_encoder_deprecation_msg, UserWarning)\n"
     ]
    },
    {
     "name": "stdout",
     "output_type": "stream",
     "text": [
      "[21:07:18] WARNING: D:\\bld\\xgboost-split_1643227225381\\work\\src\\learner.cc:1115: Starting in XGBoost 1.3.0, the default evaluation metric used with the objective 'multi:softprob' was changed from 'merror' to 'mlogloss'. Explicitly set eval_metric if you'd like to restore the old behavior.\n"
     ]
    },
    {
     "data": {
      "text/plain": [
       "XGBClassifier(base_score=0.5, booster='gbtree', colsample_bylevel=1,\n",
       "              colsample_bynode=1, colsample_bytree=1, enable_categorical=False,\n",
       "              gamma=0, gpu_id=-1, importance_type=None,\n",
       "              interaction_constraints='', learning_rate=0.300000012,\n",
       "              max_delta_step=0, max_depth=6, min_child_weight=1, missing=nan,\n",
       "              monotone_constraints='()', n_estimators=100, n_jobs=12,\n",
       "              num_parallel_tree=1, objective='multi:softprob', predictor='auto',\n",
       "              random_state=42, reg_alpha=0, reg_lambda=1, scale_pos_weight=None,\n",
       "              subsample=1, tree_method='exact', validate_parameters=1,\n",
       "              verbosity=None)"
      ]
     },
     "execution_count": 63,
     "metadata": {},
     "output_type": "execute_result"
    }
   ],
   "source": [
    "# performing XGBoost on imbalanced dataset\n",
    "from xgboost import XGBClassifier\n",
    "xgb_imbalanced = XGBClassifier(random_state=42)\n",
    "xgb_imbalanced.fit(X_train_array,np.squeeze(y_train_array))"
   ]
  },
  {
   "cell_type": "code",
   "execution_count": 64,
   "id": "7ec76b15-713e-4a69-9caf-2548e9e58da0",
   "metadata": {},
   "outputs": [
    {
     "data": {
      "text/plain": [
       "0.955"
      ]
     },
     "execution_count": 64,
     "metadata": {},
     "output_type": "execute_result"
    }
   ],
   "source": [
    "xgb_imbalanced.score(X_test_array,y_test_array)"
   ]
  },
  {
   "cell_type": "code",
   "execution_count": 65,
   "id": "b0550805-4c1b-40df-b414-73784ba806fd",
   "metadata": {},
   "outputs": [
    {
     "data": {
      "text/plain": [
       "array([2, 2, 2, 2, 2])"
      ]
     },
     "execution_count": 65,
     "metadata": {},
     "output_type": "execute_result"
    }
   ],
   "source": [
    "y_pred_xgb_normal = xgb_imbalanced.predict(X_test_array)\n",
    "y_pred_xgb_normal[:5]"
   ]
  },
  {
   "cell_type": "code",
   "execution_count": 66,
   "id": "0f29ab05-24ec-4f17-89b5-5d85ea855402",
   "metadata": {},
   "outputs": [
    {
     "data": {
      "text/plain": [
       "{'accuracy': 0.955,\n",
       " 'precision': 0.9563393489030432,\n",
       " 'recall': 0.955,\n",
       " 'f1-score': 0.9414233715503246}"
      ]
     },
     "execution_count": 66,
     "metadata": {},
     "output_type": "execute_result"
    }
   ],
   "source": [
    "result_xgb_normal = result(y_true=y_test_array,y_pred=y_pred_xgb_normal)\n",
    "result_xgb_normal"
   ]
  },
  {
   "cell_type": "markdown",
   "id": "f9d34fa2-25b2-4bf3-83db-7e99bb9a80ed",
   "metadata": {},
   "source": [
    "Now performing XGBoost on balanced dataset."
   ]
  },
  {
   "cell_type": "code",
   "execution_count": 67,
   "id": "c253a79a-003d-4f08-8fef-891b0a806a98",
   "metadata": {},
   "outputs": [
    {
     "name": "stderr",
     "output_type": "stream",
     "text": [
      "C:\\Users\\utkri\\anaconda3\\envs\\tf-gpu\\lib\\site-packages\\xgboost\\sklearn.py:1224: UserWarning: The use of label encoder in XGBClassifier is deprecated and will be removed in a future release. To remove this warning, do the following: 1) Pass option use_label_encoder=False when constructing XGBClassifier object; and 2) Encode your labels (y) as integers starting with 0, i.e. 0, 1, 2, ..., [num_class - 1].\n",
      "  warnings.warn(label_encoder_deprecation_msg, UserWarning)\n"
     ]
    },
    {
     "name": "stdout",
     "output_type": "stream",
     "text": [
      "[21:07:40] WARNING: D:\\bld\\xgboost-split_1643227225381\\work\\src\\learner.cc:1115: Starting in XGBoost 1.3.0, the default evaluation metric used with the objective 'multi:softprob' was changed from 'merror' to 'mlogloss'. Explicitly set eval_metric if you'd like to restore the old behavior.\n"
     ]
    },
    {
     "data": {
      "text/plain": [
       "XGBClassifier(base_score=0.5, booster='gbtree', colsample_bylevel=1,\n",
       "              colsample_bynode=1, colsample_bytree=1, enable_categorical=False,\n",
       "              gamma=0, gpu_id=-1, importance_type=None,\n",
       "              interaction_constraints='', learning_rate=0.300000012,\n",
       "              max_delta_step=0, max_depth=6, min_child_weight=1, missing=nan,\n",
       "              monotone_constraints='()', n_estimators=100, n_jobs=12,\n",
       "              num_parallel_tree=1, objective='multi:softprob', predictor='auto',\n",
       "              random_state=42, reg_alpha=0, reg_lambda=1, scale_pos_weight=None,\n",
       "              subsample=1, tree_method='exact', validate_parameters=1,\n",
       "              verbosity=None)"
      ]
     },
     "execution_count": 67,
     "metadata": {},
     "output_type": "execute_result"
    }
   ],
   "source": [
    "xgb_balanced = XGBClassifier(random_state=42)\n",
    "xgb_balanced.fit(X_balanced,y_balanced)"
   ]
  },
  {
   "cell_type": "code",
   "execution_count": 68,
   "id": "331dc893-d727-45b0-8f57-1407fa3a693b",
   "metadata": {},
   "outputs": [
    {
     "data": {
      "text/plain": [
       "0.94625"
      ]
     },
     "execution_count": 68,
     "metadata": {},
     "output_type": "execute_result"
    }
   ],
   "source": [
    "xgb_balanced.score(X_test_array,y_test_array)"
   ]
  },
  {
   "cell_type": "code",
   "execution_count": 69,
   "id": "629e4f24-81a3-4186-acb1-b1450cf0694a",
   "metadata": {},
   "outputs": [
    {
     "data": {
      "text/plain": [
       "array([2, 2, 2, 2, 2])"
      ]
     },
     "execution_count": 69,
     "metadata": {},
     "output_type": "execute_result"
    }
   ],
   "source": [
    "y_pred_xgb_balanced = xgb_balanced.predict(X_test_array)\n",
    "y_pred_xgb_balanced[:5]"
   ]
  },
  {
   "cell_type": "code",
   "execution_count": 70,
   "id": "262eb912-52d6-4fa7-bfeb-007f76cf4e0a",
   "metadata": {},
   "outputs": [
    {
     "data": {
      "text/plain": [
       "{'accuracy': 0.94625,\n",
       " 'precision': 0.9345439570119802,\n",
       " 'recall': 0.94625,\n",
       " 'f1-score': 0.9372313082610094}"
      ]
     },
     "execution_count": 70,
     "metadata": {},
     "output_type": "execute_result"
    }
   ],
   "source": [
    "result_xgb_balanced = result(y_true=y_test_array,y_pred=y_pred_xgb_balanced)\n",
    "result_xgb_balanced"
   ]
  },
  {
   "cell_type": "markdown",
   "id": "f10777d9-c4a8-4d72-9eb1-ea7e138e2e3b",
   "metadata": {},
   "source": [
    "### Step-7: Apply multi-class SVM’s and neural nets."
   ]
  },
  {
   "cell_type": "markdown",
   "id": "f310fd6c-dc4b-40b4-9150-359a815844ad",
   "metadata": {},
   "source": [
    "We will use the data of class which is balanced by oversampling."
   ]
  },
  {
   "cell_type": "markdown",
   "id": "d2983861-2ec2-4285-bb48-9942d5f7ddd5",
   "metadata": {},
   "source": [
    "#### SVM "
   ]
  },
  {
   "cell_type": "code",
   "execution_count": 71,
   "id": "d11c232a-52a7-42bb-9003-58907073d4f4",
   "metadata": {},
   "outputs": [],
   "source": [
    "from sklearn.svm import SVC"
   ]
  },
  {
   "cell_type": "code",
   "execution_count": 72,
   "id": "440f2f50-a097-4fde-9215-60cfe561a45a",
   "metadata": {},
   "outputs": [
    {
     "data": {
      "text/plain": [
       "SVC(random_state=42)"
      ]
     },
     "execution_count": 72,
     "metadata": {},
     "output_type": "execute_result"
    }
   ],
   "source": [
    "model_svm = SVC(random_state=42)\n",
    "model_svm.fit(X_balanced,y_balanced)"
   ]
  },
  {
   "cell_type": "code",
   "execution_count": 73,
   "id": "c3665bfc-62ad-479e-95e8-26043b2d6e7f",
   "metadata": {},
   "outputs": [
    {
     "data": {
      "text/plain": [
       "0.95375"
      ]
     },
     "execution_count": 73,
     "metadata": {},
     "output_type": "execute_result"
    }
   ],
   "source": [
    "model_svm.score(X_test_array,y_test_array)"
   ]
  },
  {
   "cell_type": "code",
   "execution_count": 74,
   "id": "9fd152e6-1465-49af-9aed-95b543bb24e5",
   "metadata": {},
   "outputs": [
    {
     "data": {
      "text/plain": [
       "array([2, 2, 2, 2, 2])"
      ]
     },
     "execution_count": 74,
     "metadata": {},
     "output_type": "execute_result"
    }
   ],
   "source": [
    "y_pred_svm = model_svm.predict(X_test_array)\n",
    "y_pred_svm[:5]"
   ]
  },
  {
   "cell_type": "code",
   "execution_count": 75,
   "id": "92fdcf2e-7f59-4316-81a5-738d07bed106",
   "metadata": {},
   "outputs": [
    {
     "data": {
      "text/plain": [
       "{'accuracy': 0.95375,\n",
       " 'precision': 0.9505752453653217,\n",
       " 'recall': 0.95375,\n",
       " 'f1-score': 0.9400847335491974}"
      ]
     },
     "execution_count": 75,
     "metadata": {},
     "output_type": "execute_result"
    }
   ],
   "source": [
    "svm_result = result(y_true=y_test_array,\n",
    "                                 y_pred=y_pred_svm)\n",
    "svm_result"
   ]
  },
  {
   "cell_type": "markdown",
   "id": "1165310f-7050-41b3-b453-0497e1f74d21",
   "metadata": {},
   "source": [
    "#### Neural Nets"
   ]
  },
  {
   "cell_type": "markdown",
   "id": "4a27fa24-d2ed-4c50-be33-77ae643c414a",
   "metadata": {},
   "source": [
    "Now we will train a model with the help of <b> neural nets </b>. We will use TensorFlow and Keras for this purpose. "
   ]
  },
  {
   "cell_type": "code",
   "execution_count": 76,
   "id": "5f939795-e0bd-4e5a-99ae-2a260039ce58",
   "metadata": {},
   "outputs": [],
   "source": [
    "import tensorflow as tf "
   ]
  },
  {
   "cell_type": "code",
   "execution_count": 77,
   "id": "933a9750-0e33-4e6e-978f-1056debdc733",
   "metadata": {},
   "outputs": [],
   "source": [
    "train_sentences = list(train_sentences)"
   ]
  },
  {
   "cell_type": "code",
   "execution_count": 78,
   "id": "7a702f59-e64f-4f68-bdbe-f150fb2fd933",
   "metadata": {},
   "outputs": [
    {
     "data": {
      "text/plain": [
       "['just the right size for reading books and playing some games.',\n",
       " \"amazon show is pretty cool, it can help with things like cooking recipe, homework and other things. but it's restricted to only amazon partner things. if google comes out with something similar i would have definitely chosen that over the show. no youtube.\",\n",
       " 'is better than face time when calling my kid, since they have one, iô∏è could call them from my and see them at the same time, perfect for cooking timer n best for music',\n",
       " \"i love my kindle fire it holds a library of books that i can read anywhere. i change from my kindle fire to my phone if i don't have the kindle with me. so i can start right where i am in the book and then finish up on my kindle fire when i can. i play games and listen to books all on this device. love it\",\n",
       " 'this is a great tablet for the price. would give it 5 stars if it had included some sort of instruction manual. otherwise, definitely recommend.']"
      ]
     },
     "execution_count": 78,
     "metadata": {},
     "output_type": "execute_result"
    }
   ],
   "source": [
    "train_sentences[15:20]"
   ]
  },
  {
   "cell_type": "code",
   "execution_count": 79,
   "id": "6ab81248-74e7-4c72-8c1d-b8c685d2eb40",
   "metadata": {},
   "outputs": [
    {
     "data": {
      "text/plain": [
       "array([2, 2, 2, 2, 2])"
      ]
     },
     "execution_count": 79,
     "metadata": {},
     "output_type": "execute_result"
    }
   ],
   "source": [
    "train_label[:5]"
   ]
  },
  {
   "cell_type": "markdown",
   "id": "74e67346-c599-4490-8251-dccb4ce6b87c",
   "metadata": {},
   "source": [
    "Here we will create the TextVectorization for converting the text into the numbers. But before converting into text vectorization, we need to have a number, above which TextVectorization layer will truncate that text. This is given by `output_sequence_length` of the module.   "
   ]
  },
  {
   "cell_type": "code",
   "execution_count": 80,
   "id": "f714e0cc-cdca-4b69-ab37-ab0a9413cc05",
   "metadata": {},
   "outputs": [
    {
     "data": {
      "text/plain": [
       "30.4915625"
      ]
     },
     "execution_count": 80,
     "metadata": {},
     "output_type": "execute_result"
    }
   ],
   "source": [
    "sentence_len = [len(num.split()) for num in train_sentences]\n",
    "avg_sentence_len = sum(sentence_len)/len(sentence_len)\n",
    "avg_sentence_len"
   ]
  },
  {
   "cell_type": "code",
   "execution_count": 81,
   "id": "e59afa37-5b02-46fc-a3e7-e32bd16c41bf",
   "metadata": {},
   "outputs": [
    {
     "data": {
      "text/plain": [
       "79.0"
      ]
     },
     "execution_count": 81,
     "metadata": {},
     "output_type": "execute_result"
    }
   ],
   "source": [
    "# Let's see how many data fall under the cateogry of 95th percentile\n",
    "np.percentile(sentence_len,95)"
   ]
  },
  {
   "cell_type": "code",
   "execution_count": 82,
   "id": "df575ec9-8bc9-4261-87fd-c4fbdb577314",
   "metadata": {},
   "outputs": [],
   "source": [
    "train_sentences = np.array(train_sentences) # necessary to convert in numpy for for adaption purpose of training sentences."
   ]
  },
  {
   "cell_type": "code",
   "execution_count": 83,
   "id": "90f04897-84e9-42f3-9e22-6a75fc22deb6",
   "metadata": {},
   "outputs": [],
   "source": [
    "text_vectorizer = tf.keras.layers.TextVectorization(max_tokens=50000,\n",
    "                                                   output_sequence_length=79,\n",
    "                                                    standardize='lower_and_strip_punctuation')"
   ]
  },
  {
   "cell_type": "code",
   "execution_count": 84,
   "id": "3d12186c-a6d7-40a8-9471-c1619fa24e10",
   "metadata": {},
   "outputs": [],
   "source": [
    "# Adapt it on training sentences\n",
    "text_vectorizer.adapt(train_sentences)"
   ]
  },
  {
   "cell_type": "code",
   "execution_count": 85,
   "id": "175a0f65-0c93-4228-b92c-4a6605b3d024",
   "metadata": {},
   "outputs": [
    {
     "name": "stdout",
     "output_type": "stream",
     "text": [
      "Original text is: got this for the kids for xmas...was the best gift. \n",
      "\n",
      "Vectorized text is: [ 102   11    7    2   49    7 2801    2   88  101    0    0    0    0\n",
      "    0    0    0    0    0    0    0    0    0    0    0    0    0    0\n",
      "    0    0    0    0    0    0    0    0    0    0    0    0    0    0\n",
      "    0    0    0    0    0    0    0    0    0    0    0    0    0    0\n",
      "    0    0    0    0    0    0    0    0    0    0    0    0    0    0\n",
      "    0    0    0    0    0    0    0    0    0]\n"
     ]
    }
   ],
   "source": [
    "# Let's check sample for one of the training sentence\n",
    "import random\n",
    "random_text = random.choice(train_sentences)\n",
    "print(f\"Original text is: {random_text} \\n\")\n",
    "print(f\"Vectorized text is: {text_vectorizer(random_text)}\")"
   ]
  },
  {
   "cell_type": "markdown",
   "id": "0e762722-fcea-4b81-9735-b77e35ff84d5",
   "metadata": {},
   "source": [
    "Next task is to get the embedding of senetnces. It represents the relationship between the numbers which are found by getting text vectorization. "
   ]
  },
  {
   "cell_type": "code",
   "execution_count": 86,
   "id": "93ac8bd8-6474-4782-a1c5-7f1dc7e476b0",
   "metadata": {},
   "outputs": [],
   "source": [
    "embedding_1 = tf.keras.layers.Embedding(input_dim=50000,\n",
    "                                      output_dim=128,\n",
    "                                      input_length=79)"
   ]
  },
  {
   "cell_type": "code",
   "execution_count": 87,
   "id": "d4177128-f5df-4cb2-8f58-2b37a006496e",
   "metadata": {},
   "outputs": [
    {
     "name": "stdout",
     "output_type": "stream",
     "text": [
      "Original text is: i had to return my device due to wifi signal dropping, maybe i just had a bad unit. \n",
      "\n",
      "Vectorized text is: [   6   60    3  817   10   77  790    3  286 3235 1399  827    6   56\n",
      "   60    8  553  403    0    0    0    0    0    0    0    0    0    0\n",
      "    0    0    0    0    0    0    0    0    0    0    0    0    0    0\n",
      "    0    0    0    0    0    0    0    0    0    0    0    0    0    0\n",
      "    0    0    0    0    0    0    0    0    0    0    0    0    0    0\n",
      "    0    0    0    0    0    0    0    0    0] \n",
      "\n",
      "Embedded sentence is: [[-0.04277682  0.03087772  0.01442145 ... -0.02091012 -0.0372326\n",
      "  -0.01009055]\n",
      " [-0.03037481  0.03589685 -0.0184273  ... -0.04619139  0.04626871\n",
      "   0.04331254]\n",
      " [ 0.0498673   0.02407403 -0.0034575  ... -0.03991915 -0.01972375\n",
      "   0.00607372]\n",
      " ...\n",
      " [ 0.0286223  -0.03201852  0.02228657 ... -0.04861766 -0.03993385\n",
      "   0.00512434]\n",
      " [ 0.0286223  -0.03201852  0.02228657 ... -0.04861766 -0.03993385\n",
      "   0.00512434]\n",
      " [ 0.0286223  -0.03201852  0.02228657 ... -0.04861766 -0.03993385\n",
      "   0.00512434]]\n"
     ]
    }
   ],
   "source": [
    "# Let's check sample for one of the training sentence\n",
    "random_text = random.choice(train_sentences)\n",
    "print(f\"Original text is: {random_text} \\n\")\n",
    "print(f\"Vectorized text is: {text_vectorizer(random_text)} \\n\")\n",
    "print(f\"Embedded sentence is: {embedding_1(text_vectorizer(random_text))}\")"
   ]
  },
  {
   "cell_type": "code",
   "execution_count": 88,
   "id": "3211ce88-071a-45f5-be3b-e5d73f8460af",
   "metadata": {},
   "outputs": [],
   "source": [
    "# Set the random state\n",
    "tf.random.set_seed(42)\n",
    "# Construct the simple model\n",
    "inputs = tf.keras.layers.Input(shape=(1,),dtype=tf.string)\n",
    "x = text_vectorizer(inputs)\n",
    "x = embedding_1(x)\n",
    "x = tf.keras.layers.GlobalAveragePooling1D()(x)  # for dimensionality reduction\n",
    "x = tf.keras.layers.Dense(32,activation=\"relu\")(x)\n",
    "x = tf.keras.layers.Dense(64,activation=\"relu\")(x)\n",
    "outputs = tf.keras.layers.Dense(3,activation=\"softmax\")(x)  # we have three output\n",
    "model_ann = tf.keras.Model(inputs,outputs)"
   ]
  },
  {
   "cell_type": "code",
   "execution_count": 89,
   "id": "5b181777-4fe4-4ffa-bde4-d31fce23ed9c",
   "metadata": {},
   "outputs": [
    {
     "name": "stdout",
     "output_type": "stream",
     "text": [
      "Model: \"model\"\n",
      "_________________________________________________________________\n",
      "Layer (type)                 Output Shape              Param #   \n",
      "=================================================================\n",
      "input_1 (InputLayer)         [(None, 1)]               0         \n",
      "_________________________________________________________________\n",
      "text_vectorization (TextVect (None, 79)                0         \n",
      "_________________________________________________________________\n",
      "embedding (Embedding)        (None, 79, 128)           6400000   \n",
      "_________________________________________________________________\n",
      "global_average_pooling1d (Gl (None, 128)               0         \n",
      "_________________________________________________________________\n",
      "dense (Dense)                (None, 32)                4128      \n",
      "_________________________________________________________________\n",
      "dense_1 (Dense)              (None, 64)                2112      \n",
      "_________________________________________________________________\n",
      "dense_2 (Dense)              (None, 3)                 195       \n",
      "=================================================================\n",
      "Total params: 6,406,435\n",
      "Trainable params: 6,406,435\n",
      "Non-trainable params: 0\n",
      "_________________________________________________________________\n"
     ]
    }
   ],
   "source": [
    "# Get the summay of the model\n",
    "model_ann.summary()"
   ]
  },
  {
   "cell_type": "code",
   "execution_count": 90,
   "id": "af068949-f54c-407f-b7bf-8660d008a3eb",
   "metadata": {},
   "outputs": [],
   "source": [
    "# Compile the model\n",
    "model_ann.compile(loss=\"sparse_categorical_crossentropy\",\n",
    "                 optimizer=tf.keras.optimizers.Adam(),\n",
    "                 metrics=[\"accuracy\"])"
   ]
  },
  {
   "cell_type": "code",
   "execution_count": 91,
   "id": "22693a94-7636-4c5d-b8c9-62359e22e027",
   "metadata": {},
   "outputs": [
    {
     "name": "stdout",
     "output_type": "stream",
     "text": [
      "Epoch 1/100\n",
      "100/100 [==============================] - 3s 10ms/step - loss: 0.5206 - accuracy: 0.9184 - val_loss: 0.2512 - val_accuracy: 0.9388\n",
      "Epoch 2/100\n",
      "100/100 [==============================] - 1s 8ms/step - loss: 0.2578 - accuracy: 0.9369 - val_loss: 0.2443 - val_accuracy: 0.9388\n",
      "Epoch 3/100\n",
      "100/100 [==============================] - 1s 8ms/step - loss: 0.2376 - accuracy: 0.9369 - val_loss: 0.2308 - val_accuracy: 0.9388\n",
      "Epoch 4/100\n",
      "100/100 [==============================] - 1s 8ms/step - loss: 0.1973 - accuracy: 0.9381 - val_loss: 0.2016 - val_accuracy: 0.9413\n",
      "Epoch 5/100\n",
      "100/100 [==============================] - 1s 9ms/step - loss: 0.1355 - accuracy: 0.9497 - val_loss: 0.2190 - val_accuracy: 0.9438\n",
      "Epoch 6/100\n",
      "100/100 [==============================] - 1s 8ms/step - loss: 0.1005 - accuracy: 0.9603 - val_loss: 0.2253 - val_accuracy: 0.9488\n",
      "Epoch 7/100\n",
      "100/100 [==============================] - 1s 8ms/step - loss: 0.0784 - accuracy: 0.9684 - val_loss: 0.2452 - val_accuracy: 0.9463\n",
      "Epoch 8/100\n",
      "100/100 [==============================] - 1s 8ms/step - loss: 0.0656 - accuracy: 0.9766 - val_loss: 0.2802 - val_accuracy: 0.9513\n",
      "Epoch 9/100\n",
      "100/100 [==============================] - 1s 8ms/step - loss: 0.0529 - accuracy: 0.9816 - val_loss: 0.3099 - val_accuracy: 0.9538\n",
      "Epoch 10/100\n",
      "100/100 [==============================] - 1s 8ms/step - loss: 0.0439 - accuracy: 0.9850 - val_loss: 0.3512 - val_accuracy: 0.9538\n",
      "Epoch 11/100\n",
      "100/100 [==============================] - 1s 8ms/step - loss: 0.0333 - accuracy: 0.9900 - val_loss: 0.3391 - val_accuracy: 0.9500\n",
      "Epoch 12/100\n",
      "100/100 [==============================] - 1s 8ms/step - loss: 0.0241 - accuracy: 0.9944 - val_loss: 0.3592 - val_accuracy: 0.9450\n",
      "Epoch 13/100\n",
      "100/100 [==============================] - 1s 8ms/step - loss: 0.0160 - accuracy: 0.9966 - val_loss: 0.3918 - val_accuracy: 0.9450\n",
      "Epoch 14/100\n",
      "100/100 [==============================] - 1s 8ms/step - loss: 0.0115 - accuracy: 0.9984 - val_loss: 0.4206 - val_accuracy: 0.9450\n"
     ]
    }
   ],
   "source": [
    "# Fit the model \n",
    "history_1 = model_ann.fit(train_sentences,\n",
    "                         train_label,\n",
    "                         epochs=100,\n",
    "                         validation_data=(np.array(test_sentences),np.array(test_label)),\n",
    "                         callbacks=[tf.keras.callbacks.EarlyStopping(monitor=\"val_loss\",\n",
    "                                                                   patience=10,\n",
    "                                                                   restore_best_weights=True)])"
   ]
  },
  {
   "cell_type": "code",
   "execution_count": 92,
   "id": "39f35a45-4304-4397-b68a-e47ec35415bf",
   "metadata": {},
   "outputs": [],
   "source": [
    "test_sentences = np.array(test_sentences)\n",
    "test_label = np.array(test_label)"
   ]
  },
  {
   "cell_type": "code",
   "execution_count": 93,
   "id": "9c474deb-cd2b-45bd-a60c-a13780bc95c8",
   "metadata": {},
   "outputs": [
    {
     "name": "stdout",
     "output_type": "stream",
     "text": [
      "25/25 [==============================] - 0s 2ms/step - loss: 0.2016 - accuracy: 0.9413\n"
     ]
    },
    {
     "data": {
      "text/plain": [
       "[0.20164978504180908, 0.9412500262260437]"
      ]
     },
     "execution_count": 93,
     "metadata": {},
     "output_type": "execute_result"
    }
   ],
   "source": [
    "model_ann.evaluate(test_sentences,test_label)"
   ]
  },
  {
   "cell_type": "code",
   "execution_count": 94,
   "id": "45f59054-37cb-45fc-b281-df7747ab2bb4",
   "metadata": {},
   "outputs": [
    {
     "data": {
      "text/plain": [
       "array([[0.06280048, 0.08845985, 0.8487397 ],\n",
       "       [0.00243354, 0.00662   , 0.9909464 ],\n",
       "       [0.00326108, 0.0082929 , 0.988446  ],\n",
       "       [0.0106436 , 0.02170696, 0.9676494 ],\n",
       "       [0.0128034 , 0.02518369, 0.9620129 ]], dtype=float32)"
      ]
     },
     "execution_count": 94,
     "metadata": {},
     "output_type": "execute_result"
    }
   ],
   "source": [
    "# Get the prediction\n",
    "model_ann_pred_prob = model_ann.predict(test_sentences)\n",
    "model_ann_pred_prob[:5]"
   ]
  },
  {
   "cell_type": "code",
   "execution_count": 95,
   "id": "08820d89-1fe4-489a-ad6b-9c644facfaa2",
   "metadata": {},
   "outputs": [
    {
     "data": {
      "text/plain": [
       "<tf.Tensor: shape=(5,), dtype=int64, numpy=array([2, 2, 2, 2, 2], dtype=int64)>"
      ]
     },
     "execution_count": 95,
     "metadata": {},
     "output_type": "execute_result"
    }
   ],
   "source": [
    "# Get the predictions class\n",
    "model_ann_pred = tf.argmax(model_ann_pred_prob,axis=1)\n",
    "model_ann_pred[:5]"
   ]
  },
  {
   "cell_type": "code",
   "execution_count": 96,
   "id": "da48eeb1-3655-4dfd-9a90-837bf1011fbf",
   "metadata": {},
   "outputs": [
    {
     "name": "stderr",
     "output_type": "stream",
     "text": [
      "C:\\Users\\utkri\\anaconda3\\envs\\tf-gpu\\lib\\site-packages\\sklearn\\metrics\\_classification.py:1308: UndefinedMetricWarning: Precision and F-score are ill-defined and being set to 0.0 in labels with no predicted samples. Use `zero_division` parameter to control this behavior.\n",
      "  _warn_prf(average, modifier, msg_start, len(result))\n"
     ]
    },
    {
     "data": {
      "text/plain": [
       "{'accuracy': 0.94125,\n",
       " 'precision': 0.8959487029364078,\n",
       " 'recall': 0.94125,\n",
       " 'f1-score': 0.9172820595854922}"
      ]
     },
     "execution_count": 96,
     "metadata": {},
     "output_type": "execute_result"
    }
   ],
   "source": [
    "# Get the result \n",
    "model_ann_result = result(y_true=test_label,y_pred=model_ann_pred)\n",
    "model_ann_result"
   ]
  },
  {
   "cell_type": "code",
   "execution_count": 97,
   "id": "8c467917-bc6e-4b35-a228-8e58792bb7bf",
   "metadata": {},
   "outputs": [
    {
     "data": {
      "text/plain": [
       "0.9605047744350704"
      ]
     },
     "execution_count": 97,
     "metadata": {},
     "output_type": "execute_result"
    }
   ],
   "source": [
    "from sklearn import metrics\n",
    "metrics.f1_score(test_label, model_ann_pred, average='weighted', labels=np.unique(model_ann_pred))"
   ]
  },
  {
   "cell_type": "markdown",
   "id": "846c8bc7-a75c-42e3-81ba-8a72584351fe",
   "metadata": {},
   "source": [
    "### Step-8: Use possible ensemble techniques like: XGboost + oversampled_multinomial_NB."
   ]
  },
  {
   "cell_type": "code",
   "execution_count": 98,
   "id": "d8d9ab9c-334c-429a-8152-e9686b28dc56",
   "metadata": {},
   "outputs": [],
   "source": [
    "import warnings\n",
    "warnings.filterwarnings(\"ignore\")"
   ]
  },
  {
   "cell_type": "code",
   "execution_count": 99,
   "id": "eb72f6e5-286f-498f-98ba-e5ec6e51e8f1",
   "metadata": {},
   "outputs": [
    {
     "name": "stdout",
     "output_type": "stream",
     "text": [
      "[21:13:30] WARNING: D:\\bld\\xgboost-split_1643227225381\\work\\src\\learner.cc:576: \n",
      "Parameters: { \"base_estimator\", \"n_estimator\" } might not be used.\n",
      "\n",
      "  This could be a false alarm, with some parameters getting used by language bindings but\n",
      "  then being mistakenly passed down to XGBoost core, or some parameter actually being used\n",
      "  but getting flagged wrongly here. Please open an issue if you find any such cases.\n",
      "\n",
      "\n",
      "[21:13:31] WARNING: D:\\bld\\xgboost-split_1643227225381\\work\\src\\learner.cc:1115: Starting in XGBoost 1.3.0, the default evaluation metric used with the objective 'multi:softprob' was changed from 'merror' to 'mlogloss'. Explicitly set eval_metric if you'd like to restore the old behavior.\n"
     ]
    },
    {
     "data": {
      "text/plain": [
       "XGBClassifier(base_estimator=MultinomialNB(), base_score=0.5, booster='gbtree',\n",
       "              colsample_bylevel=1, colsample_bynode=1, colsample_bytree=1,\n",
       "              enable_categorical=False, gamma=0, gpu_id=-1,\n",
       "              importance_type=None, interaction_constraints='',\n",
       "              learning_rate=0.300000012, max_delta_step=0, max_depth=6,\n",
       "              min_child_weight=1, missing=nan, monotone_constraints='()',\n",
       "              n_estimator=10, n_estimators=100, n_jobs=12, num_parallel_tree=1,\n",
       "              objective='multi:softprob', predictor='auto', random_state=0,\n",
       "              reg_alpha=0, reg_lambda=1, scale_pos_weight=None, subsample=1,\n",
       "              tree_method='exact', validate_parameters=1, ...)"
      ]
     },
     "execution_count": 99,
     "metadata": {},
     "output_type": "execute_result"
    }
   ],
   "source": [
    "from sklearn.naive_bayes import MultinomialNB\n",
    "nb = MultinomialNB()\n",
    "model_ensemble = XGBClassifier(base_estimator=nb,n_estimator=10)\n",
    "model_ensemble.fit(X_balanced,y_balanced)"
   ]
  },
  {
   "cell_type": "code",
   "execution_count": 100,
   "id": "3e1098d7-3876-4e03-ab46-bd9e1de90917",
   "metadata": {},
   "outputs": [
    {
     "data": {
      "text/plain": [
       "array([2, 2, 2, 2, 2])"
      ]
     },
     "execution_count": 100,
     "metadata": {},
     "output_type": "execute_result"
    }
   ],
   "source": [
    "y_pred_model_ensemble_1 = model_ensemble.predict(X_test_array,)\n",
    "y_pred_model_ensemble_1[:5]"
   ]
  },
  {
   "cell_type": "code",
   "execution_count": 101,
   "id": "7bda2ee5-e584-4e8a-8c03-517276800a8e",
   "metadata": {},
   "outputs": [
    {
     "data": {
      "text/plain": [
       "{'accuracy': 0.94625,\n",
       " 'precision': 0.9345439570119802,\n",
       " 'recall': 0.94625,\n",
       " 'f1-score': 0.9372313082610094}"
      ]
     },
     "execution_count": 101,
     "metadata": {},
     "output_type": "execute_result"
    }
   ],
   "source": [
    "ensemble_result_1 = result(y_true=y_test_array,\n",
    "                                 y_pred=y_pred_model_ensemble_1)\n",
    "ensemble_result_1"
   ]
  },
  {
   "cell_type": "markdown",
   "id": "0e4b7935-f90e-4282-a514-867cfcffef59",
   "metadata": {},
   "source": [
    "Predicting the data with <b> Adaboost + naive bayes </b>"
   ]
  },
  {
   "cell_type": "code",
   "execution_count": 102,
   "id": "02851ec8-aaf2-4a53-b4a4-86122b03ec61",
   "metadata": {},
   "outputs": [
    {
     "data": {
      "text/plain": [
       "AdaBoostClassifier(base_estimator=MultinomialNB(), n_estimators=10)"
      ]
     },
     "execution_count": 102,
     "metadata": {},
     "output_type": "execute_result"
    }
   ],
   "source": [
    "from sklearn.ensemble import AdaBoostClassifier\n",
    "model_ensemble_1 = AdaBoostClassifier(base_estimator=nb,n_estimators=10)\n",
    "model_ensemble_1.fit(X_balanced,y_balanced)"
   ]
  },
  {
   "cell_type": "code",
   "execution_count": 103,
   "id": "08fbc416-6159-43aa-91fc-11d74adeae61",
   "metadata": {},
   "outputs": [
    {
     "data": {
      "text/plain": [
       "array([1, 2, 2, 2, 2])"
      ]
     },
     "execution_count": 103,
     "metadata": {},
     "output_type": "execute_result"
    }
   ],
   "source": [
    "y_pred_model_ensemble_2 = model_ensemble_1.predict(X_test_array,)\n",
    "y_pred_model_ensemble_2[:5]"
   ]
  },
  {
   "cell_type": "code",
   "execution_count": 104,
   "id": "56cb7e7c-05ee-4683-80f2-496f57811032",
   "metadata": {},
   "outputs": [
    {
     "data": {
      "text/plain": [
       "{'accuracy': 0.84,\n",
       " 'precision': 0.9325252008019459,\n",
       " 'recall': 0.84,\n",
       " 'f1-score': 0.8776480749746706}"
      ]
     },
     "execution_count": 104,
     "metadata": {},
     "output_type": "execute_result"
    }
   ],
   "source": [
    "ensemble_result_2 = result(y_true=y_test_array,\n",
    "                                 y_pred=y_pred_model_ensemble_2)\n",
    "ensemble_result_2"
   ]
  },
  {
   "cell_type": "markdown",
   "id": "c62132cc-f988-4909-8492-7863843753a4",
   "metadata": {},
   "source": [
    "### Step-9: Assign a score to the sentence sentiment (engineer a feature called sentiment score). Use this engineered feature in the model and check for improvements. Draw insights on the same."
   ]
  },
  {
   "cell_type": "markdown",
   "id": "5158e0fb-643a-422c-be6b-a7757ae278f5",
   "metadata": {},
   "source": [
    "We can use <b> textblob </b> library for generating the sentiment of data. `TextBlob().sentiment` returns two output, 1st is *polarity* and 2nd is *subjectivity*. Polarity is float which lies in the range of [-1,1] where 1 means positive statement and -1 means a negative statement. Subjective sentences generally refer to personal opinion, emotion or judgment whereas objective refers to factual information. Subjectivity is also a float which lies in the range of [0,1]. \n",
    "\n",
    "Let's check one example below."
   ]
  },
  {
   "cell_type": "code",
   "execution_count": 105,
   "id": "73ce2575-4f26-4824-99a0-536f50b5f6b4",
   "metadata": {},
   "outputs": [
    {
     "name": "stdout",
     "output_type": "stream",
     "text": [
      "Weather is good today. Low chances of rain. A pleasant day.\n"
     ]
    },
    {
     "data": {
      "text/plain": [
       "Sentiment(polarity=0.4777777777777777, subjectivity=0.6222222222222222)"
      ]
     },
     "execution_count": 105,
     "metadata": {},
     "output_type": "execute_result"
    }
   ],
   "source": [
    "from textblob import TextBlob\n",
    "text = \"Weather is good today. Low chances of rain. A pleasant day.\"\n",
    "blob = TextBlob(text)\n",
    "print(blob)\n",
    "blob.sentiment"
   ]
  },
  {
   "cell_type": "markdown",
   "id": "2cded9bc-2efb-4c09-b44d-253c4d91abf5",
   "metadata": {},
   "source": [
    "As we can see from the above result, there is polarity as well as subjectivity. As we don't need subjectivity whether it is emotion,opinion or judgement, we will keep only ploraity which express sentiment."
   ]
  },
  {
   "cell_type": "code",
   "execution_count": 106,
   "id": "4dc6cd7f-4d4f-435a-985f-0e4605e10b1c",
   "metadata": {},
   "outputs": [],
   "source": [
    "# Creating a new feature `sentiment_score`\n",
    "df_train[\"sentiment_score\"] = df_train[\"reviews.text\"].apply(lambda x:list(TextBlob(x).sentiment)[0]) "
   ]
  },
  {
   "cell_type": "code",
   "execution_count": 107,
   "id": "c520dfd2-7f1d-4454-9131-6a5e561b7e10",
   "metadata": {},
   "outputs": [
    {
     "data": {
      "text/html": [
       "<div>\n",
       "<style scoped>\n",
       "    .dataframe tbody tr th:only-of-type {\n",
       "        vertical-align: middle;\n",
       "    }\n",
       "\n",
       "    .dataframe tbody tr th {\n",
       "        vertical-align: top;\n",
       "    }\n",
       "\n",
       "    .dataframe thead th {\n",
       "        text-align: right;\n",
       "    }\n",
       "</style>\n",
       "<table border=\"1\" class=\"dataframe\">\n",
       "  <thead>\n",
       "    <tr style=\"text-align: right;\">\n",
       "      <th></th>\n",
       "      <th>name</th>\n",
       "      <th>brand</th>\n",
       "      <th>categories</th>\n",
       "      <th>primaryCategories</th>\n",
       "      <th>reviews.date</th>\n",
       "      <th>reviews.text</th>\n",
       "      <th>reviews.title</th>\n",
       "      <th>sentiment</th>\n",
       "      <th>sentiment_score</th>\n",
       "    </tr>\n",
       "  </thead>\n",
       "  <tbody>\n",
       "    <tr>\n",
       "      <th>0</th>\n",
       "      <td>All-New Fire HD 8 Tablet, 8\" HD Display, Wi-Fi...</td>\n",
       "      <td>Amazon</td>\n",
       "      <td>Electronics,iPad &amp; Tablets,All Tablets,Fire Ta...</td>\n",
       "      <td>Electronics</td>\n",
       "      <td>2016-12-26T00:00:00.000Z</td>\n",
       "      <td>Purchased on Black FridayPros - Great Price (e...</td>\n",
       "      <td>Powerful tablet</td>\n",
       "      <td>Positive</td>\n",
       "      <td>0.363542</td>\n",
       "    </tr>\n",
       "    <tr>\n",
       "      <th>1</th>\n",
       "      <td>Amazon - Echo Plus w/ Built-In Hub - Silver</td>\n",
       "      <td>Amazon</td>\n",
       "      <td>Amazon Echo,Smart Home,Networking,Home &amp; Tools...</td>\n",
       "      <td>Electronics,Hardware</td>\n",
       "      <td>2018-01-17T00:00:00.000Z</td>\n",
       "      <td>I purchased two Amazon in Echo Plus and two do...</td>\n",
       "      <td>Amazon Echo Plus AWESOME</td>\n",
       "      <td>Positive</td>\n",
       "      <td>0.458214</td>\n",
       "    </tr>\n",
       "    <tr>\n",
       "      <th>2</th>\n",
       "      <td>Amazon Echo Show Alexa-enabled Bluetooth Speak...</td>\n",
       "      <td>Amazon</td>\n",
       "      <td>Amazon Echo,Virtual Assistant Speakers,Electro...</td>\n",
       "      <td>Electronics,Hardware</td>\n",
       "      <td>2017-12-20T00:00:00.000Z</td>\n",
       "      <td>Just an average Alexa option. Does show a few ...</td>\n",
       "      <td>Average</td>\n",
       "      <td>Neutral</td>\n",
       "      <td>-0.140476</td>\n",
       "    </tr>\n",
       "    <tr>\n",
       "      <th>3</th>\n",
       "      <td>Fire HD 10 Tablet, 10.1 HD Display, Wi-Fi, 16 ...</td>\n",
       "      <td>Amazon</td>\n",
       "      <td>eBook Readers,Fire Tablets,Electronics Feature...</td>\n",
       "      <td>Office Supplies,Electronics</td>\n",
       "      <td>2017-08-04T00:00:00.000Z</td>\n",
       "      <td>very good product. Exactly what I wanted, and ...</td>\n",
       "      <td>Greattttttt</td>\n",
       "      <td>Positive</td>\n",
       "      <td>0.690000</td>\n",
       "    </tr>\n",
       "    <tr>\n",
       "      <th>4</th>\n",
       "      <td>Brand New Amazon Kindle Fire 16gb 7\" Ips Displ...</td>\n",
       "      <td>Amazon</td>\n",
       "      <td>Computers/Tablets &amp; Networking,Tablets &amp; eBook...</td>\n",
       "      <td>Electronics</td>\n",
       "      <td>2017-01-23T00:00:00.000Z</td>\n",
       "      <td>This is the 3rd one I've purchased. I've bough...</td>\n",
       "      <td>Very durable!</td>\n",
       "      <td>Positive</td>\n",
       "      <td>0.187500</td>\n",
       "    </tr>\n",
       "  </tbody>\n",
       "</table>\n",
       "</div>"
      ],
      "text/plain": [
       "                                                name   brand  \\\n",
       "0  All-New Fire HD 8 Tablet, 8\" HD Display, Wi-Fi...  Amazon   \n",
       "1        Amazon - Echo Plus w/ Built-In Hub - Silver  Amazon   \n",
       "2  Amazon Echo Show Alexa-enabled Bluetooth Speak...  Amazon   \n",
       "3  Fire HD 10 Tablet, 10.1 HD Display, Wi-Fi, 16 ...  Amazon   \n",
       "4  Brand New Amazon Kindle Fire 16gb 7\" Ips Displ...  Amazon   \n",
       "\n",
       "                                          categories  \\\n",
       "0  Electronics,iPad & Tablets,All Tablets,Fire Ta...   \n",
       "1  Amazon Echo,Smart Home,Networking,Home & Tools...   \n",
       "2  Amazon Echo,Virtual Assistant Speakers,Electro...   \n",
       "3  eBook Readers,Fire Tablets,Electronics Feature...   \n",
       "4  Computers/Tablets & Networking,Tablets & eBook...   \n",
       "\n",
       "             primaryCategories              reviews.date  \\\n",
       "0                  Electronics  2016-12-26T00:00:00.000Z   \n",
       "1         Electronics,Hardware  2018-01-17T00:00:00.000Z   \n",
       "2         Electronics,Hardware  2017-12-20T00:00:00.000Z   \n",
       "3  Office Supplies,Electronics  2017-08-04T00:00:00.000Z   \n",
       "4                  Electronics  2017-01-23T00:00:00.000Z   \n",
       "\n",
       "                                        reviews.text  \\\n",
       "0  Purchased on Black FridayPros - Great Price (e...   \n",
       "1  I purchased two Amazon in Echo Plus and two do...   \n",
       "2  Just an average Alexa option. Does show a few ...   \n",
       "3  very good product. Exactly what I wanted, and ...   \n",
       "4  This is the 3rd one I've purchased. I've bough...   \n",
       "\n",
       "              reviews.title sentiment  sentiment_score  \n",
       "0           Powerful tablet  Positive         0.363542  \n",
       "1  Amazon Echo Plus AWESOME  Positive         0.458214  \n",
       "2                   Average   Neutral        -0.140476  \n",
       "3               Greattttttt  Positive         0.690000  \n",
       "4             Very durable!  Positive         0.187500  "
      ]
     },
     "execution_count": 107,
     "metadata": {},
     "output_type": "execute_result"
    }
   ],
   "source": [
    "df_train.head()"
   ]
  },
  {
   "cell_type": "markdown",
   "id": "342adc97-2a0b-409a-9f15-889f2f74e5e5",
   "metadata": {},
   "source": [
    "As we can see in the last column there is sentiment score. Let's visualize some of the comments with the sentiment."
   ]
  },
  {
   "cell_type": "code",
   "execution_count": 108,
   "id": "eff28ba5-ae95-4160-9ce1-a553d898ad90",
   "metadata": {},
   "outputs": [
    {
     "name": "stdout",
     "output_type": "stream",
     "text": [
      "Sentiment : Positive \t Sentiment Score: 0.7166666666666667\n",
      "Text : Easy to set up, easy to use apps are awesome and sounds great!\n",
      "-----------------------------------------\n",
      "\n",
      "Sentiment : Positive \t Sentiment Score: 0.4\n",
      "Text : This is a great tablet for basic needs.. internet.. video streaming.. games.. books... you dont need an ipad?.. get one of these.\n",
      "-----------------------------------------\n",
      "\n",
      "Sentiment : Positive \t Sentiment Score: 0.33999999999999997\n",
      "Text : I like this tablet. It has everything you want. However the apps within it need to be updated more often. If this happened than it would be top above an iPad mini. For now, it gives me enough of what I need and in HD. For $89 it was a good deal.\n",
      "-----------------------------------------\n",
      "\n",
      "Sentiment : Positive \t Sentiment Score: 0.17833333333333334\n",
      "Text : Worked better than expected! Highly recommend the Echo Show\n",
      "-----------------------------------------\n",
      "\n",
      "Sentiment : Positive \t Sentiment Score: 0.5533333333333333\n",
      "Text : Great sound quality. Easy to set up. Easy to use. Looks good too.\n",
      "-----------------------------------------\n",
      "\n"
     ]
    }
   ],
   "source": [
    "for row in df_train[[\"reviews.text\",\"sentiment\",\"sentiment_score\"]][32:37].itertuples():\n",
    "    _,text,sentiment,score = row\n",
    "    print(f\"Sentiment : {sentiment} \\t Sentiment Score: {score}\")\n",
    "    print(f\"Text : {text}\")\n",
    "    print(\"-----------------------------------------\\n\")"
   ]
  },
  {
   "cell_type": "markdown",
   "id": "4022a470-e228-4e5e-924f-7f159f71494d",
   "metadata": {},
   "source": [
    "Let's see what affect sentiment score makes on the model. Let's make a separate dataframe and do some preprocessing."
   ]
  },
  {
   "cell_type": "code",
   "execution_count": 109,
   "id": "d0b391b2-29fe-4c7c-a99b-a8ef2a7e384c",
   "metadata": {},
   "outputs": [
    {
     "data": {
      "text/html": [
       "<div>\n",
       "<style scoped>\n",
       "    .dataframe tbody tr th:only-of-type {\n",
       "        vertical-align: middle;\n",
       "    }\n",
       "\n",
       "    .dataframe tbody tr th {\n",
       "        vertical-align: top;\n",
       "    }\n",
       "\n",
       "    .dataframe thead th {\n",
       "        text-align: right;\n",
       "    }\n",
       "</style>\n",
       "<table border=\"1\" class=\"dataframe\">\n",
       "  <thead>\n",
       "    <tr style=\"text-align: right;\">\n",
       "      <th></th>\n",
       "      <th>reviews.text</th>\n",
       "      <th>sentiment</th>\n",
       "      <th>sentiment_score</th>\n",
       "    </tr>\n",
       "  </thead>\n",
       "  <tbody>\n",
       "    <tr>\n",
       "      <th>0</th>\n",
       "      <td>Purchased on Black FridayPros - Great Price (e...</td>\n",
       "      <td>Positive</td>\n",
       "      <td>0.363542</td>\n",
       "    </tr>\n",
       "    <tr>\n",
       "      <th>1</th>\n",
       "      <td>I purchased two Amazon in Echo Plus and two do...</td>\n",
       "      <td>Positive</td>\n",
       "      <td>0.458214</td>\n",
       "    </tr>\n",
       "    <tr>\n",
       "      <th>2</th>\n",
       "      <td>Just an average Alexa option. Does show a few ...</td>\n",
       "      <td>Neutral</td>\n",
       "      <td>-0.140476</td>\n",
       "    </tr>\n",
       "    <tr>\n",
       "      <th>3</th>\n",
       "      <td>very good product. Exactly what I wanted, and ...</td>\n",
       "      <td>Positive</td>\n",
       "      <td>0.690000</td>\n",
       "    </tr>\n",
       "    <tr>\n",
       "      <th>4</th>\n",
       "      <td>This is the 3rd one I've purchased. I've bough...</td>\n",
       "      <td>Positive</td>\n",
       "      <td>0.187500</td>\n",
       "    </tr>\n",
       "  </tbody>\n",
       "</table>\n",
       "</div>"
      ],
      "text/plain": [
       "                                        reviews.text sentiment  \\\n",
       "0  Purchased on Black FridayPros - Great Price (e...  Positive   \n",
       "1  I purchased two Amazon in Echo Plus and two do...  Positive   \n",
       "2  Just an average Alexa option. Does show a few ...   Neutral   \n",
       "3  very good product. Exactly what I wanted, and ...  Positive   \n",
       "4  This is the 3rd one I've purchased. I've bough...  Positive   \n",
       "\n",
       "   sentiment_score  \n",
       "0         0.363542  \n",
       "1         0.458214  \n",
       "2        -0.140476  \n",
       "3         0.690000  \n",
       "4         0.187500  "
      ]
     },
     "execution_count": 109,
     "metadata": {},
     "output_type": "execute_result"
    }
   ],
   "source": [
    "df_sentiment = df_train[[\"reviews.text\",\"sentiment\",\"sentiment_score\"]]\n",
    "df_sentiment.head()"
   ]
  },
  {
   "cell_type": "code",
   "execution_count": 110,
   "id": "0043e82c-57f2-423e-a8c4-e3a143101403",
   "metadata": {},
   "outputs": [
    {
     "data": {
      "text/html": [
       "<div>\n",
       "<style scoped>\n",
       "    .dataframe tbody tr th:only-of-type {\n",
       "        vertical-align: middle;\n",
       "    }\n",
       "\n",
       "    .dataframe tbody tr th {\n",
       "        vertical-align: top;\n",
       "    }\n",
       "\n",
       "    .dataframe thead th {\n",
       "        text-align: right;\n",
       "    }\n",
       "</style>\n",
       "<table border=\"1\" class=\"dataframe\">\n",
       "  <thead>\n",
       "    <tr style=\"text-align: right;\">\n",
       "      <th></th>\n",
       "      <th>reviews.text</th>\n",
       "      <th>sentiment</th>\n",
       "      <th>sentiment_score</th>\n",
       "    </tr>\n",
       "  </thead>\n",
       "  <tbody>\n",
       "    <tr>\n",
       "      <th>0</th>\n",
       "      <td>Purchased on Black FridayPros - Great Price (e...</td>\n",
       "      <td>2</td>\n",
       "      <td>0.363542</td>\n",
       "    </tr>\n",
       "    <tr>\n",
       "      <th>1</th>\n",
       "      <td>I purchased two Amazon in Echo Plus and two do...</td>\n",
       "      <td>2</td>\n",
       "      <td>0.458214</td>\n",
       "    </tr>\n",
       "    <tr>\n",
       "      <th>2</th>\n",
       "      <td>Just an average Alexa option. Does show a few ...</td>\n",
       "      <td>1</td>\n",
       "      <td>-0.140476</td>\n",
       "    </tr>\n",
       "    <tr>\n",
       "      <th>3</th>\n",
       "      <td>very good product. Exactly what I wanted, and ...</td>\n",
       "      <td>2</td>\n",
       "      <td>0.690000</td>\n",
       "    </tr>\n",
       "    <tr>\n",
       "      <th>4</th>\n",
       "      <td>This is the 3rd one I've purchased. I've bough...</td>\n",
       "      <td>2</td>\n",
       "      <td>0.187500</td>\n",
       "    </tr>\n",
       "  </tbody>\n",
       "</table>\n",
       "</div>"
      ],
      "text/plain": [
       "                                        reviews.text  sentiment  \\\n",
       "0  Purchased on Black FridayPros - Great Price (e...          2   \n",
       "1  I purchased two Amazon in Echo Plus and two do...          2   \n",
       "2  Just an average Alexa option. Does show a few ...          1   \n",
       "3  very good product. Exactly what I wanted, and ...          2   \n",
       "4  This is the 3rd one I've purchased. I've bough...          2   \n",
       "\n",
       "   sentiment_score  \n",
       "0         0.363542  \n",
       "1         0.458214  \n",
       "2        -0.140476  \n",
       "3         0.690000  \n",
       "4         0.187500  "
      ]
     },
     "execution_count": 110,
     "metadata": {},
     "output_type": "execute_result"
    }
   ],
   "source": [
    "df_sentiment[\"sentiment\"] = le.fit_transform(df_sentiment[\"sentiment\"])\n",
    "df_sentiment.head()"
   ]
  },
  {
   "cell_type": "code",
   "execution_count": 111,
   "id": "1e1808e7-66db-4525-96d4-1a337f5551f5",
   "metadata": {},
   "outputs": [],
   "source": [
    "X = df_sentiment.drop(\"sentiment\",axis=1)\n",
    "y = df_sentiment[\"sentiment\"]"
   ]
  },
  {
   "cell_type": "code",
   "execution_count": 112,
   "id": "66bc1b98-a184-499e-9524-cbd12d42fe6d",
   "metadata": {},
   "outputs": [
    {
     "data": {
      "text/html": [
       "<div>\n",
       "<style scoped>\n",
       "    .dataframe tbody tr th:only-of-type {\n",
       "        vertical-align: middle;\n",
       "    }\n",
       "\n",
       "    .dataframe tbody tr th {\n",
       "        vertical-align: top;\n",
       "    }\n",
       "\n",
       "    .dataframe thead th {\n",
       "        text-align: right;\n",
       "    }\n",
       "</style>\n",
       "<table border=\"1\" class=\"dataframe\">\n",
       "  <thead>\n",
       "    <tr style=\"text-align: right;\">\n",
       "      <th></th>\n",
       "      <th>reviews.text</th>\n",
       "      <th>sentiment_score</th>\n",
       "    </tr>\n",
       "  </thead>\n",
       "  <tbody>\n",
       "    <tr>\n",
       "      <th>0</th>\n",
       "      <td>Purchased on Black FridayPros - Great Price (e...</td>\n",
       "      <td>0.363542</td>\n",
       "    </tr>\n",
       "    <tr>\n",
       "      <th>1</th>\n",
       "      <td>I purchased two Amazon in Echo Plus and two do...</td>\n",
       "      <td>0.458214</td>\n",
       "    </tr>\n",
       "    <tr>\n",
       "      <th>2</th>\n",
       "      <td>Just an average Alexa option. Does show a few ...</td>\n",
       "      <td>-0.140476</td>\n",
       "    </tr>\n",
       "    <tr>\n",
       "      <th>3</th>\n",
       "      <td>very good product. Exactly what I wanted, and ...</td>\n",
       "      <td>0.690000</td>\n",
       "    </tr>\n",
       "    <tr>\n",
       "      <th>4</th>\n",
       "      <td>This is the 3rd one I've purchased. I've bough...</td>\n",
       "      <td>0.187500</td>\n",
       "    </tr>\n",
       "  </tbody>\n",
       "</table>\n",
       "</div>"
      ],
      "text/plain": [
       "                                        reviews.text  sentiment_score\n",
       "0  Purchased on Black FridayPros - Great Price (e...         0.363542\n",
       "1  I purchased two Amazon in Echo Plus and two do...         0.458214\n",
       "2  Just an average Alexa option. Does show a few ...        -0.140476\n",
       "3  very good product. Exactly what I wanted, and ...         0.690000\n",
       "4  This is the 3rd one I've purchased. I've bough...         0.187500"
      ]
     },
     "execution_count": 112,
     "metadata": {},
     "output_type": "execute_result"
    }
   ],
   "source": [
    "X[:5]"
   ]
  },
  {
   "cell_type": "code",
   "execution_count": 113,
   "id": "7265e2a9-5295-4346-bbdb-76cf81a4ae18",
   "metadata": {},
   "outputs": [],
   "source": [
    "sentiment_sentence = X[\"reviews.text\"]"
   ]
  },
  {
   "cell_type": "code",
   "execution_count": 114,
   "id": "b011dc99-8763-4915-9b5b-3caf909476e3",
   "metadata": {},
   "outputs": [],
   "source": [
    "text_vect = TfidfVectorizer()\n",
    "sentiment_sentence  = text_vect.fit_transform(sentiment_sentence)"
   ]
  },
  {
   "cell_type": "code",
   "execution_count": 115,
   "id": "42ab05da-648a-4b8b-a0e0-91f5062b2170",
   "metadata": {},
   "outputs": [
    {
     "data": {
      "text/plain": [
       "<5x4897 sparse matrix of type '<class 'numpy.float64'>'\n",
       "\twith 182 stored elements in Compressed Sparse Row format>"
      ]
     },
     "execution_count": 115,
     "metadata": {},
     "output_type": "execute_result"
    }
   ],
   "source": [
    "sentiment_sentence[:5]"
   ]
  },
  {
   "cell_type": "code",
   "execution_count": 116,
   "id": "dd45e5ec-da72-4525-aa99-5bd9b9a3ce5d",
   "metadata": {},
   "outputs": [],
   "source": [
    "sentiment_sentence = sentiment_sentence.toarray()"
   ]
  },
  {
   "cell_type": "code",
   "execution_count": 117,
   "id": "c8d28366-33a2-4af2-a980-7c2c6086c0c9",
   "metadata": {},
   "outputs": [
    {
     "data": {
      "text/plain": [
       "array([[0., 0., 0., ..., 0., 0., 0.],\n",
       "       [0., 0., 0., ..., 0., 0., 0.],\n",
       "       [0., 0., 0., ..., 0., 0., 0.],\n",
       "       [0., 0., 0., ..., 0., 0., 0.],\n",
       "       [0., 0., 0., ..., 0., 0., 0.]])"
      ]
     },
     "execution_count": 117,
     "metadata": {},
     "output_type": "execute_result"
    }
   ],
   "source": [
    "sentiment_sentence[:5]"
   ]
  },
  {
   "cell_type": "code",
   "execution_count": 118,
   "id": "5e2f18df-a506-4d54-8902-4b820b0eab6b",
   "metadata": {},
   "outputs": [
    {
     "data": {
      "text/plain": [
       "0.21656064020267662"
      ]
     },
     "execution_count": 118,
     "metadata": {},
     "output_type": "execute_result"
    }
   ],
   "source": [
    "sentiment_sentence[0].max()"
   ]
  },
  {
   "cell_type": "code",
   "execution_count": 119,
   "id": "90a4fcbd-0f07-4d9e-8d87-f327653190e8",
   "metadata": {},
   "outputs": [
    {
     "data": {
      "text/plain": [
       "(4897,)"
      ]
     },
     "execution_count": 119,
     "metadata": {},
     "output_type": "execute_result"
    }
   ],
   "source": [
    "sentiment_sentence[0].shape"
   ]
  },
  {
   "cell_type": "code",
   "execution_count": 120,
   "id": "cb5f45ee-0662-40a9-a892-35d79601e763",
   "metadata": {},
   "outputs": [],
   "source": [
    "sent_score = df_sentiment[\"sentiment_score\"].to_numpy()"
   ]
  },
  {
   "cell_type": "code",
   "execution_count": 121,
   "id": "7f7c4b73-1e93-4294-bf92-90cee0802233",
   "metadata": {},
   "outputs": [
    {
     "data": {
      "text/plain": [
       "array([ 0.36354167,  0.45821429, -0.14047619,  0.69      ,  0.1875    ])"
      ]
     },
     "execution_count": 121,
     "metadata": {},
     "output_type": "execute_result"
    }
   ],
   "source": [
    "sent_score[:5]"
   ]
  },
  {
   "cell_type": "markdown",
   "id": "ab47b136-95cb-4c60-a006-79c97f772ac2",
   "metadata": {},
   "source": [
    "To make a combined feature of sentiment score and text vectroization we need to combine both the columns. For this purpose we will use `np.columnstack` function."
   ]
  },
  {
   "cell_type": "code",
   "execution_count": 122,
   "id": "cfce9cb5-ace5-4393-8b22-62a8a90252e1",
   "metadata": {},
   "outputs": [],
   "source": [
    "combined_array = np.column_stack((sentiment_sentence,sent_score))"
   ]
  },
  {
   "cell_type": "code",
   "execution_count": 123,
   "id": "5286d262-2236-46b2-b69c-d1ccec409bb3",
   "metadata": {},
   "outputs": [
    {
     "data": {
      "text/plain": [
       "(4898,)"
      ]
     },
     "execution_count": 123,
     "metadata": {},
     "output_type": "execute_result"
    }
   ],
   "source": [
    "combined_array[0].shape"
   ]
  },
  {
   "cell_type": "code",
   "execution_count": 124,
   "id": "657d60ca-1d8e-4044-86d5-ae812cfeae3e",
   "metadata": {},
   "outputs": [
    {
     "data": {
      "text/plain": [
       "array([[ 0.        ,  0.        ,  0.        , ...,  0.        ,\n",
       "         0.        ,  0.36354167],\n",
       "       [ 0.        ,  0.        ,  0.        , ...,  0.        ,\n",
       "         0.        ,  0.45821429],\n",
       "       [ 0.        ,  0.        ,  0.        , ...,  0.        ,\n",
       "         0.        , -0.14047619],\n",
       "       [ 0.        ,  0.        ,  0.        , ...,  0.        ,\n",
       "         0.        ,  0.69      ],\n",
       "       [ 0.        ,  0.        ,  0.        , ...,  0.        ,\n",
       "         0.        ,  0.1875    ]])"
      ]
     },
     "execution_count": 124,
     "metadata": {},
     "output_type": "execute_result"
    }
   ],
   "source": [
    "combined_array[:5]"
   ]
  },
  {
   "cell_type": "markdown",
   "id": "9d0aced4-cb1f-44a2-a4ce-e79212c7a4ac",
   "metadata": {},
   "source": [
    "Our merging is successful. Now we can build the models and compare them. Before making model's let's train and test split for evaluation. "
   ]
  },
  {
   "cell_type": "code",
   "execution_count": 125,
   "id": "eaf2d032-8152-4ff7-b8e0-489274dd9358",
   "metadata": {},
   "outputs": [],
   "source": [
    "X_sentiment_train_data, X_sentiment_test_data, y_sentiment_train_label, y_sentiment_test_label = train_test_split(combined_array,\n",
    "                                                                                                       y,test_size=0.2,random_state=42)"
   ]
  },
  {
   "cell_type": "code",
   "execution_count": 126,
   "id": "81673054-4f86-4fbc-ab22-f809d1bdbf51",
   "metadata": {},
   "outputs": [
    {
     "data": {
      "text/plain": [
       "(3200, 800, 3200, 800)"
      ]
     },
     "execution_count": 126,
     "metadata": {},
     "output_type": "execute_result"
    }
   ],
   "source": [
    "len(X_sentiment_train_data), len(X_sentiment_test_data), len(y_sentiment_train_label), len(y_sentiment_test_label)"
   ]
  },
  {
   "cell_type": "markdown",
   "id": "2aaed66c-85b0-428c-9997-f414f23fafc8",
   "metadata": {},
   "source": [
    "Let's make the dataset balanced by using oversampling for a better comparison."
   ]
  },
  {
   "cell_type": "code",
   "execution_count": 127,
   "id": "c0876cef-8849-4d5a-ba73-4da963a7d8a9",
   "metadata": {},
   "outputs": [],
   "source": [
    "over_sampling = SMOTE()\n",
    "X_sen_bal, y_sen_bal = oversample.fit_resample(X_sentiment_train_data,y_sentiment_train_label)"
   ]
  },
  {
   "cell_type": "code",
   "execution_count": 128,
   "id": "467a3157-a242-495b-a2b5-d1cf80f082ea",
   "metadata": {},
   "outputs": [
    {
     "name": "stdout",
     "output_type": "stream",
     "text": [
      "Counter({2: 2998, 1: 2998, 0: 2998})\n"
     ]
    }
   ],
   "source": [
    "from collections import Counter\n",
    "values_count = Counter(y_balanced)\n",
    "print(values_count)"
   ]
  },
  {
   "cell_type": "markdown",
   "id": "1dd0f22e-9180-4b5f-8073-09d6e3b06236",
   "metadata": {},
   "source": [
    "Let's implement random forest classifier, SVM and XGBoost and will then compare from earlier results."
   ]
  },
  {
   "cell_type": "code",
   "execution_count": 129,
   "id": "34aa8368-06ea-42c9-ac40-9e5ab898644b",
   "metadata": {},
   "outputs": [
    {
     "data": {
      "text/plain": [
       "RandomForestClassifier(random_state=42)"
      ]
     },
     "execution_count": 129,
     "metadata": {},
     "output_type": "execute_result"
    }
   ],
   "source": [
    "rf_sentiment = RandomForestClassifier(random_state=42)\n",
    "rf_sentiment.fit(X_sen_bal,y_sen_bal)"
   ]
  },
  {
   "cell_type": "code",
   "execution_count": 130,
   "id": "c1ed7768-407f-4789-b826-e0571b6eb396",
   "metadata": {},
   "outputs": [
    {
     "data": {
      "text/plain": [
       "0.955"
      ]
     },
     "execution_count": 130,
     "metadata": {},
     "output_type": "execute_result"
    }
   ],
   "source": [
    "rf_sentiment.score(X_sentiment_test_data,y_sentiment_test_label)"
   ]
  },
  {
   "cell_type": "code",
   "execution_count": 131,
   "id": "b8df4d21-ecda-4fdf-9913-faefbf72a02c",
   "metadata": {},
   "outputs": [
    {
     "data": {
      "text/plain": [
       "array([2, 2, 2, 2, 2])"
      ]
     },
     "execution_count": 131,
     "metadata": {},
     "output_type": "execute_result"
    }
   ],
   "source": [
    "rf_sentiment_pred = rf_sentiment.predict(X_sentiment_test_data)\n",
    "rf_sentiment_pred[:5]"
   ]
  },
  {
   "cell_type": "code",
   "execution_count": 132,
   "id": "08b76e2d-6bef-4f75-9a67-e66c83b43d13",
   "metadata": {},
   "outputs": [
    {
     "data": {
      "text/plain": [
       "{'accuracy': 0.955,\n",
       " 'precision': 0.9570584498094028,\n",
       " 'recall': 0.955,\n",
       " 'f1-score': 0.9410088008545421}"
      ]
     },
     "execution_count": 132,
     "metadata": {},
     "output_type": "execute_result"
    }
   ],
   "source": [
    "rf_sentiment_result = result(y_true=y_sentiment_test_label,y_pred=rf_sentiment_pred)\n",
    "rf_sentiment_result"
   ]
  },
  {
   "cell_type": "markdown",
   "id": "29739539-f27f-4296-af37-d0e5c01d3ac5",
   "metadata": {},
   "source": [
    "Now compare this from SVM. "
   ]
  },
  {
   "cell_type": "code",
   "execution_count": 133,
   "id": "69ab6595-4853-4349-83e9-22ae9cd7c544",
   "metadata": {},
   "outputs": [
    {
     "data": {
      "text/plain": [
       "SVC(random_state=42)"
      ]
     },
     "execution_count": 133,
     "metadata": {},
     "output_type": "execute_result"
    }
   ],
   "source": [
    "svm_sentiment = SVC(random_state=42)\n",
    "svm_sentiment.fit(X_sen_bal,y_sen_bal)"
   ]
  },
  {
   "cell_type": "code",
   "execution_count": 134,
   "id": "5d69bfb0-0f6e-4110-b9c6-ff73ae9b2c4d",
   "metadata": {},
   "outputs": [
    {
     "data": {
      "text/plain": [
       "0.955"
      ]
     },
     "execution_count": 134,
     "metadata": {},
     "output_type": "execute_result"
    }
   ],
   "source": [
    "svm_sentiment.score(X_sentiment_test_data,y_sentiment_test_label)"
   ]
  },
  {
   "cell_type": "code",
   "execution_count": 135,
   "id": "5b8f0776-ec67-4a61-a6f5-1aab0ec2a075",
   "metadata": {},
   "outputs": [
    {
     "data": {
      "text/plain": [
       "array([2, 2, 2, 2, 2])"
      ]
     },
     "execution_count": 135,
     "metadata": {},
     "output_type": "execute_result"
    }
   ],
   "source": [
    "svm_sentiment_pred = rf_sentiment.predict(X_sentiment_test_data)\n",
    "svm_sentiment_pred[:5]"
   ]
  },
  {
   "cell_type": "code",
   "execution_count": 136,
   "id": "6e3b1789-40c2-4ed5-9137-4e7e044b2101",
   "metadata": {},
   "outputs": [
    {
     "data": {
      "text/plain": [
       "{'accuracy': 0.955,\n",
       " 'precision': 0.9570584498094028,\n",
       " 'recall': 0.955,\n",
       " 'f1-score': 0.9410088008545421}"
      ]
     },
     "execution_count": 136,
     "metadata": {},
     "output_type": "execute_result"
    }
   ],
   "source": [
    "svm_sentiment_result = result(y_true=y_sentiment_test_label,y_pred=svm_sentiment_pred)\n",
    "svm_sentiment_result"
   ]
  },
  {
   "cell_type": "markdown",
   "id": "83b74b79-9afd-4a37-9aed-9d83917a2ba9",
   "metadata": {},
   "source": [
    "Now implemnet XGBoost with sentiment data."
   ]
  },
  {
   "cell_type": "code",
   "execution_count": 137,
   "id": "a97c2146-d5a1-4ab5-af19-6f194fa6682d",
   "metadata": {},
   "outputs": [
    {
     "name": "stdout",
     "output_type": "stream",
     "text": [
      "[21:18:21] WARNING: D:\\bld\\xgboost-split_1643227225381\\work\\src\\learner.cc:1115: Starting in XGBoost 1.3.0, the default evaluation metric used with the objective 'multi:softprob' was changed from 'merror' to 'mlogloss'. Explicitly set eval_metric if you'd like to restore the old behavior.\n"
     ]
    },
    {
     "data": {
      "text/plain": [
       "XGBClassifier(base_score=0.5, booster='gbtree', colsample_bylevel=1,\n",
       "              colsample_bynode=1, colsample_bytree=1, enable_categorical=False,\n",
       "              gamma=0, gpu_id=-1, importance_type=None,\n",
       "              interaction_constraints='', learning_rate=0.300000012,\n",
       "              max_delta_step=0, max_depth=6, min_child_weight=1, missing=nan,\n",
       "              monotone_constraints='()', n_estimators=100, n_jobs=12,\n",
       "              num_parallel_tree=1, objective='multi:softprob', predictor='auto',\n",
       "              random_state=42, reg_alpha=0, reg_lambda=1, scale_pos_weight=None,\n",
       "              subsample=1, tree_method='exact', validate_parameters=1,\n",
       "              verbosity=None)"
      ]
     },
     "execution_count": 137,
     "metadata": {},
     "output_type": "execute_result"
    }
   ],
   "source": [
    "xgb_sentiment = XGBClassifier(random_state=42)\n",
    "xgb_sentiment.fit(X_sen_bal,y_sen_bal)"
   ]
  },
  {
   "cell_type": "code",
   "execution_count": 138,
   "id": "b05a234f-f469-4e37-b931-77538a558950",
   "metadata": {},
   "outputs": [
    {
     "data": {
      "text/plain": [
       "0.945"
      ]
     },
     "execution_count": 138,
     "metadata": {},
     "output_type": "execute_result"
    }
   ],
   "source": [
    "xgb_sentiment.score(X_sentiment_test_data,y_sentiment_test_label)"
   ]
  },
  {
   "cell_type": "code",
   "execution_count": 139,
   "id": "abe5692c-5ba4-480d-8c5a-21970478268e",
   "metadata": {},
   "outputs": [
    {
     "data": {
      "text/plain": [
       "array([2, 2, 2, 2, 2])"
      ]
     },
     "execution_count": 139,
     "metadata": {},
     "output_type": "execute_result"
    }
   ],
   "source": [
    "xgb_sentiment_pred = rf_sentiment.predict(X_sentiment_test_data)\n",
    "xgb_sentiment_pred[:5]"
   ]
  },
  {
   "cell_type": "code",
   "execution_count": 140,
   "id": "bdd435e9-b13f-4802-9cc4-33f2e05001b8",
   "metadata": {},
   "outputs": [
    {
     "data": {
      "text/plain": [
       "{'accuracy': 0.955,\n",
       " 'precision': 0.9570584498094028,\n",
       " 'recall': 0.955,\n",
       " 'f1-score': 0.9410088008545421}"
      ]
     },
     "execution_count": 140,
     "metadata": {},
     "output_type": "execute_result"
    }
   ],
   "source": [
    "xgb_sentiment_result = result(y_true=y_sentiment_test_label,y_pred=xgb_sentiment_pred)\n",
    "xgb_sentiment_result"
   ]
  },
  {
   "cell_type": "markdown",
   "id": "3862ba25-6294-45f6-97b5-6dc868ac0126",
   "metadata": {},
   "source": [
    "Now let's compare the result with addition of sentiment score to without addition of sentiment score. We will do this by making a dataframe."
   ]
  },
  {
   "cell_type": "code",
   "execution_count": 141,
   "id": "c99008bd-c439-44e4-9bf1-b8f52de5989c",
   "metadata": {},
   "outputs": [],
   "source": [
    "df_compare = pd.DataFrame({\"Random_Forest_Original\" : result_smote,\n",
    "                           \"Random_Forest_Sentiment_Addition\": rf_sentiment_result,\n",
    "                          \"SVM_Original\": svm_result,\n",
    "                          \"SVM_Sentiment_Addition\": svm_sentiment_result,\n",
    "                          \"XGB_Original\": result_xgb_balanced,\n",
    "                          \"XGB_Sentiment_Addition\":xgb_sentiment_result})\n",
    "df_compare = df_compare.transpose()"
   ]
  },
  {
   "cell_type": "code",
   "execution_count": 142,
   "id": "93736100-fbcc-4ab3-9e5c-e07b25fe3169",
   "metadata": {},
   "outputs": [
    {
     "data": {
      "text/html": [
       "<div>\n",
       "<style scoped>\n",
       "    .dataframe tbody tr th:only-of-type {\n",
       "        vertical-align: middle;\n",
       "    }\n",
       "\n",
       "    .dataframe tbody tr th {\n",
       "        vertical-align: top;\n",
       "    }\n",
       "\n",
       "    .dataframe thead th {\n",
       "        text-align: right;\n",
       "    }\n",
       "</style>\n",
       "<table border=\"1\" class=\"dataframe\">\n",
       "  <thead>\n",
       "    <tr style=\"text-align: right;\">\n",
       "      <th></th>\n",
       "      <th>accuracy</th>\n",
       "      <th>precision</th>\n",
       "      <th>recall</th>\n",
       "      <th>f1-score</th>\n",
       "    </tr>\n",
       "  </thead>\n",
       "  <tbody>\n",
       "    <tr>\n",
       "      <th>Random_Forest_Original</th>\n",
       "      <td>0.95500</td>\n",
       "      <td>0.957058</td>\n",
       "      <td>0.95500</td>\n",
       "      <td>0.941009</td>\n",
       "    </tr>\n",
       "    <tr>\n",
       "      <th>Random_Forest_Sentiment_Addition</th>\n",
       "      <td>0.95500</td>\n",
       "      <td>0.957058</td>\n",
       "      <td>0.95500</td>\n",
       "      <td>0.941009</td>\n",
       "    </tr>\n",
       "    <tr>\n",
       "      <th>SVM_Original</th>\n",
       "      <td>0.95375</td>\n",
       "      <td>0.950575</td>\n",
       "      <td>0.95375</td>\n",
       "      <td>0.940085</td>\n",
       "    </tr>\n",
       "    <tr>\n",
       "      <th>SVM_Sentiment_Addition</th>\n",
       "      <td>0.95500</td>\n",
       "      <td>0.957058</td>\n",
       "      <td>0.95500</td>\n",
       "      <td>0.941009</td>\n",
       "    </tr>\n",
       "    <tr>\n",
       "      <th>XGB_Original</th>\n",
       "      <td>0.94625</td>\n",
       "      <td>0.934544</td>\n",
       "      <td>0.94625</td>\n",
       "      <td>0.937231</td>\n",
       "    </tr>\n",
       "    <tr>\n",
       "      <th>XGB_Sentiment_Addition</th>\n",
       "      <td>0.95500</td>\n",
       "      <td>0.957058</td>\n",
       "      <td>0.95500</td>\n",
       "      <td>0.941009</td>\n",
       "    </tr>\n",
       "  </tbody>\n",
       "</table>\n",
       "</div>"
      ],
      "text/plain": [
       "                                  accuracy  precision   recall  f1-score\n",
       "Random_Forest_Original             0.95500   0.957058  0.95500  0.941009\n",
       "Random_Forest_Sentiment_Addition   0.95500   0.957058  0.95500  0.941009\n",
       "SVM_Original                       0.95375   0.950575  0.95375  0.940085\n",
       "SVM_Sentiment_Addition             0.95500   0.957058  0.95500  0.941009\n",
       "XGB_Original                       0.94625   0.934544  0.94625  0.937231\n",
       "XGB_Sentiment_Addition             0.95500   0.957058  0.95500  0.941009"
      ]
     },
     "execution_count": 142,
     "metadata": {},
     "output_type": "execute_result"
    }
   ],
   "source": [
    "df_compare"
   ]
  },
  {
   "cell_type": "markdown",
   "id": "b1ea7214-856c-4900-9a38-389e7464d38c",
   "metadata": {},
   "source": [
    "Now plot a graph for better comparison."
   ]
  },
  {
   "cell_type": "code",
   "execution_count": 143,
   "id": "b59d234b-fa30-40f9-8e10-4872f015d7fc",
   "metadata": {},
   "outputs": [
    {
     "data": {
      "image/png": "[encoded data removed]",
      "text/plain": [
       "<Figure size 432x288 with 1 Axes>"
      ]
     },
     "metadata": {
      "needs_background": "light"
     },
     "output_type": "display_data"
    }
   ],
   "source": [
    "df_compare.plot(kind=\"bar\").legend(bbox_to_anchor=(1.0,1.0));"
   ]
  },
  {
   "cell_type": "markdown",
   "id": "6f6a282f-4610-4c03-85f1-e3c263f0c8c4",
   "metadata": {},
   "source": [
    "Now let's compare the models by thier respective **f1-score in descending order**."
   ]
  },
  {
   "cell_type": "code",
   "execution_count": 144,
   "id": "4b29a13b-b342-4d7b-82d0-93f5b6954bf8",
   "metadata": {},
   "outputs": [
    {
     "data": {
      "image/png": "[encoded data removed]",
      "text/plain": [
       "<Figure size 576x504 with 1 Axes>"
      ]
     },
     "metadata": {
      "needs_background": "light"
     },
     "output_type": "display_data"
    }
   ],
   "source": [
    "df_compare.sort_values(by=\"f1-score\",ascending=False)[\"f1-score\"].plot(kind=\"bar\",figsize=(8,7));"
   ]
  },
  {
   "cell_type": "markdown",
   "id": "b16ca324-e7aa-4308-bb8f-7bec7a3e6dc9",
   "metadata": {},
   "source": [
    "SO from the above graphs and compare dataframe, we can see that for Random Forest classifier, f1-score has reamined same after adding sentiment score but has been increased for SVM and XGBoost. But this increase is **very minimal**, as evidence from dataframe. So, we can **ignore the addition of sentiment score**.   "
   ]
  },
  {
   "cell_type": "markdown",
   "id": "89c715b5-cb9a-4d20-a3b9-d19bf2424470",
   "metadata": {},
   "source": [
    "### Step-10: Applying LSTM and GRU"
   ]
  },
  {
   "cell_type": "markdown",
   "id": "4d89615f-f3f0-4d08-a361-2809d6b7c53a",
   "metadata": {},
   "source": [
    "We will create a functional model using LSTM and GRU. Starting with LSTM. "
   ]
  },
  {
   "cell_type": "markdown",
   "id": "0e465c9f-48cd-4398-8bd2-aee1a76772c8",
   "metadata": {},
   "source": [
    "#### LSTM\n",
    "LSTM stands for Long Short Term Memory. It is a type of RNN, generally used for sequence data. <br/>\n",
    "Since we have already created TextVectorization in step-7, we will not create TextVectroization layer. However, we wil make Embedding layer again as using embedding layer may lead to overfitting.    "
   ]
  },
  {
   "cell_type": "code",
   "execution_count": 237,
   "id": "fa1f85e2-f68e-4dbd-8f6c-e4973b43e5ae",
   "metadata": {},
   "outputs": [],
   "source": [
    "import tensorflow as tf"
   ]
  },
  {
   "cell_type": "code",
   "execution_count": 238,
   "id": "204b8a49-1fb5-4b19-9b94-c1bcbc715dd1",
   "metadata": {},
   "outputs": [
    {
     "name": "stdout",
     "output_type": "stream",
     "text": [
      "Original text is: the ultimate lazy life is happening before my eyes. now i love technology , always have . but let‚äôs be honest , telling alexa to turn the lights off and on and ask her to tell you a joke as examples . it really is great and i‚äôm now addicted to the hue line as well.\n",
      "Vectorized text is: [   2 2089 1369  167    9 2484  299   10  547  126    6   21  442  285\n",
      "   20   24 3809   47 1877 1715   44    3  191    2  163  162    4   16\n",
      "    4  238   70    3  313   19    8 1562   26 4221    5   71    9   12\n",
      "    4  355  126 4859    3    2  296  702   26   65    0    0    0    0\n",
      "    0    0    0    0    0    0    0    0    0    0    0    0    0    0\n",
      "    0    0    0    0    0    0    0    0    0]\n"
     ]
    }
   ],
   "source": [
    "# Check the text vectorization layer on random sentence\n",
    "random_sentence = random.choice(train_sentences)\n",
    "print(f\"Original text is: {random_sentence}\")\n",
    "print(f\"Vectorized text is: {text_vectorizer(random_sentence)}\")"
   ]
  },
  {
   "cell_type": "markdown",
   "id": "21134a44-cbfa-4f15-8f52-52b8fd3dc591",
   "metadata": {},
   "source": [
    "Checking the properties of text vectorizer."
   ]
  },
  {
   "cell_type": "code",
   "execution_count": 239,
   "id": "78c7043f-ff1a-43a3-94a3-f4c0998d556c",
   "metadata": {},
   "outputs": [
    {
     "data": {
      "text/plain": [
       "{'name': 'text_vectorization',\n",
       " 'trainable': True,\n",
       " 'batch_input_shape': (None,),\n",
       " 'dtype': 'string',\n",
       " 'max_tokens': 50000,\n",
       " 'standardize': 'lower_and_strip_punctuation',\n",
       " 'split': 'whitespace',\n",
       " 'ngrams': None,\n",
       " 'output_mode': 'int',\n",
       " 'output_sequence_length': 79,\n",
       " 'pad_to_max_tokens': False}"
      ]
     },
     "execution_count": 239,
     "metadata": {},
     "output_type": "execute_result"
    }
   ],
   "source": [
    "text_vectorizer.get_config()"
   ]
  },
  {
   "cell_type": "markdown",
   "id": "1d1e20a8-c963-4309-8cd1-edf616fce1a2",
   "metadata": {},
   "source": [
    "Now make the embedding sentence. Embedding sentence respresents a relationship between words."
   ]
  },
  {
   "cell_type": "code",
   "execution_count": 240,
   "id": "01dc2f9d-14f2-4257-9ee3-533522864f4b",
   "metadata": {},
   "outputs": [
    {
     "name": "stdout",
     "output_type": "stream",
     "text": [
      "Original Sentence is: the ultimate lazy life is happening before my eyes. now i love technology , always have . but let‚äôs be honest , telling alexa to turn the lights off and on and ask her to tell you a joke as examples . it really is great and i‚äôm now addicted to the hue line as well.\n",
      "Embedded sentence is: \n",
      " [[ 0.01934588  0.0324236  -0.00914045 ...  0.04682864 -0.02417792\n",
      "   0.0054334 ]\n",
      " [-0.0244644  -0.01006993  0.03623906 ... -0.02580199 -0.01901196\n",
      "   0.00385509]\n",
      " [ 0.01844103 -0.04615166 -0.04460037 ...  0.0293777   0.01250308\n",
      "   0.03272924]\n",
      " ...\n",
      " [-0.0034679  -0.03988557  0.01697402 ... -0.01817463 -0.03371668\n",
      "   0.02756358]\n",
      " [-0.0034679  -0.03988557  0.01697402 ... -0.01817463 -0.03371668\n",
      "   0.02756358]\n",
      " [-0.0034679  -0.03988557  0.01697402 ... -0.01817463 -0.03371668\n",
      "   0.02756358]]\n"
     ]
    }
   ],
   "source": [
    "embedding_LSTM = tf.keras.layers.Embedding(input_dim=50000,\n",
    "                                          output_dim=128,\n",
    "                                          input_length=79)\n",
    "\n",
    "print(f\"Original Sentence is: {random_sentence}\")\n",
    "print(f\"Embedded sentence is: \\n {embedding_LSTM(text_vectorizer(random_sentence))}\")"
   ]
  },
  {
   "cell_type": "code",
   "execution_count": 241,
   "id": "ba258c7e-9b40-406a-b020-4c4ddcdeef02",
   "metadata": {},
   "outputs": [],
   "source": [
    "# Make the model\n",
    "inputs = tf.keras.layers.Input(shape=(1,),dtype=tf.string)\n",
    "x = text_vectorizer(inputs)\n",
    "x = embedding_LSTM(x)\n",
    "x = tf.keras.layers.LSTM(units=64,activation=\"tanh\",dropout=0.2)(x)\n",
    "x = tf.keras.layers.Dense(64,activation=\"relu\")(x)\n",
    "x = tf.keras.layers.Dense(32,activation=\"relu\")(x)\n",
    "outputs = tf.keras.layers.Dense(3,activation=\"softmax\")(x)\n",
    "model_LSTM = tf.keras.Model(inputs=inputs,\n",
    "                           outputs=outputs)"
   ]
  },
  {
   "cell_type": "markdown",
   "id": "5e6e8c72-9684-4e34-b3ed-4cedaa82da56",
   "metadata": {},
   "source": [
    "This time fitting rather directly the data into neural net model, we will opt for `tf.data.Dataset` for faster processing and run the data. Generally what happens without prefetching, CPU prepares the data, then GPU use it, at this time CPU is idle. And when GPU finsih processing, then CPU begins to prepare the data and GPU becomes idle. Let's use prefetching for making <b>GPU and CPU working simultaneously</b>.     "
   ]
  },
  {
   "cell_type": "code",
   "execution_count": 242,
   "id": "015793f7-ad12-46f1-8c33-0f090b286680",
   "metadata": {},
   "outputs": [
    {
     "name": "stdout",
     "output_type": "stream",
     "text": [
      "GPU 0: NVIDIA GeForce GTX 1650 (UUID: GPU-c1e96ebf-e420-9d22-11ad-04113f0e117b)\n"
     ]
    }
   ],
   "source": [
    " # Let's check the GPU \n",
    "!nvidia-smi -L"
   ]
  },
  {
   "cell_type": "markdown",
   "id": "c589dab0-7309-4639-81bb-ff3c582e1983",
   "metadata": {},
   "source": [
    "Before making the data into `tf.data.Datasets`, let's convert our output column in onehot format."
   ]
  },
  {
   "cell_type": "code",
   "execution_count": 243,
   "id": "76ff3c15-b0f8-4caa-954d-6d9dc90f1aa5",
   "metadata": {},
   "outputs": [
    {
     "data": {
      "text/plain": [
       "array([[2],\n",
       "       [2],\n",
       "       [2],\n",
       "       [2],\n",
       "       [2]])"
      ]
     },
     "execution_count": 243,
     "metadata": {},
     "output_type": "execute_result"
    }
   ],
   "source": [
    "train_label_2D = train_label.reshape(-1,1)\n",
    "train_label_2D[:5]"
   ]
  },
  {
   "cell_type": "code",
   "execution_count": 244,
   "id": "90d90e96-22e5-4f74-8607-fe08901d797c",
   "metadata": {},
   "outputs": [
    {
     "data": {
      "text/plain": [
       "array([[0., 0., 1.],\n",
       "       [0., 0., 1.],\n",
       "       [0., 0., 1.],\n",
       "       [0., 0., 1.],\n",
       "       [0., 0., 1.]])"
      ]
     },
     "execution_count": 244,
     "metadata": {},
     "output_type": "execute_result"
    }
   ],
   "source": [
    "from sklearn.preprocessing import OneHotEncoder\n",
    "one_hot = OneHotEncoder(sparse=False)\n",
    "train_label_one_hot = one_hot.fit_transform(train_label_2D)\n",
    "train_label_one_hot[:5]"
   ]
  },
  {
   "cell_type": "code",
   "execution_count": 245,
   "id": "bdac9481-a837-47d5-9d58-b5983b07b299",
   "metadata": {},
   "outputs": [],
   "source": [
    "test_label_2D = test_label.reshape(-1,1)"
   ]
  },
  {
   "cell_type": "code",
   "execution_count": 246,
   "id": "4a3364c5-40ea-423b-a230-8d4d056bbd49",
   "metadata": {},
   "outputs": [
    {
     "data": {
      "text/plain": [
       "array([[0., 0., 1.],\n",
       "       [0., 0., 1.],\n",
       "       [0., 0., 1.],\n",
       "       [0., 0., 1.],\n",
       "       [0., 0., 1.]])"
      ]
     },
     "execution_count": 246,
     "metadata": {},
     "output_type": "execute_result"
    }
   ],
   "source": [
    "val_label_one_hot = one_hot.transform(test_label_2D)\n",
    "val_label_one_hot[:5]"
   ]
  },
  {
   "cell_type": "code",
   "execution_count": 247,
   "id": "8cd71385-253a-4505-8717-fdfd9bf4803a",
   "metadata": {},
   "outputs": [],
   "source": [
    "# Now for the faster processing of data turn the dataset into `tf.data.Dataset`\n",
    "train_dataset = tf.data.Dataset.from_tensor_slices((train_sentences,train_label_one_hot))\n",
    "train_dataset = train_dataset.batch(32).prefetch(tf.data.AUTOTUNE)\n",
    "\n",
    "val_dataset = tf.data.Dataset.from_tensor_slices((test_sentences,val_label_one_hot))\n",
    "val_dataset = val_dataset.batch(32).prefetch(tf.data.AUTOTUNE)"
   ]
  },
  {
   "cell_type": "code",
   "execution_count": 248,
   "id": "c6ee3766-cb77-4325-b66c-8f8326b2076a",
   "metadata": {},
   "outputs": [
    {
     "data": {
      "text/plain": [
       "(<PrefetchDataset shapes: ((None,), (None, 3)), types: (tf.string, tf.float64)>,\n",
       " <PrefetchDataset shapes: ((None,), (None, 3)), types: (tf.string, tf.float64)>)"
      ]
     },
     "execution_count": 248,
     "metadata": {},
     "output_type": "execute_result"
    }
   ],
   "source": [
    "train_dataset, val_dataset"
   ]
  },
  {
   "cell_type": "code",
   "execution_count": 249,
   "id": "72bf4b5a-aa8f-476f-992b-5d21da80dda9",
   "metadata": {},
   "outputs": [
    {
     "data": {
      "text/plain": [
       "(100, 25)"
      ]
     },
     "execution_count": 249,
     "metadata": {},
     "output_type": "execute_result"
    }
   ],
   "source": [
    "len(train_dataset), len(val_dataset)"
   ]
  },
  {
   "cell_type": "markdown",
   "id": "57a9b56f-1363-435e-be84-1192214f3b0c",
   "metadata": {},
   "source": [
    "Now as the data is in `tf.data.Dataset` format, let's fit the model."
   ]
  },
  {
   "cell_type": "code",
   "execution_count": 250,
   "id": "56cc0cc6-8b05-4ac2-ba77-f3d709eb21e9",
   "metadata": {},
   "outputs": [],
   "source": [
    "# Compile the model\n",
    "model_LSTM.compile(loss=\"categorical_crossentropy\",\n",
    "             optimizer=tf.keras.optimizers.Adam(),\n",
    "             metrics=[\"accuracy\"])"
   ]
  },
  {
   "cell_type": "code",
   "execution_count": 251,
   "id": "376d7b79-9263-4eb9-b3e2-67596bcea436",
   "metadata": {},
   "outputs": [
    {
     "name": "stdout",
     "output_type": "stream",
     "text": [
      "Epoch 1/100\n",
      "100/100 [==============================] - 9s 70ms/step - loss: 0.3894 - accuracy: 0.9275 - val_loss: 0.2671 - val_accuracy: 0.9388\n",
      "Epoch 2/100\n",
      "100/100 [==============================] - 6s 60ms/step - loss: 0.2782 - accuracy: 0.9369 - val_loss: 0.2651 - val_accuracy: 0.9388\n",
      "Epoch 3/100\n",
      "100/100 [==============================] - 6s 60ms/step - loss: 0.2746 - accuracy: 0.9369 - val_loss: 0.2593 - val_accuracy: 0.9388\n",
      "Epoch 4/100\n",
      "100/100 [==============================] - 6s 60ms/step - loss: 0.2655 - accuracy: 0.9372 - val_loss: 0.2524 - val_accuracy: 0.9438\n",
      "Epoch 5/100\n",
      "100/100 [==============================] - 6s 59ms/step - loss: 0.2570 - accuracy: 0.9413 - val_loss: 0.2605 - val_accuracy: 0.9425\n",
      "Epoch 6/100\n",
      "100/100 [==============================] - 6s 60ms/step - loss: 0.2532 - accuracy: 0.9419 - val_loss: 0.2478 - val_accuracy: 0.9450\n",
      "Epoch 7/100\n",
      "100/100 [==============================] - 6s 60ms/step - loss: 0.2477 - accuracy: 0.9444 - val_loss: 0.2464 - val_accuracy: 0.9438\n",
      "Epoch 8/100\n",
      "100/100 [==============================] - 6s 59ms/step - loss: 0.2456 - accuracy: 0.9441 - val_loss: 0.2456 - val_accuracy: 0.9438\n",
      "Epoch 9/100\n",
      "100/100 [==============================] - 6s 60ms/step - loss: 0.2403 - accuracy: 0.9472 - val_loss: 0.2574 - val_accuracy: 0.9388\n",
      "Epoch 10/100\n",
      "100/100 [==============================] - 6s 59ms/step - loss: 0.2374 - accuracy: 0.9472 - val_loss: 0.2498 - val_accuracy: 0.9450\n",
      "Epoch 11/100\n",
      "100/100 [==============================] - 6s 59ms/step - loss: 0.2373 - accuracy: 0.9472 - val_loss: 0.2487 - val_accuracy: 0.9438\n",
      "Epoch 12/100\n",
      "100/100 [==============================] - 6s 59ms/step - loss: 0.2357 - accuracy: 0.9478 - val_loss: 0.2643 - val_accuracy: 0.9362\n",
      "Epoch 13/100\n",
      "100/100 [==============================] - 6s 59ms/step - loss: 0.2328 - accuracy: 0.9491 - val_loss: 0.3021 - val_accuracy: 0.9250\n",
      "Epoch 14/100\n",
      "100/100 [==============================] - 6s 60ms/step - loss: 0.2280 - accuracy: 0.9488 - val_loss: 0.2452 - val_accuracy: 0.9425\n",
      "Epoch 15/100\n",
      "100/100 [==============================] - 6s 60ms/step - loss: 0.2248 - accuracy: 0.9469 - val_loss: 0.2580 - val_accuracy: 0.9388\n",
      "Epoch 16/100\n",
      "100/100 [==============================] - 6s 59ms/step - loss: 0.1981 - accuracy: 0.9475 - val_loss: 0.2311 - val_accuracy: 0.9425\n",
      "Epoch 17/100\n",
      "100/100 [==============================] - 6s 59ms/step - loss: 0.1783 - accuracy: 0.9419 - val_loss: 0.2644 - val_accuracy: 0.9125\n",
      "Epoch 18/100\n",
      "100/100 [==============================] - 6s 59ms/step - loss: 0.1672 - accuracy: 0.9472 - val_loss: 0.2298 - val_accuracy: 0.9450\n",
      "Epoch 19/100\n",
      "100/100 [==============================] - 6s 59ms/step - loss: 0.1649 - accuracy: 0.9509 - val_loss: 0.2389 - val_accuracy: 0.9463\n",
      "Epoch 20/100\n",
      "100/100 [==============================] - 6s 59ms/step - loss: 0.1516 - accuracy: 0.9500 - val_loss: 0.2615 - val_accuracy: 0.9062\n",
      "Epoch 21/100\n",
      "100/100 [==============================] - 6s 59ms/step - loss: 0.1570 - accuracy: 0.9466 - val_loss: 0.2338 - val_accuracy: 0.9450\n",
      "Epoch 22/100\n",
      "100/100 [==============================] - 6s 59ms/step - loss: 0.1339 - accuracy: 0.9519 - val_loss: 0.2392 - val_accuracy: 0.9375\n",
      "Epoch 23/100\n",
      "100/100 [==============================] - 6s 59ms/step - loss: 0.1185 - accuracy: 0.9622 - val_loss: 0.2454 - val_accuracy: 0.9350\n",
      "Epoch 24/100\n",
      "100/100 [==============================] - 6s 59ms/step - loss: 0.1116 - accuracy: 0.9641 - val_loss: 0.2521 - val_accuracy: 0.9337\n",
      "Epoch 25/100\n",
      "100/100 [==============================] - 6s 59ms/step - loss: 0.0915 - accuracy: 0.9681 - val_loss: 0.2406 - val_accuracy: 0.9463\n",
      "Epoch 26/100\n",
      "100/100 [==============================] - 6s 59ms/step - loss: 0.0795 - accuracy: 0.9728 - val_loss: 0.2679 - val_accuracy: 0.9388\n",
      "Epoch 27/100\n",
      "100/100 [==============================] - 6s 59ms/step - loss: 0.0771 - accuracy: 0.9709 - val_loss: 0.2892 - val_accuracy: 0.9362\n",
      "Epoch 28/100\n",
      "100/100 [==============================] - 6s 60ms/step - loss: 0.0549 - accuracy: 0.9778 - val_loss: 0.3253 - val_accuracy: 0.9388\n"
     ]
    }
   ],
   "source": [
    "# fit the model \n",
    "history_lstm = model_LSTM.fit(train_dataset,\n",
    "                             epochs=100,\n",
    "                             steps_per_epoch=len(train_dataset),\n",
    "                             validation_data=(val_dataset),\n",
    "                             validation_steps=len(val_dataset),\n",
    "                             callbacks=[tf.keras.callbacks.EarlyStopping(monitor=\"val_loss\",\n",
    "                                                                         patience=10,\n",
    "                                                                         restore_best_weights=True)])"
   ]
  },
  {
   "cell_type": "code",
   "execution_count": 256,
   "id": "603d83a7-2fce-4c9d-a334-2ee39e9da9e5",
   "metadata": {},
   "outputs": [
    {
     "name": "stdout",
     "output_type": "stream",
     "text": [
      "25/25 [==============================] - 0s 13ms/step - loss: 0.2298 - accuracy: 0.9450\n"
     ]
    },
    {
     "data": {
      "text/plain": [
       "[0.2298421710729599, 0.9449999928474426]"
      ]
     },
     "execution_count": 256,
     "metadata": {},
     "output_type": "execute_result"
    }
   ],
   "source": [
    "# Evaluate on the whole model\n",
    "model_LSTM.evaluate(val_dataset)"
   ]
  },
  {
   "cell_type": "code",
   "execution_count": 257,
   "id": "7064de84-1d1d-4bf1-9fc4-a93e209c8740",
   "metadata": {},
   "outputs": [
    {
     "data": {
      "text/plain": [
       "array([[0.00313506, 0.01434209, 0.98252285],\n",
       "       [0.00313209, 0.01433309, 0.9825348 ],\n",
       "       [0.00313325, 0.01433627, 0.9825304 ],\n",
       "       [0.00313672, 0.01434751, 0.9825158 ],\n",
       "       [0.00313356, 0.01433711, 0.9825293 ]], dtype=float32)"
      ]
     },
     "execution_count": 257,
     "metadata": {},
     "output_type": "execute_result"
    }
   ],
   "source": [
    "model_LSTM_pred_prob = model_LSTM.predict(val_dataset)\n",
    "model_LSTM_pred_prob[:5]"
   ]
  },
  {
   "cell_type": "code",
   "execution_count": 258,
   "id": "80c8fb17-b0e8-4c2b-891f-58019f0c8c8d",
   "metadata": {},
   "outputs": [
    {
     "data": {
      "text/plain": [
       "array([2, 2, 2, 2, 2], dtype=int64)"
      ]
     },
     "execution_count": 258,
     "metadata": {},
     "output_type": "execute_result"
    }
   ],
   "source": [
    "model_LSTM_pred = tf.argmax(model_LSTM_pred_prob,axis=1)\n",
    "model_LSTM_pred.numpy()[:5]"
   ]
  },
  {
   "cell_type": "code",
   "execution_count": 259,
   "id": "fbf937a7-f4a6-4fde-bf52-29efb1910c0a",
   "metadata": {},
   "outputs": [
    {
     "data": {
      "text/plain": [
       "{'accuracy': 0.945,\n",
       " 'precision': 0.9340967843631778,\n",
       " 'recall': 0.945,\n",
       " 'f1-score': 0.9242605004337328}"
      ]
     },
     "execution_count": 259,
     "metadata": {},
     "output_type": "execute_result"
    }
   ],
   "source": [
    "model_LSTM_result = result(y_true=test_label,\n",
    "                          y_pred=model_LSTM_pred)\n",
    "model_LSTM_result"
   ]
  },
  {
   "cell_type": "markdown",
   "id": "c39c59ad-63f4-49e2-8d3e-bb6595837822",
   "metadata": {},
   "source": [
    "#### Implementing GRU"
   ]
  },
  {
   "cell_type": "code",
   "execution_count": 358,
   "id": "df61f341-b0f9-411b-a591-3fa302edc7a6",
   "metadata": {},
   "outputs": [],
   "source": [
    "embedding_GRU = tf.keras.layers.Embedding(input_dim=50000,\n",
    "                                          output_dim=128,\n",
    "                                          input_length=79)"
   ]
  },
  {
   "cell_type": "code",
   "execution_count": 359,
   "id": "bd494cd6-b706-4bbe-bd71-8222d83c647e",
   "metadata": {},
   "outputs": [],
   "source": [
    "# Make the model\n",
    "inputs = tf.keras.layers.Input(shape=(1,),dtype=tf.string)\n",
    "x = text_vectorizer(inputs)\n",
    "x = embedding_LSTM(x)\n",
    "x = tf.keras.layers.GRU(units=64,activation=\"tanh\",dropout=0.2)(x)\n",
    "x = tf.keras.layers.Dense(64,activation=\"relu\")(x)\n",
    "x = tf.keras.layers.Dense(32,activation=\"relu\")(x)\n",
    "outputs = tf.keras.layers.Dense(3,activation=\"softmax\")(x)\n",
    "model_GRU = tf.keras.Model(inputs=inputs,\n",
    "                           outputs=outputs)"
   ]
  },
  {
   "cell_type": "code",
   "execution_count": 360,
   "id": "13f98720-fc8b-45cb-a77b-fb8665a68cfd",
   "metadata": {},
   "outputs": [],
   "source": [
    "# Compile the model\n",
    "model_GRU.compile(loss=\"categorical_crossentropy\",\n",
    "             optimizer=tf.keras.optimizers.Adam(),\n",
    "             metrics=[\"accuracy\"])"
   ]
  },
  {
   "cell_type": "code",
   "execution_count": 361,
   "id": "ca5ca693-cad7-4ab9-991d-7ef80589aa39",
   "metadata": {},
   "outputs": [
    {
     "name": "stdout",
     "output_type": "stream",
     "text": [
      "Epoch 1/100\n",
      "100/100 [==============================] - 4s 18ms/step - loss: 0.3091 - accuracy: 0.9359 - val_loss: 0.2497 - val_accuracy: 0.9438\n",
      "Epoch 2/100\n",
      "100/100 [==============================] - 1s 14ms/step - loss: 0.2536 - accuracy: 0.9444 - val_loss: 0.2437 - val_accuracy: 0.9450\n",
      "Epoch 3/100\n",
      "100/100 [==============================] - 1s 13ms/step - loss: 0.2289 - accuracy: 0.9469 - val_loss: 0.2423 - val_accuracy: 0.9463\n",
      "Epoch 4/100\n",
      "100/100 [==============================] - 1s 13ms/step - loss: 0.1261 - accuracy: 0.9616 - val_loss: 0.2534 - val_accuracy: 0.9438\n",
      "Epoch 5/100\n",
      "100/100 [==============================] - 1s 13ms/step - loss: 0.0869 - accuracy: 0.9659 - val_loss: 0.2860 - val_accuracy: 0.9425\n",
      "Epoch 6/100\n",
      "100/100 [==============================] - 1s 13ms/step - loss: 0.0610 - accuracy: 0.9766 - val_loss: 0.3156 - val_accuracy: 0.9500\n",
      "Epoch 7/100\n",
      "100/100 [==============================] - 1s 13ms/step - loss: 0.0377 - accuracy: 0.9875 - val_loss: 0.3258 - val_accuracy: 0.9400\n",
      "Epoch 8/100\n",
      "100/100 [==============================] - 1s 13ms/step - loss: 0.0267 - accuracy: 0.9925 - val_loss: 0.3542 - val_accuracy: 0.9388\n",
      "Epoch 9/100\n",
      "100/100 [==============================] - 1s 13ms/step - loss: 0.0209 - accuracy: 0.9931 - val_loss: 0.3710 - val_accuracy: 0.9362\n",
      "Epoch 10/100\n",
      "100/100 [==============================] - 1s 13ms/step - loss: 0.0199 - accuracy: 0.9934 - val_loss: 0.3777 - val_accuracy: 0.9362\n",
      "Epoch 11/100\n",
      "100/100 [==============================] - 1s 13ms/step - loss: 0.0190 - accuracy: 0.9947 - val_loss: 0.3819 - val_accuracy: 0.9425\n",
      "Epoch 12/100\n",
      "100/100 [==============================] - 1s 13ms/step - loss: 0.0110 - accuracy: 0.9972 - val_loss: 0.4030 - val_accuracy: 0.9400\n",
      "Epoch 13/100\n",
      "100/100 [==============================] - 1s 13ms/step - loss: 0.0058 - accuracy: 0.9991 - val_loss: 0.4429 - val_accuracy: 0.9375\n"
     ]
    }
   ],
   "source": [
    "# fit the model \n",
    "history_GRU = model_GRU.fit(train_dataset,\n",
    "                             epochs=100,\n",
    "                             steps_per_epoch=len(train_dataset),\n",
    "                             validation_data=(val_dataset),\n",
    "                             validation_steps=len(val_dataset),\n",
    "                             callbacks=[tf.keras.callbacks.EarlyStopping(monitor=\"val_loss\",\n",
    "                                                                         patience=10,\n",
    "                                                                         restore_best_weights=True)])"
   ]
  },
  {
   "cell_type": "code",
   "execution_count": 362,
   "id": "066d5169-f955-43bc-a5a8-340ded218e16",
   "metadata": {},
   "outputs": [
    {
     "data": {
      "text/plain": [
       "array([[0.00345577, 0.01633913, 0.9802051 ],\n",
       "       [0.00154136, 0.00840203, 0.9900566 ],\n",
       "       [0.0015986 , 0.00870815, 0.9896932 ],\n",
       "       [0.00134694, 0.00777352, 0.99087954],\n",
       "       [0.00107469, 0.00654416, 0.99238116]], dtype=float32)"
      ]
     },
     "execution_count": 362,
     "metadata": {},
     "output_type": "execute_result"
    }
   ],
   "source": [
    "model_GRU_pred_prob = model_GRU.predict(val_dataset)\n",
    "model_GRU_pred_prob[:5]"
   ]
  },
  {
   "cell_type": "code",
   "execution_count": 365,
   "id": "65d07875-4d6a-47b4-b5ce-6b1d6efcd661",
   "metadata": {},
   "outputs": [
    {
     "data": {
      "text/plain": [
       "array([2, 2, 2, 2, 2], dtype=int64)"
      ]
     },
     "execution_count": 365,
     "metadata": {},
     "output_type": "execute_result"
    }
   ],
   "source": [
    "model_GRU_pred = tf.argmax(model_GRU_pred_prob,axis=1)\n",
    "model_GRU_pred.numpy()[:5]"
   ]
  },
  {
   "cell_type": "code",
   "execution_count": 366,
   "id": "ebba88a4-e03f-4425-9c97-71126e8ef21a",
   "metadata": {},
   "outputs": [
    {
     "data": {
      "text/plain": [
       "{'accuracy': 0.94625,\n",
       " 'precision': 0.9491608942065491,\n",
       " 'recall': 0.94625,\n",
       " 'f1-score': 0.9250068782750709}"
      ]
     },
     "execution_count": 366,
     "metadata": {},
     "output_type": "execute_result"
    }
   ],
   "source": [
    "model_GRU_result = result(y_true=test_label,\n",
    "                          y_pred=model_GRU_pred)\n",
    "model_GRU_result"
   ]
  },
  {
   "cell_type": "markdown",
   "id": "98f823a7-9ad4-4719-920f-cda042f3e01b",
   "metadata": {},
   "source": [
    "### Step-11: Compare the result from the other model."
   ]
  },
  {
   "cell_type": "code",
   "execution_count": 389,
   "id": "f57e623b-3c4f-4199-9194-511852a5db32",
   "metadata": {},
   "outputs": [],
   "source": [
    "df_results = pd.DataFrame({\"Model_0_NaiveBayes\":naive_results,\n",
    "                          \"Model_1_oversample_random_forest\":result_smote,\n",
    "                          \"Model_2_under_sample_random_forest\":result_nearmiss,\n",
    "                          \"Model_3_Random_Forest_Normal\":result_rf_0,\n",
    "                          \"Model_4_xgb_balalnced\":result_xgb_balanced,\n",
    "                          \"Model_5_svm_balanced\":svm_result,\n",
    "                          \"Model_6_neural_nets_ANN\": model_ann_result,\n",
    "                          \"Model_7_Ensemble\":ensemble_result_2,\n",
    "                          \"Model_8_LSTM\":model_LSTM_result,\n",
    "                          \"Model_9_GRU\":model_GRU_result})\n",
    "df_results = df_results.transpose() "
   ]
  },
  {
   "cell_type": "code",
   "execution_count": 390,
   "id": "6043bcfa-7a94-4fcc-ad64-8612195492fe",
   "metadata": {},
   "outputs": [
    {
     "data": {
      "text/html": [
       "<div>\n",
       "<style scoped>\n",
       "    .dataframe tbody tr th:only-of-type {\n",
       "        vertical-align: middle;\n",
       "    }\n",
       "\n",
       "    .dataframe tbody tr th {\n",
       "        vertical-align: top;\n",
       "    }\n",
       "\n",
       "    .dataframe thead th {\n",
       "        text-align: right;\n",
       "    }\n",
       "</style>\n",
       "<table border=\"1\" class=\"dataframe\">\n",
       "  <thead>\n",
       "    <tr style=\"text-align: right;\">\n",
       "      <th></th>\n",
       "      <th>accuracy</th>\n",
       "      <th>precision</th>\n",
       "      <th>recall</th>\n",
       "      <th>f1-score</th>\n",
       "    </tr>\n",
       "  </thead>\n",
       "  <tbody>\n",
       "    <tr>\n",
       "      <th>Model_0_NaiveBayes</th>\n",
       "      <td>0.93875</td>\n",
       "      <td>0.881252</td>\n",
       "      <td>0.93875</td>\n",
       "      <td>0.909093</td>\n",
       "    </tr>\n",
       "    <tr>\n",
       "      <th>Model_1_oversample_random_forest</th>\n",
       "      <td>0.95500</td>\n",
       "      <td>0.957058</td>\n",
       "      <td>0.95500</td>\n",
       "      <td>0.941009</td>\n",
       "    </tr>\n",
       "    <tr>\n",
       "      <th>Model_2_under_sample_random_forest</th>\n",
       "      <td>0.69125</td>\n",
       "      <td>0.926610</td>\n",
       "      <td>0.69125</td>\n",
       "      <td>0.777543</td>\n",
       "    </tr>\n",
       "    <tr>\n",
       "      <th>Model_3_Random_Forest_Normal</th>\n",
       "      <td>0.95500</td>\n",
       "      <td>0.957058</td>\n",
       "      <td>0.95500</td>\n",
       "      <td>0.941009</td>\n",
       "    </tr>\n",
       "    <tr>\n",
       "      <th>Model_4_xgb_balalnced</th>\n",
       "      <td>0.94625</td>\n",
       "      <td>0.934544</td>\n",
       "      <td>0.94625</td>\n",
       "      <td>0.937231</td>\n",
       "    </tr>\n",
       "    <tr>\n",
       "      <th>Model_5_svm_balanced</th>\n",
       "      <td>0.95375</td>\n",
       "      <td>0.950575</td>\n",
       "      <td>0.95375</td>\n",
       "      <td>0.940085</td>\n",
       "    </tr>\n",
       "    <tr>\n",
       "      <th>Model_6_neural_nets_ANN</th>\n",
       "      <td>0.94125</td>\n",
       "      <td>0.895949</td>\n",
       "      <td>0.94125</td>\n",
       "      <td>0.917282</td>\n",
       "    </tr>\n",
       "    <tr>\n",
       "      <th>Model_7_Ensemble</th>\n",
       "      <td>0.84000</td>\n",
       "      <td>0.932525</td>\n",
       "      <td>0.84000</td>\n",
       "      <td>0.877648</td>\n",
       "    </tr>\n",
       "    <tr>\n",
       "      <th>Model_8_LSTM</th>\n",
       "      <td>0.94500</td>\n",
       "      <td>0.934097</td>\n",
       "      <td>0.94500</td>\n",
       "      <td>0.924261</td>\n",
       "    </tr>\n",
       "    <tr>\n",
       "      <th>Model_9_GRU</th>\n",
       "      <td>0.94625</td>\n",
       "      <td>0.949161</td>\n",
       "      <td>0.94625</td>\n",
       "      <td>0.925007</td>\n",
       "    </tr>\n",
       "  </tbody>\n",
       "</table>\n",
       "</div>"
      ],
      "text/plain": [
       "                                    accuracy  precision   recall  f1-score\n",
       "Model_0_NaiveBayes                   0.93875   0.881252  0.93875  0.909093\n",
       "Model_1_oversample_random_forest     0.95500   0.957058  0.95500  0.941009\n",
       "Model_2_under_sample_random_forest   0.69125   0.926610  0.69125  0.777543\n",
       "Model_3_Random_Forest_Normal         0.95500   0.957058  0.95500  0.941009\n",
       "Model_4_xgb_balalnced                0.94625   0.934544  0.94625  0.937231\n",
       "Model_5_svm_balanced                 0.95375   0.950575  0.95375  0.940085\n",
       "Model_6_neural_nets_ANN              0.94125   0.895949  0.94125  0.917282\n",
       "Model_7_Ensemble                     0.84000   0.932525  0.84000  0.877648\n",
       "Model_8_LSTM                         0.94500   0.934097  0.94500  0.924261\n",
       "Model_9_GRU                          0.94625   0.949161  0.94625  0.925007"
      ]
     },
     "execution_count": 390,
     "metadata": {},
     "output_type": "execute_result"
    }
   ],
   "source": [
    "df_results"
   ]
  },
  {
   "cell_type": "code",
   "execution_count": 394,
   "id": "0ee675ed-8c6f-4002-a403-6388fd9b250f",
   "metadata": {},
   "outputs": [
    {
     "data": {
      "image/png": "[encoded data removed]",
      "text/plain": [
       "<Figure size 576x504 with 1 Axes>"
      ]
     },
     "metadata": {
      "needs_background": "light"
     },
     "output_type": "display_data"
    }
   ],
   "source": [
    "# Let's see the data result\n",
    "df_results.plot(kind=\"bar\",figsize=(8,7)).legend(bbox_to_anchor=(1.0,1.0));"
   ]
  },
  {
   "cell_type": "markdown",
   "id": "6a2d1844-c9e1-48b9-8f36-a51f53e315af",
   "metadata": {},
   "source": [
    "Let's compare them by f1-score."
   ]
  },
  {
   "cell_type": "code",
   "execution_count": 396,
   "id": "071a7ba7-24ff-4543-ac6f-ef98cb091211",
   "metadata": {},
   "outputs": [
    {
     "data": {
      "image/png": "[encoded data removed]",
      "text/plain": [
       "<Figure size 720x576 with 1 Axes>"
      ]
     },
     "metadata": {
      "needs_background": "light"
     },
     "output_type": "display_data"
    }
   ],
   "source": [
    "df_results.sort_values(by=\"f1-score\",ascending=False)[\"f1-score\"].plot(kind=\"bar\",figsize=(10,8));"
   ]
  },
  {
   "cell_type": "markdown",
   "id": "0563a1cc-f85d-4808-846e-bdd42ee83629",
   "metadata": {},
   "source": [
    "So some Machine Learning models have performed better than LSTM and GRU."
   ]
  },
  {
   "cell_type": "markdown",
   "id": "4a3066c3-4ae6-46c8-a779-7612517b9b09",
   "metadata": {},
   "source": [
    "### Step-12: Applying RandomizedCV search on the LSTM and GRU."
   ]
  },
  {
   "cell_type": "markdown",
   "id": "909d5b51-53f0-4d02-b34b-00b8fcf6b7ec",
   "metadata": {},
   "source": [
    "Let's use Randomized Search CV to improve the accuracy."
   ]
  },
  {
   "cell_type": "code",
   "execution_count": 329,
   "id": "b8594b6c-a213-42de-8e51-5483242bbbfe",
   "metadata": {},
   "outputs": [],
   "source": [
    "random_grid = {\"units\": [16,32,64,128],\n",
    "               \"activation\": [\"tanh\",\"relu\"],\n",
    "               \"kernel_initializer\": [\"glorot_uniform\",\"he_normal\",\"he_uniform\"],\n",
    "               \"dropout\":[0.1,0.2,0.3,0.4,0.5],\n",
    "               \"recurrent_dropout\":[0.1,0.2,0.3,0.4,0.5],\n",
    "               \"return_sequences\":[True,False],\n",
    "               \"return_state\":[True,False],\n",
    "               \"stateful\":[True,False]\n",
    "}"
   ]
  },
  {
   "cell_type": "code",
   "execution_count": 336,
   "id": "6759f2a6-15c3-48b7-9ef4-cce8bdc80ee5",
   "metadata": {},
   "outputs": [],
   "source": [
    "# Make the model\n",
    "def create_model(units=64,activation=\"relu\",kernel_initializer=\"glorot_uniform\",dropout=0.2,recurrent_dropout=0.2,\n",
    "                 return_sequences=False,return_state=False,stateful=False):\n",
    "    inputs = tf.keras.layers.Input(shape=(1,),dtype=tf.string)\n",
    "    x = text_vectorizer(inputs)\n",
    "    x = embedding_LSTM(x)\n",
    "    x = tf.keras.layers.LSTM(units=units,activation=activation,kernel_initializer=kernel_initializer,dropout=dropout,recurrent_dropout=recurrent_dropout,\n",
    "                            return_sequences=return_sequences,return_state=return_state,stateful=stateful)(x)\n",
    "    x = tf.keras.layers.Dense(64,\"relu\")(x)\n",
    "    x = tf.keras.layers.Dense(32,\"relu\")(x)\n",
    "    outputs = tf.keras.layers.Dense(3,\"softmax\")(x)\n",
    "    model_LSTM_random = tf.keras.Model(inputs=inputs,\n",
    "                           outputs=outputs)\n",
    "    \n",
    "    model_LSTM_random.compile(loss=\"categorical_crossentropy\",\n",
    "             optimizer=tf.keras.optimizers.Adam(),\n",
    "             metrics=[\"accuracy\"])\n",
    "    \n",
    "    return model_LSTM_random"
   ]
  },
  {
   "cell_type": "code",
   "execution_count": 337,
   "id": "3d7dca4e-661e-4d40-ae54-2e3e2bf5bf7a",
   "metadata": {},
   "outputs": [],
   "source": [
    "from tensorflow.keras.wrappers.scikit_learn import KerasClassifier"
   ]
  },
  {
   "cell_type": "code",
   "execution_count": 338,
   "id": "1f784cc1-7b41-42f8-818a-4cb78b4e5895",
   "metadata": {},
   "outputs": [],
   "source": [
    "model_random_LSTM = KerasClassifier(build_fn=create_model, verbose=0)"
   ]
  },
  {
   "cell_type": "code",
   "execution_count": 339,
   "id": "e2632dd9-88d1-438e-bff7-b1b7b6531d19",
   "metadata": {},
   "outputs": [],
   "source": [
    "from sklearn.model_selection import RandomizedSearchCV"
   ]
  },
  {
   "cell_type": "code",
   "execution_count": 340,
   "id": "bb27c1ac-c948-40ac-944f-2f75478a8644",
   "metadata": {},
   "outputs": [],
   "source": [
    "grid_random = RandomizedSearchCV(estimator=model_random_LSTM,param_distributions=random_grid,cv=4)"
   ]
  },
  {
   "cell_type": "code",
   "execution_count": 341,
   "id": "cbd14c9b-b676-41f1-b717-cce7d5e8fd71",
   "metadata": {},
   "outputs": [
    {
     "name": "stdout",
     "output_type": "stream",
     "text": [
      "WARNING:tensorflow:Layer lstm_128 will not use cuDNN kernels since it doesn't meet the criteria. It will use a generic GPU kernel as fallback when running on GPU.\n",
      "WARNING:tensorflow:Layer lstm_129 will not use cuDNN kernels since it doesn't meet the criteria. It will use a generic GPU kernel as fallback when running on GPU.\n",
      "WARNING:tensorflow:Layer lstm_130 will not use cuDNN kernels since it doesn't meet the criteria. It will use a generic GPU kernel as fallback when running on GPU.\n",
      "WARNING:tensorflow:Layer lstm_131 will not use cuDNN kernels since it doesn't meet the criteria. It will use a generic GPU kernel as fallback when running on GPU.\n",
      "WARNING:tensorflow:Layer lstm_132 will not use cuDNN kernels since it doesn't meet the criteria. It will use a generic GPU kernel as fallback when running on GPU.\n",
      "WARNING:tensorflow:Layer lstm_133 will not use cuDNN kernels since it doesn't meet the criteria. It will use a generic GPU kernel as fallback when running on GPU.\n",
      "WARNING:tensorflow:Layer lstm_134 will not use cuDNN kernels since it doesn't meet the criteria. It will use a generic GPU kernel as fallback when running on GPU.\n",
      "WARNING:tensorflow:Layer lstm_135 will not use cuDNN kernels since it doesn't meet the criteria. It will use a generic GPU kernel as fallback when running on GPU.\n",
      "WARNING:tensorflow:Layer lstm_136 will not use cuDNN kernels since it doesn't meet the criteria. It will use a generic GPU kernel as fallback when running on GPU.\n",
      "WARNING:tensorflow:Layer lstm_137 will not use cuDNN kernels since it doesn't meet the criteria. It will use a generic GPU kernel as fallback when running on GPU.\n",
      "WARNING:tensorflow:Layer lstm_138 will not use cuDNN kernels since it doesn't meet the criteria. It will use a generic GPU kernel as fallback when running on GPU.\n",
      "WARNING:tensorflow:Layer lstm_139 will not use cuDNN kernels since it doesn't meet the criteria. It will use a generic GPU kernel as fallback when running on GPU.\n",
      "WARNING:tensorflow:Layer lstm_140 will not use cuDNN kernels since it doesn't meet the criteria. It will use a generic GPU kernel as fallback when running on GPU.\n",
      "WARNING:tensorflow:Layer lstm_141 will not use cuDNN kernels since it doesn't meet the criteria. It will use a generic GPU kernel as fallback when running on GPU.\n",
      "WARNING:tensorflow:Layer lstm_142 will not use cuDNN kernels since it doesn't meet the criteria. It will use a generic GPU kernel as fallback when running on GPU.\n",
      "WARNING:tensorflow:Layer lstm_143 will not use cuDNN kernels since it doesn't meet the criteria. It will use a generic GPU kernel as fallback when running on GPU.\n",
      "WARNING:tensorflow:Layer lstm_144 will not use cuDNN kernels since it doesn't meet the criteria. It will use a generic GPU kernel as fallback when running on GPU.\n",
      "WARNING:tensorflow:Layer lstm_145 will not use cuDNN kernels since it doesn't meet the criteria. It will use a generic GPU kernel as fallback when running on GPU.\n",
      "WARNING:tensorflow:Layer lstm_146 will not use cuDNN kernels since it doesn't meet the criteria. It will use a generic GPU kernel as fallback when running on GPU.\n",
      "WARNING:tensorflow:Layer lstm_147 will not use cuDNN kernels since it doesn't meet the criteria. It will use a generic GPU kernel as fallback when running on GPU.\n",
      "WARNING:tensorflow:Layer lstm_148 will not use cuDNN kernels since it doesn't meet the criteria. It will use a generic GPU kernel as fallback when running on GPU.\n",
      "WARNING:tensorflow:Layer lstm_149 will not use cuDNN kernels since it doesn't meet the criteria. It will use a generic GPU kernel as fallback when running on GPU.\n",
      "WARNING:tensorflow:Layer lstm_150 will not use cuDNN kernels since it doesn't meet the criteria. It will use a generic GPU kernel as fallback when running on GPU.\n",
      "WARNING:tensorflow:Layer lstm_151 will not use cuDNN kernels since it doesn't meet the criteria. It will use a generic GPU kernel as fallback when running on GPU.\n",
      "WARNING:tensorflow:Layer lstm_152 will not use cuDNN kernels since it doesn't meet the criteria. It will use a generic GPU kernel as fallback when running on GPU.\n",
      "WARNING:tensorflow:Layer lstm_153 will not use cuDNN kernels since it doesn't meet the criteria. It will use a generic GPU kernel as fallback when running on GPU.\n",
      "WARNING:tensorflow:Layer lstm_154 will not use cuDNN kernels since it doesn't meet the criteria. It will use a generic GPU kernel as fallback when running on GPU.\n",
      "WARNING:tensorflow:Layer lstm_155 will not use cuDNN kernels since it doesn't meet the criteria. It will use a generic GPU kernel as fallback when running on GPU.\n",
      "WARNING:tensorflow:Layer lstm_156 will not use cuDNN kernels since it doesn't meet the criteria. It will use a generic GPU kernel as fallback when running on GPU.\n",
      "WARNING:tensorflow:Layer lstm_157 will not use cuDNN kernels since it doesn't meet the criteria. It will use a generic GPU kernel as fallback when running on GPU.\n",
      "WARNING:tensorflow:Layer lstm_158 will not use cuDNN kernels since it doesn't meet the criteria. It will use a generic GPU kernel as fallback when running on GPU.\n",
      "WARNING:tensorflow:Layer lstm_159 will not use cuDNN kernels since it doesn't meet the criteria. It will use a generic GPU kernel as fallback when running on GPU.\n",
      "WARNING:tensorflow:Layer lstm_160 will not use cuDNN kernels since it doesn't meet the criteria. It will use a generic GPU kernel as fallback when running on GPU.\n",
      "WARNING:tensorflow:Layer lstm_161 will not use cuDNN kernels since it doesn't meet the criteria. It will use a generic GPU kernel as fallback when running on GPU.\n",
      "WARNING:tensorflow:Layer lstm_162 will not use cuDNN kernels since it doesn't meet the criteria. It will use a generic GPU kernel as fallback when running on GPU.\n",
      "WARNING:tensorflow:Layer lstm_163 will not use cuDNN kernels since it doesn't meet the criteria. It will use a generic GPU kernel as fallback when running on GPU.\n",
      "WARNING:tensorflow:Layer lstm_164 will not use cuDNN kernels since it doesn't meet the criteria. It will use a generic GPU kernel as fallback when running on GPU.\n",
      "WARNING:tensorflow:Layer lstm_165 will not use cuDNN kernels since it doesn't meet the criteria. It will use a generic GPU kernel as fallback when running on GPU.\n",
      "WARNING:tensorflow:Layer lstm_166 will not use cuDNN kernels since it doesn't meet the criteria. It will use a generic GPU kernel as fallback when running on GPU.\n",
      "WARNING:tensorflow:Layer lstm_167 will not use cuDNN kernels since it doesn't meet the criteria. It will use a generic GPU kernel as fallback when running on GPU.\n",
      "WARNING:tensorflow:Layer lstm_168 will not use cuDNN kernels since it doesn't meet the criteria. It will use a generic GPU kernel as fallback when running on GPU.\n"
     ]
    }
   ],
   "source": [
    "grid_random_result = grid_random.fit(train_sentences,train_label)"
   ]
  },
  {
   "cell_type": "markdown",
   "id": "145c0250-7c01-436d-b887-cafbf7488336",
   "metadata": {},
   "source": [
    "<i> Note: </i> We are getting above warning because there are certain requirements for cuDNN implementaion. If any of the requirements doesn't meet it shows the warning, as we get. Since, during RandomizedSearchCV not all the criterion are going to met that's why we have got this error. \n",
    "\n",
    "The requirements to use the cuDNN implementation are: <br/>\n",
    "<i>\n",
    "activation == tanh <br/>\n",
    "recurrent_activation == sigmoid <br/>\n",
    "recurrent_dropout == 0 <br/>\n",
    "unroll is False <br/>\n",
    "use_bias is True <br/>\n",
    "Inputs, if use masking, are strictly right-padded. <br/>\n",
    "Eager execution is enabled in the outermost context. <br/> </i>"
   ]
  },
  {
   "cell_type": "code",
   "execution_count": 342,
   "id": "e9c33371-c2dd-425c-be30-e791fdfa4ba2",
   "metadata": {},
   "outputs": [
    {
     "name": "stdout",
     "output_type": "stream",
     "text": [
      "Best: 0.937188 using {'units': 16, 'stateful': False, 'return_state': False, 'return_sequences': False, 'recurrent_dropout': 0.3, 'kernel_initializer': 'glorot_uniform', 'dropout': 0.1, 'activation': 'tanh'}\n"
     ]
    }
   ],
   "source": [
    "print(\"Best: %f using %s\" % (grid_random_result.best_score_, grid_random_result.best_params_))"
   ]
  },
  {
   "cell_type": "markdown",
   "id": "9376b30d-16ba-46ce-8bba-0063ba7d0b59",
   "metadata": {},
   "source": [
    "Let's fit the model using these parameters and check accuracy."
   ]
  },
  {
   "cell_type": "code",
   "execution_count": 372,
   "id": "46cbae33-f358-4097-a536-4366b81dd999",
   "metadata": {},
   "outputs": [
    {
     "name": "stdout",
     "output_type": "stream",
     "text": [
      "WARNING:tensorflow:Layer lstm_170 will not use cuDNN kernels since it doesn't meet the criteria. It will use a generic GPU kernel as fallback when running on GPU.\n"
     ]
    }
   ],
   "source": [
    "model_LSTM_best = create_model(units=16,activation=\"tanh\",kernel_initializer=\"glorot_uniform\",dropout=0.1,recurrent_dropout=0.3,return_sequences=False,return_state=False,\n",
    "                              stateful=False)"
   ]
  },
  {
   "cell_type": "code",
   "execution_count": 373,
   "id": "917f9ae9-ff1b-4792-9563-28da7e49b88e",
   "metadata": {},
   "outputs": [
    {
     "name": "stdout",
     "output_type": "stream",
     "text": [
      "Epoch 1/100\n",
      "100/100 [==============================] - 39s 372ms/step - loss: 0.3194 - accuracy: 0.9369 - val_loss: 0.2499 - val_accuracy: 0.9413\n",
      "Epoch 2/100\n",
      "100/100 [==============================] - 37s 369ms/step - loss: 0.2533 - accuracy: 0.9419 - val_loss: 0.2469 - val_accuracy: 0.9438\n",
      "Epoch 3/100\n",
      "100/100 [==============================] - 37s 373ms/step - loss: 0.2422 - accuracy: 0.9397 - val_loss: 0.2415 - val_accuracy: 0.9438\n",
      "Epoch 4/100\n",
      "100/100 [==============================] - 38s 379ms/step - loss: 0.2364 - accuracy: 0.9447 - val_loss: 0.2371 - val_accuracy: 0.9475\n",
      "Epoch 5/100\n",
      "100/100 [==============================] - 39s 393ms/step - loss: 0.2298 - accuracy: 0.9453 - val_loss: 0.2384 - val_accuracy: 0.9463\n",
      "Epoch 6/100\n",
      "100/100 [==============================] - 38s 381ms/step - loss: 0.2120 - accuracy: 0.9544 - val_loss: 0.2377 - val_accuracy: 0.9463\n",
      "Epoch 7/100\n",
      "100/100 [==============================] - 37s 373ms/step - loss: 0.2087 - accuracy: 0.9544 - val_loss: 0.2381 - val_accuracy: 0.9463\n",
      "Epoch 8/100\n",
      "100/100 [==============================] - 37s 373ms/step - loss: 0.2072 - accuracy: 0.9550 - val_loss: 0.2381 - val_accuracy: 0.9463\n",
      "Epoch 9/100\n",
      "100/100 [==============================] - 37s 372ms/step - loss: 0.2010 - accuracy: 0.9563 - val_loss: 0.2383 - val_accuracy: 0.9450\n",
      "Epoch 10/100\n",
      "100/100 [==============================] - 38s 376ms/step - loss: 0.1995 - accuracy: 0.9559 - val_loss: 0.2458 - val_accuracy: 0.9425\n",
      "Epoch 11/100\n",
      "100/100 [==============================] - 37s 368ms/step - loss: 0.1969 - accuracy: 0.9566 - val_loss: 0.2454 - val_accuracy: 0.9425\n",
      "Epoch 12/100\n",
      "100/100 [==============================] - 38s 378ms/step - loss: 0.1956 - accuracy: 0.9569 - val_loss: 0.2476 - val_accuracy: 0.9425\n",
      "Epoch 13/100\n",
      "100/100 [==============================] - 38s 377ms/step - loss: 0.1919 - accuracy: 0.9578 - val_loss: 0.2488 - val_accuracy: 0.9425\n",
      "Epoch 14/100\n",
      "100/100 [==============================] - 37s 370ms/step - loss: 0.1936 - accuracy: 0.9572 - val_loss: 0.2495 - val_accuracy: 0.9425\n"
     ]
    },
    {
     "data": {
      "text/plain": [
       "<keras.callbacks.History at 0x28834d37fd0>"
      ]
     },
     "execution_count": 373,
     "metadata": {},
     "output_type": "execute_result"
    }
   ],
   "source": [
    "model_LSTM_best.fit(train_dataset,\n",
    "                             epochs=100,\n",
    "                             steps_per_epoch=len(train_dataset),\n",
    "                             validation_data=(val_dataset),\n",
    "                             validation_steps=len(val_dataset),\n",
    "                             callbacks=[tf.keras.callbacks.EarlyStopping(monitor=\"val_accuracy\", # this time take accuracy as parameter\n",
    "                                                                         patience=10,\n",
    "                                                                         restore_best_weights=True)])"
   ]
  },
  {
   "cell_type": "code",
   "execution_count": 374,
   "id": "68d49618-ed26-4417-8c77-8a80f494ae15",
   "metadata": {},
   "outputs": [
    {
     "name": "stdout",
     "output_type": "stream",
     "text": [
      "25/25 [==============================] - 1s 38ms/step - loss: 0.2371 - accuracy: 0.9475\n"
     ]
    },
    {
     "data": {
      "text/plain": [
       "[0.23714712262153625, 0.9474999904632568]"
      ]
     },
     "execution_count": 374,
     "metadata": {},
     "output_type": "execute_result"
    }
   ],
   "source": [
    "# Evaluate on the whole model\n",
    "model_LSTM_best.evaluate(val_dataset)"
   ]
  },
  {
   "cell_type": "code",
   "execution_count": 381,
   "id": "c49b2ffb-99d3-4ce7-9ac3-4f8cbcb19ef2",
   "metadata": {},
   "outputs": [
    {
     "data": {
      "text/plain": [
       "array([[0.01001603, 0.02989769, 0.9600863 ],\n",
       "       [0.00999614, 0.02981851, 0.9601853 ],\n",
       "       [0.01001437, 0.02989239, 0.9600932 ],\n",
       "       [0.01001668, 0.02989985, 0.9600834 ],\n",
       "       [0.0100164 , 0.02989908, 0.96008456]], dtype=float32)"
      ]
     },
     "execution_count": 381,
     "metadata": {},
     "output_type": "execute_result"
    }
   ],
   "source": [
    "model_LSTM_best_pred_prob = model_LSTM_best.predict(val_dataset)\n",
    "model_LSTM_best_pred_prob[:5]"
   ]
  },
  {
   "cell_type": "code",
   "execution_count": 382,
   "id": "fef2bef7-7c5d-48ba-8953-e571a1547718",
   "metadata": {},
   "outputs": [
    {
     "data": {
      "text/plain": [
       "array([2, 2, 2, 2, 2], dtype=int64)"
      ]
     },
     "execution_count": 382,
     "metadata": {},
     "output_type": "execute_result"
    }
   ],
   "source": [
    "model_LSTM_best_pred = tf.argmax(model_LSTM_best_pred_prob,axis=1)\n",
    "model_LSTM_best_pred.numpy()[:5]"
   ]
  },
  {
   "cell_type": "code",
   "execution_count": 383,
   "id": "58179889-86cf-44b6-8a54-31cd934ef0a8",
   "metadata": {},
   "outputs": [
    {
     "data": {
      "text/plain": [
       "{'accuracy': 0.9475,\n",
       " 'precision': 0.950280580075662,\n",
       " 'recall': 0.9475,\n",
       " 'f1-score': 0.926978674287186}"
      ]
     },
     "execution_count": 383,
     "metadata": {},
     "output_type": "execute_result"
    }
   ],
   "source": [
    "model_LSTM_best_result = result(y_true=test_label,\n",
    "                          y_pred=model_LSTM_best_pred)\n",
    "model_LSTM_best_result"
   ]
  },
  {
   "cell_type": "markdown",
   "id": "b6014a98-af51-4ccb-9589-10209a13d5a4",
   "metadata": {},
   "source": [
    "Intitailly the f1 score of LSTM was 0.9242605004337328, and after RandomizedSearchCV, f11 score has become 0.926978674287186. Also, accuracy has been improved from 0.945 to 0.9475. "
   ]
  },
  {
   "cell_type": "markdown",
   "id": "b13c3d45-cacc-4f3a-8f30-6bf8d3b2d2c2",
   "metadata": {},
   "source": [
    "Now doing the same for GRU."
   ]
  },
  {
   "cell_type": "code",
   "execution_count": 384,
   "id": "29836ea4-406c-4ed5-a739-606db2df2abc",
   "metadata": {},
   "outputs": [],
   "source": [
    "# Make the model\n",
    "def create_model_GRU(units=64,activation=\"relu\",kernel_initializer=\"glorot_uniform\",dropout=0.2,recurrent_dropout=0.2,\n",
    "                 return_sequences=False,return_state=False,stateful=False):\n",
    "    inputs = tf.keras.layers.Input(shape=(1,),dtype=tf.string)\n",
    "    x = text_vectorizer(inputs)\n",
    "    x = embedding_GRU(x)\n",
    "    x = tf.keras.layers.GRU(units=units,activation=activation,kernel_initializer=kernel_initializer,dropout=dropout,recurrent_dropout=recurrent_dropout,\n",
    "                            return_sequences=return_sequences,return_state=return_state,stateful=stateful)(x)\n",
    "    x = tf.keras.layers.Dense(64,\"relu\")(x)\n",
    "    x = tf.keras.layers.Dense(32,\"relu\")(x)\n",
    "    outputs = tf.keras.layers.Dense(3,\"softmax\")(x)\n",
    "    model_GRU_random = tf.keras.Model(inputs=inputs,\n",
    "                           outputs=outputs)\n",
    "    \n",
    "    model_GRU_random.compile(loss=\"categorical_crossentropy\",\n",
    "             optimizer=tf.keras.optimizers.Adam(),\n",
    "             metrics=[\"accuracy\"])\n",
    "    \n",
    "    return model_GRU_random"
   ]
  },
  {
   "cell_type": "code",
   "execution_count": 385,
   "id": "b9d43920-b04a-43de-8a57-56eaea9982ad",
   "metadata": {},
   "outputs": [
    {
     "name": "stdout",
     "output_type": "stream",
     "text": [
      "WARNING:tensorflow:Layer gru_3 will not use cuDNN kernels since it doesn't meet the criteria. It will use a generic GPU kernel as fallback when running on GPU.\n",
      "WARNING:tensorflow:Layer gru_4 will not use cuDNN kernels since it doesn't meet the criteria. It will use a generic GPU kernel as fallback when running on GPU.\n",
      "WARNING:tensorflow:Layer gru_5 will not use cuDNN kernels since it doesn't meet the criteria. It will use a generic GPU kernel as fallback when running on GPU.\n",
      "WARNING:tensorflow:Layer gru_6 will not use cuDNN kernels since it doesn't meet the criteria. It will use a generic GPU kernel as fallback when running on GPU.\n",
      "WARNING:tensorflow:Layer gru_7 will not use cuDNN kernels since it doesn't meet the criteria. It will use a generic GPU kernel as fallback when running on GPU.\n",
      "WARNING:tensorflow:Layer gru_8 will not use cuDNN kernels since it doesn't meet the criteria. It will use a generic GPU kernel as fallback when running on GPU.\n",
      "WARNING:tensorflow:Layer gru_9 will not use cuDNN kernels since it doesn't meet the criteria. It will use a generic GPU kernel as fallback when running on GPU.\n",
      "WARNING:tensorflow:Layer gru_10 will not use cuDNN kernels since it doesn't meet the criteria. It will use a generic GPU kernel as fallback when running on GPU.\n",
      "WARNING:tensorflow:Layer gru_11 will not use cuDNN kernels since it doesn't meet the criteria. It will use a generic GPU kernel as fallback when running on GPU.\n",
      "WARNING:tensorflow:Layer gru_12 will not use cuDNN kernels since it doesn't meet the criteria. It will use a generic GPU kernel as fallback when running on GPU.\n",
      "WARNING:tensorflow:Layer gru_13 will not use cuDNN kernels since it doesn't meet the criteria. It will use a generic GPU kernel as fallback when running on GPU.\n",
      "WARNING:tensorflow:Layer gru_14 will not use cuDNN kernels since it doesn't meet the criteria. It will use a generic GPU kernel as fallback when running on GPU.\n",
      "WARNING:tensorflow:Layer gru_15 will not use cuDNN kernels since it doesn't meet the criteria. It will use a generic GPU kernel as fallback when running on GPU.\n",
      "WARNING:tensorflow:Layer gru_16 will not use cuDNN kernels since it doesn't meet the criteria. It will use a generic GPU kernel as fallback when running on GPU.\n",
      "WARNING:tensorflow:Layer gru_17 will not use cuDNN kernels since it doesn't meet the criteria. It will use a generic GPU kernel as fallback when running on GPU.\n",
      "WARNING:tensorflow:Layer gru_18 will not use cuDNN kernels since it doesn't meet the criteria. It will use a generic GPU kernel as fallback when running on GPU.\n",
      "WARNING:tensorflow:Layer gru_19 will not use cuDNN kernels since it doesn't meet the criteria. It will use a generic GPU kernel as fallback when running on GPU.\n",
      "WARNING:tensorflow:Layer gru_20 will not use cuDNN kernels since it doesn't meet the criteria. It will use a generic GPU kernel as fallback when running on GPU.\n",
      "WARNING:tensorflow:Layer gru_21 will not use cuDNN kernels since it doesn't meet the criteria. It will use a generic GPU kernel as fallback when running on GPU.\n",
      "WARNING:tensorflow:Layer gru_22 will not use cuDNN kernels since it doesn't meet the criteria. It will use a generic GPU kernel as fallback when running on GPU.\n",
      "WARNING:tensorflow:Layer gru_23 will not use cuDNN kernels since it doesn't meet the criteria. It will use a generic GPU kernel as fallback when running on GPU.\n",
      "WARNING:tensorflow:Layer gru_24 will not use cuDNN kernels since it doesn't meet the criteria. It will use a generic GPU kernel as fallback when running on GPU.\n",
      "WARNING:tensorflow:Layer gru_25 will not use cuDNN kernels since it doesn't meet the criteria. It will use a generic GPU kernel as fallback when running on GPU.\n",
      "WARNING:tensorflow:Layer gru_26 will not use cuDNN kernels since it doesn't meet the criteria. It will use a generic GPU kernel as fallback when running on GPU.\n",
      "WARNING:tensorflow:Layer gru_27 will not use cuDNN kernels since it doesn't meet the criteria. It will use a generic GPU kernel as fallback when running on GPU.\n",
      "WARNING:tensorflow:Layer gru_28 will not use cuDNN kernels since it doesn't meet the criteria. It will use a generic GPU kernel as fallback when running on GPU.\n",
      "WARNING:tensorflow:Layer gru_29 will not use cuDNN kernels since it doesn't meet the criteria. It will use a generic GPU kernel as fallback when running on GPU.\n",
      "WARNING:tensorflow:Layer gru_30 will not use cuDNN kernels since it doesn't meet the criteria. It will use a generic GPU kernel as fallback when running on GPU.\n",
      "WARNING:tensorflow:Layer gru_31 will not use cuDNN kernels since it doesn't meet the criteria. It will use a generic GPU kernel as fallback when running on GPU.\n",
      "WARNING:tensorflow:Layer gru_32 will not use cuDNN kernels since it doesn't meet the criteria. It will use a generic GPU kernel as fallback when running on GPU.\n",
      "WARNING:tensorflow:Layer gru_33 will not use cuDNN kernels since it doesn't meet the criteria. It will use a generic GPU kernel as fallback when running on GPU.\n",
      "WARNING:tensorflow:Layer gru_34 will not use cuDNN kernels since it doesn't meet the criteria. It will use a generic GPU kernel as fallback when running on GPU.\n",
      "WARNING:tensorflow:Layer gru_35 will not use cuDNN kernels since it doesn't meet the criteria. It will use a generic GPU kernel as fallback when running on GPU.\n",
      "WARNING:tensorflow:Layer gru_36 will not use cuDNN kernels since it doesn't meet the criteria. It will use a generic GPU kernel as fallback when running on GPU.\n",
      "WARNING:tensorflow:Layer gru_37 will not use cuDNN kernels since it doesn't meet the criteria. It will use a generic GPU kernel as fallback when running on GPU.\n",
      "WARNING:tensorflow:Layer gru_38 will not use cuDNN kernels since it doesn't meet the criteria. It will use a generic GPU kernel as fallback when running on GPU.\n",
      "WARNING:tensorflow:Layer gru_39 will not use cuDNN kernels since it doesn't meet the criteria. It will use a generic GPU kernel as fallback when running on GPU.\n",
      "WARNING:tensorflow:Layer gru_40 will not use cuDNN kernels since it doesn't meet the criteria. It will use a generic GPU kernel as fallback when running on GPU.\n",
      "WARNING:tensorflow:Layer gru_41 will not use cuDNN kernels since it doesn't meet the criteria. It will use a generic GPU kernel as fallback when running on GPU.\n",
      "WARNING:tensorflow:Layer gru_42 will not use cuDNN kernels since it doesn't meet the criteria. It will use a generic GPU kernel as fallback when running on GPU.\n",
      "WARNING:tensorflow:Layer gru_43 will not use cuDNN kernels since it doesn't meet the criteria. It will use a generic GPU kernel as fallback when running on GPU.\n"
     ]
    }
   ],
   "source": [
    "model_random_GRU = KerasClassifier(build_fn=create_model_GRU, verbose=0)\n",
    "grid_random_GRU = RandomizedSearchCV(estimator=model_random_GRU,param_distributions=random_grid,cv=4)\n",
    "grid_random_GRU_result = grid_random_GRU.fit(train_sentences,train_label)"
   ]
  },
  {
   "cell_type": "code",
   "execution_count": 386,
   "id": "dd79897b-3c56-4b56-81ce-923903a53a18",
   "metadata": {},
   "outputs": [
    {
     "name": "stdout",
     "output_type": "stream",
     "text": [
      "Best: 0.936875 using {'units': 16, 'stateful': False, 'return_state': False, 'return_sequences': False, 'recurrent_dropout': 0.5, 'kernel_initializer': 'he_uniform', 'dropout': 0.4, 'activation': 'tanh'}\n"
     ]
    }
   ],
   "source": [
    "print(\"Best: %f using %s\" % (grid_random_GRU_result.best_score_, grid_random_GRU_result.best_params_))"
   ]
  },
  {
   "cell_type": "markdown",
   "id": "e82c10a2-b567-4e9e-ad81-b9876d4c5f59",
   "metadata": {},
   "source": [
    "Let's fit the model with the given result above."
   ]
  },
  {
   "cell_type": "code",
   "execution_count": 387,
   "id": "e52f896a-5f73-43e2-ab00-ceef9bfddde5",
   "metadata": {},
   "outputs": [
    {
     "name": "stdout",
     "output_type": "stream",
     "text": [
      "WARNING:tensorflow:Layer gru_44 will not use cuDNN kernels since it doesn't meet the criteria. It will use a generic GPU kernel as fallback when running on GPU.\n"
     ]
    }
   ],
   "source": [
    "model_GRU_best = create_model_GRU(units=16,kernel_initializer=\"he_uniform\",dropout=0.4,recurrent_dropout=0.5,return_sequences=False,return_state=False,stateful=False)"
   ]
  },
  {
   "cell_type": "code",
   "execution_count": 388,
   "id": "e5b52327-72c8-49b0-a896-2a67ed8ba46f",
   "metadata": {},
   "outputs": [
    {
     "name": "stdout",
     "output_type": "stream",
     "text": [
      "Epoch 1/100\n",
      "100/100 [==============================] - 59s 563ms/step - loss: 0.4710 - accuracy: 0.8756 - val_loss: 0.2603 - val_accuracy: 0.9388\n",
      "Epoch 2/100\n",
      "100/100 [==============================] - 58s 577ms/step - loss: 0.2703 - accuracy: 0.9369 - val_loss: 0.2579 - val_accuracy: 0.9388\n",
      "Epoch 3/100\n",
      "100/100 [==============================] - 57s 567ms/step - loss: 0.2643 - accuracy: 0.9372 - val_loss: 0.2560 - val_accuracy: 0.9413\n",
      "Epoch 4/100\n",
      "100/100 [==============================] - 57s 566ms/step - loss: 0.2604 - accuracy: 0.9409 - val_loss: 0.2521 - val_accuracy: 0.9425\n",
      "Epoch 5/100\n",
      "100/100 [==============================] - 55s 552ms/step - loss: 0.2443 - accuracy: 0.9428 - val_loss: 0.2341 - val_accuracy: 0.9463\n",
      "Epoch 6/100\n",
      "100/100 [==============================] - 56s 565ms/step - loss: 0.2053 - accuracy: 0.9459 - val_loss: 0.2253 - val_accuracy: 0.9425\n",
      "Epoch 7/100\n",
      "100/100 [==============================] - 57s 570ms/step - loss: 0.1511 - accuracy: 0.9519 - val_loss: 0.2396 - val_accuracy: 0.9362\n",
      "Epoch 8/100\n",
      "100/100 [==============================] - 56s 557ms/step - loss: 0.1039 - accuracy: 0.9613 - val_loss: 0.2644 - val_accuracy: 0.9287\n",
      "Epoch 9/100\n",
      "100/100 [==============================] - 56s 563ms/step - loss: 0.0846 - accuracy: 0.9678 - val_loss: 0.2683 - val_accuracy: 0.9300\n",
      "Epoch 10/100\n",
      "100/100 [==============================] - 36s 362ms/step - loss: 0.0750 - accuracy: 0.9728 - val_loss: 0.2777 - val_accuracy: 0.9250\n",
      "Epoch 11/100\n",
      "100/100 [==============================] - 33s 330ms/step - loss: 0.0700 - accuracy: 0.9725 - val_loss: 0.3017 - val_accuracy: 0.9212\n",
      "Epoch 12/100\n",
      "100/100 [==============================] - 32s 319ms/step - loss: 0.0610 - accuracy: 0.9762 - val_loss: 0.3144 - val_accuracy: 0.9237\n",
      "Epoch 13/100\n",
      "100/100 [==============================] - 32s 325ms/step - loss: 0.0548 - accuracy: 0.9781 - val_loss: 0.3176 - val_accuracy: 0.9262\n",
      "Epoch 14/100\n",
      "100/100 [==============================] - 33s 336ms/step - loss: 0.0514 - accuracy: 0.9778 - val_loss: 0.3269 - val_accuracy: 0.9300\n",
      "Epoch 15/100\n",
      "100/100 [==============================] - 33s 334ms/step - loss: 0.0495 - accuracy: 0.9797 - val_loss: 0.3397 - val_accuracy: 0.9200\n"
     ]
    },
    {
     "data": {
      "text/plain": [
       "<keras.callbacks.History at 0x287d251cf70>"
      ]
     },
     "execution_count": 388,
     "metadata": {},
     "output_type": "execute_result"
    }
   ],
   "source": [
    "model_GRU_best.fit(train_dataset,\n",
    "                             epochs=100,\n",
    "                             steps_per_epoch=len(train_dataset),\n",
    "                             validation_data=(val_dataset),\n",
    "                             validation_steps=len(val_dataset),\n",
    "                             callbacks=[tf.keras.callbacks.EarlyStopping(monitor=\"val_accuracy\", \n",
    "                                                                         patience=10,\n",
    "                                                                         restore_best_weights=True)])"
   ]
  },
  {
   "cell_type": "code",
   "execution_count": 397,
   "id": "c2ee2709-bc3d-4672-b872-49319d68c549",
   "metadata": {},
   "outputs": [
    {
     "data": {
      "text/plain": [
       "array([[0.00819387, 0.02450749, 0.9672986 ],\n",
       "       [0.00896376, 0.02603949, 0.96499676],\n",
       "       [0.01366628, 0.0341852 , 0.9521485 ],\n",
       "       [0.00845218, 0.0250049 , 0.96654296],\n",
       "       [0.00858216, 0.02525411, 0.9661637 ]], dtype=float32)"
      ]
     },
     "execution_count": 397,
     "metadata": {},
     "output_type": "execute_result"
    }
   ],
   "source": [
    "model_GRU_best_pred_prob = model_GRU_best.predict(val_dataset)\n",
    "model_GRU_best_pred_prob[:5]\n"
   ]
  },
  {
   "cell_type": "code",
   "execution_count": 398,
   "id": "fded0d32-1c45-4bd1-b56d-56dfae78e09c",
   "metadata": {},
   "outputs": [
    {
     "data": {
      "text/plain": [
       "array([2, 2, 2, 2, 2], dtype=int64)"
      ]
     },
     "execution_count": 398,
     "metadata": {},
     "output_type": "execute_result"
    }
   ],
   "source": [
    "model_GRU_best_pred = tf.argmax(model_GRU_best_pred_prob,axis=1)\n",
    "model_LSTM_best_pred.numpy()[:5]"
   ]
  },
  {
   "cell_type": "code",
   "execution_count": 399,
   "id": "adf23a33-7e2a-4640-949d-ca3a8b713874",
   "metadata": {},
   "outputs": [
    {
     "data": {
      "text/plain": [
       "{'accuracy': 0.94625,\n",
       " 'precision': 0.9491608942065491,\n",
       " 'recall': 0.94625,\n",
       " 'f1-score': 0.9250068782750709}"
      ]
     },
     "execution_count": 399,
     "metadata": {},
     "output_type": "execute_result"
    }
   ],
   "source": [
    "model_GRU_best_result = result(y_true=test_label,\n",
    "                          y_pred=model_GRU_best_pred)\n",
    "model_GRU_best_result"
   ]
  },
  {
   "cell_type": "markdown",
   "id": "15d6b214-b706-46ec-a72e-e21e66c1d375",
   "metadata": {},
   "source": [
    "So, now we have got the best version of both LSTM as well as GRU."
   ]
  },
  {
   "cell_type": "markdown",
   "id": "33d38519-ee54-436c-8978-b891ff8e838c",
   "metadata": {},
   "source": [
    "### Step-13: Cluster similar reviews."
   ]
  },
  {
   "cell_type": "markdown",
   "id": "2a5b126d-dd51-4aa2-ad28-c90815c50976",
   "metadata": {},
   "source": [
    "We will do cluster similar reviews and topic modeling  with the help of LDA module of gensim library. First task is to clean the sentences from any punctuation, stop words and then lemmatize the word. "
   ]
  },
  {
   "cell_type": "code",
   "execution_count": 60,
   "id": "4a195cf5-24fd-4a90-bd00-2dfab5f9da4b",
   "metadata": {},
   "outputs": [],
   "source": [
    "from nltk.corpus import stopwords\n",
    "from nltk.stem.wordnet import WordNetLemmatizer\n",
    "import string\n",
    "stop = set(stopwords.words('english')) # for removing stopwords\n",
    "exclude = set(string.punctuation)   # for removing punctuations\n",
    "lemma = WordNetLemmatizer()  # for lemmatization\n",
    "def clean(doc):\n",
    "    stop_free = \" \".join([i for i in doc.lower().split() if i not in stop])\n",
    "    punc_free = ''.join(ch for ch in stop_free if ch not in exclude)\n",
    "    normalized = \" \".join(lemma.lemmatize(word) for word in punc_free.split())\n",
    "    return normalized"
   ]
  },
  {
   "cell_type": "code",
   "execution_count": 61,
   "id": "c7d59b8e-d159-458a-b0da-93adb070f4ae",
   "metadata": {},
   "outputs": [],
   "source": [
    "sentences = [text for text in df_train[\"reviews.text\"]]"
   ]
  },
  {
   "cell_type": "code",
   "execution_count": 62,
   "id": "6aa222cd-17f4-43eb-bfb3-6122f3aa19ae",
   "metadata": {},
   "outputs": [
    {
     "data": {
      "text/plain": [
       "['Purchased on Black FridayPros - Great Price (even off sale)Very powerful and fast with quad core processors Amazing soundWell builtCons -Amazon ads, Amazon need this to subsidize the tablet and will remove the adds if you pay them $15.Inability to access other apps except the ones from Amazon. There is a way which I was able to accomplish to add the Google Play storeNet this is a great tablet for the money',\n",
       " 'I purchased two Amazon in Echo Plus and two dots plus four fire sticks and the hub Philips hue for lamp for the family at Christmas 2017. I‚Äôm so happy with these purchases and learning so much with Alexa. You can start your daily routine with Alexa and program it to whatever you would like to include news weather music horoscope ALSO you can start your day off with a compliment and I think is very important. Alexa gave me the BEST CHILI RECIPE I MEAN THE BEST it‚Äôs called Chili I. I want my husband to use Alexa to stay organized for business dates and reminders. This is the way to go',\n",
       " 'Just an average Alexa option. Does show a few things on screen but still limited.',\n",
       " 'very good product. Exactly what I wanted, and a very good price',\n",
       " \"This is the 3rd one I've purchased. I've bought one for all of my nieces. No other case compares to this one. It has held protected the tablet so many times from them dropping it.\"]"
      ]
     },
     "execution_count": 62,
     "metadata": {},
     "output_type": "execute_result"
    }
   ],
   "source": [
    "sentences[:5]"
   ]
  },
  {
   "cell_type": "code",
   "execution_count": 14,
   "id": "9c406154-cb68-456c-8db5-755ddade2728",
   "metadata": {},
   "outputs": [],
   "source": [
    "# applying this function to compiled \"doc\" file\n",
    "doc_clean = [clean(doc).split() for doc in sentences]"
   ]
  },
  {
   "cell_type": "code",
   "execution_count": 15,
   "id": "ba2debf1-c0a2-4b8a-a79c-661c7e98e646",
   "metadata": {},
   "outputs": [
    {
     "data": {
      "text/plain": [
       "['purchased', 'black', 'fridaypros', 'great', 'price']"
      ]
     },
     "execution_count": 15,
     "metadata": {},
     "output_type": "execute_result"
    }
   ],
   "source": [
    "doc_clean[0][:5]"
   ]
  },
  {
   "cell_type": "markdown",
   "id": "dca79a9d-7636-42b2-8e0a-d11883f7c63b",
   "metadata": {},
   "source": [
    "Now we will use gensim library to create the term dictionary of our corpus, where every unique term is assigned as index."
   ]
  },
  {
   "cell_type": "code",
   "execution_count": 22,
   "id": "21b8ebda-d24d-47eb-9842-df6f4595ccf2",
   "metadata": {},
   "outputs": [],
   "source": [
    "import gensim\n",
    "from gensim import corpora"
   ]
  },
  {
   "cell_type": "code",
   "execution_count": 23,
   "id": "b8256715",
   "metadata": {},
   "outputs": [
    {
     "name": "stdout",
     "output_type": "stream",
     "text": [
      "3.8.3\n"
     ]
    }
   ],
   "source": [
    "print(gensim.__version__)"
   ]
  },
  {
   "cell_type": "code",
   "execution_count": 24,
   "id": "671d0c12-df3b-4af3-ae6b-ebfd15c2f8ff",
   "metadata": {},
   "outputs": [],
   "source": [
    "# creating the term dictionary of our corpus, where every unique term is assigned as index\n",
    "dictionary = corpora.Dictionary(doc_clean)"
   ]
  },
  {
   "cell_type": "markdown",
   "id": "bf258ac1-437e-40ae-b656-3d2f59301a2a",
   "metadata": {},
   "source": [
    "Next we will use `doc2bow` function to convert into Document Term Matrix using dictionary prepared above."
   ]
  },
  {
   "cell_type": "code",
   "execution_count": 25,
   "id": "b26ee1f4-9b46-48f9-8119-2b016569c20b",
   "metadata": {},
   "outputs": [],
   "source": [
    "doc_term_matrix = [dictionary.doc2bow(doc) for doc in doc_clean]"
   ]
  },
  {
   "cell_type": "code",
   "execution_count": 26,
   "id": "aee810fa-699f-440e-9ae6-4b423697da48",
   "metadata": {},
   "outputs": [
    {
     "data": {
      "text/plain": [
       "[(0, 1), (1, 1), (2, 1), (3, 1), (4, 1)]"
      ]
     },
     "execution_count": 26,
     "metadata": {},
     "output_type": "execute_result"
    }
   ],
   "source": [
    "doc_term_matrix[0][:5]"
   ]
  },
  {
   "cell_type": "markdown",
   "id": "0abfe17a-1318-41aa-8a6c-3bdf062a438e",
   "metadata": {},
   "source": [
    "Since now we have converted data into document term matrix, now we can apply LDA model on it. Converting into document term matrix is LDA prerequisite.  "
   ]
  },
  {
   "cell_type": "code",
   "execution_count": 27,
   "id": "e28f5054-7d9c-4971-8524-5c9638eda2b2",
   "metadata": {},
   "outputs": [],
   "source": [
    "# creating the object for LDA model using gensim library\n",
    "Lda = gensim.models.ldamodel.LdaModel"
   ]
  },
  {
   "cell_type": "code",
   "execution_count": 28,
   "id": "d2384379-3b4f-4a0c-aca6-92f9a08ab50c",
   "metadata": {},
   "outputs": [],
   "source": [
    "lda_model = Lda(corpus=doc_term_matrix,num_topics=10,id2word=dictionary,passes=20,alpha='auto',per_word_topics=True)"
   ]
  },
  {
   "cell_type": "code",
   "execution_count": 67,
   "id": "e9b2399b",
   "metadata": {},
   "outputs": [
    {
     "data": {
      "text/plain": [
       "[(0,\n",
       "  '0.058*\"easy\" + 0.057*\"love\" + 0.049*\"it\" + 0.045*\"use\" + 0.035*\"bought\" + 0.026*\"gift\" + 0.026*\"tablet\" + 0.022*\"old\" + 0.021*\"great\" + 0.018*\"year\"'),\n",
       " (1,\n",
       "  '0.020*\"echo\" + 0.019*\"one\" + 0.013*\"device\" + 0.011*\"video\" + 0.010*\"would\" + 0.010*\"amazon\" + 0.009*\"like\" + 0.009*\"time\" + 0.009*\"dot\" + 0.009*\"better\"'),\n",
       " (2,\n",
       "  '0.048*\"tablet\" + 0.031*\"kid\" + 0.024*\"game\" + 0.018*\"great\" + 0.016*\"apps\" + 0.015*\"play\" + 0.013*\"time\" + 0.013*\"year\" + 0.012*\"old\" + 0.012*\"love\"'),\n",
       " (3,\n",
       "  '0.039*\"kindle\" + 0.015*\"battery\" + 0.014*\"fire\" + 0.012*\"amazon\" + 0.010*\"screen\" + 0.010*\"would\" + 0.010*\"life\" + 0.010*\"much\" + 0.010*\"tablet\" + 0.010*\"read\"'),\n",
       " (4,\n",
       "  '0.029*\"alexa\" + 0.027*\"show\" + 0.026*\"screen\" + 0.021*\"echo\" + 0.019*\"video\" + 0.018*\"music\" + 0.015*\"love\" + 0.014*\"like\" + 0.013*\"home\" + 0.012*\"see\"'),\n",
       " (5,\n",
       "  '0.045*\"love\" + 0.042*\"great\" + 0.034*\"recommend\" + 0.029*\"tablet\" + 0.026*\"would\" + 0.020*\"it\" + 0.016*\"price\" + 0.015*\"work\" + 0.014*\"kid\" + 0.014*\"bought\"'),\n",
       " (6,\n",
       "  '0.040*\"good\" + 0.035*\"great\" + 0.032*\"sound\" + 0.031*\"price\" + 0.024*\"quality\" + 0.017*\"picture\" + 0.014*\"screen\" + 0.014*\"tablet\" + 0.014*\"product\" + 0.013*\"love\"'),\n",
       " (7,\n",
       "  '0.038*\"echo\" + 0.032*\"great\" + 0.025*\"alexa\" + 0.019*\"music\" + 0.017*\"love\" + 0.016*\"amazon\" + 0.013*\"home\" + 0.013*\"use\" + 0.012*\"show\" + 0.012*\"work\"'),\n",
       " (8,\n",
       "  '0.021*\"book\" + 0.020*\"use\" + 0.020*\"read\" + 0.016*\"tablet\" + 0.010*\"love\" + 0.010*\"far\" + 0.010*\"go\" + 0.009*\"get\" + 0.008*\"it\" + 0.008*\"great\"'),\n",
       " (9,\n",
       "  '0.030*\"book\" + 0.025*\"reading\" + 0.023*\"great\" + 0.018*\"one\" + 0.017*\"kindle\" + 0.014*\"happy\" + 0.011*\"good\" + 0.011*\"im\" + 0.010*\"product\" + 0.010*\"read\"')]"
      ]
     },
     "execution_count": 67,
     "metadata": {},
     "output_type": "execute_result"
    }
   ],
   "source": [
    "lda_model.print_topics(num_topics=10,num_words=10)"
   ]
  },
  {
   "cell_type": "markdown",
   "id": "fd7911b1",
   "metadata": {},
   "source": [
    "The first sentence above <br/> <i> '0.058*\"easy\" + 0.057*\"love\" + 0.049*\"it\" + 0.045*\"use\" + 0.035*\"bought\" + 0.026*\"gift\" + 0.026*\"tablet\" + 0.022*\"old\" + 0.021*\"great\" + 0.018*\"year\" </i> <br/> could be undrstood as, top 10 keywords that contribute to this topic are: <i> easy, love, etc. </i> and weight of <i> easy </i> on this topic is 0.058 and love is 0.057.  "
   ]
  },
  {
   "cell_type": "code",
   "execution_count": 34,
   "id": "26bae7f7",
   "metadata": {},
   "outputs": [],
   "source": [
    "import gensim.corpora as corpora\n",
    "from gensim.utils import simple_preprocess\n",
    "from gensim.models import CoherenceModel"
   ]
  },
  {
   "cell_type": "code",
   "execution_count": 39,
   "id": "3849c10d",
   "metadata": {},
   "outputs": [
    {
     "name": "stdout",
     "output_type": "stream",
     "text": [
      "Perplexity:  -7.0559316865072\n",
      "\n",
      "Coherence Score:  0.38581876531479276\n"
     ]
    }
   ],
   "source": [
    "# Computing the Perplexity\n",
    "print('Perplexity: ', lda_model.log_perplexity(doc_term_matrix))  # a measure of how good the model is. lower the better.\n",
    "\n",
    "# Computing the Coherence Score\n",
    "coherence_model_lda = CoherenceModel(model=lda_model, texts=doc_clean, dictionary=dictionary, coherence='c_v')\n",
    "coherence_lda = coherence_model_lda.get_coherence()\n",
    "print('\\nCoherence Score: ', coherence_lda)"
   ]
  },
  {
   "cell_type": "code",
   "execution_count": 64,
   "id": "1dd4f03f",
   "metadata": {},
   "outputs": [
    {
     "data": {
      "text/html": [
       "<div>\n",
       "<style scoped>\n",
       "    .dataframe tbody tr th:only-of-type {\n",
       "        vertical-align: middle;\n",
       "    }\n",
       "\n",
       "    .dataframe tbody tr th {\n",
       "        vertical-align: top;\n",
       "    }\n",
       "\n",
       "    .dataframe thead th {\n",
       "        text-align: right;\n",
       "    }\n",
       "</style>\n",
       "<table border=\"1\" class=\"dataframe\">\n",
       "  <thead>\n",
       "    <tr style=\"text-align: right;\">\n",
       "      <th></th>\n",
       "      <th>Document_No</th>\n",
       "      <th>Dominant_Topic</th>\n",
       "      <th>Topic_Perc_Contrib</th>\n",
       "      <th>Keywords</th>\n",
       "      <th>Text</th>\n",
       "    </tr>\n",
       "  </thead>\n",
       "  <tbody>\n",
       "    <tr>\n",
       "      <th>0</th>\n",
       "      <td>0</td>\n",
       "      <td>7.0</td>\n",
       "      <td>0.5569</td>\n",
       "      <td>echo, great, alexa, music, love, amazon, home,...</td>\n",
       "      <td>Purchased on Black FridayPros - Great Price (e...</td>\n",
       "    </tr>\n",
       "    <tr>\n",
       "      <th>1</th>\n",
       "      <td>1</td>\n",
       "      <td>7.0</td>\n",
       "      <td>0.5372</td>\n",
       "      <td>echo, great, alexa, music, love, amazon, home,...</td>\n",
       "      <td>I purchased two Amazon in Echo Plus and two do...</td>\n",
       "    </tr>\n",
       "    <tr>\n",
       "      <th>2</th>\n",
       "      <td>2</td>\n",
       "      <td>4.0</td>\n",
       "      <td>0.9296</td>\n",
       "      <td>alexa, show, screen, echo, video, music, love,...</td>\n",
       "      <td>Just an average Alexa option. Does show a few ...</td>\n",
       "    </tr>\n",
       "    <tr>\n",
       "      <th>3</th>\n",
       "      <td>3</td>\n",
       "      <td>6.0</td>\n",
       "      <td>0.7202</td>\n",
       "      <td>good, great, sound, price, quality, picture, s...</td>\n",
       "      <td>very good product. Exactly what I wanted, and ...</td>\n",
       "    </tr>\n",
       "    <tr>\n",
       "      <th>4</th>\n",
       "      <td>4</td>\n",
       "      <td>6.0</td>\n",
       "      <td>0.6499</td>\n",
       "      <td>good, great, sound, price, quality, picture, s...</td>\n",
       "      <td>This is the 3rd one I've purchased. I've bough...</td>\n",
       "    </tr>\n",
       "    <tr>\n",
       "      <th>5</th>\n",
       "      <td>5</td>\n",
       "      <td>9.0</td>\n",
       "      <td>0.9296</td>\n",
       "      <td>book, reading, great, one, kindle, happy, good...</td>\n",
       "      <td>This is a great product. Light weight. I wish ...</td>\n",
       "    </tr>\n",
       "    <tr>\n",
       "      <th>6</th>\n",
       "      <td>6</td>\n",
       "      <td>9.0</td>\n",
       "      <td>0.6074</td>\n",
       "      <td>book, reading, great, one, kindle, happy, good...</td>\n",
       "      <td>My 7-year old daughter saved up to by this. He...</td>\n",
       "    </tr>\n",
       "    <tr>\n",
       "      <th>7</th>\n",
       "      <td>7</td>\n",
       "      <td>3.0</td>\n",
       "      <td>0.5364</td>\n",
       "      <td>kindle, battery, fire, amazon, screen, would, ...</td>\n",
       "      <td>Purchased this for my son. Has room to upgrade...</td>\n",
       "    </tr>\n",
       "    <tr>\n",
       "      <th>8</th>\n",
       "      <td>8</td>\n",
       "      <td>5.0</td>\n",
       "      <td>0.3367</td>\n",
       "      <td>love, great, recommend, tablet, would, it, pri...</td>\n",
       "      <td>Bought this for my mom and it was just what sh...</td>\n",
       "    </tr>\n",
       "    <tr>\n",
       "      <th>9</th>\n",
       "      <td>9</td>\n",
       "      <td>3.0</td>\n",
       "      <td>0.9116</td>\n",
       "      <td>kindle, battery, fire, amazon, screen, would, ...</td>\n",
       "      <td>was cheap, can not run chrome stuff, returned ...</td>\n",
       "    </tr>\n",
       "  </tbody>\n",
       "</table>\n",
       "</div>"
      ],
      "text/plain": [
       "   Document_No  Dominant_Topic  Topic_Perc_Contrib  \\\n",
       "0            0             7.0              0.5569   \n",
       "1            1             7.0              0.5372   \n",
       "2            2             4.0              0.9296   \n",
       "3            3             6.0              0.7202   \n",
       "4            4             6.0              0.6499   \n",
       "5            5             9.0              0.9296   \n",
       "6            6             9.0              0.6074   \n",
       "7            7             3.0              0.5364   \n",
       "8            8             5.0              0.3367   \n",
       "9            9             3.0              0.9116   \n",
       "\n",
       "                                            Keywords  \\\n",
       "0  echo, great, alexa, music, love, amazon, home,...   \n",
       "1  echo, great, alexa, music, love, amazon, home,...   \n",
       "2  alexa, show, screen, echo, video, music, love,...   \n",
       "3  good, great, sound, price, quality, picture, s...   \n",
       "4  good, great, sound, price, quality, picture, s...   \n",
       "5  book, reading, great, one, kindle, happy, good...   \n",
       "6  book, reading, great, one, kindle, happy, good...   \n",
       "7  kindle, battery, fire, amazon, screen, would, ...   \n",
       "8  love, great, recommend, tablet, would, it, pri...   \n",
       "9  kindle, battery, fire, amazon, screen, would, ...   \n",
       "\n",
       "                                                Text  \n",
       "0  Purchased on Black FridayPros - Great Price (e...  \n",
       "1  I purchased two Amazon in Echo Plus and two do...  \n",
       "2  Just an average Alexa option. Does show a few ...  \n",
       "3  very good product. Exactly what I wanted, and ...  \n",
       "4  This is the 3rd one I've purchased. I've bough...  \n",
       "5  This is a great product. Light weight. I wish ...  \n",
       "6  My 7-year old daughter saved up to by this. He...  \n",
       "7  Purchased this for my son. Has room to upgrade...  \n",
       "8  Bought this for my mom and it was just what sh...  \n",
       "9  was cheap, can not run chrome stuff, returned ...  "
      ]
     },
     "execution_count": 64,
     "metadata": {},
     "output_type": "execute_result"
    }
   ],
   "source": [
    "def format_topics_sentences(ldamodel=None, corpus=doc_term_matrix, texts=doc_clean):\n",
    "    # Init output\n",
    "    sent_topics_df = pd.DataFrame()\n",
    "\n",
    "    # Get main topic in each document\n",
    "    for i, row_list in enumerate(ldamodel[corpus]):\n",
    "        row = row_list[0] if ldamodel.per_word_topics else row_list            \n",
    "        # print(row)\n",
    "        row = sorted(row, key=lambda x: (x[1]), reverse=True)\n",
    "        # Get the Dominant topic, Perc Contribution and Keywords for each document\n",
    "        for j, (topic_num, prop_topic) in enumerate(row):\n",
    "            if j == 0:  #  dominant topic\n",
    "                wp = ldamodel.show_topic(topic_num)\n",
    "                topic_keywords = \", \".join([word for word, prop in wp])\n",
    "                sent_topics_df = sent_topics_df.append(pd.Series([int(topic_num), round(prop_topic,4), topic_keywords]), ignore_index=True)\n",
    "            else:\n",
    "                break\n",
    "    sent_topics_df.columns = ['Dominant_Topic', 'Perc_Contribution', 'Topic_Keywords']\n",
    "\n",
    "    # Add original text to the end of the output\n",
    "    contents = pd.Series(texts)\n",
    "    sent_topics_df = pd.concat([sent_topics_df, contents], axis=1)\n",
    "    return(sent_topics_df)\n",
    "\n",
    "\n",
    "df_topic_sents_keywords = format_topics_sentences(ldamodel=lda_model, corpus=doc_term_matrix, texts=sentences)\n",
    "\n",
    "# Format\n",
    "df_dominant_topic = df_topic_sents_keywords.reset_index()\n",
    "df_dominant_topic.columns = ['Document_No', 'Dominant_Topic', 'Topic_Perc_Contrib', 'Keywords', 'Text']\n",
    "df_dominant_topic.head(10)"
   ]
  },
  {
   "cell_type": "markdown",
   "id": "08aa3d7a",
   "metadata": {},
   "source": [
    "Let's view the top keywords of sentences."
   ]
  },
  {
   "cell_type": "code",
   "execution_count": 65,
   "id": "c4a6c983",
   "metadata": {
    "scrolled": true
   },
   "outputs": [
    {
     "data": {
      "text/plain": [
       "easy, love, it, use, bought, gift, tablet, old, great, year                   724\n",
       "echo, great, alexa, music, love, amazon, home, use, show, work                664\n",
       "tablet, kid, game, great, apps, play, time, year, old, love                   621\n",
       "kindle, battery, fire, amazon, screen, would, life, much, tablet, read        478\n",
       "love, great, recommend, tablet, would, it, price, work, kid, bought           333\n",
       "good, great, sound, price, quality, picture, screen, tablet, product, love    289\n",
       "book, reading, great, one, kindle, happy, good, im, product, read             248\n",
       "alexa, show, screen, echo, video, music, love, like, home, see                226\n",
       "book, use, read, tablet, love, far, go, get, it, great                        220\n",
       "echo, one, device, video, would, amazon, like, time, dot, better              197\n",
       "Name: Keywords, dtype: int64"
      ]
     },
     "execution_count": 65,
     "metadata": {},
     "output_type": "execute_result"
    }
   ],
   "source": [
    "df_dominant_topic[\"Keywords\"].value_counts()"
   ]
  },
  {
   "cell_type": "markdown",
   "id": "a2240ba3",
   "metadata": {},
   "source": [
    "There are 10 words for every document. Let's visualize this and see we can come up with a better short name. Though, it is not possible to come up with exact name which will accurately fit all the sentences in this cluster, but it will capture the essence. "
   ]
  },
  {
   "cell_type": "code",
   "execution_count": 72,
   "id": "afae000f",
   "metadata": {},
   "outputs": [
    {
     "data": {
      "text/plain": [
       "12      Love the choice of colors. Have two kindles of...\n",
       "14      We bought this to replace my children's aging ...\n",
       "15      This was a great purchase! Love the fact I can...\n",
       "21      Great tablet for the grandkids, they love it g...\n",
       "25      This was a gift for mom. She enjoys that it's ...\n",
       "                              ...                        \n",
       "3944    Bought for my eight year old. She absolutely l...\n",
       "3957    Bought online for my granddaughter and she lov...\n",
       "3974    I got this tablet for Skype calls and browsing...\n",
       "3992    Works seamlessly and easy to set up and use. A...\n",
       "3999    very satisfied with tablet, very fast and effi...\n",
       "Name: Text, Length: 724, dtype: object"
      ]
     },
     "execution_count": 72,
     "metadata": {},
     "output_type": "execute_result"
    }
   ],
   "source": [
    "df_dominant_topic.loc[df_dominant_topic[\"Keywords\"]==\"easy, love, it, use, bought, gift, tablet, old, great, year\"][\"Text\"]"
   ]
  },
  {
   "cell_type": "markdown",
   "id": "286d35e7",
   "metadata": {},
   "source": [
    "So, thise group of data mostly talk about gifts. We will keep such sentences under gift categories. <br/>\n",
    "Similarly doing for 2nd category: <i> \"echo, great, alexa, music, love, amazon, home, use, show, work\" </i>. "
   ]
  },
  {
   "cell_type": "code",
   "execution_count": 86,
   "id": "242b29f6",
   "metadata": {},
   "outputs": [
    {
     "data": {
      "text/plain": [
       "0       Purchased on Black FridayPros - Great Price (e...\n",
       "1       I purchased two Amazon in Echo Plus and two do...\n",
       "24      If you want to listen to music you will have t...\n",
       "30      We are new to connected home equipment. I got ...\n",
       "31      I use it alot to play music instead of running...\n",
       "                              ...                        \n",
       "3968    I purchased two echo dots for Black Friday, on...\n",
       "3984    The whole family uses the ECHO we love the abi...\n",
       "3987    This product is great and a nice addition to t...\n",
       "3988    This Amazon Echo is the COOLEST gadget you can...\n",
       "3990    Was recommended to me, and we love it, use for...\n",
       "Name: Text, Length: 664, dtype: object"
      ]
     },
     "execution_count": 86,
     "metadata": {},
     "output_type": "execute_result"
    }
   ],
   "source": [
    "df_dominant_topic.loc[df_dominant_topic[\"Keywords\"]==\"echo, great, alexa, music, love, amazon, home, use, show, work\"][\"Text\"]"
   ]
  },
  {
   "cell_type": "markdown",
   "id": "0d39da9e",
   "metadata": {},
   "source": [
    "It looks like, it talk about Alexa Music. Similarly viewing others and come up with shorrt description."
   ]
  },
  {
   "cell_type": "markdown",
   "id": "c6bcb425",
   "metadata": {},
   "source": [
    "We have come up with this final list after performing on all the 10 rows."
   ]
  },
  {
   "cell_type": "markdown",
   "id": "91352bb2",
   "metadata": {},
   "source": [
    "<i> 1) Gift 2) Alexa: Music,Home 3) Tablets: storage,need & parental control  4) Kindle: Battery performance and life 5) Tablet: Price & Bettery 6) Alexa: Speaker, Tablet: Screen 7) Kindle: Easy reading,use. 8) Alexa: Echo sound,music 9) Tablet: Performance and price 10) Alexa: Fun & Price   </i>"
   ]
  },
  {
   "cell_type": "markdown",
   "id": "880e36cb",
   "metadata": {},
   "source": [
    "Let's fit this on dataframe."
   ]
  },
  {
   "cell_type": "code",
   "execution_count": 88,
   "id": "e131ec65",
   "metadata": {},
   "outputs": [
    {
     "data": {
      "text/plain": [
       "easy, love, it, use, bought, gift, tablet, old, great, year                   724\n",
       "echo, great, alexa, music, love, amazon, home, use, show, work                664\n",
       "tablet, kid, game, great, apps, play, time, year, old, love                   621\n",
       "kindle, battery, fire, amazon, screen, would, life, much, tablet, read        478\n",
       "love, great, recommend, tablet, would, it, price, work, kid, bought           333\n",
       "good, great, sound, price, quality, picture, screen, tablet, product, love    289\n",
       "book, reading, great, one, kindle, happy, good, im, product, read             248\n",
       "alexa, show, screen, echo, video, music, love, like, home, see                226\n",
       "book, use, read, tablet, love, far, go, get, it, great                        220\n",
       "echo, one, device, video, would, amazon, like, time, dot, better              197\n",
       "Name: Keywords, dtype: int64"
      ]
     },
     "execution_count": 88,
     "metadata": {},
     "output_type": "execute_result"
    }
   ],
   "source": [
    "df_dominant_topic[\"Keywords\"].value_counts()"
   ]
  },
  {
   "cell_type": "code",
   "execution_count": 102,
   "id": "9a313816",
   "metadata": {},
   "outputs": [],
   "source": [
    "df_dominant_topic[\"Topic\"] = df_dominant_topic[\"Keywords\"].map({\n",
    "    \"easy, love, it, use, bought, gift, tablet, old, great, year\" : 0,\n",
    "    \"echo, great, alexa, music, love, amazon, home, use, show, work\" : 1,\n",
    "    \"tablet, kid, game, great, apps, play, time, year, old, love\" : 2,\n",
    "    \"kindle, battery, fire, amazon, screen, would, life, much, tablet, read\" : 3,\n",
    "    \"love, great, recommend, tablet, would, it, price, work, kid, bought\" : 4,\n",
    "    \"good, great, sound, price, quality, picture, screen, tablet, product, love\" : 5,\n",
    "    \"book, reading, great, one, kindle, happy, good, im, product, read\" : 6,\n",
    "    \"alexa, show, screen, echo, video, music, love, like, home, see\" : 7,\n",
    "    \"book, use, read, tablet, love, far, go, get, it, great\"  : 8,\n",
    "    \"echo, one, device, video, would, amazon, like, time, dot, better\" : 9\n",
    "    })"
   ]
  },
  {
   "cell_type": "code",
   "execution_count": 103,
   "id": "72209486",
   "metadata": {},
   "outputs": [
    {
     "data": {
      "text/html": [
       "<div>\n",
       "<style scoped>\n",
       "    .dataframe tbody tr th:only-of-type {\n",
       "        vertical-align: middle;\n",
       "    }\n",
       "\n",
       "    .dataframe tbody tr th {\n",
       "        vertical-align: top;\n",
       "    }\n",
       "\n",
       "    .dataframe thead th {\n",
       "        text-align: right;\n",
       "    }\n",
       "</style>\n",
       "<table border=\"1\" class=\"dataframe\">\n",
       "  <thead>\n",
       "    <tr style=\"text-align: right;\">\n",
       "      <th></th>\n",
       "      <th>Document_No</th>\n",
       "      <th>Dominant_Topic</th>\n",
       "      <th>Topic_Perc_Contrib</th>\n",
       "      <th>Keywords</th>\n",
       "      <th>Text</th>\n",
       "      <th>Topic</th>\n",
       "    </tr>\n",
       "  </thead>\n",
       "  <tbody>\n",
       "    <tr>\n",
       "      <th>0</th>\n",
       "      <td>0</td>\n",
       "      <td>7.0</td>\n",
       "      <td>0.5569</td>\n",
       "      <td>echo, great, alexa, music, love, amazon, home,...</td>\n",
       "      <td>Purchased on Black FridayPros - Great Price (e...</td>\n",
       "      <td>1</td>\n",
       "    </tr>\n",
       "    <tr>\n",
       "      <th>1</th>\n",
       "      <td>1</td>\n",
       "      <td>7.0</td>\n",
       "      <td>0.5372</td>\n",
       "      <td>echo, great, alexa, music, love, amazon, home,...</td>\n",
       "      <td>I purchased two Amazon in Echo Plus and two do...</td>\n",
       "      <td>1</td>\n",
       "    </tr>\n",
       "    <tr>\n",
       "      <th>2</th>\n",
       "      <td>2</td>\n",
       "      <td>4.0</td>\n",
       "      <td>0.9296</td>\n",
       "      <td>alexa, show, screen, echo, video, music, love,...</td>\n",
       "      <td>Just an average Alexa option. Does show a few ...</td>\n",
       "      <td>7</td>\n",
       "    </tr>\n",
       "    <tr>\n",
       "      <th>3</th>\n",
       "      <td>3</td>\n",
       "      <td>6.0</td>\n",
       "      <td>0.7202</td>\n",
       "      <td>good, great, sound, price, quality, picture, s...</td>\n",
       "      <td>very good product. Exactly what I wanted, and ...</td>\n",
       "      <td>5</td>\n",
       "    </tr>\n",
       "    <tr>\n",
       "      <th>4</th>\n",
       "      <td>4</td>\n",
       "      <td>6.0</td>\n",
       "      <td>0.6499</td>\n",
       "      <td>good, great, sound, price, quality, picture, s...</td>\n",
       "      <td>This is the 3rd one I've purchased. I've bough...</td>\n",
       "      <td>5</td>\n",
       "    </tr>\n",
       "  </tbody>\n",
       "</table>\n",
       "</div>"
      ],
      "text/plain": [
       "   Document_No  Dominant_Topic  Topic_Perc_Contrib  \\\n",
       "0            0             7.0              0.5569   \n",
       "1            1             7.0              0.5372   \n",
       "2            2             4.0              0.9296   \n",
       "3            3             6.0              0.7202   \n",
       "4            4             6.0              0.6499   \n",
       "\n",
       "                                            Keywords  \\\n",
       "0  echo, great, alexa, music, love, amazon, home,...   \n",
       "1  echo, great, alexa, music, love, amazon, home,...   \n",
       "2  alexa, show, screen, echo, video, music, love,...   \n",
       "3  good, great, sound, price, quality, picture, s...   \n",
       "4  good, great, sound, price, quality, picture, s...   \n",
       "\n",
       "                                                Text  Topic  \n",
       "0  Purchased on Black FridayPros - Great Price (e...      1  \n",
       "1  I purchased two Amazon in Echo Plus and two do...      1  \n",
       "2  Just an average Alexa option. Does show a few ...      7  \n",
       "3  very good product. Exactly what I wanted, and ...      5  \n",
       "4  This is the 3rd one I've purchased. I've bough...      5  "
      ]
     },
     "execution_count": 103,
     "metadata": {},
     "output_type": "execute_result"
    }
   ],
   "source": [
    "df_dominant_topic.head()"
   ]
  },
  {
   "cell_type": "markdown",
   "id": "3c38e52c",
   "metadata": {},
   "source": []
  },
  {
   "cell_type": "code",
   "execution_count": 105,
   "id": "8dec80b4",
   "metadata": {},
   "outputs": [],
   "source": [
    "df_dominant_topic[\"Topic\"] = df_dominant_topic[\"Topic\"].map({0: \"Gift\",\n",
    "                                                             1: \"Alexa: Music,Home\",\n",
    "                                                             2: \"Tablets: storage,need & parental control\",\n",
    "                                                             3: \"Kindle: Battery performance and life\",\n",
    "                                                             4: \"Tablet: Price & Bettery\",\n",
    "                                                             5: \"Alexa: Speaker, Tablet: Screen\",\n",
    "                                                             6: \"Kindle: Easy reading,use\",\n",
    "                                                             7: \"Alexa: Echo sound,music\",\n",
    "                                                             8: \"Tablet: Performance and price\",\n",
    "                                                             9: \"Alexa: Fun & Price\"}) "
   ]
  },
  {
   "cell_type": "code",
   "execution_count": 106,
   "id": "dcf3b2fd",
   "metadata": {},
   "outputs": [
    {
     "data": {
      "text/html": [
       "<div>\n",
       "<style scoped>\n",
       "    .dataframe tbody tr th:only-of-type {\n",
       "        vertical-align: middle;\n",
       "    }\n",
       "\n",
       "    .dataframe tbody tr th {\n",
       "        vertical-align: top;\n",
       "    }\n",
       "\n",
       "    .dataframe thead th {\n",
       "        text-align: right;\n",
       "    }\n",
       "</style>\n",
       "<table border=\"1\" class=\"dataframe\">\n",
       "  <thead>\n",
       "    <tr style=\"text-align: right;\">\n",
       "      <th></th>\n",
       "      <th>Document_No</th>\n",
       "      <th>Dominant_Topic</th>\n",
       "      <th>Topic_Perc_Contrib</th>\n",
       "      <th>Keywords</th>\n",
       "      <th>Text</th>\n",
       "      <th>Topic</th>\n",
       "    </tr>\n",
       "  </thead>\n",
       "  <tbody>\n",
       "    <tr>\n",
       "      <th>0</th>\n",
       "      <td>0</td>\n",
       "      <td>7.0</td>\n",
       "      <td>0.5569</td>\n",
       "      <td>echo, great, alexa, music, love, amazon, home,...</td>\n",
       "      <td>Purchased on Black FridayPros - Great Price (e...</td>\n",
       "      <td>Alexa: Music,Home</td>\n",
       "    </tr>\n",
       "    <tr>\n",
       "      <th>1</th>\n",
       "      <td>1</td>\n",
       "      <td>7.0</td>\n",
       "      <td>0.5372</td>\n",
       "      <td>echo, great, alexa, music, love, amazon, home,...</td>\n",
       "      <td>I purchased two Amazon in Echo Plus and two do...</td>\n",
       "      <td>Alexa: Music,Home</td>\n",
       "    </tr>\n",
       "    <tr>\n",
       "      <th>2</th>\n",
       "      <td>2</td>\n",
       "      <td>4.0</td>\n",
       "      <td>0.9296</td>\n",
       "      <td>alexa, show, screen, echo, video, music, love,...</td>\n",
       "      <td>Just an average Alexa option. Does show a few ...</td>\n",
       "      <td>Alexa: Echo sound,music</td>\n",
       "    </tr>\n",
       "    <tr>\n",
       "      <th>3</th>\n",
       "      <td>3</td>\n",
       "      <td>6.0</td>\n",
       "      <td>0.7202</td>\n",
       "      <td>good, great, sound, price, quality, picture, s...</td>\n",
       "      <td>very good product. Exactly what I wanted, and ...</td>\n",
       "      <td>Alexa: Speaker, Tablet: Screen</td>\n",
       "    </tr>\n",
       "    <tr>\n",
       "      <th>4</th>\n",
       "      <td>4</td>\n",
       "      <td>6.0</td>\n",
       "      <td>0.6499</td>\n",
       "      <td>good, great, sound, price, quality, picture, s...</td>\n",
       "      <td>This is the 3rd one I've purchased. I've bough...</td>\n",
       "      <td>Alexa: Speaker, Tablet: Screen</td>\n",
       "    </tr>\n",
       "  </tbody>\n",
       "</table>\n",
       "</div>"
      ],
      "text/plain": [
       "   Document_No  Dominant_Topic  Topic_Perc_Contrib  \\\n",
       "0            0             7.0              0.5569   \n",
       "1            1             7.0              0.5372   \n",
       "2            2             4.0              0.9296   \n",
       "3            3             6.0              0.7202   \n",
       "4            4             6.0              0.6499   \n",
       "\n",
       "                                            Keywords  \\\n",
       "0  echo, great, alexa, music, love, amazon, home,...   \n",
       "1  echo, great, alexa, music, love, amazon, home,...   \n",
       "2  alexa, show, screen, echo, video, music, love,...   \n",
       "3  good, great, sound, price, quality, picture, s...   \n",
       "4  good, great, sound, price, quality, picture, s...   \n",
       "\n",
       "                                                Text  \\\n",
       "0  Purchased on Black FridayPros - Great Price (e...   \n",
       "1  I purchased two Amazon in Echo Plus and two do...   \n",
       "2  Just an average Alexa option. Does show a few ...   \n",
       "3  very good product. Exactly what I wanted, and ...   \n",
       "4  This is the 3rd one I've purchased. I've bough...   \n",
       "\n",
       "                            Topic  \n",
       "0               Alexa: Music,Home  \n",
       "1               Alexa: Music,Home  \n",
       "2         Alexa: Echo sound,music  \n",
       "3  Alexa: Speaker, Tablet: Screen  \n",
       "4  Alexa: Speaker, Tablet: Screen  "
      ]
     },
     "execution_count": 106,
     "metadata": {},
     "output_type": "execute_result"
    }
   ],
   "source": [
    "df_dominant_topic.head()"
   ]
  },
  {
   "cell_type": "code",
   "execution_count": 111,
   "id": "713dabec",
   "metadata": {},
   "outputs": [],
   "source": [
    "df_train.rename(columns={\"reviews.text\":\"Text\",\"sentiment\":\"Sentiment\"},inplace=True)"
   ]
  },
  {
   "cell_type": "markdown",
   "id": "20344880",
   "metadata": {},
   "source": [
    "Now let's merge this two dataframe to create a better visual understanding."
   ]
  },
  {
   "cell_type": "code",
   "execution_count": 112,
   "id": "f8092fa3",
   "metadata": {},
   "outputs": [],
   "source": [
    "df_final = pd.merge(df_dominant_topic,df_train,on=\"Text\",how=\"left\")"
   ]
  },
  {
   "cell_type": "code",
   "execution_count": 114,
   "id": "f93aef15",
   "metadata": {},
   "outputs": [
    {
     "data": {
      "text/html": [
       "<div>\n",
       "<style scoped>\n",
       "    .dataframe tbody tr th:only-of-type {\n",
       "        vertical-align: middle;\n",
       "    }\n",
       "\n",
       "    .dataframe tbody tr th {\n",
       "        vertical-align: top;\n",
       "    }\n",
       "\n",
       "    .dataframe thead th {\n",
       "        text-align: right;\n",
       "    }\n",
       "</style>\n",
       "<table border=\"1\" class=\"dataframe\">\n",
       "  <thead>\n",
       "    <tr style=\"text-align: right;\">\n",
       "      <th></th>\n",
       "      <th>Document_No</th>\n",
       "      <th>Dominant_Topic</th>\n",
       "      <th>Topic_Perc_Contrib</th>\n",
       "      <th>Keywords</th>\n",
       "      <th>Text</th>\n",
       "      <th>Topic</th>\n",
       "      <th>name</th>\n",
       "      <th>brand</th>\n",
       "      <th>categories</th>\n",
       "      <th>primaryCategories</th>\n",
       "      <th>reviews.date</th>\n",
       "      <th>reviews.title</th>\n",
       "      <th>Sentiment</th>\n",
       "    </tr>\n",
       "  </thead>\n",
       "  <tbody>\n",
       "    <tr>\n",
       "      <th>0</th>\n",
       "      <td>0</td>\n",
       "      <td>7.0</td>\n",
       "      <td>0.5569</td>\n",
       "      <td>echo, great, alexa, music, love, amazon, home,...</td>\n",
       "      <td>Purchased on Black FridayPros - Great Price (e...</td>\n",
       "      <td>Alexa: Music,Home</td>\n",
       "      <td>All-New Fire HD 8 Tablet, 8\" HD Display, Wi-Fi...</td>\n",
       "      <td>Amazon</td>\n",
       "      <td>Electronics,iPad &amp; Tablets,All Tablets,Fire Ta...</td>\n",
       "      <td>Electronics</td>\n",
       "      <td>2016-12-26T00:00:00.000Z</td>\n",
       "      <td>Powerful tablet</td>\n",
       "      <td>Positive</td>\n",
       "    </tr>\n",
       "    <tr>\n",
       "      <th>1</th>\n",
       "      <td>1</td>\n",
       "      <td>7.0</td>\n",
       "      <td>0.5372</td>\n",
       "      <td>echo, great, alexa, music, love, amazon, home,...</td>\n",
       "      <td>I purchased two Amazon in Echo Plus and two do...</td>\n",
       "      <td>Alexa: Music,Home</td>\n",
       "      <td>Amazon - Echo Plus w/ Built-In Hub - Silver</td>\n",
       "      <td>Amazon</td>\n",
       "      <td>Amazon Echo,Smart Home,Networking,Home &amp; Tools...</td>\n",
       "      <td>Electronics,Hardware</td>\n",
       "      <td>2018-01-17T00:00:00.000Z</td>\n",
       "      <td>Amazon Echo Plus AWESOME</td>\n",
       "      <td>Positive</td>\n",
       "    </tr>\n",
       "    <tr>\n",
       "      <th>2</th>\n",
       "      <td>2</td>\n",
       "      <td>4.0</td>\n",
       "      <td>0.9296</td>\n",
       "      <td>alexa, show, screen, echo, video, music, love,...</td>\n",
       "      <td>Just an average Alexa option. Does show a few ...</td>\n",
       "      <td>Alexa: Echo sound,music</td>\n",
       "      <td>Amazon Echo Show Alexa-enabled Bluetooth Speak...</td>\n",
       "      <td>Amazon</td>\n",
       "      <td>Amazon Echo,Virtual Assistant Speakers,Electro...</td>\n",
       "      <td>Electronics,Hardware</td>\n",
       "      <td>2017-12-20T00:00:00.000Z</td>\n",
       "      <td>Average</td>\n",
       "      <td>Neutral</td>\n",
       "    </tr>\n",
       "  </tbody>\n",
       "</table>\n",
       "</div>"
      ],
      "text/plain": [
       "   Document_No  Dominant_Topic  Topic_Perc_Contrib  \\\n",
       "0            0             7.0              0.5569   \n",
       "1            1             7.0              0.5372   \n",
       "2            2             4.0              0.9296   \n",
       "\n",
       "                                            Keywords  \\\n",
       "0  echo, great, alexa, music, love, amazon, home,...   \n",
       "1  echo, great, alexa, music, love, amazon, home,...   \n",
       "2  alexa, show, screen, echo, video, music, love,...   \n",
       "\n",
       "                                                Text                    Topic  \\\n",
       "0  Purchased on Black FridayPros - Great Price (e...        Alexa: Music,Home   \n",
       "1  I purchased two Amazon in Echo Plus and two do...        Alexa: Music,Home   \n",
       "2  Just an average Alexa option. Does show a few ...  Alexa: Echo sound,music   \n",
       "\n",
       "                                                name   brand  \\\n",
       "0  All-New Fire HD 8 Tablet, 8\" HD Display, Wi-Fi...  Amazon   \n",
       "1        Amazon - Echo Plus w/ Built-In Hub - Silver  Amazon   \n",
       "2  Amazon Echo Show Alexa-enabled Bluetooth Speak...  Amazon   \n",
       "\n",
       "                                          categories     primaryCategories  \\\n",
       "0  Electronics,iPad & Tablets,All Tablets,Fire Ta...           Electronics   \n",
       "1  Amazon Echo,Smart Home,Networking,Home & Tools...  Electronics,Hardware   \n",
       "2  Amazon Echo,Virtual Assistant Speakers,Electro...  Electronics,Hardware   \n",
       "\n",
       "               reviews.date             reviews.title Sentiment  \n",
       "0  2016-12-26T00:00:00.000Z           Powerful tablet  Positive  \n",
       "1  2018-01-17T00:00:00.000Z  Amazon Echo Plus AWESOME  Positive  \n",
       "2  2017-12-20T00:00:00.000Z                   Average   Neutral  "
      ]
     },
     "execution_count": 114,
     "metadata": {},
     "output_type": "execute_result"
    }
   ],
   "source": [
    "df_final.head(3)"
   ]
  },
  {
   "cell_type": "markdown",
   "id": "05832b89",
   "metadata": {},
   "source": [
    "Let's make this dataframe simpler and east to read."
   ]
  },
  {
   "cell_type": "code",
   "execution_count": 116,
   "id": "414cb820",
   "metadata": {},
   "outputs": [],
   "source": [
    "df_final.drop(columns={\"Document_No\",\"Dominant_Topic\",\"name\",\"brand\",\"categories\",\n",
    "                       \"primaryCategories\",\"reviews.date\",\"reviews.title\"},axis=1,inplace=True)"
   ]
  },
  {
   "cell_type": "code",
   "execution_count": 117,
   "id": "e1e7d982",
   "metadata": {},
   "outputs": [
    {
     "data": {
      "text/html": [
       "<div>\n",
       "<style scoped>\n",
       "    .dataframe tbody tr th:only-of-type {\n",
       "        vertical-align: middle;\n",
       "    }\n",
       "\n",
       "    .dataframe tbody tr th {\n",
       "        vertical-align: top;\n",
       "    }\n",
       "\n",
       "    .dataframe thead th {\n",
       "        text-align: right;\n",
       "    }\n",
       "</style>\n",
       "<table border=\"1\" class=\"dataframe\">\n",
       "  <thead>\n",
       "    <tr style=\"text-align: right;\">\n",
       "      <th></th>\n",
       "      <th>Topic_Perc_Contrib</th>\n",
       "      <th>Keywords</th>\n",
       "      <th>Text</th>\n",
       "      <th>Topic</th>\n",
       "      <th>Sentiment</th>\n",
       "    </tr>\n",
       "  </thead>\n",
       "  <tbody>\n",
       "    <tr>\n",
       "      <th>4883</th>\n",
       "      <td>0.6124</td>\n",
       "      <td>echo, one, device, video, would, amazon, like,...</td>\n",
       "      <td>It‚Äôs fun for the family to play with, but it...</td>\n",
       "      <td>Alexa: Fun &amp; Price</td>\n",
       "      <td>Positive</td>\n",
       "    </tr>\n",
       "    <tr>\n",
       "      <th>4884</th>\n",
       "      <td>0.4977</td>\n",
       "      <td>book, reading, great, one, kindle, happy, good...</td>\n",
       "      <td>I love the Kindle, it is a great product. It r...</td>\n",
       "      <td>Kindle: Easy reading,use</td>\n",
       "      <td>Positive</td>\n",
       "    </tr>\n",
       "    <tr>\n",
       "      <th>4885</th>\n",
       "      <td>0.3280</td>\n",
       "      <td>good, great, sound, price, quality, picture, s...</td>\n",
       "      <td>I was looking for a blutooth speaker to use wi...</td>\n",
       "      <td>Alexa: Speaker, Tablet: Screen</td>\n",
       "      <td>Positive</td>\n",
       "    </tr>\n",
       "    <tr>\n",
       "      <th>4886</th>\n",
       "      <td>0.9592</td>\n",
       "      <td>love, great, recommend, tablet, would, it, pri...</td>\n",
       "      <td>This is the second Amazon Fire 7 tablet I have...</td>\n",
       "      <td>Tablet: Price &amp; Bettery</td>\n",
       "      <td>Positive</td>\n",
       "    </tr>\n",
       "    <tr>\n",
       "      <th>4887</th>\n",
       "      <td>0.8815</td>\n",
       "      <td>easy, love, it, use, bought, gift, tablet, old...</td>\n",
       "      <td>very satisfied with tablet, very fast and effi...</td>\n",
       "      <td>Gift</td>\n",
       "      <td>Positive</td>\n",
       "    </tr>\n",
       "  </tbody>\n",
       "</table>\n",
       "</div>"
      ],
      "text/plain": [
       "      Topic_Perc_Contrib                                           Keywords  \\\n",
       "4883              0.6124  echo, one, device, video, would, amazon, like,...   \n",
       "4884              0.4977  book, reading, great, one, kindle, happy, good...   \n",
       "4885              0.3280  good, great, sound, price, quality, picture, s...   \n",
       "4886              0.9592  love, great, recommend, tablet, would, it, pri...   \n",
       "4887              0.8815  easy, love, it, use, bought, gift, tablet, old...   \n",
       "\n",
       "                                                   Text  \\\n",
       "4883  It‚Äôs fun for the family to play with, but it...   \n",
       "4884  I love the Kindle, it is a great product. It r...   \n",
       "4885  I was looking for a blutooth speaker to use wi...   \n",
       "4886  This is the second Amazon Fire 7 tablet I have...   \n",
       "4887  very satisfied with tablet, very fast and effi...   \n",
       "\n",
       "                               Topic Sentiment  \n",
       "4883              Alexa: Fun & Price  Positive  \n",
       "4884        Kindle: Easy reading,use  Positive  \n",
       "4885  Alexa: Speaker, Tablet: Screen  Positive  \n",
       "4886         Tablet: Price & Bettery  Positive  \n",
       "4887                            Gift  Positive  "
      ]
     },
     "execution_count": 117,
     "metadata": {},
     "output_type": "execute_result"
    }
   ],
   "source": [
    "df_final.tail()"
   ]
  },
  {
   "cell_type": "markdown",
   "id": "fa428316",
   "metadata": {},
   "source": [
    "This above is our <b>final dataframe</b>."
   ]
  },
  {
   "cell_type": "markdown",
   "id": "b8aa44ec-de97-4956-a90c-756315da6493",
   "metadata": {},
   "source": [
    "### Predicting test data "
   ]
  },
  {
   "cell_type": "markdown",
   "id": "0bf0b772",
   "metadata": {},
   "source": [
    "Let's see make some prediction on our test data. We will use RandomForest model which was used on balanced dataset for this purpose, as it got the highest `f1-score` among all the models. We have three data files with us. One is of train files and two of test files. Out of two test files one have data labelled for cross-checking. Let's predict on that test_hidden file and check the performance of the model. "
   ]
  },
  {
   "cell_type": "markdown",
   "id": "30b77897",
   "metadata": {},
   "source": [
    "Let's load the dataframe."
   ]
  },
  {
   "cell_type": "code",
   "execution_count": 64,
   "id": "5b0e3ccf",
   "metadata": {},
   "outputs": [
    {
     "data": {
      "text/html": [
       "<div>\n",
       "<style scoped>\n",
       "    .dataframe tbody tr th:only-of-type {\n",
       "        vertical-align: middle;\n",
       "    }\n",
       "\n",
       "    .dataframe tbody tr th {\n",
       "        vertical-align: top;\n",
       "    }\n",
       "\n",
       "    .dataframe thead th {\n",
       "        text-align: right;\n",
       "    }\n",
       "</style>\n",
       "<table border=\"1\" class=\"dataframe\">\n",
       "  <thead>\n",
       "    <tr style=\"text-align: right;\">\n",
       "      <th></th>\n",
       "      <th>name</th>\n",
       "      <th>brand</th>\n",
       "      <th>categories</th>\n",
       "      <th>primaryCategories</th>\n",
       "      <th>reviews.date</th>\n",
       "      <th>reviews.text</th>\n",
       "      <th>reviews.title</th>\n",
       "      <th>sentiment</th>\n",
       "    </tr>\n",
       "  </thead>\n",
       "  <tbody>\n",
       "    <tr>\n",
       "      <th>0</th>\n",
       "      <td>Fire Tablet, 7 Display, Wi-Fi, 16 GB - Include...</td>\n",
       "      <td>Amazon</td>\n",
       "      <td>Fire Tablets,Computers/Tablets &amp; Networking,Ta...</td>\n",
       "      <td>Electronics</td>\n",
       "      <td>2016-05-23T00:00:00.000Z</td>\n",
       "      <td>Amazon kindle fire has a lot of free app and c...</td>\n",
       "      <td>very handy device</td>\n",
       "      <td>Positive</td>\n",
       "    </tr>\n",
       "    <tr>\n",
       "      <th>1</th>\n",
       "      <td>Amazon Echo Show Alexa-enabled Bluetooth Speak...</td>\n",
       "      <td>Amazon</td>\n",
       "      <td>Computers,Amazon Echo,Virtual Assistant Speake...</td>\n",
       "      <td>Electronics,Hardware</td>\n",
       "      <td>2018-01-02T00:00:00.000Z</td>\n",
       "      <td>The Echo Show is a great addition to the Amazo...</td>\n",
       "      <td>Another winner from Amazon</td>\n",
       "      <td>Positive</td>\n",
       "    </tr>\n",
       "    <tr>\n",
       "      <th>2</th>\n",
       "      <td>All-New Fire HD 8 Tablet, 8\" HD Display, Wi-Fi...</td>\n",
       "      <td>Amazon</td>\n",
       "      <td>Electronics,iPad &amp; Tablets,All Tablets,Fire Ta...</td>\n",
       "      <td>Electronics</td>\n",
       "      <td>2017-01-02T00:00:00.000Z</td>\n",
       "      <td>Great value from Best Buy. Bought at Christmas...</td>\n",
       "      <td>simple to use and reliable so far</td>\n",
       "      <td>Positive</td>\n",
       "    </tr>\n",
       "    <tr>\n",
       "      <th>3</th>\n",
       "      <td>Brand New Amazon Kindle Fire 16gb 7\" Ips Displ...</td>\n",
       "      <td>Amazon</td>\n",
       "      <td>Computers/Tablets &amp; Networking,Tablets &amp; eBook...</td>\n",
       "      <td>Electronics</td>\n",
       "      <td>2017-03-25T00:00:00.000Z</td>\n",
       "      <td>I use mine for email, Facebook ,games and to g...</td>\n",
       "      <td>Love it!!!</td>\n",
       "      <td>Positive</td>\n",
       "    </tr>\n",
       "    <tr>\n",
       "      <th>4</th>\n",
       "      <td>Amazon Echo Show Alexa-enabled Bluetooth Speak...</td>\n",
       "      <td>Amazon</td>\n",
       "      <td>Computers,Amazon Echo,Virtual Assistant Speake...</td>\n",
       "      <td>Electronics,Hardware</td>\n",
       "      <td>2017-11-15T00:00:00.000Z</td>\n",
       "      <td>This is a fantastic item &amp; the person I bought...</td>\n",
       "      <td>Fantastic!</td>\n",
       "      <td>Positive</td>\n",
       "    </tr>\n",
       "  </tbody>\n",
       "</table>\n",
       "</div>"
      ],
      "text/plain": [
       "                                                name   brand  \\\n",
       "0  Fire Tablet, 7 Display, Wi-Fi, 16 GB - Include...  Amazon   \n",
       "1  Amazon Echo Show Alexa-enabled Bluetooth Speak...  Amazon   \n",
       "2  All-New Fire HD 8 Tablet, 8\" HD Display, Wi-Fi...  Amazon   \n",
       "3  Brand New Amazon Kindle Fire 16gb 7\" Ips Displ...  Amazon   \n",
       "4  Amazon Echo Show Alexa-enabled Bluetooth Speak...  Amazon   \n",
       "\n",
       "                                          categories     primaryCategories  \\\n",
       "0  Fire Tablets,Computers/Tablets & Networking,Ta...           Electronics   \n",
       "1  Computers,Amazon Echo,Virtual Assistant Speake...  Electronics,Hardware   \n",
       "2  Electronics,iPad & Tablets,All Tablets,Fire Ta...           Electronics   \n",
       "3  Computers/Tablets & Networking,Tablets & eBook...           Electronics   \n",
       "4  Computers,Amazon Echo,Virtual Assistant Speake...  Electronics,Hardware   \n",
       "\n",
       "               reviews.date  \\\n",
       "0  2016-05-23T00:00:00.000Z   \n",
       "1  2018-01-02T00:00:00.000Z   \n",
       "2  2017-01-02T00:00:00.000Z   \n",
       "3  2017-03-25T00:00:00.000Z   \n",
       "4  2017-11-15T00:00:00.000Z   \n",
       "\n",
       "                                        reviews.text  \\\n",
       "0  Amazon kindle fire has a lot of free app and c...   \n",
       "1  The Echo Show is a great addition to the Amazo...   \n",
       "2  Great value from Best Buy. Bought at Christmas...   \n",
       "3  I use mine for email, Facebook ,games and to g...   \n",
       "4  This is a fantastic item & the person I bought...   \n",
       "\n",
       "                       reviews.title sentiment  \n",
       "0                  very handy device  Positive  \n",
       "1         Another winner from Amazon  Positive  \n",
       "2  simple to use and reliable so far  Positive  \n",
       "3                         Love it!!!  Positive  \n",
       "4                         Fantastic!  Positive  "
      ]
     },
     "execution_count": 64,
     "metadata": {},
     "output_type": "execute_result"
    }
   ],
   "source": [
    "test_df = pd.read_csv(r\"C:\\Users\\utkri\\Simplilearn\\Projects\\AI Capstone Project\\Ecommerce\\test_data_hidden.csv\")\n",
    "test_df.head()"
   ]
  },
  {
   "cell_type": "code",
   "execution_count": 103,
   "id": "83a20c35",
   "metadata": {},
   "outputs": [],
   "source": [
    "test_sent = test_df[\"reviews.text\"]"
   ]
  },
  {
   "cell_type": "code",
   "execution_count": 104,
   "id": "acee97b7",
   "metadata": {},
   "outputs": [
    {
     "data": {
      "text/plain": [
       "1000"
      ]
     },
     "execution_count": 104,
     "metadata": {},
     "output_type": "execute_result"
    }
   ],
   "source": [
    "len(test_sent)"
   ]
  },
  {
   "cell_type": "code",
   "execution_count": 105,
   "id": "ec696e91",
   "metadata": {},
   "outputs": [],
   "source": [
    "test_labels = test_df[\"sentiment\"]"
   ]
  },
  {
   "cell_type": "code",
   "execution_count": 106,
   "id": "70771802",
   "metadata": {},
   "outputs": [
    {
     "data": {
      "text/plain": [
       "array([2, 2, 2, 2, 2])"
      ]
     },
     "execution_count": 106,
     "metadata": {},
     "output_type": "execute_result"
    }
   ],
   "source": [
    "from sklearn.preprocessing import LabelEncoder\n",
    "label_encoder = LabelEncoder()\n",
    "test_labels = label_encoder.fit_transform(test_labels)\n",
    "test_labels[:5]"
   ]
  },
  {
   "cell_type": "code",
   "execution_count": 107,
   "id": "34417105",
   "metadata": {},
   "outputs": [
    {
     "data": {
      "text/plain": [
       "1000"
      ]
     },
     "execution_count": 107,
     "metadata": {},
     "output_type": "execute_result"
    }
   ],
   "source": [
    "len(test_labels)"
   ]
  },
  {
   "cell_type": "code",
   "execution_count": 108,
   "id": "86a670da",
   "metadata": {},
   "outputs": [],
   "source": [
    "test_array=vectorizer.transform(test_sent)\n",
    "test_array = test_array.toarray()"
   ]
  },
  {
   "cell_type": "code",
   "execution_count": 110,
   "id": "d61768a3",
   "metadata": {},
   "outputs": [],
   "source": [
    "test_array_label = np.array(test_labels).reshape(-1,1)"
   ]
  },
  {
   "cell_type": "code",
   "execution_count": 111,
   "id": "823fb007",
   "metadata": {},
   "outputs": [
    {
     "data": {
      "text/plain": [
       "array([[2],\n",
       "       [2],\n",
       "       [2],\n",
       "       [2],\n",
       "       [2]])"
      ]
     },
     "execution_count": 111,
     "metadata": {},
     "output_type": "execute_result"
    }
   ],
   "source": [
    "test_array_label[:5]"
   ]
  },
  {
   "cell_type": "code",
   "execution_count": 113,
   "id": "49caf7d3",
   "metadata": {},
   "outputs": [
    {
     "data": {
      "text/plain": [
       "array([2, 2, 2, 2, 2])"
      ]
     },
     "execution_count": 113,
     "metadata": {},
     "output_type": "execute_result"
    }
   ],
   "source": [
    "test_predict = model_rf.predict(test_array)\n",
    "test_predict[:5]"
   ]
  },
  {
   "cell_type": "code",
   "execution_count": 116,
   "id": "7aa9d6b3",
   "metadata": {},
   "outputs": [
    {
     "data": {
      "text/plain": [
       "{'accuracy': 0.951,\n",
       " 'precision': 0.9503926829268292,\n",
       " 'recall': 0.951,\n",
       " 'f1-score': 0.9370259579938169}"
      ]
     },
     "execution_count": 116,
     "metadata": {},
     "output_type": "execute_result"
    }
   ],
   "source": [
    "result(y_true=np.squeeze(test_array_label),y_pred=test_predict)"
   ]
  },
  {
   "cell_type": "markdown",
   "id": "405930bc",
   "metadata": {},
   "source": [
    "So our model got the accuracy of 95.1% and f1-score of 93.70% on test dataset. "
   ]
  },
  {
   "cell_type": "code",
   "execution_count": null,
   "id": "cf885e94",
   "metadata": {},
   "outputs": [],
   "source": []
  }
 ],
 "metadata": {
  "kernelspec": {
   "display_name": "Python 3 (ipykernel)",
   "language": "python",
   "name": "python3"
  },
  "language_info": {
   "codemirror_mode": {
    "name": "ipython",
    "version": 3
   },
   "file_extension": ".py",
   "mimetype": "text/x-python",
   "name": "python",
   "nbconvert_exporter": "python",
   "pygments_lexer": "ipython3",
   "version": "3.9.12"
  },
  "toc-autonumbering": false
 },
 "nbformat": 4,
 "nbformat_minor": 5
}
