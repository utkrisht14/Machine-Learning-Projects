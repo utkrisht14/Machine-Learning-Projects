{
 "cells": [
  {
   "cell_type": "markdown",
   "id": "fed9bcbe-3f5d-4a3d-a867-4e0f3008032c",
   "metadata": {},
   "source": [
    "## Bitcoin Price Prediction"
   ]
  },
  {
   "cell_type": "markdown",
   "id": "29a3aa80-7be7-49e5-9b68-e7a40865066c",
   "metadata": {},
   "source": [
    "In this particular project, we will make a time series model for bitcoin prices. Data include from April 2012 to 25th May 2022. "
   ]
  },
  {
   "cell_type": "markdown",
   "id": "8545901c-8e45-424d-930f-fc5079b8ae3d",
   "metadata": {},
   "source": [
    "<img src=\"btc_current.png\" height=400 width=600>"
   ]
  },
  {
   "cell_type": "markdown",
   "id": "c941fd8f-1174-40cc-93d1-e1495208a345",
   "metadata": {},
   "source": [
    "In this particular project we will run a series of deep learning model experiments\n",
    "* Dense Neural Network\n",
    "* LSTM Neural Network\n",
    "* GRU Neural Network\n",
    "* 1 Dimensional CNN Neural Network\n",
    "* Multivariate model with price and volume\n",
    "* Multivariate model with price and block-reward size\n",
    "* Multivariate model by combining price, volume and reward size."
   ]
  },
  {
   "cell_type": "markdown",
   "id": "e130e939-3dba-4af4-a894-aba3c430df8a",
   "metadata": {},
   "source": [
    "To start with, we need a dataset to work on. Our dataset contains data of apporx 10 years. <br/>\n",
    "Let's load the dataframe using pandas: "
   ]
  },
  {
   "cell_type": "code",
   "execution_count": 1,
   "id": "6c14b1a5-7a96-40eb-bad8-14c7d60d8caf",
   "metadata": {},
   "outputs": [],
   "source": [
    "import pandas as pd\n",
    "import numpy as np\n",
    "import warnings\n",
    "warnings.filterwarnings(\"ignore\")"
   ]
  },
  {
   "cell_type": "code",
   "execution_count": 2,
   "id": "3c7bfd51-d3cb-453f-ad7d-324ad2536249",
   "metadata": {},
   "outputs": [
    {
     "data": {
      "text/html": [
       "<div>\n",
       "<style scoped>\n",
       "    .dataframe tbody tr th:only-of-type {\n",
       "        vertical-align: middle;\n",
       "    }\n",
       "\n",
       "    .dataframe tbody tr th {\n",
       "        vertical-align: top;\n",
       "    }\n",
       "\n",
       "    .dataframe thead th {\n",
       "        text-align: right;\n",
       "    }\n",
       "</style>\n",
       "<table border=\"1\" class=\"dataframe\">\n",
       "  <thead>\n",
       "    <tr style=\"text-align: right;\">\n",
       "      <th></th>\n",
       "      <th>Price</th>\n",
       "      <th>Open</th>\n",
       "      <th>High</th>\n",
       "      <th>Low</th>\n",
       "      <th>Vol.</th>\n",
       "      <th>Change %</th>\n",
       "    </tr>\n",
       "    <tr>\n",
       "      <th>Date</th>\n",
       "      <th></th>\n",
       "      <th></th>\n",
       "      <th></th>\n",
       "      <th></th>\n",
       "      <th></th>\n",
       "      <th></th>\n",
       "    </tr>\n",
       "  </thead>\n",
       "  <tbody>\n",
       "    <tr>\n",
       "      <th>2012-04-25</th>\n",
       "      <td>5.1</td>\n",
       "      <td>5.1</td>\n",
       "      <td>5.2</td>\n",
       "      <td>5</td>\n",
       "      <td>35.64K</td>\n",
       "      <td>0.00%</td>\n",
       "    </tr>\n",
       "    <tr>\n",
       "      <th>2012-04-26</th>\n",
       "      <td>5.1</td>\n",
       "      <td>5.1</td>\n",
       "      <td>5.2</td>\n",
       "      <td>5</td>\n",
       "      <td>57.36K</td>\n",
       "      <td>0.00%</td>\n",
       "    </tr>\n",
       "    <tr>\n",
       "      <th>2012-04-27</th>\n",
       "      <td>5.1</td>\n",
       "      <td>5.1</td>\n",
       "      <td>5.1</td>\n",
       "      <td>5</td>\n",
       "      <td>25.87K</td>\n",
       "      <td>0.00%</td>\n",
       "    </tr>\n",
       "    <tr>\n",
       "      <th>2012-04-28</th>\n",
       "      <td>5</td>\n",
       "      <td>5.1</td>\n",
       "      <td>5.1</td>\n",
       "      <td>4.8</td>\n",
       "      <td>91.59K</td>\n",
       "      <td>-2.54%</td>\n",
       "    </tr>\n",
       "    <tr>\n",
       "      <th>2012-04-29</th>\n",
       "      <td>4.9</td>\n",
       "      <td>5</td>\n",
       "      <td>5</td>\n",
       "      <td>4.9</td>\n",
       "      <td>22.23K</td>\n",
       "      <td>-1.61%</td>\n",
       "    </tr>\n",
       "  </tbody>\n",
       "</table>\n",
       "</div>"
      ],
      "text/plain": [
       "           Price Open High  Low    Vol. Change %\n",
       "Date                                            \n",
       "2012-04-25   5.1  5.1  5.2    5  35.64K    0.00%\n",
       "2012-04-26   5.1  5.1  5.2    5  57.36K    0.00%\n",
       "2012-04-27   5.1  5.1  5.1    5  25.87K    0.00%\n",
       "2012-04-28     5  5.1  5.1  4.8  91.59K   -2.54%\n",
       "2012-04-29   4.9    5    5  4.9  22.23K   -1.61%"
      ]
     },
     "execution_count": 2,
     "metadata": {},
     "output_type": "execute_result"
    }
   ],
   "source": [
    "df_btc = pd.read_csv(r\"btc_data.csv\",parse_dates=[\"Date\"],index_col=[\"Date\"])\n",
    "df_btc.head()"
   ]
  },
  {
   "cell_type": "markdown",
   "id": "d6b565ea-b40b-4c08-867f-a0d57eebdafd",
   "metadata": {},
   "source": [
    "We have made index column as the date for easy intepretation. "
   ]
  },
  {
   "cell_type": "markdown",
   "id": "57bc985d-2a7c-42f6-8654-0c5b64800f91",
   "metadata": {},
   "source": [
    "Also, let's view the last of the data."
   ]
  },
  {
   "cell_type": "code",
   "execution_count": 3,
   "id": "dfb2747e-883f-4d0f-91c7-07f8b818b128",
   "metadata": {},
   "outputs": [
    {
     "data": {
      "text/html": [
       "<div>\n",
       "<style scoped>\n",
       "    .dataframe tbody tr th:only-of-type {\n",
       "        vertical-align: middle;\n",
       "    }\n",
       "\n",
       "    .dataframe tbody tr th {\n",
       "        vertical-align: top;\n",
       "    }\n",
       "\n",
       "    .dataframe thead th {\n",
       "        text-align: right;\n",
       "    }\n",
       "</style>\n",
       "<table border=\"1\" class=\"dataframe\">\n",
       "  <thead>\n",
       "    <tr style=\"text-align: right;\">\n",
       "      <th></th>\n",
       "      <th>Price</th>\n",
       "      <th>Open</th>\n",
       "      <th>High</th>\n",
       "      <th>Low</th>\n",
       "      <th>Vol.</th>\n",
       "      <th>Change %</th>\n",
       "    </tr>\n",
       "    <tr>\n",
       "      <th>Date</th>\n",
       "      <th></th>\n",
       "      <th></th>\n",
       "      <th></th>\n",
       "      <th></th>\n",
       "      <th></th>\n",
       "      <th></th>\n",
       "    </tr>\n",
       "  </thead>\n",
       "  <tbody>\n",
       "    <tr>\n",
       "      <th>2022-05-21</th>\n",
       "      <td>29,434.60</td>\n",
       "      <td>29,188.70</td>\n",
       "      <td>29,623.20</td>\n",
       "      <td>28,953.90</td>\n",
       "      <td>32.27K</td>\n",
       "      <td>0.88%</td>\n",
       "    </tr>\n",
       "    <tr>\n",
       "      <th>2022-05-22</th>\n",
       "      <td>30,286.60</td>\n",
       "      <td>29,433.00</td>\n",
       "      <td>30,462.00</td>\n",
       "      <td>29,260.10</td>\n",
       "      <td>50.60K</td>\n",
       "      <td>2.89%</td>\n",
       "    </tr>\n",
       "    <tr>\n",
       "      <th>2022-05-23</th>\n",
       "      <td>29,093.30</td>\n",
       "      <td>30,287.30</td>\n",
       "      <td>30,644.80</td>\n",
       "      <td>28,913.60</td>\n",
       "      <td>92.10K</td>\n",
       "      <td>-3.94%</td>\n",
       "    </tr>\n",
       "    <tr>\n",
       "      <th>2022-05-24</th>\n",
       "      <td>29,648.70</td>\n",
       "      <td>29,091.60</td>\n",
       "      <td>29,810.80</td>\n",
       "      <td>28,706.10</td>\n",
       "      <td>79.42K</td>\n",
       "      <td>1.91%</td>\n",
       "    </tr>\n",
       "    <tr>\n",
       "      <th>2022-05-25</th>\n",
       "      <td>29,887.90</td>\n",
       "      <td>29,648.70</td>\n",
       "      <td>30,202.30</td>\n",
       "      <td>29,551.00</td>\n",
       "      <td>87.48K</td>\n",
       "      <td>0.81%</td>\n",
       "    </tr>\n",
       "  </tbody>\n",
       "</table>\n",
       "</div>"
      ],
      "text/plain": [
       "                Price       Open       High        Low    Vol. Change %\n",
       "Date                                                                   \n",
       "2022-05-21  29,434.60  29,188.70  29,623.20  28,953.90  32.27K    0.88%\n",
       "2022-05-22  30,286.60  29,433.00  30,462.00  29,260.10  50.60K    2.89%\n",
       "2022-05-23  29,093.30  30,287.30  30,644.80  28,913.60  92.10K   -3.94%\n",
       "2022-05-24  29,648.70  29,091.60  29,810.80  28,706.10  79.42K    1.91%\n",
       "2022-05-25  29,887.90  29,648.70  30,202.30  29,551.00  87.48K    0.81%"
      ]
     },
     "execution_count": 3,
     "metadata": {},
     "output_type": "execute_result"
    }
   ],
   "source": [
    "df_btc.tail()"
   ]
  },
  {
   "cell_type": "markdown",
   "id": "a60d57cb-3897-4657-920e-70c305f95d10",
   "metadata": {},
   "source": [
    "Since, we have price data with us, we don't need all of the columns like \"Open\",\"High\",\"Low\" etc to make the model. However, we will make a model considering volume along with Price, to see how does it performs in multivariate scenario. For the time being we will continue with univariate model. So, let's satrt with \"Price\" and drop all other columns. "
   ]
  },
  {
   "cell_type": "code",
   "execution_count": 4,
   "id": "6a7fcc64-0e10-487b-90a4-3cdd16fb58fb",
   "metadata": {},
   "outputs": [
    {
     "data": {
      "text/html": [
       "<div>\n",
       "<style scoped>\n",
       "    .dataframe tbody tr th:only-of-type {\n",
       "        vertical-align: middle;\n",
       "    }\n",
       "\n",
       "    .dataframe tbody tr th {\n",
       "        vertical-align: top;\n",
       "    }\n",
       "\n",
       "    .dataframe thead th {\n",
       "        text-align: right;\n",
       "    }\n",
       "</style>\n",
       "<table border=\"1\" class=\"dataframe\">\n",
       "  <thead>\n",
       "    <tr style=\"text-align: right;\">\n",
       "      <th></th>\n",
       "      <th>Price</th>\n",
       "    </tr>\n",
       "    <tr>\n",
       "      <th>Date</th>\n",
       "      <th></th>\n",
       "    </tr>\n",
       "  </thead>\n",
       "  <tbody>\n",
       "    <tr>\n",
       "      <th>2012-04-25</th>\n",
       "      <td>5.1</td>\n",
       "    </tr>\n",
       "    <tr>\n",
       "      <th>2012-04-26</th>\n",
       "      <td>5.1</td>\n",
       "    </tr>\n",
       "    <tr>\n",
       "      <th>2012-04-27</th>\n",
       "      <td>5.1</td>\n",
       "    </tr>\n",
       "    <tr>\n",
       "      <th>2012-04-28</th>\n",
       "      <td>5</td>\n",
       "    </tr>\n",
       "    <tr>\n",
       "      <th>2012-04-29</th>\n",
       "      <td>4.9</td>\n",
       "    </tr>\n",
       "  </tbody>\n",
       "</table>\n",
       "</div>"
      ],
      "text/plain": [
       "           Price\n",
       "Date            \n",
       "2012-04-25   5.1\n",
       "2012-04-26   5.1\n",
       "2012-04-27   5.1\n",
       "2012-04-28     5\n",
       "2012-04-29   4.9"
      ]
     },
     "execution_count": 4,
     "metadata": {},
     "output_type": "execute_result"
    }
   ],
   "source": [
    "df_price  = df_btc[[\"Price\"]]\n",
    "df_price.head()"
   ]
  },
  {
   "cell_type": "code",
   "execution_count": 5,
   "id": "e4c159f9-840f-4264-a4cb-362161fb02a2",
   "metadata": {},
   "outputs": [
    {
     "data": {
      "text/plain": [
       "(3683, 1)"
      ]
     },
     "execution_count": 5,
     "metadata": {},
     "output_type": "execute_result"
    }
   ],
   "source": [
    "# Check the total shape.\n",
    "df_price.shape"
   ]
  },
  {
   "cell_type": "markdown",
   "id": "2941d450-f350-4b1e-9f6f-ea8b2d9f9230",
   "metadata": {},
   "source": [
    "So, we have total of 3683 rows."
   ]
  },
  {
   "cell_type": "markdown",
   "id": "991978e0-219f-4479-af1b-79c0863b617a",
   "metadata": {},
   "source": [
    "Next we will plot a graph for the data. But since the number might contains comma, datatype will be considered as <b>object</b> by the pandas dataframe. So, to confirm this let's check the datatype. "
   ]
  },
  {
   "cell_type": "code",
   "execution_count": 6,
   "id": "30699690-1611-4bf1-af5b-a984e880c804",
   "metadata": {},
   "outputs": [
    {
     "data": {
      "text/plain": [
       "Price    object\n",
       "dtype: object"
      ]
     },
     "execution_count": 6,
     "metadata": {},
     "output_type": "execute_result"
    }
   ],
   "source": [
    "df_price.dtypes"
   ]
  },
  {
   "cell_type": "markdown",
   "id": "ca0a7d04-c439-471c-922c-542b2b43133e",
   "metadata": {},
   "source": [
    "As expected, it is object. So, let's see how many commas are present in Price column. "
   ]
  },
  {
   "cell_type": "code",
   "execution_count": 7,
   "id": "843261bc-9111-42cf-b8fd-7ac2c69e9522",
   "metadata": {},
   "outputs": [
    {
     "data": {
      "text/html": [
       "<div>\n",
       "<style scoped>\n",
       "    .dataframe tbody tr th:only-of-type {\n",
       "        vertical-align: middle;\n",
       "    }\n",
       "\n",
       "    .dataframe tbody tr th {\n",
       "        vertical-align: top;\n",
       "    }\n",
       "\n",
       "    .dataframe thead th {\n",
       "        text-align: right;\n",
       "    }\n",
       "</style>\n",
       "<table border=\"1\" class=\"dataframe\">\n",
       "  <thead>\n",
       "    <tr style=\"text-align: right;\">\n",
       "      <th></th>\n",
       "      <th>Price</th>\n",
       "    </tr>\n",
       "    <tr>\n",
       "      <th>Date</th>\n",
       "      <th></th>\n",
       "    </tr>\n",
       "  </thead>\n",
       "  <tbody>\n",
       "    <tr>\n",
       "      <th>2013-11-27</th>\n",
       "      <td>1,079.90</td>\n",
       "    </tr>\n",
       "    <tr>\n",
       "      <th>2013-11-28</th>\n",
       "      <td>1,101.40</td>\n",
       "    </tr>\n",
       "    <tr>\n",
       "      <th>2013-11-29</th>\n",
       "      <td>1,206.90</td>\n",
       "    </tr>\n",
       "    <tr>\n",
       "      <th>2013-11-30</th>\n",
       "      <td>1,205.70</td>\n",
       "    </tr>\n",
       "    <tr>\n",
       "      <th>2013-12-01</th>\n",
       "      <td>1,004.40</td>\n",
       "    </tr>\n",
       "    <tr>\n",
       "      <th>...</th>\n",
       "      <td>...</td>\n",
       "    </tr>\n",
       "    <tr>\n",
       "      <th>2022-05-21</th>\n",
       "      <td>29,434.60</td>\n",
       "    </tr>\n",
       "    <tr>\n",
       "      <th>2022-05-22</th>\n",
       "      <td>30,286.60</td>\n",
       "    </tr>\n",
       "    <tr>\n",
       "      <th>2022-05-23</th>\n",
       "      <td>29,093.30</td>\n",
       "    </tr>\n",
       "    <tr>\n",
       "      <th>2022-05-24</th>\n",
       "      <td>29,648.70</td>\n",
       "    </tr>\n",
       "    <tr>\n",
       "      <th>2022-05-25</th>\n",
       "      <td>29,887.90</td>\n",
       "    </tr>\n",
       "  </tbody>\n",
       "</table>\n",
       "<p>1948 rows × 1 columns</p>\n",
       "</div>"
      ],
      "text/plain": [
       "                Price\n",
       "Date                 \n",
       "2013-11-27   1,079.90\n",
       "2013-11-28   1,101.40\n",
       "2013-11-29   1,206.90\n",
       "2013-11-30   1,205.70\n",
       "2013-12-01   1,004.40\n",
       "...               ...\n",
       "2022-05-21  29,434.60\n",
       "2022-05-22  30,286.60\n",
       "2022-05-23  29,093.30\n",
       "2022-05-24  29,648.70\n",
       "2022-05-25  29,887.90\n",
       "\n",
       "[1948 rows x 1 columns]"
      ]
     },
     "execution_count": 7,
     "metadata": {},
     "output_type": "execute_result"
    }
   ],
   "source": [
    "df_price[df_price[\"Price\"].str.contains(\",\")]"
   ]
  },
  {
   "cell_type": "markdown",
   "id": "4dad1115-1c9b-40f0-abe5-c91fa534f05b",
   "metadata": {},
   "source": [
    "So, total of 1498 columns contains commas. We need to remove these commas to convert these values into float values."
   ]
  },
  {
   "cell_type": "code",
   "execution_count": 8,
   "id": "9743738e-f662-4bcb-b07a-c66270824b86",
   "metadata": {},
   "outputs": [],
   "source": [
    "df_price[\"Price\"] = df_price[\"Price\"].apply(lambda x:x.replace(',',''))"
   ]
  },
  {
   "cell_type": "code",
   "execution_count": 9,
   "id": "feb42276-21a6-4b3f-ad2c-3b23f5281e75",
   "metadata": {},
   "outputs": [
    {
     "data": {
      "text/html": [
       "<div>\n",
       "<style scoped>\n",
       "    .dataframe tbody tr th:only-of-type {\n",
       "        vertical-align: middle;\n",
       "    }\n",
       "\n",
       "    .dataframe tbody tr th {\n",
       "        vertical-align: top;\n",
       "    }\n",
       "\n",
       "    .dataframe thead th {\n",
       "        text-align: right;\n",
       "    }\n",
       "</style>\n",
       "<table border=\"1\" class=\"dataframe\">\n",
       "  <thead>\n",
       "    <tr style=\"text-align: right;\">\n",
       "      <th></th>\n",
       "      <th>Price</th>\n",
       "    </tr>\n",
       "    <tr>\n",
       "      <th>Date</th>\n",
       "      <th></th>\n",
       "    </tr>\n",
       "  </thead>\n",
       "  <tbody>\n",
       "  </tbody>\n",
       "</table>\n",
       "</div>"
      ],
      "text/plain": [
       "Empty DataFrame\n",
       "Columns: [Price]\n",
       "Index: []"
      ]
     },
     "execution_count": 9,
     "metadata": {},
     "output_type": "execute_result"
    }
   ],
   "source": [
    "df_price[df_price[\"Price\"].str.contains(\",\")]"
   ]
  },
  {
   "cell_type": "markdown",
   "id": "64b95285-a667-4e35-a521-a88151d9c71a",
   "metadata": {},
   "source": [
    "Now there is no comma remaining. Let's convert the data into float"
   ]
  },
  {
   "cell_type": "code",
   "execution_count": 10,
   "id": "15e1dbb7-99ab-4113-9db8-85f5e3c1ff3e",
   "metadata": {},
   "outputs": [],
   "source": [
    "df_price[\"Price\"] = df_price[\"Price\"].astype(np.float32)"
   ]
  },
  {
   "cell_type": "markdown",
   "id": "4746bf1e-46da-42d6-8b40-07a99fb38a3f",
   "metadata": {},
   "source": [
    "Let's see how does it looks in terms of graph."
   ]
  },
  {
   "cell_type": "code",
   "execution_count": 73,
   "id": "13b3fbc8-03e9-4f37-90f0-e999638b4afd",
   "metadata": {},
   "outputs": [
    {
     "data": {
      "image/png": "[encoded data removed]",
      "text/plain": [
       "<Figure size 720x576 with 1 Axes>"
      ]
     },
     "metadata": {
      "needs_background": "light"
     },
     "output_type": "display_data"
    }
   ],
   "source": [
    "import matplotlib.pyplot as plt\n",
    "df_price.plot(figsize=(10,8))\n",
    "plt.ylabel(\"Bitcoin Price\")\n",
    "plt.title(\"Bitcoin prices from 25 April 2012 to 25 May 2022\",fontsize=13)\n",
    "plt.legend(fontsize=13)\n",
    "plt.show();"
   ]
  },
  {
   "cell_type": "markdown",
   "id": "00cbfb78-1e6a-4f1a-9b49-1090ace81618",
   "metadata": {},
   "source": [
    "Now since this is a time series problem, we cannot use `train_test_split` function of sklearn to divide teh data into train and test set. As, using it, would break the chain and choose the data randomly from somewhere in the dataframe. <br/>\n",
    "Let's make the data into two different array for futher processing."
   ]
  },
  {
   "cell_type": "code",
   "execution_count": 74,
   "id": "1c67169e-991f-4a3e-9d1c-c052d8a3cf83",
   "metadata": {},
   "outputs": [],
   "source": [
    "sequence_length = df_price.index.to_numpy()\n",
    "prices = df_price[\"Price\"].to_numpy()"
   ]
  },
  {
   "cell_type": "code",
   "execution_count": 75,
   "id": "35124bf8-0868-46a9-9c1d-58f49af10cd8",
   "metadata": {},
   "outputs": [
    {
     "data": {
      "text/plain": [
       "array(['2012-04-25T00:00:00.000000000', '2012-04-26T00:00:00.000000000',\n",
       "       '2012-04-27T00:00:00.000000000', '2012-04-28T00:00:00.000000000',\n",
       "       '2012-04-29T00:00:00.000000000', '2012-04-30T00:00:00.000000000',\n",
       "       '2012-05-01T00:00:00.000000000', '2012-05-02T00:00:00.000000000',\n",
       "       '2012-05-03T00:00:00.000000000', '2012-05-04T00:00:00.000000000'],\n",
       "      dtype='datetime64[ns]')"
      ]
     },
     "execution_count": 75,
     "metadata": {},
     "output_type": "execute_result"
    }
   ],
   "source": [
    "sequence_length[:10]"
   ]
  },
  {
   "cell_type": "code",
   "execution_count": 76,
   "id": "529c8dac-90a4-4307-b162-b403e92dd0a8",
   "metadata": {},
   "outputs": [
    {
     "data": {
      "text/plain": [
       "array([5.1, 5.1, 5.1, 5. , 4.9, 4.9, 5. , 5.1, 5.1, 5.1], dtype=float32)"
      ]
     },
     "execution_count": 76,
     "metadata": {},
     "output_type": "execute_result"
    }
   ],
   "source": [
    "prices[:10]"
   ]
  },
  {
   "cell_type": "markdown",
   "id": "c1cc3334-bdfa-42af-8ecd-e048f70490db",
   "metadata": {},
   "source": [
    "Since, `train_test_split` of sklearn, doesn't work in TS data, let's manually divide it into 80% training and 20% testing data. "
   ]
  },
  {
   "cell_type": "code",
   "execution_count": 78,
   "id": "5b22389a-75b8-4ac3-a384-43ba441c5e65",
   "metadata": {},
   "outputs": [
    {
     "data": {
      "text/plain": [
       "(2946, 737, 2946, 737)"
      ]
     },
     "execution_count": 78,
     "metadata": {},
     "output_type": "execute_result"
    }
   ],
   "source": [
    "# Create train test length for time series by choosing the split size.\n",
    "split_size = int(0.8 * len(prices))\n",
    "X_train, y_train = sequence_length[:split_size], prices[:split_size]\n",
    "X_test, y_test = sequence_length[split_size:], prices[split_size:]\n",
    "\n",
    "# Check their length \n",
    "len(X_train), len(X_test), len(y_train), len(y_test)"
   ]
  },
  {
   "cell_type": "markdown",
   "id": "6cef411f-8a11-46a0-9c43-caddc30fde90",
   "metadata": {},
   "source": [
    "So, we are done withg splitting of the data, let's plot a graph, demonstrating both of these train and test data.  "
   ]
  },
  {
   "cell_type": "code",
   "execution_count": 80,
   "id": "09cedefc-7ee8-4e67-8ec8-60a42894a706",
   "metadata": {},
   "outputs": [
    {
     "data": {
      "image/png": "[encoded data removed]",
      "text/plain": [
       "<Figure size 720x576 with 1 Axes>"
      ]
     },
     "metadata": {
      "needs_background": "light"
     },
     "output_type": "display_data"
    }
   ],
   "source": [
    "plt.figure(figsize=(10,8))\n",
    "plt.plot(X_train,y_train,label=\"Trianing Data\")\n",
    "plt.plot(X_test,y_test,label=\"Test Data\")\n",
    "plt.xlabel(\"Time\")\n",
    "plt.ylabel(\"BTC Price\")\n",
    "plt.legend()\n",
    "plt.grid(True)\n",
    "plt.show();"
   ]
  },
  {
   "cell_type": "markdown",
   "id": "4bf7c708-eb28-48eb-a04f-9dd1dc10cd6c",
   "metadata": {},
   "source": [
    "To make the model of timeseries in neural network we have too make the data into windows frame format. Suppose we want to have 7 dyas of input and 1 day of output. We will demonstrate this on the sample data using `tf.keras.preprocessing.sequence.TimeseriesGenerator`. It generates batches of temporal data. Let's see a demo of it having 7 uints of input length and 1 unit of output length."
   ]
  },
  {
   "cell_type": "code",
   "execution_count": 14,
   "id": "cd078a1b-304e-494e-affe-fbad63740ee3",
   "metadata": {},
   "outputs": [],
   "source": [
    "from tensorflow.keras.preprocessing.sequence import TimeseriesGenerator\n",
    "sequence_data = np.arange(1,11)\n",
    "output_data = np.arange(1,11)\n",
    "generator_data = TimeseriesGenerator(sequence_data,output_data,length=7,sampling_rate=1,batch_size=1)"
   ]
  },
  {
   "cell_type": "code",
   "execution_count": 15,
   "id": "5dfd6403-6540-4ff1-ab09-112f5152e555",
   "metadata": {},
   "outputs": [
    {
     "name": "stdout",
     "output_type": "stream",
     "text": [
      "Length of dataset generator: 3\n"
     ]
    }
   ],
   "source": [
    "# Let's check the length of the dataset.\n",
    "print(f\"Length of dataset generator: {len(generator_data)}\")"
   ]
  },
  {
   "cell_type": "code",
   "execution_count": 16,
   "id": "07e9d40f-4f06-47ec-b0e5-a1137bb3a543",
   "metadata": {},
   "outputs": [
    {
     "name": "stdout",
     "output_type": "stream",
     "text": [
      "Input: [[1 2 3 4 5 6 7]] ---> Target: [8]\n",
      "Input: [[2 3 4 5 6 7 8]] ---> Target: [9]\n",
      "Input: [[3 4 5 6 7 8 9]] ---> Target: [10]\n"
     ]
    }
   ],
   "source": [
    "for i in range(len(generator_data)):\n",
    "    x,y = generator_data[i]\n",
    "    print(f\"Input: {x} ---> Target: {y}\")"
   ]
  },
  {
   "cell_type": "markdown",
   "id": "5e6b875d-371d-49ef-9b3d-d2b55b15975a",
   "metadata": {},
   "source": [
    "So, as demonstrated above we have to make the data into this format. Aim is to move the window sequence by output_data length and have an input window of desired days. This would be better with image below. We will consider above example for this. "
   ]
  },
  {
   "cell_type": "markdown",
   "id": "0cbed824-409c-45af-b75e-fffcebb8bf56",
   "metadata": {},
   "source": [
    "<img src=\"window.png\" height=\"500\" width=\"600\">"
   ]
  },
  {
   "cell_type": "markdown",
   "id": "b3470059-d675-4528-9654-c654e384d0a4",
   "metadata": {},
   "source": [
    "Now to implement this on the dataframe, we will use a tensorflow function <a href=\"https://www.tensorflow.org/api_docs/python/tf/keras/utils/timeseries_dataset_from_array\"> `tf.keras.utils.timeseries_dataset_from_array`. </a>"
   ]
  },
  {
   "cell_type": "code",
   "execution_count": 11,
   "id": "da13ac6f-93fe-4d03-a06e-98c43e976380",
   "metadata": {},
   "outputs": [],
   "source": [
    "import tensorflow as tf"
   ]
  },
  {
   "cell_type": "code",
   "execution_count": 104,
   "id": "7bb4678d-fbfa-47e3-a40f-7beb90485df4",
   "metadata": {},
   "outputs": [],
   "source": [
    "data_seq = tf.keras.utils.timeseries_dataset_from_array(data=prices,\n",
    "                                                        targets=prices,\n",
    "                                                        sequence_length=7,\n",
    "                                                        sequence_stride=1)"
   ]
  },
  {
   "cell_type": "markdown",
   "id": "c97c78c5-a62d-46e1-a17d-204fd0b7e92d",
   "metadata": {},
   "source": [
    "Here we have chosen `sequence_length=7` and `sequence_stride=1`, becuase we want to have input of 7 days and wants to move the sliding window by 1 day."
   ]
  },
  {
   "cell_type": "code",
   "execution_count": 105,
   "id": "2f4c5a73-0542-4c12-93a5-f0617cb9c363",
   "metadata": {},
   "outputs": [
    {
     "data": {
      "text/plain": [
       "29"
      ]
     },
     "execution_count": 105,
     "metadata": {},
     "output_type": "execute_result"
    }
   ],
   "source": [
    "len(data_seq)"
   ]
  },
  {
   "cell_type": "code",
   "execution_count": 106,
   "id": "ea637896-cdaa-43fa-ac90-2a7943434b37",
   "metadata": {},
   "outputs": [],
   "source": [
    "train_size, test_size = int(0.8*len(data_seq)), int(0.2*(len(data_seq))) "
   ]
  },
  {
   "cell_type": "code",
   "execution_count": 107,
   "id": "64a50f84-1080-493f-8b4c-04669c767764",
   "metadata": {},
   "outputs": [
    {
     "data": {
      "text/plain": [
       "(23, 5)"
      ]
     },
     "execution_count": 107,
     "metadata": {},
     "output_type": "execute_result"
    }
   ],
   "source": [
    "train_size, test_size"
   ]
  },
  {
   "cell_type": "code",
   "execution_count": 108,
   "id": "cd81b478-6745-497a-abcf-5b95c2aacbd5",
   "metadata": {},
   "outputs": [],
   "source": [
    "train_data_seq = data_seq.take(train_size)\n",
    "test_data_seq = data_seq.skip(train_size).take(test_size)"
   ]
  },
  {
   "cell_type": "code",
   "execution_count": 109,
   "id": "118dddbb-c7ad-4a21-8b94-6cd7b4bd5e36",
   "metadata": {},
   "outputs": [
    {
     "name": "stdout",
     "output_type": "stream",
     "text": [
      "[[5.1 5.1 5.1 5.  4.9 4.9 5. ]] ----> [5.1]\n"
     ]
    }
   ],
   "source": [
    "for x,y in train_data_seq.take(1):\n",
    "    print(f\"{x[:1].numpy()} ----> {y[:1].numpy()}\")"
   ]
  },
  {
   "cell_type": "code",
   "execution_count": 114,
   "id": "6283154d-9c84-4bf8-976b-00de80ffcdd7",
   "metadata": {},
   "outputs": [
    {
     "data": {
      "text/html": [
       "<div>\n",
       "<style scoped>\n",
       "    .dataframe tbody tr th:only-of-type {\n",
       "        vertical-align: middle;\n",
       "    }\n",
       "\n",
       "    .dataframe tbody tr th {\n",
       "        vertical-align: top;\n",
       "    }\n",
       "\n",
       "    .dataframe thead th {\n",
       "        text-align: right;\n",
       "    }\n",
       "</style>\n",
       "<table border=\"1\" class=\"dataframe\">\n",
       "  <thead>\n",
       "    <tr style=\"text-align: right;\">\n",
       "      <th></th>\n",
       "      <th>Price</th>\n",
       "    </tr>\n",
       "    <tr>\n",
       "      <th>Date</th>\n",
       "      <th></th>\n",
       "    </tr>\n",
       "  </thead>\n",
       "  <tbody>\n",
       "    <tr>\n",
       "      <th>2012-04-25</th>\n",
       "      <td>5.1</td>\n",
       "    </tr>\n",
       "    <tr>\n",
       "      <th>2012-04-26</th>\n",
       "      <td>5.1</td>\n",
       "    </tr>\n",
       "    <tr>\n",
       "      <th>2012-04-27</th>\n",
       "      <td>5.1</td>\n",
       "    </tr>\n",
       "    <tr>\n",
       "      <th>2012-04-28</th>\n",
       "      <td>5.0</td>\n",
       "    </tr>\n",
       "    <tr>\n",
       "      <th>2012-04-29</th>\n",
       "      <td>4.9</td>\n",
       "    </tr>\n",
       "    <tr>\n",
       "      <th>2012-04-30</th>\n",
       "      <td>4.9</td>\n",
       "    </tr>\n",
       "    <tr>\n",
       "      <th>2012-05-01</th>\n",
       "      <td>5.0</td>\n",
       "    </tr>\n",
       "    <tr>\n",
       "      <th>2012-05-02</th>\n",
       "      <td>5.1</td>\n",
       "    </tr>\n",
       "  </tbody>\n",
       "</table>\n",
       "</div>"
      ],
      "text/plain": [
       "            Price\n",
       "Date             \n",
       "2012-04-25    5.1\n",
       "2012-04-26    5.1\n",
       "2012-04-27    5.1\n",
       "2012-04-28    5.0\n",
       "2012-04-29    4.9\n",
       "2012-04-30    4.9\n",
       "2012-05-01    5.0\n",
       "2012-05-02    5.1"
      ]
     },
     "execution_count": 114,
     "metadata": {},
     "output_type": "execute_result"
    }
   ],
   "source": [
    "df_price.head(8)"
   ]
  },
  {
   "cell_type": "markdown",
   "id": "e49618ab-0d94-4e7b-b89a-87bb04b8572b",
   "metadata": {},
   "source": [
    "### <b> Model_1: Simple Dense Model </b>"
   ]
  },
  {
   "cell_type": "markdown",
   "id": "c77470b1-d7fe-46dd-a385-357057ef2622",
   "metadata": {},
   "source": [
    "Now the next task is to build the model. For the time being we will start with simple ANN dense model. For purpose of building model we will take 7 units in input layer, as we are predicting price weekly. Hidden layers will contain activation function \"relu\", as \"relu\" works best in hidden layers. And in the output layer there won't be any activation function and will only 1 unit as for price of 7 days, output would be 1.  "
   ]
  },
  {
   "cell_type": "code",
   "execution_count": 121,
   "id": "446e9b9a-4eac-4827-9bd0-ac70a7afc1f3",
   "metadata": {},
   "outputs": [],
   "source": [
    "# Set the random seed for reproducibility\n",
    "tf.random.set_seed(42)\n",
    "\n",
    "# Building a functional dense model\n",
    "inputs = tf.keras.layers.Input(shape=(7,),dtype=tf.float32) # 7 days of data will come as input\n",
    "x = tf.keras.layers.Dense(128,activation=\"relu\")(inputs)\n",
    "x = tf.keras.layers.Dense(64,activation=\"relu\")(x)\n",
    "outputs = tf.keras.layers.Dense(1)(x)\n",
    "\n",
    "# Create the model\n",
    "model_1 = tf.keras.Model(inputs=inputs,\n",
    "                        outputs=outputs)\n",
    "\n",
    "# Compile the model\n",
    "model_1.compile(loss=\"mae\", # let's choose a simple loss function \n",
    "               optimizer=tf.keras.optimizers.Adam(),\n",
    "               metrics=[\"mae\"])"
   ]
  },
  {
   "cell_type": "code",
   "execution_count": 122,
   "id": "5375a076-ba5d-4653-a8e1-f9323c50f6b3",
   "metadata": {},
   "outputs": [
    {
     "name": "stdout",
     "output_type": "stream",
     "text": [
      "Model: \"model\"\n",
      "_________________________________________________________________\n",
      "Layer (type)                 Output Shape              Param #   \n",
      "=================================================================\n",
      "input_1 (InputLayer)         [(None, 7)]               0         \n",
      "_________________________________________________________________\n",
      "dense (Dense)                (None, 128)               1024      \n",
      "_________________________________________________________________\n",
      "dense_1 (Dense)              (None, 64)                8256      \n",
      "_________________________________________________________________\n",
      "dense_2 (Dense)              (None, 1)                 65        \n",
      "=================================================================\n",
      "Total params: 9,345\n",
      "Trainable params: 9,345\n",
      "Non-trainable params: 0\n",
      "_________________________________________________________________\n"
     ]
    }
   ],
   "source": [
    "# Plot the summary of the model\n",
    "model_1.summary()"
   ]
  },
  {
   "cell_type": "markdown",
   "id": "5bc0db6e-d85a-4ecc-96b0-a2ea88c26566",
   "metadata": {},
   "source": [
    "Now let's fit the data."
   ]
  },
  {
   "cell_type": "code",
   "execution_count": 123,
   "id": "65f19fdc-8756-41ab-9aa6-ad72eccdaf40",
   "metadata": {},
   "outputs": [
    {
     "data": {
      "text/plain": [
       "<keras.callbacks.History at 0x1b6828b1d30>"
      ]
     },
     "execution_count": 123,
     "metadata": {},
     "output_type": "execute_result"
    }
   ],
   "source": [
    "# Fit the model \n",
    "model_1.fit(train_data_seq,\n",
    "           epochs=100,\n",
    "           verbose=0,\n",
    "           validation_data=test_data_seq,\n",
    "           callbacks=[tf.keras.callbacks.EarlyStopping(patience=10,\n",
    "                                                      restore_best_weights=True)])"
   ]
  },
  {
   "cell_type": "markdown",
   "id": "86cc425c-26f8-46ce-b03e-c74765187758",
   "metadata": {},
   "source": [
    "Let's make a function to see the performance of the model."
   ]
  },
  {
   "cell_type": "code",
   "execution_count": 125,
   "id": "452eeef8-9830-4d76-999c-8f57422eddd1",
   "metadata": {},
   "outputs": [
    {
     "name": "stdout",
     "output_type": "stream",
     "text": [
      "5/5 [==============================] - 1s 4ms/step - loss: 170.0273 - mae: 170.0273\n"
     ]
    },
    {
     "data": {
      "text/plain": [
       "[170.0272979736328, 170.0272979736328]"
      ]
     },
     "execution_count": 125,
     "metadata": {},
     "output_type": "execute_result"
    }
   ],
   "source": [
    "loss_model_1 = model_1.evaluate(test_data_seq)\n",
    "loss_model_1"
   ]
  },
  {
   "cell_type": "markdown",
   "id": "9a3f9f76-571e-458b-8245-1005a18e66bb",
   "metadata": {},
   "source": [
    "Let's make some prediction"
   ]
  },
  {
   "cell_type": "code",
   "execution_count": 681,
   "id": "f8cfe99b-8e1c-42a3-aaad-50d6b713cd16",
   "metadata": {},
   "outputs": [
    {
     "data": {
      "text/plain": [
       "array([[9708.833],\n",
       "       [9778.047],\n",
       "       [9758.945],\n",
       "       [9469.24 ],\n",
       "       [9061.786]], dtype=float32)"
      ]
     },
     "execution_count": 681,
     "metadata": {},
     "output_type": "execute_result"
    }
   ],
   "source": [
    "model_1.predict(test_data_seq)[:5]"
   ]
  },
  {
   "cell_type": "markdown",
   "id": "703f4a0f-7050-40ff-b769-74067affb84b",
   "metadata": {},
   "source": [
    "### <b> Model_2: LSTM (default configuration) </b>\n",
    "LSTM stands for Long Short Term Memory. LSTM is particulraly useful in maintaing information in memory period for longer duration of time. It is a varaint of RNN. <br/>\n",
    "We cannot directly apply LSTM, since LSTM expects data into format of <b> [batch,timesteps,feature] </b>. We have already divided our data into batch_size, so batch is we have, timesteps is that we have taken care by making window of 7 inputs. So for remaining we will use lambda layer `tf.keras.layers.Lambda`. Lambda layers wraps arbitrary expressions as a Layer object.  <br/>\n",
    "So, let's implement this."
   ]
  },
  {
   "cell_type": "code",
   "execution_count": 131,
   "id": "618fa0bf-b339-49aa-b188-55c1d7dbf257",
   "metadata": {},
   "outputs": [],
   "source": [
    "# Set the random seed for reproducibility \n",
    "tf.random.set_seed(42)\n",
    "\n",
    "# Build the LSTM model\n",
    "inputs = tf.keras.layers.Input(shape=(7,),dtype=tf.float32)\n",
    "x = tf.keras.layers.Lambda(lambda x: tf.expand_dims(x,axis=1))(inputs) # using Lambda layer for the LSTM\n",
    "x = tf.keras.layers.LSTM(128)(x)\n",
    "x = tf.keras.layers.Dense(64,activation=\"relu\")(x)\n",
    "outputs = tf.keras.layers.Dense(1)(x)\n",
    "\n",
    "# Create the model\n",
    "model_2 = tf.keras.Model(inputs=inputs,\n",
    "                        outputs=outputs)\n",
    "\n",
    "# Compile the model\n",
    "model_2.compile(loss=\"mae\",\n",
    "               optimizer=tf.keras.optimizers.Adam(),\n",
    "               metrics=[\"mae\"])"
   ]
  },
  {
   "cell_type": "code",
   "execution_count": 132,
   "id": "427b2b56-c5e0-4a55-be93-eea577cc6dfd",
   "metadata": {},
   "outputs": [
    {
     "name": "stdout",
     "output_type": "stream",
     "text": [
      "Model: \"model_1\"\n",
      "_________________________________________________________________\n",
      "Layer (type)                 Output Shape              Param #   \n",
      "=================================================================\n",
      "input_2 (InputLayer)         [(None, 7)]               0         \n",
      "_________________________________________________________________\n",
      "lambda (Lambda)              (None, 1, 7)              0         \n",
      "_________________________________________________________________\n",
      "lstm (LSTM)                  (None, 128)               69632     \n",
      "_________________________________________________________________\n",
      "dense_3 (Dense)              (None, 64)                8256      \n",
      "_________________________________________________________________\n",
      "dense_4 (Dense)              (None, 1)                 65        \n",
      "=================================================================\n",
      "Total params: 77,953\n",
      "Trainable params: 77,953\n",
      "Non-trainable params: 0\n",
      "_________________________________________________________________\n"
     ]
    }
   ],
   "source": [
    "# plot the summary of the model\n",
    "model_2.summary()"
   ]
  },
  {
   "cell_type": "markdown",
   "id": "8b0e15b2-98c6-4c66-9283-ec603b00e97b",
   "metadata": {},
   "source": [
    "Now let's fit the model using EarlyCallback."
   ]
  },
  {
   "cell_type": "code",
   "execution_count": 133,
   "id": "7bd5fd34-a220-4868-bdb2-268124aec2fa",
   "metadata": {},
   "outputs": [
    {
     "data": {
      "text/plain": [
       "<keras.callbacks.History at 0x1b6b89efb20>"
      ]
     },
     "execution_count": 133,
     "metadata": {},
     "output_type": "execute_result"
    }
   ],
   "source": [
    "model_2.fit(train_data_seq,\n",
    "           epochs=100,\n",
    "           verbose=0,\n",
    "           validation_data=test_data_seq,\n",
    "           callbacks=[tf.keras.callbacks.EarlyStopping(patience=10,\n",
    "                                                      restore_best_weights=True)])"
   ]
  },
  {
   "cell_type": "markdown",
   "id": "7a5d749d-a144-47b6-8c9b-7233dd7bc691",
   "metadata": {},
   "source": [
    "Let's check how well our model has performed. "
   ]
  },
  {
   "cell_type": "code",
   "execution_count": 135,
   "id": "c829e29d-cce5-46df-b771-de0db505e603",
   "metadata": {},
   "outputs": [
    {
     "name": "stdout",
     "output_type": "stream",
     "text": [
      "5/5 [==============================] - 1s 16ms/step - loss: 34310.7422 - mae: 34310.7422\n"
     ]
    },
    {
     "data": {
      "text/plain": [
       "[34310.7421875, 34310.7421875]"
      ]
     },
     "execution_count": 135,
     "metadata": {},
     "output_type": "execute_result"
    }
   ],
   "source": [
    "loss_model_2 = model_2.evaluate(test_data_seq)\n",
    "loss_model_2"
   ]
  },
  {
   "cell_type": "markdown",
   "id": "e6459045-bf30-4202-9a0e-94b46a0288a0",
   "metadata": {},
   "source": [
    "If we compare from our model_1 loss was approx 170, but here we have got 34310; this is huge increase in loss. We can reduce this loss by using activation function as \"relu\" instead of by deafult activation of \"tanh\". Let's build the model again with activation function as \"relu\"."
   ]
  },
  {
   "cell_type": "code",
   "execution_count": 682,
   "id": "8bea449e-6d28-43c1-9e71-534e0424aac6",
   "metadata": {},
   "outputs": [
    {
     "data": {
      "text/plain": [
       "array([[853.67505],\n",
       "       [815.28314],\n",
       "       [829.9136 ],\n",
       "       [796.3733 ],\n",
       "       [793.3801 ]], dtype=float32)"
      ]
     },
     "execution_count": 682,
     "metadata": {},
     "output_type": "execute_result"
    }
   ],
   "source": [
    "# Let's make some prediction.\n",
    "model_2.predict(test_data_seq)[:5]"
   ]
  },
  {
   "cell_type": "markdown",
   "id": "850cd153-0027-4aee-a74b-46b47c39d94e",
   "metadata": {},
   "source": [
    "These predictions are far off from that predicted by model_1."
   ]
  },
  {
   "cell_type": "markdown",
   "id": "6867b345-a3c3-4bbc-aa07-519b8adf3668",
   "metadata": {},
   "source": [
    "### <b> Model_3: LSTM (modified parameters) </b>"
   ]
  },
  {
   "cell_type": "code",
   "execution_count": 137,
   "id": "afcfc933-bb37-42fb-9acc-d109cebf1bf3",
   "metadata": {},
   "outputs": [
    {
     "name": "stdout",
     "output_type": "stream",
     "text": [
      "WARNING:tensorflow:Layer lstm_2 will not use cuDNN kernels since it doesn't meet the criteria. It will use a generic GPU kernel as fallback when running on GPU.\n"
     ]
    }
   ],
   "source": [
    "# Set the random seed for reproducibility \n",
    "tf.random.set_seed(42)\n",
    "\n",
    "# Build the LSTM model\n",
    "inputs = tf.keras.layers.Input(shape=(7,),dtype=tf.float32)\n",
    "x = tf.keras.layers.Lambda(lambda x: tf.expand_dims(x,axis=1))(inputs) # using Lambda layer for the LSTM\n",
    "x = tf.keras.layers.LSTM(128,activation=\"relu\")(x)\n",
    "x = tf.keras.layers.Dense(64,activation=\"relu\")(x)\n",
    "outputs = tf.keras.layers.Dense(1)(x)\n",
    "\n",
    "# Create the model\n",
    "model_3 = tf.keras.Model(inputs=inputs,\n",
    "                        outputs=outputs)\n",
    "\n",
    "# Compile the model\n",
    "model_3.compile(loss=\"mae\",\n",
    "               optimizer=tf.keras.optimizers.Adam(),\n",
    "               metrics=[\"mae\"])"
   ]
  },
  {
   "cell_type": "markdown",
   "id": "66f2c234-1db4-42e0-8607-5f5cee07ed72",
   "metadata": {},
   "source": [
    "<b> Note: </b> We are getting above warning because there are certain requirements for cuDNN implementaion. If any of the requirements doesn't meet it shows the warning, as we get. Since we have changed the activation from \"tanh\" to \"relu\", we are getting above warning: <br/> <i> \"WARNING:tensorflow:Layer lstm_1 will not use cuDNN kernels since it doesn't meet the criteria. It will use a generic GPU kernel as fallback when running on GPU.\" </i>\n",
    "\n",
    "The requirements to use the cuDNN implementation are: <br/>\n",
    "<i>\n",
    "activation == tanh <br/>\n",
    "recurrent_activation == sigmoid <br/>\n",
    "recurrent_dropout == 0 <br/>\n",
    "unroll is False <br/>\n",
    "use_bias is True <br/>\n",
    "Inputs, if use masking, are strictly right-padded. <br/>\n",
    "Eager execution is enabled in the outermost context. <br/> </i>"
   ]
  },
  {
   "cell_type": "markdown",
   "id": "a31e6209-a6b3-4752-a43a-427eba92c23e",
   "metadata": {},
   "source": [
    "If anyone of these above mentioned criteria doesn't met, we are likely to get the warning."
   ]
  },
  {
   "cell_type": "markdown",
   "id": "fde84e92-b273-4169-bc3b-814dfcc707f0",
   "metadata": {},
   "source": [
    "Noew let's fit the model."
   ]
  },
  {
   "cell_type": "code",
   "execution_count": 138,
   "id": "37817e21-8db9-4a1d-8302-75206a7caf4a",
   "metadata": {},
   "outputs": [
    {
     "data": {
      "text/plain": [
       "<keras.callbacks.History at 0x1b78683b460>"
      ]
     },
     "execution_count": 138,
     "metadata": {},
     "output_type": "execute_result"
    }
   ],
   "source": [
    "model_3.fit(train_data_seq,\n",
    "           epochs=100,\n",
    "           verbose=0,\n",
    "           validation_data=test_data_seq,\n",
    "           callbacks=[tf.keras.callbacks.EarlyStopping(patience=10,\n",
    "                                                      restore_best_weights=True)])"
   ]
  },
  {
   "cell_type": "code",
   "execution_count": 139,
   "id": "6b01f8ac-a537-4402-9dc4-872889e4bb62",
   "metadata": {},
   "outputs": [
    {
     "name": "stdout",
     "output_type": "stream",
     "text": [
      "5/5 [==============================] - 1s 7ms/step - loss: 863.2108 - mae: 863.2108\n"
     ]
    },
    {
     "data": {
      "text/plain": [
       "[863.2107543945312, 863.2107543945312]"
      ]
     },
     "execution_count": 139,
     "metadata": {},
     "output_type": "execute_result"
    }
   ],
   "source": [
    "loss_model_3 = model_3.evaluate(test_data_seq)\n",
    "loss_model_3"
   ]
  },
  {
   "cell_type": "markdown",
   "id": "933409c0-3979-44ac-8576-a558a994ca38",
   "metadata": {},
   "source": [
    "So, our model has performed much better as comapre to earlier model_2."
   ]
  },
  {
   "cell_type": "code",
   "execution_count": 683,
   "id": "b87b8500-bf67-4bc9-a75a-88a2680b8288",
   "metadata": {},
   "outputs": [
    {
     "data": {
      "text/plain": [
       "array([[9534.82 ],\n",
       "       [9349.553],\n",
       "       [9294.838],\n",
       "       [9178.065],\n",
       "       [9098.823]], dtype=float32)"
      ]
     },
     "execution_count": 683,
     "metadata": {},
     "output_type": "execute_result"
    }
   ],
   "source": [
    "# Let's make some prediction.\n",
    "model_3.predict(test_data_seq)[:5]"
   ]
  },
  {
   "cell_type": "markdown",
   "id": "0c058c07-9a11-46f8-9445-e204018984e6",
   "metadata": {},
   "source": [
    "This prediction is somewhere in line with model_1 predictions."
   ]
  },
  {
   "cell_type": "markdown",
   "id": "004bf82d-dc83-4d17-8a42-450d1d69e3b5",
   "metadata": {},
   "source": [
    "### <b> Model_4: GRU </b> "
   ]
  },
  {
   "cell_type": "markdown",
   "id": "b85e2727-2b85-4deb-b40f-b6f497c8b39c",
   "metadata": {},
   "source": [
    "Now let's perform GRU with above data. GRU stands for Gated Rectified Unit. It is also a variant of RNN.This time we will start with \"relu\" instaed of by default \"tanh\" as it also suffers from same problem as LSTM.  "
   ]
  },
  {
   "cell_type": "code",
   "execution_count": 140,
   "id": "5fe2ba65-f473-4e5b-8419-e7775d34eb2d",
   "metadata": {},
   "outputs": [
    {
     "name": "stdout",
     "output_type": "stream",
     "text": [
      "WARNING:tensorflow:Layer gru will not use cuDNN kernels since it doesn't meet the criteria. It will use a generic GPU kernel as fallback when running on GPU.\n"
     ]
    }
   ],
   "source": [
    "# Set the random seed for reproducibility \n",
    "tf.random.set_seed(42)\n",
    "\n",
    "# Build the LSTM model\n",
    "inputs = tf.keras.layers.Input(shape=(7,),dtype=tf.float32)\n",
    "x = tf.keras.layers.Lambda(lambda x: tf.expand_dims(x,axis=1))(inputs) # using Lambda layer for the LSTM\n",
    "x = tf.keras.layers.GRU(128,activation=\"relu\")(x)\n",
    "x = tf.keras.layers.Dense(64,activation=\"relu\")(x)\n",
    "outputs = tf.keras.layers.Dense(1)(x)\n",
    "\n",
    "# Create the model\n",
    "model_4 = tf.keras.Model(inputs=inputs,\n",
    "                        outputs=outputs)\n",
    "\n",
    "# Compile the model\n",
    "model_4.compile(loss=\"mae\",\n",
    "               optimizer=tf.keras.optimizers.Adam(),\n",
    "               metrics=[\"mae\"])"
   ]
  },
  {
   "cell_type": "markdown",
   "id": "32d7834e-cd13-4f74-b4a5-f35404c11a71",
   "metadata": {},
   "source": [
    "We are getting the same warning as we have discussed above."
   ]
  },
  {
   "cell_type": "markdown",
   "id": "e014e706-6820-4f1e-8699-8437314f360d",
   "metadata": {},
   "source": [
    "Now let's fit the model."
   ]
  },
  {
   "cell_type": "code",
   "execution_count": 141,
   "id": "a7c62351-910a-4886-a177-0ef20cd7c459",
   "metadata": {},
   "outputs": [
    {
     "data": {
      "text/plain": [
       "<keras.callbacks.History at 0x1b7ab921dc0>"
      ]
     },
     "execution_count": 141,
     "metadata": {},
     "output_type": "execute_result"
    }
   ],
   "source": [
    "model_4.fit(train_data_seq,\n",
    "           epochs=100,\n",
    "           verbose=0,\n",
    "           validation_data=test_data_seq,\n",
    "           callbacks=[tf.keras.callbacks.EarlyStopping(patience=10,\n",
    "                                                      restore_best_weights=True)])"
   ]
  },
  {
   "cell_type": "code",
   "execution_count": 142,
   "id": "fa297eb5-31fc-4fd2-96a6-6b294d7d7d36",
   "metadata": {},
   "outputs": [
    {
     "name": "stdout",
     "output_type": "stream",
     "text": [
      "5/5 [==============================] - 1s 8ms/step - loss: 1035.5074 - mae: 1035.5074\n"
     ]
    },
    {
     "data": {
      "text/plain": [
       "[1035.5074462890625, 1035.5074462890625]"
      ]
     },
     "execution_count": 142,
     "metadata": {},
     "output_type": "execute_result"
    }
   ],
   "source": [
    "loss_model_4 = model_4.evaluate(test_data_seq)\n",
    "loss_model_4"
   ]
  },
  {
   "cell_type": "markdown",
   "id": "5614257d-013d-4b04-b46f-7a0ec93b65f6",
   "metadata": {},
   "source": [
    "So, our LSTM model has performed better than GRU."
   ]
  },
  {
   "cell_type": "code",
   "execution_count": 684,
   "id": "ee1fd6dd-5b79-4127-b0fb-037af8ca353c",
   "metadata": {},
   "outputs": [
    {
     "data": {
      "text/plain": [
       "array([[9572.171],\n",
       "       [9440.171],\n",
       "       [9636.391],\n",
       "       [9452.727],\n",
       "       [9322.488]], dtype=float32)"
      ]
     },
     "execution_count": 684,
     "metadata": {},
     "output_type": "execute_result"
    }
   ],
   "source": [
    "# Let's make some prediction.\n",
    "model_4.predict(test_data_seq)[:5]"
   ]
  },
  {
   "cell_type": "markdown",
   "id": "8615e5c8-cd84-4d94-83a1-16517818d5d5",
   "metadata": {},
   "source": [
    "### <b> Model_5: Convolution 1D </b>\n",
    "Convolution neural network not only gives good result with images but also with text data and numerical sequences. CNN 1D takes input in the format of `batch_shape + (steps, input_dim)` . To adjust input_dim, we will use lambda layer. <br/> So, let's try CNN 1D. Before implementing, one thing to be noted that here padding would be <i> *\"causal\"* </i> not *\"valid\"* or \"same\". Because this is temporal data."
   ]
  },
  {
   "cell_type": "code",
   "execution_count": 154,
   "id": "91208608-d0c5-495c-af2f-bd3b62ac8a10",
   "metadata": {},
   "outputs": [],
   "source": [
    "# Set the seed for random producibility \n",
    "tf.random.set_seed(42)\n",
    "\n",
    "# Make the model\n",
    "# Create model\n",
    "model_5 = tf.keras.Sequential([\n",
    "    tf.keras.layers.Input(shape=(7,),dtype=tf.float32),\n",
    "    tf.keras.layers.Lambda(lambda x: tf.expand_dims(x, axis=1)), # adjustment to make iit comatible with CNN 1D\n",
    "    tf.keras.layers.Conv1D(filters=128, kernel_size=5, padding=\"causal\", activation=\"relu\"), # use \"causal\" with temporal data\n",
    "    tf.keras.layers.Dense(128,activation=\"relu\"),\n",
    "    tf.keras.layers.Dense(1)\n",
    "])\n",
    "\n",
    "# Compile the model\n",
    "model_5.compile(loss=\"mae\",\n",
    "               optimizer=tf.keras.optimizers.Adam(),\n",
    "               metrics=[\"mae\"])"
   ]
  },
  {
   "cell_type": "code",
   "execution_count": 155,
   "id": "83921e9d-d34b-4fd4-bc5d-c88067c88216",
   "metadata": {},
   "outputs": [
    {
     "data": {
      "text/plain": [
       "<keras.callbacks.History at 0x1b7ca61a8b0>"
      ]
     },
     "execution_count": 155,
     "metadata": {},
     "output_type": "execute_result"
    }
   ],
   "source": [
    "model_5.fit(train_data_seq,\n",
    "           epochs=100,\n",
    "           verbose=0,\n",
    "           validation_data=test_data_seq,\n",
    "           callbacks=[tf.keras.callbacks.EarlyStopping(patience=10,\n",
    "                                                      restore_best_weights=True)])"
   ]
  },
  {
   "cell_type": "code",
   "execution_count": 156,
   "id": "aeb7df73-f3df-421c-8462-c14b156993c3",
   "metadata": {},
   "outputs": [
    {
     "name": "stdout",
     "output_type": "stream",
     "text": [
      "Model: \"sequential_2\"\n",
      "_________________________________________________________________\n",
      "Layer (type)                 Output Shape              Param #   \n",
      "=================================================================\n",
      "lambda_9 (Lambda)            (None, 1, 7)              0         \n",
      "_________________________________________________________________\n",
      "conv1d_5 (Conv1D)            (None, 1, 128)            4608      \n",
      "_________________________________________________________________\n",
      "dense_19 (Dense)             (None, 1, 128)            16512     \n",
      "_________________________________________________________________\n",
      "dense_20 (Dense)             (None, 1, 1)              129       \n",
      "=================================================================\n",
      "Total params: 21,249\n",
      "Trainable params: 21,249\n",
      "Non-trainable params: 0\n",
      "_________________________________________________________________\n"
     ]
    }
   ],
   "source": [
    "model_5.summary()"
   ]
  },
  {
   "cell_type": "code",
   "execution_count": 157,
   "id": "e91ed55a-cda7-41dd-a40b-856f229d287b",
   "metadata": {},
   "outputs": [
    {
     "name": "stdout",
     "output_type": "stream",
     "text": [
      "5/5 [==============================] - 1s 4ms/step - loss: 316.3491 - mae: 316.3491\n"
     ]
    },
    {
     "data": {
      "text/plain": [
       "[316.3490905761719, 316.3490905761719]"
      ]
     },
     "execution_count": 157,
     "metadata": {},
     "output_type": "execute_result"
    }
   ],
   "source": [
    "loss_model_5 = model_5.evaluate(test_data_seq)\n",
    "loss_model_5"
   ]
  },
  {
   "cell_type": "markdown",
   "id": "f288c1a2-734c-46ed-a169-5fb718478b28",
   "metadata": {},
   "source": [
    "Our convolution model has performed better than LSTM and GRU. "
   ]
  },
  {
   "cell_type": "code",
   "execution_count": 685,
   "id": "debc9ff7-a881-4cd2-817d-6bf568a86f47",
   "metadata": {},
   "outputs": [
    {
     "data": {
      "text/plain": [
       "array([[[9687.807]],\n",
       "\n",
       "       [[9744.072]],\n",
       "\n",
       "       [[9684.765]],\n",
       "\n",
       "       [[9360.187]],\n",
       "\n",
       "       [[9085.032]]], dtype=float32)"
      ]
     },
     "execution_count": 685,
     "metadata": {},
     "output_type": "execute_result"
    }
   ],
   "source": [
    "# Let's make some prediction.\n",
    "model_5.predict(test_data_seq)[:5]"
   ]
  },
  {
   "cell_type": "markdown",
   "id": "45a10f02-fc71-413d-b5a9-4353bc42675c",
   "metadata": {},
   "source": [
    "### <b> Model_6: Simple Denese 30 days period </b>"
   ]
  },
  {
   "cell_type": "markdown",
   "id": "e28c73db-5265-4619-90d9-6baf40074504",
   "metadata": {},
   "source": [
    "We have constructed the model for performing weekly data.And as of now our simple Dense model has perfomed best, so using simple dense model we will predict the outcome considering 30 days of data  for one single day.   "
   ]
  },
  {
   "cell_type": "markdown",
   "id": "f51bcd6c-c61e-452f-a2c9-2b5e37252ae1",
   "metadata": {},
   "source": [
    "For this purpose we will have to make the windows of 30 by applying the function `tf.keras.utils.timeseries_dataset_from_array`. Here in this function, we will set the value of `sequence_length=30`."
   ]
  },
  {
   "cell_type": "code",
   "execution_count": 159,
   "id": "6659c19a-dc30-41a2-b7a7-09f7dc11ddbc",
   "metadata": {},
   "outputs": [],
   "source": [
    "data_seq_monthly = tf.keras.utils.timeseries_dataset_from_array(data=prices,\n",
    "                                                        targets=prices,\n",
    "                                                        sequence_length=30,\n",
    "                                                        sequence_stride=1)"
   ]
  },
  {
   "cell_type": "code",
   "execution_count": 160,
   "id": "7ce71bc4-eb5d-4f01-8f51-20e6cf7a34d2",
   "metadata": {},
   "outputs": [
    {
     "data": {
      "text/plain": [
       "29"
      ]
     },
     "execution_count": 160,
     "metadata": {},
     "output_type": "execute_result"
    }
   ],
   "source": [
    "len(data_seq_monthly)"
   ]
  },
  {
   "cell_type": "code",
   "execution_count": 161,
   "id": "d9156eb2-7d1e-49c0-a82b-b752daf9a490",
   "metadata": {},
   "outputs": [],
   "source": [
    "train_size, test_size = int(0.8*len(data_seq_monthly)), int(0.2*(len(data_seq_monthly))) "
   ]
  },
  {
   "cell_type": "code",
   "execution_count": 162,
   "id": "acfc52eb-8077-45ab-b39f-d0b69fa1990c",
   "metadata": {},
   "outputs": [],
   "source": [
    "train_data_seq_mon = data_seq_monthly.take(train_size)\n",
    "test_data_seq_mon = data_seq_monthly.skip(train_size).take(test_size)\n",
    "for x,y in train_data_seq_mon.take(1):\n",
    "    print(f\"{x[:1].numpy()} ----> {y[:1].numpy()}\")"
   ]
  },
  {
   "cell_type": "code",
   "execution_count": 166,
   "id": "bd3b11af-6330-4e9a-82ec-910d287b9bcf",
   "metadata": {},
   "outputs": [
    {
     "name": "stdout",
     "output_type": "stream",
     "text": [
      "[[5.1 5.1 5.1 5.  4.9 4.9 5.  5.1 5.1 5.1 5.1 5.1 5.1 5.1 5.  4.8 5.  4.9\n",
      "  4.9 5.  5.  5.1 5.1 5.1 5.1 5.1 5.1 5.1 5.1 5.1]] ----> [5.1]\n"
     ]
    }
   ],
   "source": [
    "for x,y in train_data_seq_mon.take(1):\n",
    "    print(f\"{x[:1].numpy()} ----> {y[:1].numpy()}\")"
   ]
  },
  {
   "cell_type": "markdown",
   "id": "7cb5ee6d-a57c-4082-88d9-6f4d249df1c2",
   "metadata": {},
   "source": [
    "Hence we have constructed our windows of 30 days."
   ]
  },
  {
   "cell_type": "code",
   "execution_count": 167,
   "id": "454caad8-f013-4d42-89c7-e26597a941cb",
   "metadata": {},
   "outputs": [],
   "source": [
    "# Set the random seed for reproducibility\n",
    "tf.random.set_seed(42)\n",
    "\n",
    "# Building a functional dense model\n",
    "inputs = tf.keras.layers.Input(shape=(30,),dtype=tf.float32) # 30 days of data will come as input\n",
    "x = tf.keras.layers.Dense(128,activation=\"relu\")(inputs)\n",
    "x = tf.keras.layers.Dense(64,activation=\"relu\")(x)\n",
    "outputs = tf.keras.layers.Dense(1)(x)\n",
    "\n",
    "# Create the model\n",
    "model_6 = tf.keras.Model(inputs=inputs,\n",
    "                        outputs=outputs)\n",
    "\n",
    "# Compile the model\n",
    "model_6.compile(loss=\"mae\", # let's choose a simple loss function \n",
    "               optimizer=tf.keras.optimizers.Adam(),\n",
    "               metrics=[\"mae\"])"
   ]
  },
  {
   "cell_type": "code",
   "execution_count": 169,
   "id": "b200e213-060d-4a9a-8c59-2a42df820ac2",
   "metadata": {},
   "outputs": [
    {
     "name": "stdout",
     "output_type": "stream",
     "text": [
      "Model: \"model_7\"\n",
      "_________________________________________________________________\n",
      "Layer (type)                 Output Shape              Param #   \n",
      "=================================================================\n",
      "input_8 (InputLayer)         [(None, 30)]              0         \n",
      "_________________________________________________________________\n",
      "dense_21 (Dense)             (None, 128)               3968      \n",
      "_________________________________________________________________\n",
      "dense_22 (Dense)             (None, 64)                8256      \n",
      "_________________________________________________________________\n",
      "dense_23 (Dense)             (None, 1)                 65        \n",
      "=================================================================\n",
      "Total params: 12,289\n",
      "Trainable params: 12,289\n",
      "Non-trainable params: 0\n",
      "_________________________________________________________________\n"
     ]
    }
   ],
   "source": [
    "# Plot the summary of the model \n",
    "model_6.summary()"
   ]
  },
  {
   "cell_type": "code",
   "execution_count": 168,
   "id": "06e96883-cb60-4bca-9ddb-67ae26b6f234",
   "metadata": {},
   "outputs": [
    {
     "data": {
      "text/plain": [
       "<keras.callbacks.History at 0x1b7f76f6070>"
      ]
     },
     "execution_count": 168,
     "metadata": {},
     "output_type": "execute_result"
    }
   ],
   "source": [
    "# Fit the model \n",
    "model_6.fit(train_data_seq_mon,\n",
    "           epochs=100,\n",
    "           verbose=0,\n",
    "           validation_data=test_data_seq_mon,\n",
    "           callbacks=[tf.keras.callbacks.EarlyStopping(patience=10,\n",
    "                                                      restore_best_weights=True)])"
   ]
  },
  {
   "cell_type": "code",
   "execution_count": 170,
   "id": "18095f08-9261-4137-b621-ccad8010f958",
   "metadata": {},
   "outputs": [
    {
     "name": "stdout",
     "output_type": "stream",
     "text": [
      "5/5 [==============================] - 1s 4ms/step - loss: 1001.1749 - mae: 1001.1749\n"
     ]
    },
    {
     "data": {
      "text/plain": [
       "[1001.1749267578125, 1001.1749267578125]"
      ]
     },
     "execution_count": 170,
     "metadata": {},
     "output_type": "execute_result"
    }
   ],
   "source": [
    "loss_model_6 = model_6.evaluate(test_data_seq_mon)\n",
    "loss_model_6"
   ]
  },
  {
   "cell_type": "code",
   "execution_count": 687,
   "id": "deddb19a-3b27-4c1a-8543-1858a34be627",
   "metadata": {},
   "outputs": [
    {
     "data": {
      "text/plain": [
       "array([[9452.819],\n",
       "       [9330.489],\n",
       "       [9307.7  ],\n",
       "       [9151.229],\n",
       "       [8857.998]], dtype=float32)"
      ]
     },
     "execution_count": 687,
     "metadata": {},
     "output_type": "execute_result"
    }
   ],
   "source": [
    "# Let's make some prediction.\n",
    "model_6.predict(test_data_seq_mon)[:5]"
   ]
  },
  {
   "cell_type": "markdown",
   "id": "b02e5493-ea21-4c7c-ad64-91049e6a44bf",
   "metadata": {},
   "source": [
    "### <b> Model_7: Multivariate Time Series (price & volume) </b>"
   ]
  },
  {
   "cell_type": "markdown",
   "id": "e39db6db-0421-4af5-94fb-4f972478c2ae",
   "metadata": {},
   "source": [
    "Till now we have dealt with univariate time series data, now we will make it multi-variate by considering volume also, and let's see wheteher there any increase in accuracy. We will again use simple dense model with 7 days of input and 1 day of output. "
   ]
  },
  {
   "cell_type": "code",
   "execution_count": 479,
   "id": "a663937a-72fd-41bc-8009-a2e426f8d78e",
   "metadata": {},
   "outputs": [
    {
     "data": {
      "text/html": [
       "<div>\n",
       "<style scoped>\n",
       "    .dataframe tbody tr th:only-of-type {\n",
       "        vertical-align: middle;\n",
       "    }\n",
       "\n",
       "    .dataframe tbody tr th {\n",
       "        vertical-align: top;\n",
       "    }\n",
       "\n",
       "    .dataframe thead th {\n",
       "        text-align: right;\n",
       "    }\n",
       "</style>\n",
       "<table border=\"1\" class=\"dataframe\">\n",
       "  <thead>\n",
       "    <tr style=\"text-align: right;\">\n",
       "      <th></th>\n",
       "      <th>Price</th>\n",
       "      <th>Open</th>\n",
       "      <th>High</th>\n",
       "      <th>Low</th>\n",
       "      <th>Vol.</th>\n",
       "      <th>Change %</th>\n",
       "    </tr>\n",
       "    <tr>\n",
       "      <th>Date</th>\n",
       "      <th></th>\n",
       "      <th></th>\n",
       "      <th></th>\n",
       "      <th></th>\n",
       "      <th></th>\n",
       "      <th></th>\n",
       "    </tr>\n",
       "  </thead>\n",
       "  <tbody>\n",
       "    <tr>\n",
       "      <th>2012-04-25</th>\n",
       "      <td>5.1</td>\n",
       "      <td>5.1</td>\n",
       "      <td>5.2</td>\n",
       "      <td>5</td>\n",
       "      <td>35.64K</td>\n",
       "      <td>0.00%</td>\n",
       "    </tr>\n",
       "    <tr>\n",
       "      <th>2012-04-26</th>\n",
       "      <td>5.1</td>\n",
       "      <td>5.1</td>\n",
       "      <td>5.2</td>\n",
       "      <td>5</td>\n",
       "      <td>57.36K</td>\n",
       "      <td>0.00%</td>\n",
       "    </tr>\n",
       "    <tr>\n",
       "      <th>2012-04-27</th>\n",
       "      <td>5.1</td>\n",
       "      <td>5.1</td>\n",
       "      <td>5.1</td>\n",
       "      <td>5</td>\n",
       "      <td>25.87K</td>\n",
       "      <td>0.00%</td>\n",
       "    </tr>\n",
       "    <tr>\n",
       "      <th>2012-04-28</th>\n",
       "      <td>5</td>\n",
       "      <td>5.1</td>\n",
       "      <td>5.1</td>\n",
       "      <td>4.8</td>\n",
       "      <td>91.59K</td>\n",
       "      <td>-2.54%</td>\n",
       "    </tr>\n",
       "    <tr>\n",
       "      <th>2012-04-29</th>\n",
       "      <td>4.9</td>\n",
       "      <td>5</td>\n",
       "      <td>5</td>\n",
       "      <td>4.9</td>\n",
       "      <td>22.23K</td>\n",
       "      <td>-1.61%</td>\n",
       "    </tr>\n",
       "  </tbody>\n",
       "</table>\n",
       "</div>"
      ],
      "text/plain": [
       "           Price Open High  Low    Vol. Change %\n",
       "Date                                            \n",
       "2012-04-25   5.1  5.1  5.2    5  35.64K    0.00%\n",
       "2012-04-26   5.1  5.1  5.2    5  57.36K    0.00%\n",
       "2012-04-27   5.1  5.1  5.1    5  25.87K    0.00%\n",
       "2012-04-28     5  5.1  5.1  4.8  91.59K   -2.54%\n",
       "2012-04-29   4.9    5    5  4.9  22.23K   -1.61%"
      ]
     },
     "execution_count": 479,
     "metadata": {},
     "output_type": "execute_result"
    }
   ],
   "source": [
    "df_btc.head()"
   ]
  },
  {
   "cell_type": "code",
   "execution_count": 480,
   "id": "e8578ff7-992a-46c2-af58-caf7b9bf637b",
   "metadata": {},
   "outputs": [],
   "source": [
    "df_vol = df_btc[[\"Price\",\"Vol.\"]]"
   ]
  },
  {
   "cell_type": "code",
   "execution_count": 481,
   "id": "765209ec-039f-4eec-843c-d6f7d7d0143b",
   "metadata": {},
   "outputs": [
    {
     "data": {
      "text/html": [
       "<div>\n",
       "<style scoped>\n",
       "    .dataframe tbody tr th:only-of-type {\n",
       "        vertical-align: middle;\n",
       "    }\n",
       "\n",
       "    .dataframe tbody tr th {\n",
       "        vertical-align: top;\n",
       "    }\n",
       "\n",
       "    .dataframe thead th {\n",
       "        text-align: right;\n",
       "    }\n",
       "</style>\n",
       "<table border=\"1\" class=\"dataframe\">\n",
       "  <thead>\n",
       "    <tr style=\"text-align: right;\">\n",
       "      <th></th>\n",
       "      <th>Price</th>\n",
       "      <th>Vol.</th>\n",
       "    </tr>\n",
       "    <tr>\n",
       "      <th>Date</th>\n",
       "      <th></th>\n",
       "      <th></th>\n",
       "    </tr>\n",
       "  </thead>\n",
       "  <tbody>\n",
       "    <tr>\n",
       "      <th>2012-04-25</th>\n",
       "      <td>5.1</td>\n",
       "      <td>35.64K</td>\n",
       "    </tr>\n",
       "    <tr>\n",
       "      <th>2012-04-26</th>\n",
       "      <td>5.1</td>\n",
       "      <td>57.36K</td>\n",
       "    </tr>\n",
       "    <tr>\n",
       "      <th>2012-04-27</th>\n",
       "      <td>5.1</td>\n",
       "      <td>25.87K</td>\n",
       "    </tr>\n",
       "    <tr>\n",
       "      <th>2012-04-28</th>\n",
       "      <td>5</td>\n",
       "      <td>91.59K</td>\n",
       "    </tr>\n",
       "    <tr>\n",
       "      <th>2012-04-29</th>\n",
       "      <td>4.9</td>\n",
       "      <td>22.23K</td>\n",
       "    </tr>\n",
       "  </tbody>\n",
       "</table>\n",
       "</div>"
      ],
      "text/plain": [
       "           Price    Vol.\n",
       "Date                    \n",
       "2012-04-25   5.1  35.64K\n",
       "2012-04-26   5.1  57.36K\n",
       "2012-04-27   5.1  25.87K\n",
       "2012-04-28     5  91.59K\n",
       "2012-04-29   4.9  22.23K"
      ]
     },
     "execution_count": 481,
     "metadata": {},
     "output_type": "execute_result"
    }
   ],
   "source": [
    "df_vol.head()"
   ]
  },
  {
   "cell_type": "code",
   "execution_count": 482,
   "id": "2ac3299d-b9a6-4d2b-9840-24d8d9e33946",
   "metadata": {},
   "outputs": [],
   "source": [
    "import warnings \n",
    "warnings.filterwarnings(\"ignore\")"
   ]
  },
  {
   "cell_type": "code",
   "execution_count": 483,
   "id": "a5c4527f-e11d-4951-8f9b-bcb45e0a44a4",
   "metadata": {},
   "outputs": [
    {
     "data": {
      "text/plain": [
       "Price    object\n",
       "Vol.     object\n",
       "dtype: object"
      ]
     },
     "execution_count": 483,
     "metadata": {},
     "output_type": "execute_result"
    }
   ],
   "source": [
    "df_vol.dtypes"
   ]
  },
  {
   "cell_type": "markdown",
   "id": "c3d70771-d312-4d55-a7de-45ef07815021",
   "metadata": {},
   "source": [
    "We need to change the Vol. into numerical form."
   ]
  },
  {
   "cell_type": "code",
   "execution_count": 484,
   "id": "06d719bd-2f08-450f-8a95-4e8af5ca7937",
   "metadata": {},
   "outputs": [
    {
     "data": {
      "text/html": [
       "<div>\n",
       "<style scoped>\n",
       "    .dataframe tbody tr th:only-of-type {\n",
       "        vertical-align: middle;\n",
       "    }\n",
       "\n",
       "    .dataframe tbody tr th {\n",
       "        vertical-align: top;\n",
       "    }\n",
       "\n",
       "    .dataframe thead th {\n",
       "        text-align: right;\n",
       "    }\n",
       "</style>\n",
       "<table border=\"1\" class=\"dataframe\">\n",
       "  <thead>\n",
       "    <tr style=\"text-align: right;\">\n",
       "      <th></th>\n",
       "      <th>Price</th>\n",
       "      <th>Vol.</th>\n",
       "    </tr>\n",
       "    <tr>\n",
       "      <th>Date</th>\n",
       "      <th></th>\n",
       "      <th></th>\n",
       "    </tr>\n",
       "  </thead>\n",
       "  <tbody>\n",
       "    <tr>\n",
       "      <th>2012-04-25</th>\n",
       "      <td>5.1</td>\n",
       "      <td>35.64K</td>\n",
       "    </tr>\n",
       "    <tr>\n",
       "      <th>2012-04-26</th>\n",
       "      <td>5.1</td>\n",
       "      <td>57.36K</td>\n",
       "    </tr>\n",
       "    <tr>\n",
       "      <th>2012-04-27</th>\n",
       "      <td>5.1</td>\n",
       "      <td>25.87K</td>\n",
       "    </tr>\n",
       "    <tr>\n",
       "      <th>2012-04-28</th>\n",
       "      <td>5</td>\n",
       "      <td>91.59K</td>\n",
       "    </tr>\n",
       "    <tr>\n",
       "      <th>2012-04-29</th>\n",
       "      <td>4.9</td>\n",
       "      <td>22.23K</td>\n",
       "    </tr>\n",
       "  </tbody>\n",
       "</table>\n",
       "</div>"
      ],
      "text/plain": [
       "           Price    Vol.\n",
       "Date                    \n",
       "2012-04-25   5.1  35.64K\n",
       "2012-04-26   5.1  57.36K\n",
       "2012-04-27   5.1  25.87K\n",
       "2012-04-28     5  91.59K\n",
       "2012-04-29   4.9  22.23K"
      ]
     },
     "execution_count": 484,
     "metadata": {},
     "output_type": "execute_result"
    }
   ],
   "source": [
    "df_vol.head()"
   ]
  },
  {
   "cell_type": "code",
   "execution_count": 485,
   "id": "08e180df-480f-4615-a19b-590f6dab7955",
   "metadata": {},
   "outputs": [
    {
     "data": {
      "text/plain": [
       "{'B', 'K', 'M'}"
      ]
     },
     "execution_count": 485,
     "metadata": {},
     "output_type": "execute_result"
    }
   ],
   "source": [
    "num_chars = (re.findall(\"[a-zA-Z]\",text) for text in df_vol[\"Vol.\"])\n",
    "text = [element for sub in num_chars for element in sub]\n",
    "set(text)"
   ]
  },
  {
   "cell_type": "markdown",
   "id": "b835db3f-3733-4de1-8ef6-36cdc71ee39d",
   "metadata": {},
   "source": [
    "So, we have seen that there are three unique words, where \"B\" represents Billion, \"K\" represents thousands and \"M\" represents million. So, for billion we need to multiply by 10<sup>9</sup>, for million we need to multiply by 10<sup>6</sup> and for thousand we need to multiply them by 10<sup>3</sup>. Before multiplying let's visualize each one of \"K\", \"M\" and \"B\".   "
   ]
  },
  {
   "cell_type": "code",
   "execution_count": 486,
   "id": "2b0b47af-c5c9-4e56-866b-aee35de8dba1",
   "metadata": {},
   "outputs": [
    {
     "data": {
      "text/html": [
       "<div>\n",
       "<style scoped>\n",
       "    .dataframe tbody tr th:only-of-type {\n",
       "        vertical-align: middle;\n",
       "    }\n",
       "\n",
       "    .dataframe tbody tr th {\n",
       "        vertical-align: top;\n",
       "    }\n",
       "\n",
       "    .dataframe thead th {\n",
       "        text-align: right;\n",
       "    }\n",
       "</style>\n",
       "<table border=\"1\" class=\"dataframe\">\n",
       "  <thead>\n",
       "    <tr style=\"text-align: right;\">\n",
       "      <th></th>\n",
       "      <th>Price</th>\n",
       "      <th>Vol.</th>\n",
       "    </tr>\n",
       "    <tr>\n",
       "      <th>Date</th>\n",
       "      <th></th>\n",
       "      <th></th>\n",
       "    </tr>\n",
       "  </thead>\n",
       "  <tbody>\n",
       "    <tr>\n",
       "      <th>2012-04-25</th>\n",
       "      <td>5.1</td>\n",
       "      <td>35.64K</td>\n",
       "    </tr>\n",
       "    <tr>\n",
       "      <th>2012-04-26</th>\n",
       "      <td>5.1</td>\n",
       "      <td>57.36K</td>\n",
       "    </tr>\n",
       "    <tr>\n",
       "      <th>2012-04-27</th>\n",
       "      <td>5.1</td>\n",
       "      <td>25.87K</td>\n",
       "    </tr>\n",
       "    <tr>\n",
       "      <th>2012-04-28</th>\n",
       "      <td>5</td>\n",
       "      <td>91.59K</td>\n",
       "    </tr>\n",
       "    <tr>\n",
       "      <th>2012-04-29</th>\n",
       "      <td>4.9</td>\n",
       "      <td>22.23K</td>\n",
       "    </tr>\n",
       "  </tbody>\n",
       "</table>\n",
       "</div>"
      ],
      "text/plain": [
       "           Price    Vol.\n",
       "Date                    \n",
       "2012-04-25   5.1  35.64K\n",
       "2012-04-26   5.1  57.36K\n",
       "2012-04-27   5.1  25.87K\n",
       "2012-04-28     5  91.59K\n",
       "2012-04-29   4.9  22.23K"
      ]
     },
     "execution_count": 486,
     "metadata": {},
     "output_type": "execute_result"
    }
   ],
   "source": [
    "df_vol[df_vol[\"Vol.\"].str.contains(\"K\")][:5]"
   ]
  },
  {
   "cell_type": "code",
   "execution_count": 487,
   "id": "f92308e5-8f69-4dfd-936e-ab7fd5111b83",
   "metadata": {},
   "outputs": [
    {
     "data": {
      "text/html": [
       "<div>\n",
       "<style scoped>\n",
       "    .dataframe tbody tr th:only-of-type {\n",
       "        vertical-align: middle;\n",
       "    }\n",
       "\n",
       "    .dataframe tbody tr th {\n",
       "        vertical-align: top;\n",
       "    }\n",
       "\n",
       "    .dataframe thead th {\n",
       "        text-align: right;\n",
       "    }\n",
       "</style>\n",
       "<table border=\"1\" class=\"dataframe\">\n",
       "  <thead>\n",
       "    <tr style=\"text-align: right;\">\n",
       "      <th></th>\n",
       "      <th>Price</th>\n",
       "      <th>Vol.</th>\n",
       "    </tr>\n",
       "    <tr>\n",
       "      <th>Date</th>\n",
       "      <th></th>\n",
       "      <th></th>\n",
       "    </tr>\n",
       "  </thead>\n",
       "  <tbody>\n",
       "    <tr>\n",
       "      <th>2018-08-14</th>\n",
       "      <td>6,190.20</td>\n",
       "      <td>3.66M</td>\n",
       "    </tr>\n",
       "    <tr>\n",
       "      <th>2018-08-15</th>\n",
       "      <td>6,256.90</td>\n",
       "      <td>3.74M</td>\n",
       "    </tr>\n",
       "    <tr>\n",
       "      <th>2018-08-16</th>\n",
       "      <td>6,306.70</td>\n",
       "      <td>3.50M</td>\n",
       "    </tr>\n",
       "    <tr>\n",
       "      <th>2018-08-17</th>\n",
       "      <td>6,581.70</td>\n",
       "      <td>3.20M</td>\n",
       "    </tr>\n",
       "    <tr>\n",
       "      <th>2018-08-18</th>\n",
       "      <td>6,379.10</td>\n",
       "      <td>3.15M</td>\n",
       "    </tr>\n",
       "  </tbody>\n",
       "</table>\n",
       "</div>"
      ],
      "text/plain": [
       "               Price   Vol.\n",
       "Date                       \n",
       "2018-08-14  6,190.20  3.66M\n",
       "2018-08-15  6,256.90  3.74M\n",
       "2018-08-16  6,306.70  3.50M\n",
       "2018-08-17  6,581.70  3.20M\n",
       "2018-08-18  6,379.10  3.15M"
      ]
     },
     "execution_count": 487,
     "metadata": {},
     "output_type": "execute_result"
    }
   ],
   "source": [
    "df_vol[df_vol[\"Vol.\"].str.contains(\"M\")][:5]"
   ]
  },
  {
   "cell_type": "code",
   "execution_count": 488,
   "id": "281f239e-1446-4543-a91c-e8844657638b",
   "metadata": {},
   "outputs": [
    {
     "data": {
      "text/html": [
       "<div>\n",
       "<style scoped>\n",
       "    .dataframe tbody tr th:only-of-type {\n",
       "        vertical-align: middle;\n",
       "    }\n",
       "\n",
       "    .dataframe tbody tr th {\n",
       "        vertical-align: top;\n",
       "    }\n",
       "\n",
       "    .dataframe thead th {\n",
       "        text-align: right;\n",
       "    }\n",
       "</style>\n",
       "<table border=\"1\" class=\"dataframe\">\n",
       "  <thead>\n",
       "    <tr style=\"text-align: right;\">\n",
       "      <th></th>\n",
       "      <th>Price</th>\n",
       "      <th>Vol.</th>\n",
       "    </tr>\n",
       "    <tr>\n",
       "      <th>Date</th>\n",
       "      <th></th>\n",
       "      <th></th>\n",
       "    </tr>\n",
       "  </thead>\n",
       "  <tbody>\n",
       "    <tr>\n",
       "      <th>2022-03-04</th>\n",
       "      <td>39,142.70</td>\n",
       "      <td>3.21B</td>\n",
       "    </tr>\n",
       "    <tr>\n",
       "      <th>2022-03-05</th>\n",
       "      <td>39,395.80</td>\n",
       "      <td>1.50B</td>\n",
       "    </tr>\n",
       "    <tr>\n",
       "      <th>2022-03-06</th>\n",
       "      <td>38,403.10</td>\n",
       "      <td>1.93B</td>\n",
       "    </tr>\n",
       "    <tr>\n",
       "      <th>2022-03-07</th>\n",
       "      <td>38,024.80</td>\n",
       "      <td>3.02B</td>\n",
       "    </tr>\n",
       "    <tr>\n",
       "      <th>2022-03-08</th>\n",
       "      <td>38,744.80</td>\n",
       "      <td>2.67B</td>\n",
       "    </tr>\n",
       "  </tbody>\n",
       "</table>\n",
       "</div>"
      ],
      "text/plain": [
       "                Price   Vol.\n",
       "Date                        \n",
       "2022-03-04  39,142.70  3.21B\n",
       "2022-03-05  39,395.80  1.50B\n",
       "2022-03-06  38,403.10  1.93B\n",
       "2022-03-07  38,024.80  3.02B\n",
       "2022-03-08  38,744.80  2.67B"
      ]
     },
     "execution_count": 488,
     "metadata": {},
     "output_type": "execute_result"
    }
   ],
   "source": [
    "df_vol[df_vol[\"Vol.\"].str.contains(\"B\")][:5]"
   ]
  },
  {
   "cell_type": "markdown",
   "id": "cd260143-4f26-4c88-b89e-9ffb5299dc05",
   "metadata": {},
   "source": [
    "Now let's execute the multiplying opeartion that we have discussed above. In python 1e denotes 10.  "
   ]
  },
  {
   "cell_type": "code",
   "execution_count": 489,
   "id": "7770275b-5902-4ab9-a8c6-49cb52ee3d58",
   "metadata": {},
   "outputs": [],
   "source": [
    "df_vol[\"Vol.\"] = df_vol['Vol.'].replace({'K': '*1e3', 'M': '*1e6','B':'*1e9'}, regex=True).map(pd.eval).astype(np.float32)"
   ]
  },
  {
   "cell_type": "code",
   "execution_count": 490,
   "id": "0989d1ae-5560-49d7-bd98-df93d6a02f2a",
   "metadata": {},
   "outputs": [
    {
     "data": {
      "text/html": [
       "<div>\n",
       "<style scoped>\n",
       "    .dataframe tbody tr th:only-of-type {\n",
       "        vertical-align: middle;\n",
       "    }\n",
       "\n",
       "    .dataframe tbody tr th {\n",
       "        vertical-align: top;\n",
       "    }\n",
       "\n",
       "    .dataframe thead th {\n",
       "        text-align: right;\n",
       "    }\n",
       "</style>\n",
       "<table border=\"1\" class=\"dataframe\">\n",
       "  <thead>\n",
       "    <tr style=\"text-align: right;\">\n",
       "      <th></th>\n",
       "      <th>Price</th>\n",
       "      <th>Vol.</th>\n",
       "    </tr>\n",
       "    <tr>\n",
       "      <th>Date</th>\n",
       "      <th></th>\n",
       "      <th></th>\n",
       "    </tr>\n",
       "  </thead>\n",
       "  <tbody>\n",
       "    <tr>\n",
       "      <th>2012-04-25</th>\n",
       "      <td>5.1</td>\n",
       "      <td>35640.0</td>\n",
       "    </tr>\n",
       "    <tr>\n",
       "      <th>2012-04-26</th>\n",
       "      <td>5.1</td>\n",
       "      <td>57360.0</td>\n",
       "    </tr>\n",
       "    <tr>\n",
       "      <th>2012-04-27</th>\n",
       "      <td>5.1</td>\n",
       "      <td>25870.0</td>\n",
       "    </tr>\n",
       "    <tr>\n",
       "      <th>2012-04-28</th>\n",
       "      <td>5</td>\n",
       "      <td>91590.0</td>\n",
       "    </tr>\n",
       "    <tr>\n",
       "      <th>2012-04-29</th>\n",
       "      <td>4.9</td>\n",
       "      <td>22230.0</td>\n",
       "    </tr>\n",
       "  </tbody>\n",
       "</table>\n",
       "</div>"
      ],
      "text/plain": [
       "           Price     Vol.\n",
       "Date                     \n",
       "2012-04-25   5.1  35640.0\n",
       "2012-04-26   5.1  57360.0\n",
       "2012-04-27   5.1  25870.0\n",
       "2012-04-28     5  91590.0\n",
       "2012-04-29   4.9  22230.0"
      ]
     },
     "execution_count": 490,
     "metadata": {},
     "output_type": "execute_result"
    }
   ],
   "source": [
    "df_vol.head()"
   ]
  },
  {
   "cell_type": "code",
   "execution_count": 491,
   "id": "028140cb-811c-44ef-bcdc-9d8e5c2dba9e",
   "metadata": {},
   "outputs": [
    {
     "data": {
      "text/plain": [
       "4470000128.0"
      ]
     },
     "execution_count": 491,
     "metadata": {},
     "output_type": "execute_result"
    }
   ],
   "source": [
    "df_vol[\"Vol.\"].max()"
   ]
  },
  {
   "cell_type": "markdown",
   "id": "74c94e49-63e4-4196-aa9a-d83e324fcfbb",
   "metadata": {},
   "source": [
    "So, above method has worked."
   ]
  },
  {
   "cell_type": "code",
   "execution_count": 492,
   "id": "70cdb93c-95f3-4188-b21d-73bf582a019a",
   "metadata": {},
   "outputs": [],
   "source": [
    "# Convert the data \n",
    "df_vol[\"Price\"] = df_vol[\"Price\"].replace(\",\",\"\")"
   ]
  },
  {
   "cell_type": "code",
   "execution_count": 493,
   "id": "7add6c9e-af18-4426-965a-a6d1620242f4",
   "metadata": {},
   "outputs": [
    {
     "data": {
      "text/html": [
       "<div>\n",
       "<style scoped>\n",
       "    .dataframe tbody tr th:only-of-type {\n",
       "        vertical-align: middle;\n",
       "    }\n",
       "\n",
       "    .dataframe tbody tr th {\n",
       "        vertical-align: top;\n",
       "    }\n",
       "\n",
       "    .dataframe thead th {\n",
       "        text-align: right;\n",
       "    }\n",
       "</style>\n",
       "<table border=\"1\" class=\"dataframe\">\n",
       "  <thead>\n",
       "    <tr style=\"text-align: right;\">\n",
       "      <th></th>\n",
       "      <th>Price</th>\n",
       "      <th>Vol.</th>\n",
       "    </tr>\n",
       "    <tr>\n",
       "      <th>Date</th>\n",
       "      <th></th>\n",
       "      <th></th>\n",
       "    </tr>\n",
       "  </thead>\n",
       "  <tbody>\n",
       "    <tr>\n",
       "      <th>2012-04-25</th>\n",
       "      <td>5.1</td>\n",
       "      <td>35640.0</td>\n",
       "    </tr>\n",
       "    <tr>\n",
       "      <th>2012-04-26</th>\n",
       "      <td>5.1</td>\n",
       "      <td>57360.0</td>\n",
       "    </tr>\n",
       "    <tr>\n",
       "      <th>2012-04-27</th>\n",
       "      <td>5.1</td>\n",
       "      <td>25870.0</td>\n",
       "    </tr>\n",
       "    <tr>\n",
       "      <th>2012-04-28</th>\n",
       "      <td>5</td>\n",
       "      <td>91590.0</td>\n",
       "    </tr>\n",
       "    <tr>\n",
       "      <th>2012-04-29</th>\n",
       "      <td>4.9</td>\n",
       "      <td>22230.0</td>\n",
       "    </tr>\n",
       "  </tbody>\n",
       "</table>\n",
       "</div>"
      ],
      "text/plain": [
       "           Price     Vol.\n",
       "Date                     \n",
       "2012-04-25   5.1  35640.0\n",
       "2012-04-26   5.1  57360.0\n",
       "2012-04-27   5.1  25870.0\n",
       "2012-04-28     5  91590.0\n",
       "2012-04-29   4.9  22230.0"
      ]
     },
     "execution_count": 493,
     "metadata": {},
     "output_type": "execute_result"
    }
   ],
   "source": [
    "df_vol.head()"
   ]
  },
  {
   "cell_type": "code",
   "execution_count": 494,
   "id": "fe979464-1b0f-4322-957e-4d23d6c2cd12",
   "metadata": {},
   "outputs": [],
   "source": [
    "df_vol[\"Price\"] = df_vol[\"Price\"].apply(lambda x:x.replace(',',''))"
   ]
  },
  {
   "cell_type": "code",
   "execution_count": 495,
   "id": "7f8903a0-7169-4bfa-82bb-ae23eb56880d",
   "metadata": {},
   "outputs": [],
   "source": [
    "df_vol[\"Price\"] = df_vol[\"Price\"].astype(np.float32)"
   ]
  },
  {
   "cell_type": "code",
   "execution_count": 496,
   "id": "87c97486-7fdd-4fc4-a04e-4d27fce02d76",
   "metadata": {},
   "outputs": [
    {
     "data": {
      "text/plain": [
       "Price    float32\n",
       "Vol.     float32\n",
       "dtype: object"
      ]
     },
     "execution_count": 496,
     "metadata": {},
     "output_type": "execute_result"
    }
   ],
   "source": [
    "df_vol.dtypes"
   ]
  },
  {
   "cell_type": "markdown",
   "id": "b9d76eeb-1a88-4a21-a84c-3f2fc0c6e342",
   "metadata": {},
   "source": [
    "Now every things looks good, we can construct our multvariate model.\n",
    "\n",
    "To construct a multivariate model, we need to convert make a windowed format. For this purpose we will use `pandas.DataFrame.shift` function of pandas, as our data is in dataframe. This function provides `shift` option, that let us make a window by specified number of periods. "
   ]
  },
  {
   "cell_type": "markdown",
   "id": "ee2c96a4-9658-4e7e-864e-3b948b2a5de3",
   "metadata": {},
   "source": [
    "Since, we are constructing windows for 7 days for output of one day."
   ]
  },
  {
   "cell_type": "code",
   "execution_count": 497,
   "id": "0d394124-3313-4a0c-98d6-91300d684c86",
   "metadata": {},
   "outputs": [],
   "source": [
    "sequence_length = 7\n",
    "output_length = 1"
   ]
  },
  {
   "cell_type": "markdown",
   "id": "ad6e06cb-7d70-43f7-bf40-b0ace0b3876b",
   "metadata": {},
   "source": [
    "Let's make a copy of df_vol dataframe for further purpose and work on copied one. "
   ]
  },
  {
   "cell_type": "code",
   "execution_count": 498,
   "id": "3205c7e9-c6fd-48e6-a305-847c5653b027",
   "metadata": {},
   "outputs": [],
   "source": [
    "btc_window = df_vol.copy() "
   ]
  },
  {
   "cell_type": "code",
   "execution_count": 499,
   "id": "9e548a7a-a86a-4819-ab66-8586aa2854f3",
   "metadata": {},
   "outputs": [
    {
     "data": {
      "text/html": [
       "<div>\n",
       "<style scoped>\n",
       "    .dataframe tbody tr th:only-of-type {\n",
       "        vertical-align: middle;\n",
       "    }\n",
       "\n",
       "    .dataframe tbody tr th {\n",
       "        vertical-align: top;\n",
       "    }\n",
       "\n",
       "    .dataframe thead th {\n",
       "        text-align: right;\n",
       "    }\n",
       "</style>\n",
       "<table border=\"1\" class=\"dataframe\">\n",
       "  <thead>\n",
       "    <tr style=\"text-align: right;\">\n",
       "      <th></th>\n",
       "      <th>Price</th>\n",
       "      <th>Vol.</th>\n",
       "      <th>Price+1</th>\n",
       "      <th>Price+2</th>\n",
       "      <th>Price+3</th>\n",
       "      <th>Price+4</th>\n",
       "      <th>Price+5</th>\n",
       "      <th>Price+6</th>\n",
       "      <th>Price+7</th>\n",
       "    </tr>\n",
       "    <tr>\n",
       "      <th>Date</th>\n",
       "      <th></th>\n",
       "      <th></th>\n",
       "      <th></th>\n",
       "      <th></th>\n",
       "      <th></th>\n",
       "      <th></th>\n",
       "      <th></th>\n",
       "      <th></th>\n",
       "      <th></th>\n",
       "    </tr>\n",
       "  </thead>\n",
       "  <tbody>\n",
       "    <tr>\n",
       "      <th>2012-04-25</th>\n",
       "      <td>5.1</td>\n",
       "      <td>35640.0</td>\n",
       "      <td>NaN</td>\n",
       "      <td>NaN</td>\n",
       "      <td>NaN</td>\n",
       "      <td>NaN</td>\n",
       "      <td>NaN</td>\n",
       "      <td>NaN</td>\n",
       "      <td>NaN</td>\n",
       "    </tr>\n",
       "    <tr>\n",
       "      <th>2012-04-26</th>\n",
       "      <td>5.1</td>\n",
       "      <td>57360.0</td>\n",
       "      <td>5.1</td>\n",
       "      <td>NaN</td>\n",
       "      <td>NaN</td>\n",
       "      <td>NaN</td>\n",
       "      <td>NaN</td>\n",
       "      <td>NaN</td>\n",
       "      <td>NaN</td>\n",
       "    </tr>\n",
       "    <tr>\n",
       "      <th>2012-04-27</th>\n",
       "      <td>5.1</td>\n",
       "      <td>25870.0</td>\n",
       "      <td>5.1</td>\n",
       "      <td>5.1</td>\n",
       "      <td>NaN</td>\n",
       "      <td>NaN</td>\n",
       "      <td>NaN</td>\n",
       "      <td>NaN</td>\n",
       "      <td>NaN</td>\n",
       "    </tr>\n",
       "    <tr>\n",
       "      <th>2012-04-28</th>\n",
       "      <td>5.0</td>\n",
       "      <td>91590.0</td>\n",
       "      <td>5.1</td>\n",
       "      <td>5.1</td>\n",
       "      <td>5.1</td>\n",
       "      <td>NaN</td>\n",
       "      <td>NaN</td>\n",
       "      <td>NaN</td>\n",
       "      <td>NaN</td>\n",
       "    </tr>\n",
       "    <tr>\n",
       "      <th>2012-04-29</th>\n",
       "      <td>4.9</td>\n",
       "      <td>22230.0</td>\n",
       "      <td>5.0</td>\n",
       "      <td>5.1</td>\n",
       "      <td>5.1</td>\n",
       "      <td>5.1</td>\n",
       "      <td>NaN</td>\n",
       "      <td>NaN</td>\n",
       "      <td>NaN</td>\n",
       "    </tr>\n",
       "    <tr>\n",
       "      <th>2012-04-30</th>\n",
       "      <td>4.9</td>\n",
       "      <td>55770.0</td>\n",
       "      <td>4.9</td>\n",
       "      <td>5.0</td>\n",
       "      <td>5.1</td>\n",
       "      <td>5.1</td>\n",
       "      <td>5.1</td>\n",
       "      <td>NaN</td>\n",
       "      <td>NaN</td>\n",
       "    </tr>\n",
       "    <tr>\n",
       "      <th>2012-05-01</th>\n",
       "      <td>5.0</td>\n",
       "      <td>36680.0</td>\n",
       "      <td>4.9</td>\n",
       "      <td>4.9</td>\n",
       "      <td>5.0</td>\n",
       "      <td>5.1</td>\n",
       "      <td>5.1</td>\n",
       "      <td>5.1</td>\n",
       "      <td>NaN</td>\n",
       "    </tr>\n",
       "    <tr>\n",
       "      <th>2012-05-02</th>\n",
       "      <td>5.1</td>\n",
       "      <td>95960.0</td>\n",
       "      <td>5.0</td>\n",
       "      <td>4.9</td>\n",
       "      <td>4.9</td>\n",
       "      <td>5.0</td>\n",
       "      <td>5.1</td>\n",
       "      <td>5.1</td>\n",
       "      <td>5.1</td>\n",
       "    </tr>\n",
       "  </tbody>\n",
       "</table>\n",
       "</div>"
      ],
      "text/plain": [
       "            Price     Vol.  Price+1  Price+2  Price+3  Price+4  Price+5  \\\n",
       "Date                                                                      \n",
       "2012-04-25    5.1  35640.0      NaN      NaN      NaN      NaN      NaN   \n",
       "2012-04-26    5.1  57360.0      5.1      NaN      NaN      NaN      NaN   \n",
       "2012-04-27    5.1  25870.0      5.1      5.1      NaN      NaN      NaN   \n",
       "2012-04-28    5.0  91590.0      5.1      5.1      5.1      NaN      NaN   \n",
       "2012-04-29    4.9  22230.0      5.0      5.1      5.1      5.1      NaN   \n",
       "2012-04-30    4.9  55770.0      4.9      5.0      5.1      5.1      5.1   \n",
       "2012-05-01    5.0  36680.0      4.9      4.9      5.0      5.1      5.1   \n",
       "2012-05-02    5.1  95960.0      5.0      4.9      4.9      5.0      5.1   \n",
       "\n",
       "            Price+6  Price+7  \n",
       "Date                          \n",
       "2012-04-25      NaN      NaN  \n",
       "2012-04-26      NaN      NaN  \n",
       "2012-04-27      NaN      NaN  \n",
       "2012-04-28      NaN      NaN  \n",
       "2012-04-29      NaN      NaN  \n",
       "2012-04-30      NaN      NaN  \n",
       "2012-05-01      5.1      NaN  \n",
       "2012-05-02      5.1      5.1  "
      ]
     },
     "execution_count": 499,
     "metadata": {},
     "output_type": "execute_result"
    }
   ],
   "source": [
    "for i in range(sequence_length): # total 7 shift length\n",
    "    btc_window[f\"Price+{i+1}\"] = btc_window[\"Price\"].shift(periods=i+1)\n",
    "btc_window.head(8)"
   ]
  },
  {
   "cell_type": "code",
   "execution_count": 500,
   "id": "2b4a8191-5168-403a-91da-b1a6fd155d66",
   "metadata": {},
   "outputs": [],
   "source": [
    "X = btc_window.dropna().drop(\"Price\",axis=1)\n",
    "y = btc_window.dropna()[\"Price\"]"
   ]
  },
  {
   "cell_type": "code",
   "execution_count": 501,
   "id": "6e7ff354-a8b7-4f6e-8258-621860d32aec",
   "metadata": {},
   "outputs": [
    {
     "data": {
      "text/html": [
       "<div>\n",
       "<style scoped>\n",
       "    .dataframe tbody tr th:only-of-type {\n",
       "        vertical-align: middle;\n",
       "    }\n",
       "\n",
       "    .dataframe tbody tr th {\n",
       "        vertical-align: top;\n",
       "    }\n",
       "\n",
       "    .dataframe thead th {\n",
       "        text-align: right;\n",
       "    }\n",
       "</style>\n",
       "<table border=\"1\" class=\"dataframe\">\n",
       "  <thead>\n",
       "    <tr style=\"text-align: right;\">\n",
       "      <th></th>\n",
       "      <th>Vol.</th>\n",
       "      <th>Price+1</th>\n",
       "      <th>Price+2</th>\n",
       "      <th>Price+3</th>\n",
       "      <th>Price+4</th>\n",
       "      <th>Price+5</th>\n",
       "      <th>Price+6</th>\n",
       "      <th>Price+7</th>\n",
       "    </tr>\n",
       "    <tr>\n",
       "      <th>Date</th>\n",
       "      <th></th>\n",
       "      <th></th>\n",
       "      <th></th>\n",
       "      <th></th>\n",
       "      <th></th>\n",
       "      <th></th>\n",
       "      <th></th>\n",
       "      <th></th>\n",
       "    </tr>\n",
       "  </thead>\n",
       "  <tbody>\n",
       "    <tr>\n",
       "      <th>2012-05-02</th>\n",
       "      <td>95960.0</td>\n",
       "      <td>5.0</td>\n",
       "      <td>4.9</td>\n",
       "      <td>4.9</td>\n",
       "      <td>5.0</td>\n",
       "      <td>5.1</td>\n",
       "      <td>5.1</td>\n",
       "      <td>5.1</td>\n",
       "    </tr>\n",
       "    <tr>\n",
       "      <th>2012-05-03</th>\n",
       "      <td>35420.0</td>\n",
       "      <td>5.1</td>\n",
       "      <td>5.0</td>\n",
       "      <td>4.9</td>\n",
       "      <td>4.9</td>\n",
       "      <td>5.0</td>\n",
       "      <td>5.1</td>\n",
       "      <td>5.1</td>\n",
       "    </tr>\n",
       "    <tr>\n",
       "      <th>2012-05-04</th>\n",
       "      <td>43630.0</td>\n",
       "      <td>5.1</td>\n",
       "      <td>5.1</td>\n",
       "      <td>5.0</td>\n",
       "      <td>4.9</td>\n",
       "      <td>4.9</td>\n",
       "      <td>5.0</td>\n",
       "      <td>5.1</td>\n",
       "    </tr>\n",
       "    <tr>\n",
       "      <th>2012-05-05</th>\n",
       "      <td>18840.0</td>\n",
       "      <td>5.1</td>\n",
       "      <td>5.1</td>\n",
       "      <td>5.1</td>\n",
       "      <td>5.0</td>\n",
       "      <td>4.9</td>\n",
       "      <td>4.9</td>\n",
       "      <td>5.0</td>\n",
       "    </tr>\n",
       "    <tr>\n",
       "      <th>2012-05-06</th>\n",
       "      <td>19300.0</td>\n",
       "      <td>5.1</td>\n",
       "      <td>5.1</td>\n",
       "      <td>5.1</td>\n",
       "      <td>5.1</td>\n",
       "      <td>5.0</td>\n",
       "      <td>4.9</td>\n",
       "      <td>4.9</td>\n",
       "    </tr>\n",
       "  </tbody>\n",
       "</table>\n",
       "</div>"
      ],
      "text/plain": [
       "               Vol.  Price+1  Price+2  Price+3  Price+4  Price+5  Price+6  \\\n",
       "Date                                                                        \n",
       "2012-05-02  95960.0      5.0      4.9      4.9      5.0      5.1      5.1   \n",
       "2012-05-03  35420.0      5.1      5.0      4.9      4.9      5.0      5.1   \n",
       "2012-05-04  43630.0      5.1      5.1      5.0      4.9      4.9      5.0   \n",
       "2012-05-05  18840.0      5.1      5.1      5.1      5.0      4.9      4.9   \n",
       "2012-05-06  19300.0      5.1      5.1      5.1      5.1      5.0      4.9   \n",
       "\n",
       "            Price+7  \n",
       "Date                 \n",
       "2012-05-02      5.1  \n",
       "2012-05-03      5.1  \n",
       "2012-05-04      5.1  \n",
       "2012-05-05      5.0  \n",
       "2012-05-06      4.9  "
      ]
     },
     "execution_count": 501,
     "metadata": {},
     "output_type": "execute_result"
    }
   ],
   "source": [
    "X.head()"
   ]
  },
  {
   "cell_type": "markdown",
   "id": "994df1a5-0cba-4cd9-bfa5-ee1f99e02538",
   "metadata": {},
   "source": [
    "Now let's normalize the Volume data."
   ]
  },
  {
   "cell_type": "code",
   "execution_count": 504,
   "id": "de87f089-ba6e-4cd1-a402-1e88f5b6f895",
   "metadata": {},
   "outputs": [],
   "source": [
    "from sklearn.preprocessing import MinMaxScaler\n",
    "mx = MinMaxScaler()\n",
    "X[\"Vol.\"] = mx.fit_transform(tf.expand_dims(X[\"Vol.\"],axis=1))"
   ]
  },
  {
   "cell_type": "code",
   "execution_count": 505,
   "id": "5ffa3794-cab7-4f60-a263-6fa60ac03337",
   "metadata": {},
   "outputs": [
    {
     "data": {
      "text/html": [
       "<div>\n",
       "<style scoped>\n",
       "    .dataframe tbody tr th:only-of-type {\n",
       "        vertical-align: middle;\n",
       "    }\n",
       "\n",
       "    .dataframe tbody tr th {\n",
       "        vertical-align: top;\n",
       "    }\n",
       "\n",
       "    .dataframe thead th {\n",
       "        text-align: right;\n",
       "    }\n",
       "</style>\n",
       "<table border=\"1\" class=\"dataframe\">\n",
       "  <thead>\n",
       "    <tr style=\"text-align: right;\">\n",
       "      <th></th>\n",
       "      <th>Vol.</th>\n",
       "      <th>Price+1</th>\n",
       "      <th>Price+2</th>\n",
       "      <th>Price+3</th>\n",
       "      <th>Price+4</th>\n",
       "      <th>Price+5</th>\n",
       "      <th>Price+6</th>\n",
       "      <th>Price+7</th>\n",
       "    </tr>\n",
       "    <tr>\n",
       "      <th>Date</th>\n",
       "      <th></th>\n",
       "      <th></th>\n",
       "      <th></th>\n",
       "      <th></th>\n",
       "      <th></th>\n",
       "      <th></th>\n",
       "      <th></th>\n",
       "      <th></th>\n",
       "    </tr>\n",
       "  </thead>\n",
       "  <tbody>\n",
       "    <tr>\n",
       "      <th>2012-05-02</th>\n",
       "      <td>0.000021</td>\n",
       "      <td>5.0</td>\n",
       "      <td>4.9</td>\n",
       "      <td>4.9</td>\n",
       "      <td>5.0</td>\n",
       "      <td>5.1</td>\n",
       "      <td>5.1</td>\n",
       "      <td>5.1</td>\n",
       "    </tr>\n",
       "    <tr>\n",
       "      <th>2012-05-03</th>\n",
       "      <td>0.000008</td>\n",
       "      <td>5.1</td>\n",
       "      <td>5.0</td>\n",
       "      <td>4.9</td>\n",
       "      <td>4.9</td>\n",
       "      <td>5.0</td>\n",
       "      <td>5.1</td>\n",
       "      <td>5.1</td>\n",
       "    </tr>\n",
       "    <tr>\n",
       "      <th>2012-05-04</th>\n",
       "      <td>0.000010</td>\n",
       "      <td>5.1</td>\n",
       "      <td>5.1</td>\n",
       "      <td>5.0</td>\n",
       "      <td>4.9</td>\n",
       "      <td>4.9</td>\n",
       "      <td>5.0</td>\n",
       "      <td>5.1</td>\n",
       "    </tr>\n",
       "    <tr>\n",
       "      <th>2012-05-05</th>\n",
       "      <td>0.000004</td>\n",
       "      <td>5.1</td>\n",
       "      <td>5.1</td>\n",
       "      <td>5.1</td>\n",
       "      <td>5.0</td>\n",
       "      <td>4.9</td>\n",
       "      <td>4.9</td>\n",
       "      <td>5.0</td>\n",
       "    </tr>\n",
       "    <tr>\n",
       "      <th>2012-05-06</th>\n",
       "      <td>0.000004</td>\n",
       "      <td>5.1</td>\n",
       "      <td>5.1</td>\n",
       "      <td>5.1</td>\n",
       "      <td>5.1</td>\n",
       "      <td>5.0</td>\n",
       "      <td>4.9</td>\n",
       "      <td>4.9</td>\n",
       "    </tr>\n",
       "  </tbody>\n",
       "</table>\n",
       "</div>"
      ],
      "text/plain": [
       "                Vol.  Price+1  Price+2  Price+3  Price+4  Price+5  Price+6  \\\n",
       "Date                                                                         \n",
       "2012-05-02  0.000021      5.0      4.9      4.9      5.0      5.1      5.1   \n",
       "2012-05-03  0.000008      5.1      5.0      4.9      4.9      5.0      5.1   \n",
       "2012-05-04  0.000010      5.1      5.1      5.0      4.9      4.9      5.0   \n",
       "2012-05-05  0.000004      5.1      5.1      5.1      5.0      4.9      4.9   \n",
       "2012-05-06  0.000004      5.1      5.1      5.1      5.1      5.0      4.9   \n",
       "\n",
       "            Price+7  \n",
       "Date                 \n",
       "2012-05-02      5.1  \n",
       "2012-05-03      5.1  \n",
       "2012-05-04      5.1  \n",
       "2012-05-05      5.0  \n",
       "2012-05-06      4.9  "
      ]
     },
     "execution_count": 505,
     "metadata": {},
     "output_type": "execute_result"
    }
   ],
   "source": [
    "X.head()"
   ]
  },
  {
   "cell_type": "code",
   "execution_count": 506,
   "id": "5d6af82e-9587-476c-a32e-699f43e8b889",
   "metadata": {},
   "outputs": [
    {
     "data": {
      "text/plain": [
       "Vol.       float64\n",
       "Price+1    float32\n",
       "Price+2    float32\n",
       "Price+3    float32\n",
       "Price+4    float32\n",
       "Price+5    float32\n",
       "Price+6    float32\n",
       "Price+7    float32\n",
       "dtype: object"
      ]
     },
     "execution_count": 506,
     "metadata": {},
     "output_type": "execute_result"
    }
   ],
   "source": [
    "X.dtypes"
   ]
  },
  {
   "cell_type": "markdown",
   "id": "db96b6fa-0065-4227-8fb3-54e9d8c5565e",
   "metadata": {},
   "source": [
    "Let's make train and test dataset."
   ]
  },
  {
   "cell_type": "code",
   "execution_count": 507,
   "id": "82a7e78a-0fd7-46a6-b184-23e50b8566a8",
   "metadata": {},
   "outputs": [
    {
     "data": {
      "text/plain": [
       "(2940, 2940, 736, 736)"
      ]
     },
     "execution_count": 507,
     "metadata": {},
     "output_type": "execute_result"
    }
   ],
   "source": [
    "split_size = int(0.8 * len(X))\n",
    "X_train, y_train = X[:split_size], y[:split_size]\n",
    "X_test, y_test = X[split_size:], y[split_size:]\n",
    "len(X_train), len(y_train), len(X_test), len(y_test)"
   ]
  },
  {
   "cell_type": "markdown",
   "id": "41e850ed-ff45-4922-b091-ccf0fb5a5e4b",
   "metadata": {},
   "source": [
    "Now let's build a model considering this."
   ]
  },
  {
   "cell_type": "code",
   "execution_count": 508,
   "id": "7950c24e-596f-4a47-8f1b-b9122106aa2c",
   "metadata": {},
   "outputs": [],
   "source": [
    "# Set the random seed\n",
    "tf.random.set_seed(42)\n",
    "# Make mutlimodel timeseries data \n",
    "model_7 = tf.keras.Sequential([\n",
    "    tf.keras.layers.Dense(128,activation=\"relu\"),\n",
    "    tf.keras.layers.Dense(64,activation=\"relu\"),\n",
    "    tf.keras.layers.Dense(1)\n",
    "])\n",
    "\n",
    "# Compile the model\n",
    "model_7.compile(loss=\"mae\", # let's choose a simple loss function \n",
    "               optimizer=tf.keras.optimizers.Adam(),\n",
    "               metrics=[\"mae\"])"
   ]
  },
  {
   "cell_type": "markdown",
   "id": "dd87bc03-0e7d-43c0-a393-dba24b5a4dc3",
   "metadata": {},
   "source": [
    "Now let's fit the model."
   ]
  },
  {
   "cell_type": "code",
   "execution_count": 509,
   "id": "72c20529-996f-4e2e-91b6-fc9c3102ed5f",
   "metadata": {},
   "outputs": [
    {
     "data": {
      "text/plain": [
       "<keras.callbacks.History at 0x1b7fe15cf40>"
      ]
     },
     "execution_count": 509,
     "metadata": {},
     "output_type": "execute_result"
    }
   ],
   "source": [
    "model_7.fit(X_train, \n",
    "            y_train,\n",
    "            epochs=100,\n",
    "            batch_size=128,\n",
    "            verbose=0, # only print 1 line per epoch\n",
    "            validation_data=(X_test, y_test),\n",
    "           callbacks=[tf.keras.callbacks.EarlyStopping(patience=10,\n",
    "                                                      restore_best_weights=True)])"
   ]
  },
  {
   "cell_type": "code",
   "execution_count": 511,
   "id": "dec5f79f-493b-4bdb-8f7b-8761972e56a4",
   "metadata": {},
   "outputs": [
    {
     "name": "stdout",
     "output_type": "stream",
     "text": [
      "23/23 [==============================] - 0s 2ms/step - loss: 1004.2462 - mae: 1004.2462\n"
     ]
    },
    {
     "data": {
      "text/plain": [
       "[1004.2461547851562, 1004.2461547851562]"
      ]
     },
     "execution_count": 511,
     "metadata": {},
     "output_type": "execute_result"
    }
   ],
   "source": [
    "loss_model_7 = model_7.evaluate(X_test,y_test)\n",
    "loss_model_7"
   ]
  },
  {
   "cell_type": "markdown",
   "id": "1f5f7f86-1da6-47ab-b4b6-0faeb4ba0e5e",
   "metadata": {},
   "source": [
    "Let's predict the data for test data. Now we will start seeing prediction from the last for better undersatnding of our prediction as current BTC price is around 29500 USD (the date project is made.)"
   ]
  },
  {
   "cell_type": "code",
   "execution_count": 515,
   "id": "b075e1af-183b-4a2d-ac6f-ab9a226c0624",
   "metadata": {},
   "outputs": [
    {
     "data": {
      "text/plain": [
       "array([[29371.014],\n",
       "       [29288.406],\n",
       "       [30276.344],\n",
       "       [29324.152],\n",
       "       [29482.049]], dtype=float32)"
      ]
     },
     "execution_count": 515,
     "metadata": {},
     "output_type": "execute_result"
    }
   ],
   "source": [
    "model_7.predict(X_test)[-5:]"
   ]
  },
  {
   "cell_type": "markdown",
   "id": "723911be-cf67-49b2-b591-075446d04f65",
   "metadata": {},
   "source": [
    "So, the predicted prices are somewhere close in line with current price."
   ]
  },
  {
   "cell_type": "markdown",
   "id": "0e6c893b-dacd-459b-809e-e3af7a854047",
   "metadata": {},
   "source": [
    "### <b> Model_8: Multivariate block reward size </b>"
   ]
  },
  {
   "cell_type": "markdown",
   "id": "f6adcae2-5bbe-4811-a9f7-fac87f56911e",
   "metadata": {},
   "source": [
    "In this we will take account of bitcoin halving. \n",
    "\n",
    "<i>\"A Bitcoin halving is when the payout for mining a new block is halved, and this happens after every 210,000 blocks (approximately four years).  The first of which happened in 2012, and the next will occur in 2024.\" </i>"
   ]
  },
  {
   "cell_type": "markdown",
   "id": "b676a6fa-cb81-462b-8e26-3d04a6003fb9",
   "metadata": {},
   "source": [
    "The table given below gives the information about bitcoin halving <i> (source:coinwarz) </i>"
   ]
  },
  {
   "cell_type": "markdown",
   "id": "35609c4c-d43d-4792-a587-09b90e0fffb1",
   "metadata": {},
   "source": [
    "<img src=\"bitcoin_halving.png\" height=\"400\" width=\"500\">"
   ]
  },
  {
   "cell_type": "markdown",
   "id": "2e4ffc92-a129-4a02-93f8-d80b7d49a8d3",
   "metadata": {},
   "source": [
    "Since, we have data from Apr 2012, we will begin the work from there. There are total of 4 bloclk rewards. Let's make a variable for them."
   ]
  },
  {
   "cell_type": "code",
   "execution_count": 548,
   "id": "02daa21d-84fb-4cc4-948f-81c8dd9647ae",
   "metadata": {},
   "outputs": [],
   "source": [
    "block_reward_1 = 50 # 3 January 2009 (2009-01-03) \n",
    "block_reward_2 = 25 # 28 November 2012 \n",
    "block_reward_3 = 12.5 # 9 July 2016\n",
    "block_reward_4 = 6.25 # 11 May 2020"
   ]
  },
  {
   "cell_type": "markdown",
   "id": "3b12bc98-4210-477b-ab2f-c6d38e7c3b26",
   "metadata": {},
   "source": [
    "Let's use `np.datetime64` to initialize date of each block reward. We will convert this is in yyyy-mm-dd format as in format our index is present."
   ]
  },
  {
   "cell_type": "code",
   "execution_count": 549,
   "id": "8cbd0490-ce40-460b-9e4e-b1ab176b2af2",
   "metadata": {},
   "outputs": [],
   "source": [
    "block_reward_1_datetime = np.datetime64(\"2009-01-09\")\n",
    "block_reward_2_datetime = np.datetime64(\"2012-11-28\")\n",
    "block_reward_3_datetime = np.datetime64(\"2016-07-09\")\n",
    "block_reward_4_datetime = np.datetime64(\"2020-05-11\")"
   ]
  },
  {
   "cell_type": "markdown",
   "id": "325f74c5-6696-4708-96eb-f3b721b76e6c",
   "metadata": {},
   "source": [
    "Now get the block_reward in number of days."
   ]
  },
  {
   "cell_type": "code",
   "execution_count": 550,
   "id": "b5931f9e-c5db-429b-a29e-dfcac0fb2f22",
   "metadata": {},
   "outputs": [],
   "source": [
    "block_reward_1_days = (block_reward_2_datetime-df_btc.index[0]).days \n",
    "block_reward_2_days = (block_reward_3_datetime - df_btc.index[0]).days\n",
    "block_reward_3_days = (block_reward_4_datetime - df_btc.index[0]).days"
   ]
  },
  {
   "cell_type": "code",
   "execution_count": 551,
   "id": "5b631671-6bef-468e-bd50-c8c0acd1e02b",
   "metadata": {},
   "outputs": [
    {
     "data": {
      "text/plain": [
       "(217, 1536, 2938)"
      ]
     },
     "execution_count": 551,
     "metadata": {},
     "output_type": "execute_result"
    }
   ],
   "source": [
    "block_reward_1_days, block_reward_2_days, block_reward_3_days"
   ]
  },
  {
   "cell_type": "markdown",
   "id": "b3e25215-2b11-401c-8596-17a86ded28fc",
   "metadata": {},
   "source": [
    "Adding a block_reward column to our data. We will use iloc function to assign block_reward according to the date. So, we wil make a new column and will set it to None initially.  "
   ]
  },
  {
   "cell_type": "code",
   "execution_count": 552,
   "id": "3096cf0a-9e5d-4afb-ada6-c5f548e59eb1",
   "metadata": {},
   "outputs": [],
   "source": [
    "btc_block = df_price.copy()\n",
    "btc_block[\"block_reward\"] = None"
   ]
  },
  {
   "cell_type": "code",
   "execution_count": 556,
   "id": "15817d71-aa6c-4971-883c-1047ba366406",
   "metadata": {},
   "outputs": [
    {
     "data": {
      "text/html": [
       "<div>\n",
       "<style scoped>\n",
       "    .dataframe tbody tr th:only-of-type {\n",
       "        vertical-align: middle;\n",
       "    }\n",
       "\n",
       "    .dataframe tbody tr th {\n",
       "        vertical-align: top;\n",
       "    }\n",
       "\n",
       "    .dataframe thead th {\n",
       "        text-align: right;\n",
       "    }\n",
       "</style>\n",
       "<table border=\"1\" class=\"dataframe\">\n",
       "  <thead>\n",
       "    <tr style=\"text-align: right;\">\n",
       "      <th></th>\n",
       "      <th>Price</th>\n",
       "      <th>block_reward</th>\n",
       "    </tr>\n",
       "    <tr>\n",
       "      <th>Date</th>\n",
       "      <th></th>\n",
       "      <th></th>\n",
       "    </tr>\n",
       "  </thead>\n",
       "  <tbody>\n",
       "    <tr>\n",
       "      <th>2012-04-25</th>\n",
       "      <td>5.1</td>\n",
       "      <td>50</td>\n",
       "    </tr>\n",
       "    <tr>\n",
       "      <th>2012-04-26</th>\n",
       "      <td>5.1</td>\n",
       "      <td>50</td>\n",
       "    </tr>\n",
       "    <tr>\n",
       "      <th>2012-04-27</th>\n",
       "      <td>5.1</td>\n",
       "      <td>50</td>\n",
       "    </tr>\n",
       "    <tr>\n",
       "      <th>2012-04-28</th>\n",
       "      <td>5.0</td>\n",
       "      <td>50</td>\n",
       "    </tr>\n",
       "    <tr>\n",
       "      <th>2012-04-29</th>\n",
       "      <td>4.9</td>\n",
       "      <td>50</td>\n",
       "    </tr>\n",
       "  </tbody>\n",
       "</table>\n",
       "</div>"
      ],
      "text/plain": [
       "            Price block_reward\n",
       "Date                          \n",
       "2012-04-25    5.1           50\n",
       "2012-04-26    5.1           50\n",
       "2012-04-27    5.1           50\n",
       "2012-04-28    5.0           50\n",
       "2012-04-29    4.9           50"
      ]
     },
     "execution_count": 556,
     "metadata": {},
     "output_type": "execute_result"
    }
   ],
   "source": [
    "btc_block.iloc[:block_reward_1_days, -1] = block_reward_1\n",
    "btc_block.iloc[block_reward_1_days:block_reward_2_days, -1] = block_reward_2\n",
    "btc_block.iloc[block_reward_2_days:block_reward_3_days, -1] = block_reward_3\n",
    "btc_block.iloc[block_reward_3_days:, -1] = block_reward_4\n",
    "btc_block.head()"
   ]
  },
  {
   "cell_type": "code",
   "execution_count": 557,
   "id": "1a802801-a4a0-4ca2-b490-bb88ce6d465d",
   "metadata": {},
   "outputs": [
    {
     "data": {
      "text/html": [
       "<div>\n",
       "<style scoped>\n",
       "    .dataframe tbody tr th:only-of-type {\n",
       "        vertical-align: middle;\n",
       "    }\n",
       "\n",
       "    .dataframe tbody tr th {\n",
       "        vertical-align: top;\n",
       "    }\n",
       "\n",
       "    .dataframe thead th {\n",
       "        text-align: right;\n",
       "    }\n",
       "</style>\n",
       "<table border=\"1\" class=\"dataframe\">\n",
       "  <thead>\n",
       "    <tr style=\"text-align: right;\">\n",
       "      <th></th>\n",
       "      <th>Price</th>\n",
       "      <th>block_reward</th>\n",
       "    </tr>\n",
       "    <tr>\n",
       "      <th>Date</th>\n",
       "      <th></th>\n",
       "      <th></th>\n",
       "    </tr>\n",
       "  </thead>\n",
       "  <tbody>\n",
       "    <tr>\n",
       "      <th>2022-05-21</th>\n",
       "      <td>29434.599609</td>\n",
       "      <td>6.25</td>\n",
       "    </tr>\n",
       "    <tr>\n",
       "      <th>2022-05-22</th>\n",
       "      <td>30286.599609</td>\n",
       "      <td>6.25</td>\n",
       "    </tr>\n",
       "    <tr>\n",
       "      <th>2022-05-23</th>\n",
       "      <td>29093.300781</td>\n",
       "      <td>6.25</td>\n",
       "    </tr>\n",
       "    <tr>\n",
       "      <th>2022-05-24</th>\n",
       "      <td>29648.699219</td>\n",
       "      <td>6.25</td>\n",
       "    </tr>\n",
       "    <tr>\n",
       "      <th>2022-05-25</th>\n",
       "      <td>29887.900391</td>\n",
       "      <td>6.25</td>\n",
       "    </tr>\n",
       "  </tbody>\n",
       "</table>\n",
       "</div>"
      ],
      "text/plain": [
       "                   Price block_reward\n",
       "Date                                 \n",
       "2022-05-21  29434.599609         6.25\n",
       "2022-05-22  30286.599609         6.25\n",
       "2022-05-23  29093.300781         6.25\n",
       "2022-05-24  29648.699219         6.25\n",
       "2022-05-25  29887.900391         6.25"
      ]
     },
     "execution_count": 557,
     "metadata": {},
     "output_type": "execute_result"
    }
   ],
   "source": [
    "btc_block.tail()"
   ]
  },
  {
   "cell_type": "markdown",
   "id": "37dafeca-55db-4c1c-b035-d6bf6f636daa",
   "metadata": {},
   "source": [
    "So, our method has work perfectly. No let's plot the graph for price and block size. For easy visualization we need to normalize both of them. Let's do this by making a dataframe and then perform the operation."
   ]
  },
  {
   "cell_type": "code",
   "execution_count": 558,
   "id": "b75aad41-22d4-40c3-a9ea-460f161b6f09",
   "metadata": {},
   "outputs": [],
   "source": [
    "from sklearn.preprocessing import minmax_scale\n",
    "noramlized_df =  pd.DataFrame(minmax_scale(btc_block[[\"Price\", \"block_reward\"]]), \n",
    "                                     columns=btc_block.columns,\n",
    "                                     index=btc_block.index)"
   ]
  },
  {
   "cell_type": "code",
   "execution_count": 559,
   "id": "a6a03f63-5680-48f8-b8dc-b5d4aa9aaa90",
   "metadata": {},
   "outputs": [
    {
     "data": {
      "image/png": "[encoded data removed]",
      "text/plain": [
       "<Figure size 720x576 with 1 Axes>"
      ]
     },
     "metadata": {
      "needs_background": "light"
     },
     "output_type": "display_data"
    }
   ],
   "source": [
    "# Now let's plot the above\n",
    "noramlized_df.plot(figsize=(10, 8));"
   ]
  },
  {
   "cell_type": "markdown",
   "id": "558c5ac9-dad6-4966-ab26-0d13738279b5",
   "metadata": {},
   "source": [
    "Now we will make a windowed dataset with the help of `pandas.DataFrame.shift` as we performed earlier. "
   ]
  },
  {
   "cell_type": "code",
   "execution_count": 560,
   "id": "26c63cf7-b8dd-43b3-9ddd-b024a9074075",
   "metadata": {},
   "outputs": [
    {
     "data": {
      "text/html": [
       "<div>\n",
       "<style scoped>\n",
       "    .dataframe tbody tr th:only-of-type {\n",
       "        vertical-align: middle;\n",
       "    }\n",
       "\n",
       "    .dataframe tbody tr th {\n",
       "        vertical-align: top;\n",
       "    }\n",
       "\n",
       "    .dataframe thead th {\n",
       "        text-align: right;\n",
       "    }\n",
       "</style>\n",
       "<table border=\"1\" class=\"dataframe\">\n",
       "  <thead>\n",
       "    <tr style=\"text-align: right;\">\n",
       "      <th></th>\n",
       "      <th>Price</th>\n",
       "      <th>block_reward</th>\n",
       "      <th>Price+1</th>\n",
       "      <th>Price+2</th>\n",
       "      <th>Price+3</th>\n",
       "      <th>Price+4</th>\n",
       "      <th>Price+5</th>\n",
       "      <th>Price+6</th>\n",
       "      <th>Price+7</th>\n",
       "    </tr>\n",
       "    <tr>\n",
       "      <th>Date</th>\n",
       "      <th></th>\n",
       "      <th></th>\n",
       "      <th></th>\n",
       "      <th></th>\n",
       "      <th></th>\n",
       "      <th></th>\n",
       "      <th></th>\n",
       "      <th></th>\n",
       "      <th></th>\n",
       "    </tr>\n",
       "  </thead>\n",
       "  <tbody>\n",
       "    <tr>\n",
       "      <th>2012-04-25</th>\n",
       "      <td>5.1</td>\n",
       "      <td>50</td>\n",
       "      <td>NaN</td>\n",
       "      <td>NaN</td>\n",
       "      <td>NaN</td>\n",
       "      <td>NaN</td>\n",
       "      <td>NaN</td>\n",
       "      <td>NaN</td>\n",
       "      <td>NaN</td>\n",
       "    </tr>\n",
       "    <tr>\n",
       "      <th>2012-04-26</th>\n",
       "      <td>5.1</td>\n",
       "      <td>50</td>\n",
       "      <td>5.1</td>\n",
       "      <td>NaN</td>\n",
       "      <td>NaN</td>\n",
       "      <td>NaN</td>\n",
       "      <td>NaN</td>\n",
       "      <td>NaN</td>\n",
       "      <td>NaN</td>\n",
       "    </tr>\n",
       "    <tr>\n",
       "      <th>2012-04-27</th>\n",
       "      <td>5.1</td>\n",
       "      <td>50</td>\n",
       "      <td>5.1</td>\n",
       "      <td>5.1</td>\n",
       "      <td>NaN</td>\n",
       "      <td>NaN</td>\n",
       "      <td>NaN</td>\n",
       "      <td>NaN</td>\n",
       "      <td>NaN</td>\n",
       "    </tr>\n",
       "    <tr>\n",
       "      <th>2012-04-28</th>\n",
       "      <td>5.0</td>\n",
       "      <td>50</td>\n",
       "      <td>5.1</td>\n",
       "      <td>5.1</td>\n",
       "      <td>5.1</td>\n",
       "      <td>NaN</td>\n",
       "      <td>NaN</td>\n",
       "      <td>NaN</td>\n",
       "      <td>NaN</td>\n",
       "    </tr>\n",
       "    <tr>\n",
       "      <th>2012-04-29</th>\n",
       "      <td>4.9</td>\n",
       "      <td>50</td>\n",
       "      <td>5.0</td>\n",
       "      <td>5.1</td>\n",
       "      <td>5.1</td>\n",
       "      <td>5.1</td>\n",
       "      <td>NaN</td>\n",
       "      <td>NaN</td>\n",
       "      <td>NaN</td>\n",
       "    </tr>\n",
       "    <tr>\n",
       "      <th>2012-04-30</th>\n",
       "      <td>4.9</td>\n",
       "      <td>50</td>\n",
       "      <td>4.9</td>\n",
       "      <td>5.0</td>\n",
       "      <td>5.1</td>\n",
       "      <td>5.1</td>\n",
       "      <td>5.1</td>\n",
       "      <td>NaN</td>\n",
       "      <td>NaN</td>\n",
       "    </tr>\n",
       "    <tr>\n",
       "      <th>2012-05-01</th>\n",
       "      <td>5.0</td>\n",
       "      <td>50</td>\n",
       "      <td>4.9</td>\n",
       "      <td>4.9</td>\n",
       "      <td>5.0</td>\n",
       "      <td>5.1</td>\n",
       "      <td>5.1</td>\n",
       "      <td>5.1</td>\n",
       "      <td>NaN</td>\n",
       "    </tr>\n",
       "    <tr>\n",
       "      <th>2012-05-02</th>\n",
       "      <td>5.1</td>\n",
       "      <td>50</td>\n",
       "      <td>5.0</td>\n",
       "      <td>4.9</td>\n",
       "      <td>4.9</td>\n",
       "      <td>5.0</td>\n",
       "      <td>5.1</td>\n",
       "      <td>5.1</td>\n",
       "      <td>5.1</td>\n",
       "    </tr>\n",
       "  </tbody>\n",
       "</table>\n",
       "</div>"
      ],
      "text/plain": [
       "            Price block_reward  Price+1  Price+2  Price+3  Price+4  Price+5  \\\n",
       "Date                                                                          \n",
       "2012-04-25    5.1           50      NaN      NaN      NaN      NaN      NaN   \n",
       "2012-04-26    5.1           50      5.1      NaN      NaN      NaN      NaN   \n",
       "2012-04-27    5.1           50      5.1      5.1      NaN      NaN      NaN   \n",
       "2012-04-28    5.0           50      5.1      5.1      5.1      NaN      NaN   \n",
       "2012-04-29    4.9           50      5.0      5.1      5.1      5.1      NaN   \n",
       "2012-04-30    4.9           50      4.9      5.0      5.1      5.1      5.1   \n",
       "2012-05-01    5.0           50      4.9      4.9      5.0      5.1      5.1   \n",
       "2012-05-02    5.1           50      5.0      4.9      4.9      5.0      5.1   \n",
       "\n",
       "            Price+6  Price+7  \n",
       "Date                          \n",
       "2012-04-25      NaN      NaN  \n",
       "2012-04-26      NaN      NaN  \n",
       "2012-04-27      NaN      NaN  \n",
       "2012-04-28      NaN      NaN  \n",
       "2012-04-29      NaN      NaN  \n",
       "2012-04-30      NaN      NaN  \n",
       "2012-05-01      5.1      NaN  \n",
       "2012-05-02      5.1      5.1  "
      ]
     },
     "execution_count": 560,
     "metadata": {},
     "output_type": "execute_result"
    }
   ],
   "source": [
    "btc_block_window = btc_block.copy() # keep the original dataframe intact\n",
    "\n",
    "# Making shift operation\n",
    "for i in range(sequence_length): # predicting for 7 days\n",
    "    btc_block_window[f\"Price+{i+1}\"] = btc_block_window[\"Price\"].shift(periods=i+1)\n",
    "btc_block_window.head(8)"
   ]
  },
  {
   "cell_type": "code",
   "execution_count": 615,
   "id": "e5fa49cf-82a0-4056-a062-54e1dcd6c5b2",
   "metadata": {},
   "outputs": [],
   "source": [
    "X_block = btc_block_window.dropna().drop(\"Price\",axis=1)\n",
    "y = btc_block_window.dropna()[\"Price\"]"
   ]
  },
  {
   "cell_type": "code",
   "execution_count": 616,
   "id": "02bdd95f-7f72-4348-9348-0f14038f025d",
   "metadata": {},
   "outputs": [
    {
     "data": {
      "text/plain": [
       "block_reward     object\n",
       "Price+1         float32\n",
       "Price+2         float32\n",
       "Price+3         float32\n",
       "Price+4         float32\n",
       "Price+5         float32\n",
       "Price+6         float32\n",
       "Price+7         float32\n",
       "dtype: object"
      ]
     },
     "execution_count": 616,
     "metadata": {},
     "output_type": "execute_result"
    }
   ],
   "source": [
    "X_block.dtypes"
   ]
  },
  {
   "cell_type": "markdown",
   "id": "33345d2f-5d48-4b6c-b6c4-21bf679d3c8e",
   "metadata": {},
   "source": [
    "Since every columns except block reward is in numerical foramt, let's convert it into numerical.  "
   ]
  },
  {
   "cell_type": "code",
   "execution_count": 563,
   "id": "82b7b4c5-0ea3-4f62-8014-a988ac75c473",
   "metadata": {},
   "outputs": [],
   "source": [
    "X_block[\"block_reward\"] = X_block[\"block_reward\"].astype(np.float32)"
   ]
  },
  {
   "cell_type": "code",
   "execution_count": 564,
   "id": "f8022e25-2037-4d11-a54f-6012173c88df",
   "metadata": {},
   "outputs": [],
   "source": [
    "from sklearn.preprocessing import MinMaxScaler\n",
    "minmax = MinMaxScaler()\n",
    "X_block[\"block_reward\"] = minmax.fit_transform(tf.expand_dims(X_block[\"block_reward\"],axis=1))"
   ]
  },
  {
   "cell_type": "code",
   "execution_count": 565,
   "id": "050db16f-08a1-479c-9007-db410fca0d1a",
   "metadata": {},
   "outputs": [
    {
     "data": {
      "text/html": [
       "<div>\n",
       "<style scoped>\n",
       "    .dataframe tbody tr th:only-of-type {\n",
       "        vertical-align: middle;\n",
       "    }\n",
       "\n",
       "    .dataframe tbody tr th {\n",
       "        vertical-align: top;\n",
       "    }\n",
       "\n",
       "    .dataframe thead th {\n",
       "        text-align: right;\n",
       "    }\n",
       "</style>\n",
       "<table border=\"1\" class=\"dataframe\">\n",
       "  <thead>\n",
       "    <tr style=\"text-align: right;\">\n",
       "      <th></th>\n",
       "      <th>block_reward</th>\n",
       "      <th>Price+1</th>\n",
       "      <th>Price+2</th>\n",
       "      <th>Price+3</th>\n",
       "      <th>Price+4</th>\n",
       "      <th>Price+5</th>\n",
       "      <th>Price+6</th>\n",
       "      <th>Price+7</th>\n",
       "    </tr>\n",
       "    <tr>\n",
       "      <th>Date</th>\n",
       "      <th></th>\n",
       "      <th></th>\n",
       "      <th></th>\n",
       "      <th></th>\n",
       "      <th></th>\n",
       "      <th></th>\n",
       "      <th></th>\n",
       "      <th></th>\n",
       "    </tr>\n",
       "  </thead>\n",
       "  <tbody>\n",
       "    <tr>\n",
       "      <th>2012-05-02</th>\n",
       "      <td>1.0</td>\n",
       "      <td>5.0</td>\n",
       "      <td>4.9</td>\n",
       "      <td>4.9</td>\n",
       "      <td>5.0</td>\n",
       "      <td>5.1</td>\n",
       "      <td>5.1</td>\n",
       "      <td>5.1</td>\n",
       "    </tr>\n",
       "    <tr>\n",
       "      <th>2012-05-03</th>\n",
       "      <td>1.0</td>\n",
       "      <td>5.1</td>\n",
       "      <td>5.0</td>\n",
       "      <td>4.9</td>\n",
       "      <td>4.9</td>\n",
       "      <td>5.0</td>\n",
       "      <td>5.1</td>\n",
       "      <td>5.1</td>\n",
       "    </tr>\n",
       "    <tr>\n",
       "      <th>2012-05-04</th>\n",
       "      <td>1.0</td>\n",
       "      <td>5.1</td>\n",
       "      <td>5.1</td>\n",
       "      <td>5.0</td>\n",
       "      <td>4.9</td>\n",
       "      <td>4.9</td>\n",
       "      <td>5.0</td>\n",
       "      <td>5.1</td>\n",
       "    </tr>\n",
       "    <tr>\n",
       "      <th>2012-05-05</th>\n",
       "      <td>1.0</td>\n",
       "      <td>5.1</td>\n",
       "      <td>5.1</td>\n",
       "      <td>5.1</td>\n",
       "      <td>5.0</td>\n",
       "      <td>4.9</td>\n",
       "      <td>4.9</td>\n",
       "      <td>5.0</td>\n",
       "    </tr>\n",
       "    <tr>\n",
       "      <th>2012-05-06</th>\n",
       "      <td>1.0</td>\n",
       "      <td>5.1</td>\n",
       "      <td>5.1</td>\n",
       "      <td>5.1</td>\n",
       "      <td>5.1</td>\n",
       "      <td>5.0</td>\n",
       "      <td>4.9</td>\n",
       "      <td>4.9</td>\n",
       "    </tr>\n",
       "  </tbody>\n",
       "</table>\n",
       "</div>"
      ],
      "text/plain": [
       "            block_reward  Price+1  Price+2  Price+3  Price+4  Price+5  \\\n",
       "Date                                                                    \n",
       "2012-05-02           1.0      5.0      4.9      4.9      5.0      5.1   \n",
       "2012-05-03           1.0      5.1      5.0      4.9      4.9      5.0   \n",
       "2012-05-04           1.0      5.1      5.1      5.0      4.9      4.9   \n",
       "2012-05-05           1.0      5.1      5.1      5.1      5.0      4.9   \n",
       "2012-05-06           1.0      5.1      5.1      5.1      5.1      5.0   \n",
       "\n",
       "            Price+6  Price+7  \n",
       "Date                          \n",
       "2012-05-02      5.1      5.1  \n",
       "2012-05-03      5.1      5.1  \n",
       "2012-05-04      5.0      5.1  \n",
       "2012-05-05      4.9      5.0  \n",
       "2012-05-06      4.9      4.9  "
      ]
     },
     "execution_count": 565,
     "metadata": {},
     "output_type": "execute_result"
    }
   ],
   "source": [
    "X_block.head()"
   ]
  },
  {
   "cell_type": "code",
   "execution_count": 567,
   "id": "983c38b4-5587-454c-9c18-d08ebdd45c9a",
   "metadata": {},
   "outputs": [
    {
     "data": {
      "text/plain": [
       "(2940, 2940, 736, 736)"
      ]
     },
     "execution_count": 567,
     "metadata": {},
     "output_type": "execute_result"
    }
   ],
   "source": [
    "# Make train and test sets\n",
    "split_size = int(len(X_block) * 0.8)\n",
    "X_block_train, y_block_train = X_block[:split_size], y[:split_size]\n",
    "X_block_test, y_block_test = X_block[split_size:], y[split_size:]\n",
    "len(X_block_train), len(y_block_train), len(X_block_test), len(y_block_test)"
   ]
  },
  {
   "cell_type": "code",
   "execution_count": 568,
   "id": "ccffb9e2-fa19-482c-b768-6bac1ff602ba",
   "metadata": {},
   "outputs": [],
   "source": [
    "# Set the random seed\n",
    "tf.random.set_seed(42)\n",
    "# Make mutlimodel timeseries data \n",
    "model_8 = tf.keras.Sequential([\n",
    "    tf.keras.layers.Dense(128,activation=\"relu\"),\n",
    "    tf.keras.layers.Dense(64,activation=\"relu\"),\n",
    "    tf.keras.layers.Dense(1)\n",
    "])\n",
    "\n",
    "# Compile the model\n",
    "model_8.compile(loss=\"mae\", # let's choose a simple loss function \n",
    "               optimizer=tf.keras.optimizers.Adam(),\n",
    "               metrics=[\"mae\"])"
   ]
  },
  {
   "cell_type": "markdown",
   "id": "b5f961e1-2b35-45a8-9e4b-89086db4a4eb",
   "metadata": {},
   "source": [
    "Now let's fit the model."
   ]
  },
  {
   "cell_type": "code",
   "execution_count": 569,
   "id": "071937c4-9360-438c-b4d6-48a8464251fc",
   "metadata": {},
   "outputs": [
    {
     "data": {
      "text/plain": [
       "<keras.callbacks.History at 0x1b80572dd60>"
      ]
     },
     "execution_count": 569,
     "metadata": {},
     "output_type": "execute_result"
    }
   ],
   "source": [
    "model_8.fit(X_block_train, \n",
    "            y_block_train,\n",
    "            epochs=100,\n",
    "            batch_size=128,\n",
    "            verbose=0, # only print 1 line per epoch\n",
    "            validation_data=(X_block_test, y_block_test),\n",
    "           callbacks=[tf.keras.callbacks.EarlyStopping(patience=10,\n",
    "                                                      restore_best_weights=True)])"
   ]
  },
  {
   "cell_type": "code",
   "execution_count": 571,
   "id": "9e533087-427b-4031-bc95-f83bdc527b7c",
   "metadata": {},
   "outputs": [
    {
     "name": "stdout",
     "output_type": "stream",
     "text": [
      "23/23 [==============================] - 0s 2ms/step - loss: 1001.4738 - mae: 1001.4738\n"
     ]
    },
    {
     "data": {
      "text/plain": [
       "[1001.4738159179688, 1001.4738159179688]"
      ]
     },
     "execution_count": 571,
     "metadata": {},
     "output_type": "execute_result"
    }
   ],
   "source": [
    "loss_model_8 = model_8.evaluate(X_block_test,y_block_test)\n",
    "loss_model_8"
   ]
  },
  {
   "cell_type": "markdown",
   "id": "8e92d422-5e7e-4853-bac9-230ba15b1b88",
   "metadata": {},
   "source": [
    "Let's make some prediction using this data."
   ]
  },
  {
   "cell_type": "code",
   "execution_count": 574,
   "id": "71ea1fc9-77e2-4f83-92ad-26049d79763e",
   "metadata": {},
   "outputs": [
    {
     "data": {
      "text/plain": [
       "array([[29402.168],\n",
       "       [29231.854],\n",
       "       [30276.19 ],\n",
       "       [29257.725],\n",
       "       [29474.48 ]], dtype=float32)"
      ]
     },
     "execution_count": 574,
     "metadata": {},
     "output_type": "execute_result"
    }
   ],
   "source": [
    "model_8.predict(X_block_test)[-5:]"
   ]
  },
  {
   "cell_type": "markdown",
   "id": "81f74eb4-8f34-4cea-8940-c7a1dc5ab452",
   "metadata": {},
   "source": [
    "### <b> Model_9: Multivariate model (price,block_reward,volume) </b>"
   ]
  },
  {
   "cell_type": "markdown",
   "id": "aad204b0-4184-4be5-8874-f9ffca50f4ec",
   "metadata": {},
   "source": [
    "We have made two dataset, one of block_reward and other is of volume. Let's combine them and then make the prediction. "
   ]
  },
  {
   "cell_type": "code",
   "execution_count": 607,
   "id": "b461ade4-41ef-4b7f-bb6a-3820de34fab6",
   "metadata": {},
   "outputs": [
    {
     "data": {
      "text/html": [
       "<div>\n",
       "<style scoped>\n",
       "    .dataframe tbody tr th:only-of-type {\n",
       "        vertical-align: middle;\n",
       "    }\n",
       "\n",
       "    .dataframe tbody tr th {\n",
       "        vertical-align: top;\n",
       "    }\n",
       "\n",
       "    .dataframe thead th {\n",
       "        text-align: right;\n",
       "    }\n",
       "</style>\n",
       "<table border=\"1\" class=\"dataframe\">\n",
       "  <thead>\n",
       "    <tr style=\"text-align: right;\">\n",
       "      <th></th>\n",
       "      <th>block_reward</th>\n",
       "      <th>Price+1</th>\n",
       "      <th>Price+2</th>\n",
       "      <th>Price+3</th>\n",
       "      <th>Price+4</th>\n",
       "      <th>Price+5</th>\n",
       "      <th>Price+6</th>\n",
       "      <th>Price+7</th>\n",
       "    </tr>\n",
       "    <tr>\n",
       "      <th>Date</th>\n",
       "      <th></th>\n",
       "      <th></th>\n",
       "      <th></th>\n",
       "      <th></th>\n",
       "      <th></th>\n",
       "      <th></th>\n",
       "      <th></th>\n",
       "      <th></th>\n",
       "    </tr>\n",
       "  </thead>\n",
       "  <tbody>\n",
       "    <tr>\n",
       "      <th>2012-05-02</th>\n",
       "      <td>1.0</td>\n",
       "      <td>5.0</td>\n",
       "      <td>4.9</td>\n",
       "      <td>4.9</td>\n",
       "      <td>5.0</td>\n",
       "      <td>5.1</td>\n",
       "      <td>5.1</td>\n",
       "      <td>5.1</td>\n",
       "    </tr>\n",
       "    <tr>\n",
       "      <th>2012-05-03</th>\n",
       "      <td>1.0</td>\n",
       "      <td>5.1</td>\n",
       "      <td>5.0</td>\n",
       "      <td>4.9</td>\n",
       "      <td>4.9</td>\n",
       "      <td>5.0</td>\n",
       "      <td>5.1</td>\n",
       "      <td>5.1</td>\n",
       "    </tr>\n",
       "    <tr>\n",
       "      <th>2012-05-04</th>\n",
       "      <td>1.0</td>\n",
       "      <td>5.1</td>\n",
       "      <td>5.1</td>\n",
       "      <td>5.0</td>\n",
       "      <td>4.9</td>\n",
       "      <td>4.9</td>\n",
       "      <td>5.0</td>\n",
       "      <td>5.1</td>\n",
       "    </tr>\n",
       "    <tr>\n",
       "      <th>2012-05-05</th>\n",
       "      <td>1.0</td>\n",
       "      <td>5.1</td>\n",
       "      <td>5.1</td>\n",
       "      <td>5.1</td>\n",
       "      <td>5.0</td>\n",
       "      <td>4.9</td>\n",
       "      <td>4.9</td>\n",
       "      <td>5.0</td>\n",
       "    </tr>\n",
       "    <tr>\n",
       "      <th>2012-05-06</th>\n",
       "      <td>1.0</td>\n",
       "      <td>5.1</td>\n",
       "      <td>5.1</td>\n",
       "      <td>5.1</td>\n",
       "      <td>5.1</td>\n",
       "      <td>5.0</td>\n",
       "      <td>4.9</td>\n",
       "      <td>4.9</td>\n",
       "    </tr>\n",
       "  </tbody>\n",
       "</table>\n",
       "</div>"
      ],
      "text/plain": [
       "            block_reward  Price+1  Price+2  Price+3  Price+4  Price+5  \\\n",
       "Date                                                                    \n",
       "2012-05-02           1.0      5.0      4.9      4.9      5.0      5.1   \n",
       "2012-05-03           1.0      5.1      5.0      4.9      4.9      5.0   \n",
       "2012-05-04           1.0      5.1      5.1      5.0      4.9      4.9   \n",
       "2012-05-05           1.0      5.1      5.1      5.1      5.0      4.9   \n",
       "2012-05-06           1.0      5.1      5.1      5.1      5.1      5.0   \n",
       "\n",
       "            Price+6  Price+7  \n",
       "Date                          \n",
       "2012-05-02      5.1      5.1  \n",
       "2012-05-03      5.1      5.1  \n",
       "2012-05-04      5.0      5.1  \n",
       "2012-05-05      4.9      5.0  \n",
       "2012-05-06      4.9      4.9  "
      ]
     },
     "execution_count": 607,
     "metadata": {},
     "output_type": "execute_result"
    }
   ],
   "source": [
    "X_block.head()"
   ]
  },
  {
   "cell_type": "markdown",
   "id": "daf5464a-b34c-41cb-bf68-762fe6d86a04",
   "metadata": {},
   "source": [
    "Instead of merging data frame, let's add this column of block reward to df_vol. "
   ]
  },
  {
   "cell_type": "code",
   "execution_count": 636,
   "id": "8c4e8ad8-d670-4c95-b9e2-653add63a98c",
   "metadata": {},
   "outputs": [],
   "source": [
    "X_block_size = X_block[\"block_reward\"].to_numpy()"
   ]
  },
  {
   "cell_type": "code",
   "execution_count": 637,
   "id": "f8860fa8-9157-47d0-a05c-fb0d129bd769",
   "metadata": {},
   "outputs": [],
   "source": [
    "X[\"block_reward\"] = X_block_size"
   ]
  },
  {
   "cell_type": "code",
   "execution_count": 641,
   "id": "9b69687a-e5d0-480c-ac06-b7ec7850f71f",
   "metadata": {},
   "outputs": [],
   "source": [
    "mxscale = MinMaxScaler()\n",
    "X[\"block_reward\"] = mxscale.fit_transform(np.expand_dims(X[\"block_reward\"],axis=1))"
   ]
  },
  {
   "cell_type": "code",
   "execution_count": 642,
   "id": "805fdea4-8107-4b05-9d03-417a8f5adb0c",
   "metadata": {},
   "outputs": [
    {
     "data": {
      "text/html": [
       "<div>\n",
       "<style scoped>\n",
       "    .dataframe tbody tr th:only-of-type {\n",
       "        vertical-align: middle;\n",
       "    }\n",
       "\n",
       "    .dataframe tbody tr th {\n",
       "        vertical-align: top;\n",
       "    }\n",
       "\n",
       "    .dataframe thead th {\n",
       "        text-align: right;\n",
       "    }\n",
       "</style>\n",
       "<table border=\"1\" class=\"dataframe\">\n",
       "  <thead>\n",
       "    <tr style=\"text-align: right;\">\n",
       "      <th></th>\n",
       "      <th>Vol.</th>\n",
       "      <th>Price+1</th>\n",
       "      <th>Price+2</th>\n",
       "      <th>Price+3</th>\n",
       "      <th>Price+4</th>\n",
       "      <th>Price+5</th>\n",
       "      <th>Price+6</th>\n",
       "      <th>Price+7</th>\n",
       "      <th>block_reward</th>\n",
       "    </tr>\n",
       "    <tr>\n",
       "      <th>Date</th>\n",
       "      <th></th>\n",
       "      <th></th>\n",
       "      <th></th>\n",
       "      <th></th>\n",
       "      <th></th>\n",
       "      <th></th>\n",
       "      <th></th>\n",
       "      <th></th>\n",
       "      <th></th>\n",
       "    </tr>\n",
       "  </thead>\n",
       "  <tbody>\n",
       "    <tr>\n",
       "      <th>2012-05-02</th>\n",
       "      <td>0.000021</td>\n",
       "      <td>5.0</td>\n",
       "      <td>4.9</td>\n",
       "      <td>4.9</td>\n",
       "      <td>5.0</td>\n",
       "      <td>5.1</td>\n",
       "      <td>5.1</td>\n",
       "      <td>5.1</td>\n",
       "      <td>1.0</td>\n",
       "    </tr>\n",
       "    <tr>\n",
       "      <th>2012-05-03</th>\n",
       "      <td>0.000008</td>\n",
       "      <td>5.1</td>\n",
       "      <td>5.0</td>\n",
       "      <td>4.9</td>\n",
       "      <td>4.9</td>\n",
       "      <td>5.0</td>\n",
       "      <td>5.1</td>\n",
       "      <td>5.1</td>\n",
       "      <td>1.0</td>\n",
       "    </tr>\n",
       "    <tr>\n",
       "      <th>2012-05-04</th>\n",
       "      <td>0.000010</td>\n",
       "      <td>5.1</td>\n",
       "      <td>5.1</td>\n",
       "      <td>5.0</td>\n",
       "      <td>4.9</td>\n",
       "      <td>4.9</td>\n",
       "      <td>5.0</td>\n",
       "      <td>5.1</td>\n",
       "      <td>1.0</td>\n",
       "    </tr>\n",
       "    <tr>\n",
       "      <th>2012-05-05</th>\n",
       "      <td>0.000004</td>\n",
       "      <td>5.1</td>\n",
       "      <td>5.1</td>\n",
       "      <td>5.1</td>\n",
       "      <td>5.0</td>\n",
       "      <td>4.9</td>\n",
       "      <td>4.9</td>\n",
       "      <td>5.0</td>\n",
       "      <td>1.0</td>\n",
       "    </tr>\n",
       "    <tr>\n",
       "      <th>2012-05-06</th>\n",
       "      <td>0.000004</td>\n",
       "      <td>5.1</td>\n",
       "      <td>5.1</td>\n",
       "      <td>5.1</td>\n",
       "      <td>5.1</td>\n",
       "      <td>5.0</td>\n",
       "      <td>4.9</td>\n",
       "      <td>4.9</td>\n",
       "      <td>1.0</td>\n",
       "    </tr>\n",
       "  </tbody>\n",
       "</table>\n",
       "</div>"
      ],
      "text/plain": [
       "                Vol.  Price+1  Price+2  Price+3  Price+4  Price+5  Price+6  \\\n",
       "Date                                                                         \n",
       "2012-05-02  0.000021      5.0      4.9      4.9      5.0      5.1      5.1   \n",
       "2012-05-03  0.000008      5.1      5.0      4.9      4.9      5.0      5.1   \n",
       "2012-05-04  0.000010      5.1      5.1      5.0      4.9      4.9      5.0   \n",
       "2012-05-05  0.000004      5.1      5.1      5.1      5.0      4.9      4.9   \n",
       "2012-05-06  0.000004      5.1      5.1      5.1      5.1      5.0      4.9   \n",
       "\n",
       "            Price+7  block_reward  \n",
       "Date                               \n",
       "2012-05-02      5.1           1.0  \n",
       "2012-05-03      5.1           1.0  \n",
       "2012-05-04      5.1           1.0  \n",
       "2012-05-05      5.0           1.0  \n",
       "2012-05-06      4.9           1.0  "
      ]
     },
     "execution_count": 642,
     "metadata": {},
     "output_type": "execute_result"
    }
   ],
   "source": [
    "X.head()"
   ]
  },
  {
   "cell_type": "markdown",
   "id": "9ded1f81-1d01-49a8-8815-97c9615755b8",
   "metadata": {},
   "source": [
    "Checking for the length of both X and y."
   ]
  },
  {
   "cell_type": "code",
   "execution_count": 643,
   "id": "bcd0a526-5195-4c0f-a913-c10535087f6f",
   "metadata": {},
   "outputs": [
    {
     "data": {
      "text/plain": [
       "3676"
      ]
     },
     "execution_count": 643,
     "metadata": {},
     "output_type": "execute_result"
    }
   ],
   "source": [
    "len(X)"
   ]
  },
  {
   "cell_type": "code",
   "execution_count": 644,
   "id": "1f94d27e-4b37-48f2-b167-dad1b3247aa5",
   "metadata": {},
   "outputs": [
    {
     "data": {
      "text/plain": [
       "3676"
      ]
     },
     "execution_count": 644,
     "metadata": {},
     "output_type": "execute_result"
    }
   ],
   "source": [
    "len(y)"
   ]
  },
  {
   "cell_type": "markdown",
   "id": "8a26cdc1-049b-4968-a214-ee5d2f94250b",
   "metadata": {},
   "source": [
    "Since we have merge the datframe, we will now seprate the dataframe into train and test split. "
   ]
  },
  {
   "cell_type": "code",
   "execution_count": 645,
   "id": "3362c140-fc13-4a74-8135-1b4722326f27",
   "metadata": {},
   "outputs": [
    {
     "data": {
      "text/plain": [
       "(2940, 2940, 736, 736)"
      ]
     },
     "execution_count": 645,
     "metadata": {},
     "output_type": "execute_result"
    }
   ],
   "source": [
    "split_size = int(len(X) * 0.8)\n",
    "X_train, y_train = X[:split_size], y[:split_size]\n",
    "X_test, y_test = X[split_size:], y[split_size:]\n",
    "len(X_train), len(y_train), len(X_test), len(y_test)"
   ]
  },
  {
   "cell_type": "markdown",
   "id": "d4a67b08-3e69-496e-8b19-3d45adf990d5",
   "metadata": {},
   "source": [
    "So, we have made our data into desired format. Let's fit the model."
   ]
  },
  {
   "cell_type": "code",
   "execution_count": 646,
   "id": "de9256a1-fab6-401a-81f0-fc3321d91409",
   "metadata": {},
   "outputs": [],
   "source": [
    "# Set the random seed\n",
    "tf.random.set_seed(42)\n",
    "# Make mutlimodel timeseries data \n",
    "model_9 = tf.keras.Sequential([\n",
    "    tf.keras.layers.Dense(128,activation=\"relu\"),\n",
    "    tf.keras.layers.Dense(64,activation=\"relu\"),\n",
    "    tf.keras.layers.Dense(1)\n",
    "])\n",
    "\n",
    "# Compile the model\n",
    "model_9.compile(loss=\"mae\", # let's choose a simple loss function \n",
    "               optimizer=tf.keras.optimizers.Adam(),\n",
    "               metrics=[\"mae\"])"
   ]
  },
  {
   "cell_type": "markdown",
   "id": "87f52517-655f-46e9-81fb-213a85c1f308",
   "metadata": {},
   "source": [
    "Let's plot the model with the help of `tf.keras.utils.plot_model`"
   ]
  },
  {
   "cell_type": "code",
   "execution_count": 648,
   "id": "5f5c5a65-b772-400d-be3d-14f28f35988a",
   "metadata": {},
   "outputs": [
    {
     "data": {
      "image/png": "[encoded data removed]",
      "text/plain": [
       "<IPython.core.display.Image object>"
      ]
     },
     "execution_count": 648,
     "metadata": {},
     "output_type": "execute_result"
    }
   ],
   "source": [
    "tf.keras.utils.plot_model(model_9)"
   ]
  },
  {
   "cell_type": "markdown",
   "id": "4b6718ac-8e8a-499d-952b-f9198d0616c3",
   "metadata": {},
   "source": [
    "Let's fit the model."
   ]
  },
  {
   "cell_type": "code",
   "execution_count": 647,
   "id": "9e713e26-d949-4821-9326-dcae7c2a51cd",
   "metadata": {},
   "outputs": [
    {
     "data": {
      "text/plain": [
       "<keras.callbacks.History at 0x1b806ae1d60>"
      ]
     },
     "execution_count": 647,
     "metadata": {},
     "output_type": "execute_result"
    }
   ],
   "source": [
    "model_9.fit(X_train, \n",
    "            y_train,\n",
    "            epochs=100,\n",
    "            batch_size=128,\n",
    "            verbose=0, # only print 1 line per epoch\n",
    "            validation_data=(X_test, y_test),\n",
    "           callbacks=[tf.keras.callbacks.EarlyStopping(patience=10,\n",
    "                                                      restore_best_weights=True)])"
   ]
  },
  {
   "cell_type": "code",
   "execution_count": 649,
   "id": "50b36456-8c6b-436c-bf06-fe8c233bfa6c",
   "metadata": {},
   "outputs": [
    {
     "name": "stdout",
     "output_type": "stream",
     "text": [
      "23/23 [==============================] - 0s 2ms/step - loss: 996.6972 - mae: 996.6972\n"
     ]
    },
    {
     "data": {
      "text/plain": [
       "[996.6972045898438, 996.6972045898438]"
      ]
     },
     "execution_count": 649,
     "metadata": {},
     "output_type": "execute_result"
    }
   ],
   "source": [
    "loss_model_9 = model_9.evaluate(X_test,y_test)\n",
    "loss_model_9"
   ]
  },
  {
   "cell_type": "markdown",
   "id": "3b030eec-b309-472d-83c3-48de772b50aa",
   "metadata": {},
   "source": [
    "So utilizing above two our loss has decreased."
   ]
  },
  {
   "cell_type": "code",
   "execution_count": 650,
   "id": "77a1bab5-d3f3-4d14-b68e-24d17618d41d",
   "metadata": {},
   "outputs": [
    {
     "data": {
      "text/plain": [
       "array([[29306.566],\n",
       "       [29318.504],\n",
       "       [30223.521],\n",
       "       [29244.312],\n",
       "       [29527.879]], dtype=float32)"
      ]
     },
     "execution_count": 650,
     "metadata": {},
     "output_type": "execute_result"
    }
   ],
   "source": [
    "model_9.predict(X_test)[-5:]"
   ]
  },
  {
   "cell_type": "markdown",
   "id": "dcfb13ba-f2f5-44fe-94da-92273314d592",
   "metadata": {},
   "source": [
    "Let's make a dataframe that comapres all the result."
   ]
  },
  {
   "cell_type": "code",
   "execution_count": 663,
   "id": "72d80ad9-a1e0-4272-a80d-d2d0df0fa5aa",
   "metadata": {},
   "outputs": [],
   "source": [
    "loss = [loss_model_1[0],loss_model_3[0],loss_model_4[0],loss_model_5[0],loss_model_6[0],\n",
    "        loss_model_7[0],loss_model_8[0],loss_model_9[0]]"
   ]
  },
  {
   "cell_type": "code",
   "execution_count": 664,
   "id": "e4d02457-7e0e-4d03-b5d4-0edb95da6410",
   "metadata": {},
   "outputs": [
    {
     "data": {
      "text/plain": [
       "[170.0272979736328,\n",
       " 863.2107543945312,\n",
       " 1035.5074462890625,\n",
       " 316.3490905761719,\n",
       " 1001.1749267578125,\n",
       " 1004.2461547851562,\n",
       " 1001.4738159179688,\n",
       " 996.6972045898438]"
      ]
     },
     "execution_count": 664,
     "metadata": {},
     "output_type": "execute_result"
    }
   ],
   "source": [
    "loss"
   ]
  },
  {
   "cell_type": "markdown",
   "id": "e273a4d0-2dc3-4bbc-af86-3d4ad258e0cc",
   "metadata": {},
   "source": [
    "Now we will make a dataframe to compare the result, however we are excluding original LSTM model with huge loss, as it would distrot visualization."
   ]
  },
  {
   "cell_type": "code",
   "execution_count": 665,
   "id": "ce6343d1-66a1-47eb-b19d-bce8e11f9a7c",
   "metadata": {},
   "outputs": [],
   "source": [
    "model_name = [\"model_1_window_7_out_1\",\"model_3_LSTM_modified\",\"model_4_GRU\",\n",
    "              \"model_5_conv1d\",\"model_6_win_30_out_1\",\"model_7_multi_price&vol\",\"model_8_multi_price&block_reward\",\n",
    "             \"model_9_multi_price_block_reward_vol\"]"
   ]
  },
  {
   "cell_type": "code",
   "execution_count": 672,
   "id": "9bfa981d-1aec-42a7-862c-e1be39c844f7",
   "metadata": {},
   "outputs": [],
   "source": [
    "result_df = pd.DataFrame(list(zip(model_name,loss)),columns=[\"Model\",\"Loss\"])\n",
    "result_df.set_index(\"Model\",inplace=True)"
   ]
  },
  {
   "cell_type": "code",
   "execution_count": 674,
   "id": "770a3f5b-2a2b-414b-a9ef-16d765443e52",
   "metadata": {},
   "outputs": [
    {
     "data": {
      "text/html": [
       "<div>\n",
       "<style scoped>\n",
       "    .dataframe tbody tr th:only-of-type {\n",
       "        vertical-align: middle;\n",
       "    }\n",
       "\n",
       "    .dataframe tbody tr th {\n",
       "        vertical-align: top;\n",
       "    }\n",
       "\n",
       "    .dataframe thead th {\n",
       "        text-align: right;\n",
       "    }\n",
       "</style>\n",
       "<table border=\"1\" class=\"dataframe\">\n",
       "  <thead>\n",
       "    <tr style=\"text-align: right;\">\n",
       "      <th></th>\n",
       "      <th>Loss</th>\n",
       "    </tr>\n",
       "    <tr>\n",
       "      <th>Model</th>\n",
       "      <th></th>\n",
       "    </tr>\n",
       "  </thead>\n",
       "  <tbody>\n",
       "    <tr>\n",
       "      <th>model_1_window_7_out_1</th>\n",
       "      <td>170.027298</td>\n",
       "    </tr>\n",
       "    <tr>\n",
       "      <th>model_3_LSTM_modified</th>\n",
       "      <td>863.210754</td>\n",
       "    </tr>\n",
       "    <tr>\n",
       "      <th>model_4_GRU</th>\n",
       "      <td>1035.507446</td>\n",
       "    </tr>\n",
       "    <tr>\n",
       "      <th>model_5_conv1d</th>\n",
       "      <td>316.349091</td>\n",
       "    </tr>\n",
       "    <tr>\n",
       "      <th>model_6_win_30_out_1</th>\n",
       "      <td>1001.174927</td>\n",
       "    </tr>\n",
       "    <tr>\n",
       "      <th>model_7_multi_price&amp;vol</th>\n",
       "      <td>1004.246155</td>\n",
       "    </tr>\n",
       "    <tr>\n",
       "      <th>model_8_multi_price&amp;block_reward</th>\n",
       "      <td>1001.473816</td>\n",
       "    </tr>\n",
       "    <tr>\n",
       "      <th>model_9_multi_price_block_reward_vol</th>\n",
       "      <td>996.697205</td>\n",
       "    </tr>\n",
       "  </tbody>\n",
       "</table>\n",
       "</div>"
      ],
      "text/plain": [
       "                                             Loss\n",
       "Model                                            \n",
       "model_1_window_7_out_1                 170.027298\n",
       "model_3_LSTM_modified                  863.210754\n",
       "model_4_GRU                           1035.507446\n",
       "model_5_conv1d                         316.349091\n",
       "model_6_win_30_out_1                  1001.174927\n",
       "model_7_multi_price&vol               1004.246155\n",
       "model_8_multi_price&block_reward      1001.473816\n",
       "model_9_multi_price_block_reward_vol   996.697205"
      ]
     },
     "execution_count": 674,
     "metadata": {},
     "output_type": "execute_result"
    }
   ],
   "source": [
    "result_df"
   ]
  },
  {
   "cell_type": "markdown",
   "id": "d5bb1731-8d45-463d-b1ba-6ef1ec9db546",
   "metadata": {},
   "source": [
    "Now let's plot the graph for better visualization in sorted order of ascending \"Loss\".   "
   ]
  },
  {
   "cell_type": "code",
   "execution_count": 677,
   "id": "34de75f7-691a-470b-ade4-c238609d54eb",
   "metadata": {},
   "outputs": [
    {
     "data": {
      "image/png": "[encoded data removed]",
      "text/plain": [
       "<Figure size 720x576 with 1 Axes>"
      ]
     },
     "metadata": {
      "needs_background": "light"
     },
     "output_type": "display_data"
    }
   ],
   "source": [
    "result_df.sort_values(by=\"Loss\").plot(kind=\"bar\",figsize=(10,8));"
   ]
  },
  {
   "cell_type": "markdown",
   "id": "591ced5a-3596-4edc-95ad-18e7468a4407",
   "metadata": {},
   "source": [
    "As we can see our simple dense model has outperformed the all. After this, conv1d has the better performance."
   ]
  }
 ],
 "metadata": {
  "kernelspec": {
   "display_name": "Python 3 (ipykernel)",
   "language": "python",
   "name": "python3"
  },
  "language_info": {
   "codemirror_mode": {
    "name": "ipython",
    "version": 3
   },
   "file_extension": ".py",
   "mimetype": "text/x-python",
   "name": "python",
   "nbconvert_exporter": "python",
   "pygments_lexer": "ipython3",
   "version": "3.9.12"
  }
 },
 "nbformat": 4,
 "nbformat_minor": 5
}
