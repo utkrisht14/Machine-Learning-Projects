{
  "cells": [
    {
      "cell_type": "markdown",
      "source": [
        "## Project: Help Twitter Combat Hate Speech Using NLP and Machine Learning"
      ],
      "metadata": {
        "id": "sdR24ueNyalh"
      },
      "id": "sdR24ueNyalh"
    },
    {
      "cell_type": "markdown",
      "source": [
        "This project is abouut twitter data. Aim of this project is to clean up tweets and build a classification model by using NLP techniques, cleanup specific for tweets data, regularization and hyperparameter tuning using stratified k-fold and cross validation to get the best model."
      ],
      "metadata": {
        "id": "k3iuMOkXyP78"
      },
      "id": "k3iuMOkXyP78"
    },
    {
      "cell_type": "markdown",
      "source": [
        "The first task is to import all the necessary libraries."
      ],
      "metadata": {
        "id": "VyaFTJDfxXp6"
      },
      "id": "VyaFTJDfxXp6"
    },
    {
      "cell_type": "code",
      "execution_count": null,
      "id": "b6e92a5d-be8a-4c88-9ac8-61fa6a81a881",
      "metadata": {
        "id": "b6e92a5d-be8a-4c88-9ac8-61fa6a81a881"
      },
      "outputs": [],
      "source": [
        "import pandas as pd, numpy as np"
      ]
    },
    {
      "cell_type": "markdown",
      "id": "cb19b8d5-c838-423e-868e-5266176f8005",
      "metadata": {
        "id": "cb19b8d5-c838-423e-868e-5266176f8005"
      },
      "source": [
        "### <b> Step-1:  Load the dataframe. </b>"
      ]
    },
    {
      "cell_type": "code",
      "execution_count": null,
      "id": "63f588bc-2691-441e-a332-0e2f6ad89cc3",
      "metadata": {
        "id": "63f588bc-2691-441e-a332-0e2f6ad89cc3"
      },
      "outputs": [],
      "source": [
        "df = pd.read_csv(r\"TwitterHate.csv\")"
      ]
    },
    {
      "cell_type": "code",
      "execution_count": null,
      "id": "da3a19c0-029f-4541-a04c-7e7bea5d3bb6",
      "metadata": {
        "colab": {
          "base_uri": "https://localhost:8080/",
          "height": 206
        },
        "id": "da3a19c0-029f-4541-a04c-7e7bea5d3bb6",
        "outputId": "f9477297-4c78-461c-df2d-9f4aa65cd8ab"
      },
      "outputs": [
        {
          "output_type": "execute_result",
          "data": {
            "text/html": [
              "\n",
              "  <div id=\"df-fe2a8a22-91c2-4deb-b425-bb19040ccf61\">\n",
              "    <div class=\"colab-df-container\">\n",
              "      <div>\n",
              "<style scoped>\n",
              "    .dataframe tbody tr th:only-of-type {\n",
              "        vertical-align: middle;\n",
              "    }\n",
              "\n",
              "    .dataframe tbody tr th {\n",
              "        vertical-align: top;\n",
              "    }\n",
              "\n",
              "    .dataframe thead th {\n",
              "        text-align: right;\n",
              "    }\n",
              "</style>\n",
              "<table border=\"1\" class=\"dataframe\">\n",
              "  <thead>\n",
              "    <tr style=\"text-align: right;\">\n",
              "      <th></th>\n",
              "      <th>id</th>\n",
              "      <th>label</th>\n",
              "      <th>tweet</th>\n",
              "    </tr>\n",
              "  </thead>\n",
              "  <tbody>\n",
              "    <tr>\n",
              "      <th>0</th>\n",
              "      <td>1</td>\n",
              "      <td>0</td>\n",
              "      <td>@user when a father is dysfunctional and is s...</td>\n",
              "    </tr>\n",
              "    <tr>\n",
              "      <th>1</th>\n",
              "      <td>2</td>\n",
              "      <td>0</td>\n",
              "      <td>@user @user thanks for #lyft credit i can't us...</td>\n",
              "    </tr>\n",
              "    <tr>\n",
              "      <th>2</th>\n",
              "      <td>3</td>\n",
              "      <td>0</td>\n",
              "      <td>bihday your majesty</td>\n",
              "    </tr>\n",
              "    <tr>\n",
              "      <th>3</th>\n",
              "      <td>4</td>\n",
              "      <td>0</td>\n",
              "      <td>#model   i love u take with u all the time in ...</td>\n",
              "    </tr>\n",
              "    <tr>\n",
              "      <th>4</th>\n",
              "      <td>5</td>\n",
              "      <td>0</td>\n",
              "      <td>factsguide: society now    #motivation</td>\n",
              "    </tr>\n",
              "  </tbody>\n",
              "</table>\n",
              "</div>\n",
              "      <button class=\"colab-df-convert\" onclick=\"convertToInteractive('df-fe2a8a22-91c2-4deb-b425-bb19040ccf61')\"\n",
              "              title=\"Convert this dataframe to an interactive table.\"\n",
              "              style=\"display:none;\">\n",
              "        \n",
              "  <svg xmlns=\"http://www.w3.org/2000/svg\" height=\"24px\"viewBox=\"0 0 24 24\"\n",
              "       width=\"24px\">\n",
              "    <path d=\"M0 0h24v24H0V0z\" fill=\"none\"/>\n",
              "    <path d=\"M18.56 5.44l.94 2.06.94-2.06 2.06-.94-2.06-.94-.94-2.06-.94 2.06-2.06.94zm-11 1L8.5 8.5l.94-2.06 2.06-.94-2.06-.94L8.5 2.5l-.94 2.06-2.06.94zm10 10l.94 2.06.94-2.06 2.06-.94-2.06-.94-.94-2.06-.94 2.06-2.06.94z\"/><path d=\"M17.41 7.96l-1.37-1.37c-.4-.4-.92-.59-1.43-.59-.52 0-1.04.2-1.43.59L10.3 9.45l-7.72 7.72c-.78.78-.78 2.05 0 2.83L4 21.41c.39.39.9.59 1.41.59.51 0 1.02-.2 1.41-.59l7.78-7.78 2.81-2.81c.8-.78.8-2.07 0-2.86zM5.41 20L4 18.59l7.72-7.72 1.47 1.35L5.41 20z\"/>\n",
              "  </svg>\n",
              "      </button>\n",
              "      \n",
              "  <style>\n",
              "    .colab-df-container {\n",
              "      display:flex;\n",
              "      flex-wrap:wrap;\n",
              "      gap: 12px;\n",
              "    }\n",
              "\n",
              "    .colab-df-convert {\n",
              "      background-color: #E8F0FE;\n",
              "      border: none;\n",
              "      border-radius: 50%;\n",
              "      cursor: pointer;\n",
              "      display: none;\n",
              "      fill: #1967D2;\n",
              "      height: 32px;\n",
              "      padding: 0 0 0 0;\n",
              "      width: 32px;\n",
              "    }\n",
              "\n",
              "    .colab-df-convert:hover {\n",
              "      background-color: #E2EBFA;\n",
              "      box-shadow: 0px 1px 2px rgba(60, 64, 67, 0.3), 0px 1px 3px 1px rgba(60, 64, 67, 0.15);\n",
              "      fill: #174EA6;\n",
              "    }\n",
              "\n",
              "    [theme=dark] .colab-df-convert {\n",
              "      background-color: #3B4455;\n",
              "      fill: #D2E3FC;\n",
              "    }\n",
              "\n",
              "    [theme=dark] .colab-df-convert:hover {\n",
              "      background-color: #434B5C;\n",
              "      box-shadow: 0px 1px 3px 1px rgba(0, 0, 0, 0.15);\n",
              "      filter: drop-shadow(0px 1px 2px rgba(0, 0, 0, 0.3));\n",
              "      fill: #FFFFFF;\n",
              "    }\n",
              "  </style>\n",
              "\n",
              "      <script>\n",
              "        const buttonEl =\n",
              "          document.querySelector('#df-fe2a8a22-91c2-4deb-b425-bb19040ccf61 button.colab-df-convert');\n",
              "        buttonEl.style.display =\n",
              "          google.colab.kernel.accessAllowed ? 'block' : 'none';\n",
              "\n",
              "        async function convertToInteractive(key) {\n",
              "          const element = document.querySelector('#df-fe2a8a22-91c2-4deb-b425-bb19040ccf61');\n",
              "          const dataTable =\n",
              "            await google.colab.kernel.invokeFunction('convertToInteractive',\n",
              "                                                     [key], {});\n",
              "          if (!dataTable) return;\n",
              "\n",
              "          const docLinkHtml = 'Like what you see? Visit the ' +\n",
              "            '<a target=\"_blank\" href=https://colab.research.google.com/notebooks/data_table.ipynb>data table notebook</a>'\n",
              "            + ' to learn more about interactive tables.';\n",
              "          element.innerHTML = '';\n",
              "          dataTable['output_type'] = 'display_data';\n",
              "          await google.colab.output.renderOutput(dataTable, element);\n",
              "          const docLink = document.createElement('div');\n",
              "          docLink.innerHTML = docLinkHtml;\n",
              "          element.appendChild(docLink);\n",
              "        }\n",
              "      </script>\n",
              "    </div>\n",
              "  </div>\n",
              "  "
            ],
            "text/plain": [
              "   id  label                                              tweet\n",
              "0   1      0   @user when a father is dysfunctional and is s...\n",
              "1   2      0  @user @user thanks for #lyft credit i can't us...\n",
              "2   3      0                                bihday your majesty\n",
              "3   4      0  #model   i love u take with u all the time in ...\n",
              "4   5      0             factsguide: society now    #motivation"
            ]
          },
          "metadata": {},
          "execution_count": 3
        }
      ],
      "source": [
        "df.head()"
      ]
    },
    {
      "cell_type": "code",
      "execution_count": null,
      "id": "85b9849d-3087-4b7f-8484-29b55596bcec",
      "metadata": {
        "colab": {
          "base_uri": "https://localhost:8080/"
        },
        "id": "85b9849d-3087-4b7f-8484-29b55596bcec",
        "outputId": "c238a283-886a-4b7c-9fae-b6d39dfdd11f"
      },
      "outputs": [
        {
          "output_type": "execute_result",
          "data": {
            "text/plain": [
              "(31962, 3)"
            ]
          },
          "metadata": {},
          "execution_count": 4
        }
      ],
      "source": [
        "df.shape"
      ]
    },
    {
      "cell_type": "markdown",
      "id": "9c9c9366-e8cf-4ddf-a193-e3706bbbea23",
      "metadata": {
        "id": "9c9c9366-e8cf-4ddf-a193-e3706bbbea23"
      },
      "source": [
        "### <b> Step-2:  Get the tweets into lists for easy cleanup and manipulation </b>"
      ]
    },
    {
      "cell_type": "code",
      "execution_count": null,
      "id": "a8cc95d0-3cd7-41c5-8afb-7c1cf4e024f9",
      "metadata": {
        "id": "a8cc95d0-3cd7-41c5-8afb-7c1cf4e024f9"
      },
      "outputs": [],
      "source": [
        "tweet_list = df[\"tweet\"].values"
      ]
    },
    {
      "cell_type": "code",
      "execution_count": null,
      "id": "b06ccb5c-3274-4173-bcd8-8e96870fc479",
      "metadata": {
        "id": "b06ccb5c-3274-4173-bcd8-8e96870fc479"
      },
      "outputs": [],
      "source": [
        "tweet_list = list(tweet_list)"
      ]
    },
    {
      "cell_type": "markdown",
      "source": [
        "Let's check for the top 5 tweets."
      ],
      "metadata": {
        "id": "YRwP16w4x2-g"
      },
      "id": "YRwP16w4x2-g"
    },
    {
      "cell_type": "code",
      "execution_count": null,
      "id": "e58d82ac-1c86-422a-9d87-f6cf201e43cc",
      "metadata": {
        "colab": {
          "base_uri": "https://localhost:8080/"
        },
        "id": "e58d82ac-1c86-422a-9d87-f6cf201e43cc",
        "outputId": "ae3ff3c6-9c12-4616-91fc-8898b1976e8e"
      },
      "outputs": [
        {
          "output_type": "execute_result",
          "data": {
            "text/plain": [
              "[' @user when a father is dysfunctional and is so selfish he drags his kids into his dysfunction.   #run',\n",
              " \"@user @user thanks for #lyft credit i can't use cause they don't offer wheelchair vans in pdx.    #disapointed #getthanked\",\n",
              " '  bihday your majesty',\n",
              " '#model   i love u take with u all the time in urð\\x9f\\x93±!!! ð\\x9f\\x98\\x99ð\\x9f\\x98\\x8eð\\x9f\\x91\\x84ð\\x9f\\x91\\x85ð\\x9f\\x92¦ð\\x9f\\x92¦ð\\x9f\\x92¦  ',\n",
              " ' factsguide: society now    #motivation']"
            ]
          },
          "metadata": {},
          "execution_count": 7
        }
      ],
      "source": [
        "tweet_list[:5]"
      ]
    },
    {
      "cell_type": "markdown",
      "id": "1e6fbba5-f1ec-4ce6-a6ed-e9f5294375b3",
      "metadata": {
        "id": "1e6fbba5-f1ec-4ce6-a6ed-e9f5294375b3"
      },
      "source": [
        "### <b> Step-3 & 4:  Cleaning up the data"
      ]
    },
    {
      "cell_type": "markdown",
      "id": "c35d82f5-246b-47df-b35c-6ed5fb420466",
      "metadata": {
        "id": "c35d82f5-246b-47df-b35c-6ed5fb420466"
      },
      "source": [
        "Since tweets contains, urls unnecessary charatcters, removing them is an necessary step in any NLP project. Let's lower the data for whole dataset, it will help in increasing the accuracy of the model. "
      ]
    },
    {
      "cell_type": "code",
      "execution_count": null,
      "id": "53b749f6-dae4-4034-bf77-9cb656659a55",
      "metadata": {
        "id": "53b749f6-dae4-4034-bf77-9cb656659a55"
      },
      "outputs": [],
      "source": [
        "text_lower = [text.lower() for text  in tweet_list]"
      ]
    },
    {
      "cell_type": "code",
      "execution_count": null,
      "id": "1b516e76-0af1-4ef5-a0a2-de6152c83cbd",
      "metadata": {
        "id": "1b516e76-0af1-4ef5-a0a2-de6152c83cbd"
      },
      "outputs": [],
      "source": [
        "# removing user handles @\n",
        "import re"
      ]
    },
    {
      "cell_type": "markdown",
      "source": [
        "Let's remove the \"@\" symbol from the sentences. It will be done with the help of regular expression."
      ],
      "metadata": {
        "id": "vMwExXdoyRqX"
      },
      "id": "vMwExXdoyRqX"
    },
    {
      "cell_type": "code",
      "execution_count": null,
      "id": "dcd438e3-b5e3-4d78-b494-27b7cd4dc01e",
      "metadata": {
        "id": "dcd438e3-b5e3-4d78-b494-27b7cd4dc01e"
      },
      "outputs": [],
      "source": [
        "tweets_at_removed = [re.sub(r\"@\\w+\",\" \",text) for text in text_lower]"
      ]
    },
    {
      "cell_type": "code",
      "execution_count": null,
      "id": "8550c00a-215e-4925-a6f9-9b21fde33358",
      "metadata": {
        "colab": {
          "base_uri": "https://localhost:8080/"
        },
        "id": "8550c00a-215e-4925-a6f9-9b21fde33358",
        "outputId": "6f6d21d3-f9ea-41d1-dac7-188fafc6ec32"
      },
      "outputs": [
        {
          "output_type": "execute_result",
          "data": {
            "text/plain": [
              "['   when a father is dysfunctional and is so selfish he drags his kids into his dysfunction.   #run',\n",
              " \"    thanks for #lyft credit i can't use cause they don't offer wheelchair vans in pdx.    #disapointed #getthanked\",\n",
              " '  bihday your majesty',\n",
              " '#model   i love u take with u all the time in urð\\x9f\\x93±!!! ð\\x9f\\x98\\x99ð\\x9f\\x98\\x8eð\\x9f\\x91\\x84ð\\x9f\\x91\\x85ð\\x9f\\x92¦ð\\x9f\\x92¦ð\\x9f\\x92¦  ',\n",
              " ' factsguide: society now    #motivation']"
            ]
          },
          "metadata": {},
          "execution_count": 11
        }
      ],
      "source": [
        "tweets_at_removed[:5]"
      ]
    },
    {
      "cell_type": "markdown",
      "source": [
        "Now we will check whether our data contains any http or https. In yes, then we will remove them, as it will make dataset cleaner. "
      ],
      "metadata": {
        "id": "jTitZZwj0rQV"
      },
      "id": "jTitZZwj0rQV"
    },
    {
      "cell_type": "code",
      "execution_count": null,
      "id": "6dd9086e-7c0b-43da-91e6-38763bd888a8",
      "metadata": {
        "colab": {
          "base_uri": "https://localhost:8080/",
          "height": 927
        },
        "id": "6dd9086e-7c0b-43da-91e6-38763bd888a8",
        "outputId": "b1cd3e9f-13c4-468f-fce1-88b43362c491"
      },
      "outputs": [
        {
          "output_type": "execute_result",
          "data": {
            "text/html": [
              "\n",
              "  <div id=\"df-98d860ef-472d-46e0-9bfb-c3d82d04aef7\">\n",
              "    <div class=\"colab-df-container\">\n",
              "      <div>\n",
              "<style scoped>\n",
              "    .dataframe tbody tr th:only-of-type {\n",
              "        vertical-align: middle;\n",
              "    }\n",
              "\n",
              "    .dataframe tbody tr th {\n",
              "        vertical-align: top;\n",
              "    }\n",
              "\n",
              "    .dataframe thead th {\n",
              "        text-align: right;\n",
              "    }\n",
              "</style>\n",
              "<table border=\"1\" class=\"dataframe\">\n",
              "  <thead>\n",
              "    <tr style=\"text-align: right;\">\n",
              "      <th></th>\n",
              "      <th>id</th>\n",
              "      <th>label</th>\n",
              "      <th>tweet</th>\n",
              "    </tr>\n",
              "  </thead>\n",
              "  <tbody>\n",
              "    <tr>\n",
              "      <th>609</th>\n",
              "      <td>610</td>\n",
              "      <td>1</td>\n",
              "      <td>porn vids wwwsmallgirlsexcom</td>\n",
              "    </tr>\n",
              "    <tr>\n",
              "      <th>1111</th>\n",
              "      <td>1112</td>\n",
              "      <td>0</td>\n",
              "      <td>#fly   #and #better #with #us #buranus  #www.f...</td>\n",
              "    </tr>\n",
              "    <tr>\n",
              "      <th>1437</th>\n",
              "      <td>1438</td>\n",
              "      <td>0</td>\n",
              "      <td>awww this is such a   beautiful #song by my #...</td>\n",
              "    </tr>\n",
              "    <tr>\n",
              "      <th>1750</th>\n",
              "      <td>1751</td>\n",
              "      <td>0</td>\n",
              "      <td>when jake sisko saves #captainsisko on #ds9 #s...</td>\n",
              "    </tr>\n",
              "    <tr>\n",
              "      <th>3732</th>\n",
              "      <td>3733</td>\n",
              "      <td>0</td>\n",
              "      <td>awwwwâºï¸ â@user @user happy father's day!...</td>\n",
              "    </tr>\n",
              "    <tr>\n",
              "      <th>6375</th>\n",
              "      <td>6376</td>\n",
              "      <td>0</td>\n",
              "      <td>#isitthursdayyet? it's not? awwww... #critical...</td>\n",
              "    </tr>\n",
              "    <tr>\n",
              "      <th>8084</th>\n",
              "      <td>8085</td>\n",
              "      <td>0</td>\n",
              "      <td>couple having sex www.drunk singapore girl g...</td>\n",
              "    </tr>\n",
              "    <tr>\n",
              "      <th>8484</th>\n",
              "      <td>8485</td>\n",
              "      <td>0</td>\n",
              "      <td>so glad my #workout includes smoke breaks...ww...</td>\n",
              "    </tr>\n",
              "    <tr>\n",
              "      <th>8660</th>\n",
              "      <td>8661</td>\n",
              "      <td>0</td>\n",
              "      <td>@user just run 10kms for @user @user   #lovei...</td>\n",
              "    </tr>\n",
              "    <tr>\n",
              "      <th>9780</th>\n",
              "      <td>9781</td>\n",
              "      <td>0</td>\n",
              "      <td>...#awwwlup awwwn them...  wut z?  #magicbutt0...</td>\n",
              "    </tr>\n",
              "    <tr>\n",
              "      <th>12478</th>\n",
              "      <td>12479</td>\n",
              "      <td>0</td>\n",
              "      <td>www sexgirl com hk   hardcore eye opener</td>\n",
              "    </tr>\n",
              "    <tr>\n",
              "      <th>12534</th>\n",
              "      <td>12535</td>\n",
              "      <td>0</td>\n",
              "      <td>phewww now time for conference ... project pre...</td>\n",
              "    </tr>\n",
              "    <tr>\n",
              "      <th>14489</th>\n",
              "      <td>14490</td>\n",
              "      <td>0</td>\n",
              "      <td>do you knowwwwww how long it took me to rememb...</td>\n",
              "    </tr>\n",
              "    <tr>\n",
              "      <th>18423</th>\n",
              "      <td>18424</td>\n",
              "      <td>0</td>\n",
              "      <td>@user ewww and now he's   ð</td>\n",
              "    </tr>\n",
              "    <tr>\n",
              "      <th>18821</th>\n",
              "      <td>18822</td>\n",
              "      <td>0</td>\n",
              "      <td>dad is the best! how sweet, he surprised me by...</td>\n",
              "    </tr>\n",
              "    <tr>\n",
              "      <th>20115</th>\n",
              "      <td>20116</td>\n",
              "      <td>0</td>\n",
              "      <td>yup @user i knoowwwwww the feeling.</td>\n",
              "    </tr>\n",
              "    <tr>\n",
              "      <th>23239</th>\n",
              "      <td>23240</td>\n",
              "      <td>0</td>\n",
              "      <td>awww crap just cracked my phone ðððð...</td>\n",
              "    </tr>\n",
              "    <tr>\n",
              "      <th>23844</th>\n",
              "      <td>23845</td>\n",
              "      <td>0</td>\n",
              "      <td>some times @user android builds are soooooo sl...</td>\n",
              "    </tr>\n",
              "    <tr>\n",
              "      <th>25326</th>\n",
              "      <td>25327</td>\n",
              "      <td>0</td>\n",
              "      <td>awwwwwwwwwwwwwww        cairo for president !!...</td>\n",
              "    </tr>\n",
              "    <tr>\n",
              "      <th>25537</th>\n",
              "      <td>25538</td>\n",
              "      <td>0</td>\n",
              "      <td>ð¢ð¢ððððððððð o...</td>\n",
              "    </tr>\n",
              "    <tr>\n",
              "      <th>25657</th>\n",
              "      <td>25658</td>\n",
              "      <td>0</td>\n",
              "      <td>aaawwwww so cute</td>\n",
              "    </tr>\n",
              "    <tr>\n",
              "      <th>25745</th>\n",
              "      <td>25746</td>\n",
              "      <td>0</td>\n",
              "      <td>@user  sirrr getting new one wowwww...  to see...</td>\n",
              "    </tr>\n",
              "    <tr>\n",
              "      <th>27693</th>\n",
              "      <td>27694</td>\n",
              "      <td>0</td>\n",
              "      <td>@user orange is the new black comes back in 2...</td>\n",
              "    </tr>\n",
              "    <tr>\n",
              "      <th>27956</th>\n",
              "      <td>27957</td>\n",
              "      <td>0</td>\n",
              "      <td>@user awwww so sad ð¢... #frozen   #cry</td>\n",
              "    </tr>\n",
              "    <tr>\n",
              "      <th>27994</th>\n",
              "      <td>27995</td>\n",
              "      <td>0</td>\n",
              "      <td>owwwwwwww @user got beaten down to the flour..</td>\n",
              "    </tr>\n",
              "    <tr>\n",
              "      <th>30298</th>\n",
              "      <td>30299</td>\n",
              "      <td>0</td>\n",
              "      <td>awww great...a #text from a #realperson...shou...</td>\n",
              "    </tr>\n",
              "    <tr>\n",
              "      <th>30469</th>\n",
              "      <td>30470</td>\n",
              "      <td>0</td>\n",
              "      <td>my 4y old girl keeps telling everybody at scho...</td>\n",
              "    </tr>\n",
              "    <tr>\n",
              "      <th>30663</th>\n",
              "      <td>30664</td>\n",
              "      <td>0</td>\n",
              "      <td>awww yes i love it ðð</td>\n",
              "    </tr>\n",
              "  </tbody>\n",
              "</table>\n",
              "</div>\n",
              "      <button class=\"colab-df-convert\" onclick=\"convertToInteractive('df-98d860ef-472d-46e0-9bfb-c3d82d04aef7')\"\n",
              "              title=\"Convert this dataframe to an interactive table.\"\n",
              "              style=\"display:none;\">\n",
              "        \n",
              "  <svg xmlns=\"http://www.w3.org/2000/svg\" height=\"24px\"viewBox=\"0 0 24 24\"\n",
              "       width=\"24px\">\n",
              "    <path d=\"M0 0h24v24H0V0z\" fill=\"none\"/>\n",
              "    <path d=\"M18.56 5.44l.94 2.06.94-2.06 2.06-.94-2.06-.94-.94-2.06-.94 2.06-2.06.94zm-11 1L8.5 8.5l.94-2.06 2.06-.94-2.06-.94L8.5 2.5l-.94 2.06-2.06.94zm10 10l.94 2.06.94-2.06 2.06-.94-2.06-.94-.94-2.06-.94 2.06-2.06.94z\"/><path d=\"M17.41 7.96l-1.37-1.37c-.4-.4-.92-.59-1.43-.59-.52 0-1.04.2-1.43.59L10.3 9.45l-7.72 7.72c-.78.78-.78 2.05 0 2.83L4 21.41c.39.39.9.59 1.41.59.51 0 1.02-.2 1.41-.59l7.78-7.78 2.81-2.81c.8-.78.8-2.07 0-2.86zM5.41 20L4 18.59l7.72-7.72 1.47 1.35L5.41 20z\"/>\n",
              "  </svg>\n",
              "      </button>\n",
              "      \n",
              "  <style>\n",
              "    .colab-df-container {\n",
              "      display:flex;\n",
              "      flex-wrap:wrap;\n",
              "      gap: 12px;\n",
              "    }\n",
              "\n",
              "    .colab-df-convert {\n",
              "      background-color: #E8F0FE;\n",
              "      border: none;\n",
              "      border-radius: 50%;\n",
              "      cursor: pointer;\n",
              "      display: none;\n",
              "      fill: #1967D2;\n",
              "      height: 32px;\n",
              "      padding: 0 0 0 0;\n",
              "      width: 32px;\n",
              "    }\n",
              "\n",
              "    .colab-df-convert:hover {\n",
              "      background-color: #E2EBFA;\n",
              "      box-shadow: 0px 1px 2px rgba(60, 64, 67, 0.3), 0px 1px 3px 1px rgba(60, 64, 67, 0.15);\n",
              "      fill: #174EA6;\n",
              "    }\n",
              "\n",
              "    [theme=dark] .colab-df-convert {\n",
              "      background-color: #3B4455;\n",
              "      fill: #D2E3FC;\n",
              "    }\n",
              "\n",
              "    [theme=dark] .colab-df-convert:hover {\n",
              "      background-color: #434B5C;\n",
              "      box-shadow: 0px 1px 3px 1px rgba(0, 0, 0, 0.15);\n",
              "      filter: drop-shadow(0px 1px 2px rgba(0, 0, 0, 0.3));\n",
              "      fill: #FFFFFF;\n",
              "    }\n",
              "  </style>\n",
              "\n",
              "      <script>\n",
              "        const buttonEl =\n",
              "          document.querySelector('#df-98d860ef-472d-46e0-9bfb-c3d82d04aef7 button.colab-df-convert');\n",
              "        buttonEl.style.display =\n",
              "          google.colab.kernel.accessAllowed ? 'block' : 'none';\n",
              "\n",
              "        async function convertToInteractive(key) {\n",
              "          const element = document.querySelector('#df-98d860ef-472d-46e0-9bfb-c3d82d04aef7');\n",
              "          const dataTable =\n",
              "            await google.colab.kernel.invokeFunction('convertToInteractive',\n",
              "                                                     [key], {});\n",
              "          if (!dataTable) return;\n",
              "\n",
              "          const docLinkHtml = 'Like what you see? Visit the ' +\n",
              "            '<a target=\"_blank\" href=https://colab.research.google.com/notebooks/data_table.ipynb>data table notebook</a>'\n",
              "            + ' to learn more about interactive tables.';\n",
              "          element.innerHTML = '';\n",
              "          dataTable['output_type'] = 'display_data';\n",
              "          await google.colab.output.renderOutput(dataTable, element);\n",
              "          const docLink = document.createElement('div');\n",
              "          docLink.innerHTML = docLinkHtml;\n",
              "          element.appendChild(docLink);\n",
              "        }\n",
              "      </script>\n",
              "    </div>\n",
              "  </div>\n",
              "  "
            ],
            "text/plain": [
              "          id  label                                              tweet\n",
              "609      610      1                       porn vids wwwsmallgirlsexcom\n",
              "1111    1112      0  #fly   #and #better #with #us #buranus  #www.f...\n",
              "1437    1438      0   awww this is such a   beautiful #song by my #...\n",
              "1750    1751      0  when jake sisko saves #captainsisko on #ds9 #s...\n",
              "3732    3733      0  awwwwâºï¸ â@user @user happy father's day!...\n",
              "6375    6376      0  #isitthursdayyet? it's not? awwww... #critical...\n",
              "8084    8085      0    couple having sex www.drunk singapore girl g...\n",
              "8484    8485      0  so glad my #workout includes smoke breaks...ww...\n",
              "8660    8661      0   @user just run 10kms for @user @user   #lovei...\n",
              "9780    9781      0  ...#awwwlup awwwn them...  wut z?  #magicbutt0...\n",
              "12478  12479      0         www sexgirl com hk   hardcore eye opener  \n",
              "12534  12535      0  phewww now time for conference ... project pre...\n",
              "14489  14490      0  do you knowwwwww how long it took me to rememb...\n",
              "18423  18424      0                     @user ewww and now he's   ð\n",
              "18821  18822      0  dad is the best! how sweet, he surprised me by...\n",
              "20115  20116      0              yup @user i knoowwwwww the feeling.  \n",
              "23239  23240      0  awww crap just cracked my phone ðððð...\n",
              "23844  23845      0  some times @user android builds are soooooo sl...\n",
              "25326  25327      0  awwwwwwwwwwwwwww        cairo for president !!...\n",
              "25537  25538      0  ð¢ð¢ððððððððð o...\n",
              "25657  25658      0                                  aaawwwww so cute \n",
              "25745  25746      0  @user  sirrr getting new one wowwww...  to see...\n",
              "27693  27694      0   @user orange is the new black comes back in 2...\n",
              "27956  27957      0         @user awwww so sad ð¢... #frozen   #cry \n",
              "27994  27995      0   owwwwwwww @user got beaten down to the flour..  \n",
              "30298  30299      0  awww great...a #text from a #realperson...shou...\n",
              "30469  30470      0  my 4y old girl keeps telling everybody at scho...\n",
              "30663  30664      0                       awww yes i love it ðð "
            ]
          },
          "metadata": {},
          "execution_count": 13
        }
      ],
      "source": [
        "df.loc[df[\"tweet\"].str.contains(re.compile(r\"https?|www\"))]"
      ]
    },
    {
      "cell_type": "markdown",
      "source": [
        "Looks like ourdataset contains a lot of http/https. We will remove this shortly in our program."
      ],
      "metadata": {
        "id": "LS_Z237I03tt"
      },
      "id": "LS_Z237I03tt"
    },
    {
      "cell_type": "markdown",
      "id": "0848756a-6b47-4838-83ec-55319ca18d9e",
      "metadata": {
        "id": "0848756a-6b47-4838-83ec-55319ca18d9e"
      },
      "source": [
        "So, let's remove any thing that has tree www. As we can see that in id 610 there is www. But no dot is given there. Also there are many \"awwwww\". There is no point of keeping this so many \"wwwww\". Let's remove things which have three or more than three w's together. Also using TextBlob library sentiment of word \"awww\" does count when number of \"w's\" are limited. But when it is increased, word doesn't has any meaning. So, keeping this in mind word like \"awww\" hasn't been dropped. Only they have been kept to limited w's. "
      ]
    },
    {
      "cell_type": "code",
      "execution_count": null,
      "id": "28e7580c-d78f-4eaf-a2e7-5b7cefa190c3",
      "metadata": {
        "colab": {
          "base_uri": "https://localhost:8080/"
        },
        "id": "28e7580c-d78f-4eaf-a2e7-5b7cefa190c3",
        "outputId": "4fb8fb35-22cd-4f8f-cbdd-4a634d5b7be7"
      },
      "outputs": [
        {
          "output_type": "execute_result",
          "data": {
            "text/plain": [
              "0.9"
            ]
          },
          "metadata": {},
          "execution_count": 14
        }
      ],
      "source": [
        "from textblob import TextBlob\n",
        "TextBlob(\"awww\").sentiment.subjectivity"
      ]
    },
    {
      "cell_type": "code",
      "execution_count": null,
      "id": "66cc32ec-27da-4f33-ba07-d8f3d9c9d3cb",
      "metadata": {
        "colab": {
          "base_uri": "https://localhost:8080/"
        },
        "id": "66cc32ec-27da-4f33-ba07-d8f3d9c9d3cb",
        "outputId": "a4d79570-45c8-4de2-d4f0-350b99e90345"
      },
      "outputs": [
        {
          "output_type": "execute_result",
          "data": {
            "text/plain": [
              "0.0"
            ]
          },
          "metadata": {},
          "execution_count": 15
        }
      ],
      "source": [
        "# subjectivity when number of w's are increased \n",
        "TextBlob(\"awwwww\").sentiment.subjectivity"
      ]
    },
    {
      "cell_type": "code",
      "execution_count": null,
      "id": "d6ee8bb0-d961-48ea-b03e-28b3599bdecf",
      "metadata": {
        "colab": {
          "base_uri": "https://localhost:8080/"
        },
        "id": "d6ee8bb0-d961-48ea-b03e-28b3599bdecf",
        "outputId": "35491e4b-ddd4-474f-a575-d63949ab8ad3"
      },
      "outputs": [
        {
          "output_type": "execute_result",
          "data": {
            "text/plain": [
              "0.4"
            ]
          },
          "metadata": {},
          "execution_count": 16
        }
      ],
      "source": [
        "# polarity when number if w's are limited\n",
        "TextBlob(\"awww\").sentiment.polarity"
      ]
    },
    {
      "cell_type": "code",
      "execution_count": null,
      "id": "b68bb4f2-1726-4449-9d2a-777b0974eb6d",
      "metadata": {
        "colab": {
          "base_uri": "https://localhost:8080/"
        },
        "id": "b68bb4f2-1726-4449-9d2a-777b0974eb6d",
        "outputId": "07290c55-922b-47d7-f132-c79cbf06bd46"
      },
      "outputs": [
        {
          "output_type": "execute_result",
          "data": {
            "text/plain": [
              "0.0"
            ]
          },
          "metadata": {},
          "execution_count": 17
        }
      ],
      "source": [
        "# polarity when number of w's are increased \n",
        "TextBlob(\"awwwwwww\").sentiment.polarity"
      ]
    },
    {
      "cell_type": "markdown",
      "id": "1188a4f7-7b5c-4472-b1dc-13f009b92210",
      "metadata": {
        "id": "1188a4f7-7b5c-4472-b1dc-13f009b92210"
      },
      "source": [
        "Let's get back to our example."
      ]
    },
    {
      "cell_type": "code",
      "execution_count": null,
      "id": "3c395dc3-f81d-4d09-b53a-7be56e457ae4",
      "metadata": {
        "id": "3c395dc3-f81d-4d09-b53a-7be56e457ae4"
      },
      "outputs": [],
      "source": [
        "tweets_no_url = [re.sub(r\"(www)+\",\" \",text) for text in tweets_at_removed]"
      ]
    },
    {
      "cell_type": "code",
      "execution_count": null,
      "id": "2d662cf3-a08e-4f84-a100-6f3403b142b7",
      "metadata": {
        "colab": {
          "base_uri": "https://localhost:8080/"
        },
        "id": "2d662cf3-a08e-4f84-a100-6f3403b142b7",
        "outputId": "71a13786-fc74-452e-e90b-a13bcb333d73"
      },
      "outputs": [
        {
          "output_type": "execute_result",
          "data": {
            "text/plain": [
              "['   when a father is dysfunctional and is so selfish he drags his kids into his dysfunction.   #run',\n",
              " \"    thanks for #lyft credit i can't use cause they don't offer wheelchair vans in pdx.    #disapointed #getthanked\",\n",
              " '  bihday your majesty',\n",
              " '#model   i love u take with u all the time in urð\\x9f\\x93±!!! ð\\x9f\\x98\\x99ð\\x9f\\x98\\x8eð\\x9f\\x91\\x84ð\\x9f\\x91\\x85ð\\x9f\\x92¦ð\\x9f\\x92¦ð\\x9f\\x92¦  ',\n",
              " ' factsguide: society now    #motivation']"
            ]
          },
          "metadata": {},
          "execution_count": 19
        }
      ],
      "source": [
        "tweets_no_url[:5]"
      ]
    },
    {
      "cell_type": "markdown",
      "source": [
        "There are many ways to remove the http/https. We will take the simplest approach via regular expression."
      ],
      "metadata": {
        "id": "irkLzdNQ1I7w"
      },
      "id": "irkLzdNQ1I7w"
    },
    {
      "cell_type": "code",
      "execution_count": null,
      "id": "96a01290-277a-426d-906b-754a0f938962",
      "metadata": {
        "id": "96a01290-277a-426d-906b-754a0f938962"
      },
      "outputs": [],
      "source": [
        "tweets_no_url = [re.sub(r\"(http|https)://+\",\" \",text) for text in tweets_no_url]"
      ]
    },
    {
      "cell_type": "code",
      "execution_count": null,
      "id": "15f25924-773d-4d11-9df2-f52a2b264760",
      "metadata": {
        "colab": {
          "base_uri": "https://localhost:8080/"
        },
        "id": "15f25924-773d-4d11-9df2-f52a2b264760",
        "outputId": "13e618f2-f827-40a1-9e67-6c19c108225e"
      },
      "outputs": [
        {
          "output_type": "execute_result",
          "data": {
            "text/plain": [
              "['   when a father is dysfunctional and is so selfish he drags his kids into his dysfunction.   #run',\n",
              " \"    thanks for #lyft credit i can't use cause they don't offer wheelchair vans in pdx.    #disapointed #getthanked\",\n",
              " '  bihday your majesty',\n",
              " '#model   i love u take with u all the time in urð\\x9f\\x93±!!! ð\\x9f\\x98\\x99ð\\x9f\\x98\\x8eð\\x9f\\x91\\x84ð\\x9f\\x91\\x85ð\\x9f\\x92¦ð\\x9f\\x92¦ð\\x9f\\x92¦  ',\n",
              " ' factsguide: society now    #motivation']"
            ]
          },
          "metadata": {},
          "execution_count": 21
        }
      ],
      "source": [
        "tweets_no_url[:5]"
      ]
    },
    {
      "cell_type": "code",
      "execution_count": null,
      "id": "595eed70-a8d4-47aa-b821-b6dcab1f2483",
      "metadata": {
        "id": "595eed70-a8d4-47aa-b821-b6dcab1f2483"
      },
      "outputs": [],
      "source": [
        "#tweets_no_url"
      ]
    },
    {
      "cell_type": "code",
      "execution_count": null,
      "id": "5ac09c81-b1a1-4929-8aca-a35ef336b40d",
      "metadata": {
        "id": "5ac09c81-b1a1-4929-8aca-a35ef336b40d"
      },
      "outputs": [],
      "source": [
        "from nltk import TweetTokenizer"
      ]
    },
    {
      "cell_type": "code",
      "execution_count": null,
      "id": "6ffe1525-2f91-4ca3-83d7-873231fc8b69",
      "metadata": {
        "id": "6ffe1525-2f91-4ca3-83d7-873231fc8b69"
      },
      "outputs": [],
      "source": [
        "tt = TweetTokenizer() "
      ]
    },
    {
      "cell_type": "code",
      "execution_count": null,
      "id": "eaa89da0-e3d5-4136-96a5-b5f4550e41aa",
      "metadata": {
        "id": "eaa89da0-e3d5-4136-96a5-b5f4550e41aa"
      },
      "outputs": [],
      "source": [
        "tweets_tokenize = [tt.tokenize(text) for text in tweets_no_url]"
      ]
    },
    {
      "cell_type": "code",
      "execution_count": null,
      "id": "51b0e29d-868b-4dd0-9c30-dfbd5a82ae70",
      "metadata": {
        "id": "51b0e29d-868b-4dd0-9c30-dfbd5a82ae70"
      },
      "outputs": [],
      "source": [
        "# tweets_tokenize"
      ]
    },
    {
      "cell_type": "markdown",
      "id": "c1e4b0a5-05c0-4f49-a6dc-21e3b52e8be0",
      "metadata": {
        "id": "c1e4b0a5-05c0-4f49-a6dc-21e3b52e8be0"
      },
      "source": [
        "Removing stopwords. Stopwords are words in the language that doesn't have any special meanings. For example stopwords in the english language would be \"i,me,myself,we,our\" etc. It could be checked with the help of libraries like NLTK. First we need to download those <i> stopwords</i> from NLTK library. "
      ]
    },
    {
      "cell_type": "code",
      "source": [
        "import nltk\n",
        "nltk.download('stopwords')\n",
        "nltk.download('wordnet')"
      ],
      "metadata": {
        "colab": {
          "base_uri": "https://localhost:8080/"
        },
        "id": "sfxobrytNwAs",
        "outputId": "114595d8-0298-4a34-f38c-fbe1613b6848"
      },
      "id": "sfxobrytNwAs",
      "execution_count": null,
      "outputs": [
        {
          "output_type": "stream",
          "name": "stdout",
          "text": [
            "[nltk_data] Downloading package stopwords to /root/nltk_data...\n",
            "[nltk_data]   Unzipping corpora/stopwords.zip.\n",
            "[nltk_data] Downloading package wordnet to /root/nltk_data...\n",
            "[nltk_data]   Unzipping corpora/wordnet.zip.\n"
          ]
        },
        {
          "output_type": "execute_result",
          "data": {
            "text/plain": [
              "True"
            ]
          },
          "metadata": {},
          "execution_count": 27
        }
      ]
    },
    {
      "cell_type": "code",
      "execution_count": null,
      "id": "5ea39cc1-08f5-41b0-86ce-22fb299a4609",
      "metadata": {
        "id": "5ea39cc1-08f5-41b0-86ce-22fb299a4609"
      },
      "outputs": [],
      "source": [
        "from nltk.corpus import stopwords"
      ]
    },
    {
      "cell_type": "code",
      "execution_count": null,
      "id": "c70144dc-25b0-4aea-a279-0472692356ea",
      "metadata": {
        "id": "c70144dc-25b0-4aea-a279-0472692356ea"
      },
      "outputs": [],
      "source": [
        "def stop(text):\n",
        "       return [term for term in text if term not in stopwords.words(\"english\")]         "
      ]
    },
    {
      "cell_type": "code",
      "execution_count": null,
      "id": "b5e59db9-7879-4148-9475-08d9ee7f85a1",
      "metadata": {
        "id": "b5e59db9-7879-4148-9475-08d9ee7f85a1"
      },
      "outputs": [],
      "source": [
        "tweets_no_stopwords = [stop(text) for text in tweets_tokenize]"
      ]
    },
    {
      "cell_type": "code",
      "execution_count": null,
      "id": "08e4a197-6c6f-4f78-84c3-d11afbca3f2e",
      "metadata": {
        "colab": {
          "base_uri": "https://localhost:8080/"
        },
        "id": "08e4a197-6c6f-4f78-84c3-d11afbca3f2e",
        "outputId": "7c86c770-5798-413d-b2eb-295cbb9945a5"
      },
      "outputs": [
        {
          "output_type": "execute_result",
          "data": {
            "text/plain": [
              "['father',\n",
              " 'dysfunctional',\n",
              " 'selfish',\n",
              " 'drags',\n",
              " 'kids',\n",
              " 'dysfunction',\n",
              " '.',\n",
              " '#run']"
            ]
          },
          "metadata": {},
          "execution_count": 31
        }
      ],
      "source": [
        "tweets_no_stopwords[0]"
      ]
    },
    {
      "cell_type": "markdown",
      "id": "3d60047e-78ae-4d9e-bc6c-d91aec78be43",
      "metadata": {
        "id": "3d60047e-78ae-4d9e-bc6c-d91aec78be43"
      },
      "source": [
        "Next is checking for the presence of words like \"amp\" and \"rt\". Let's see how many of them are present in our corpus. "
      ]
    },
    {
      "cell_type": "code",
      "source": [
        "list_replace = [\"amp\",\"rt\"]"
      ],
      "metadata": {
        "id": "GZpzfjM6ONI_"
      },
      "id": "GZpzfjM6ONI_",
      "execution_count": null,
      "outputs": []
    },
    {
      "cell_type": "markdown",
      "id": "b0d7d268-74a0-48dd-b60c-b4749dd78fd7",
      "metadata": {
        "id": "b0d7d268-74a0-48dd-b60c-b4749dd78fd7"
      },
      "source": [
        "We will combine the list of one word and punctuation into one list and then we will remove it. "
      ]
    },
    {
      "cell_type": "code",
      "source": [
        "import string as st\n",
        "puct = st.punctuation"
      ],
      "metadata": {
        "id": "NYvYxIo5Pm99"
      },
      "id": "NYvYxIo5Pm99",
      "execution_count": null,
      "outputs": []
    },
    {
      "cell_type": "code",
      "source": [
        "puct"
      ],
      "metadata": {
        "colab": {
          "base_uri": "https://localhost:8080/",
          "height": 36
        },
        "id": "EvHwToYlP2kE",
        "outputId": "28e29f22-547b-410d-9f38-1dcb8c2011cd"
      },
      "id": "EvHwToYlP2kE",
      "execution_count": null,
      "outputs": [
        {
          "output_type": "execute_result",
          "data": {
            "application/vnd.google.colaboratory.intrinsic+json": {
              "type": "string"
            },
            "text/plain": [
              "'!\"#$%&\\'()*+,-./:;<=>?@[\\\\]^_`{|}~'"
            ]
          },
          "metadata": {},
          "execution_count": 35
        }
      ]
    },
    {
      "cell_type": "code",
      "source": [
        "new_list = [text for ch in tweets_no_stopwords for text in ch]"
      ],
      "metadata": {
        "id": "yzS5b2_7UHAV"
      },
      "id": "yzS5b2_7UHAV",
      "execution_count": null,
      "outputs": []
    },
    {
      "cell_type": "code",
      "source": [
        "one_word_list =[]\n",
        "for word in new_list:\n",
        "  if len(word)==1:\n",
        "      one_word_list.append(word) \n",
        "one_word_list\n",
        "    "
      ],
      "metadata": {
        "id": "ignd5GcoP9C-"
      },
      "id": "ignd5GcoP9C-",
      "execution_count": null,
      "outputs": []
    },
    {
      "cell_type": "code",
      "source": [
        "words_to_remove = one_word_list + list(puct)"
      ],
      "metadata": {
        "id": "JUubixZmQlXV"
      },
      "id": "JUubixZmQlXV",
      "execution_count": null,
      "outputs": []
    },
    {
      "cell_type": "code",
      "source": [
        "def words_removed(text):\n",
        "  return [word for word in text if word not in words_to_remove]"
      ],
      "metadata": {
        "id": "s8bb9si9XRs_"
      },
      "id": "s8bb9si9XRs_",
      "execution_count": null,
      "outputs": []
    },
    {
      "cell_type": "code",
      "source": [
        "clean_tweets = [words_removed(word) for word in tweets_no_stopwords]"
      ],
      "metadata": {
        "id": "PWalyUJvXReP"
      },
      "id": "PWalyUJvXReP",
      "execution_count": null,
      "outputs": []
    },
    {
      "cell_type": "markdown",
      "source": [
        "Now all the one words and punctuations has been removed."
      ],
      "metadata": {
        "id": "Vx3addfT0uvh"
      },
      "id": "Vx3addfT0uvh"
    },
    {
      "cell_type": "markdown",
      "source": [
        "### <b> Step-5:  Checkout all the top terms in tweets </b>"
      ],
      "metadata": {
        "id": "8ZdHq6l00-8q"
      },
      "id": "8ZdHq6l00-8q"
    },
    {
      "cell_type": "markdown",
      "source": [
        "Now we will check for the top hash terms. Let's make a function for this purpose. "
      ],
      "metadata": {
        "id": "YHnuZjKE1uCd"
      },
      "id": "YHnuZjKE1uCd"
    },
    {
      "cell_type": "code",
      "source": [
        "def hashtags_removed(text):\n",
        "  return [re.sub(\"#\",\"\",word) for word in text] "
      ],
      "metadata": {
        "id": "zhtL-YF5cr8S"
      },
      "id": "zhtL-YF5cr8S",
      "execution_count": null,
      "outputs": []
    },
    {
      "cell_type": "code",
      "source": [
        "clean_hash_tweets = [hashtags_removed(term) for term in clean_tweets]"
      ],
      "metadata": {
        "id": "RmrrQRabdKHY"
      },
      "id": "RmrrQRabdKHY",
      "execution_count": null,
      "outputs": []
    },
    {
      "cell_type": "code",
      "source": [
        "clean_hash_tweets[0]"
      ],
      "metadata": {
        "colab": {
          "base_uri": "https://localhost:8080/"
        },
        "id": "97rgt3Mbd01Z",
        "outputId": "ba5b384c-6b06-4431-acbf-c84c51438c62"
      },
      "id": "97rgt3Mbd01Z",
      "execution_count": null,
      "outputs": [
        {
          "output_type": "execute_result",
          "data": {
            "text/plain": [
              "['father', 'dysfunctional', 'selfish', 'drags', 'kids', 'dysfunction', 'run']"
            ]
          },
          "metadata": {},
          "execution_count": 45
        }
      ]
    },
    {
      "cell_type": "markdown",
      "source": [
        "<b> Now, gather all the hashtags into one single list </b>"
      ],
      "metadata": {
        "id": "qKqs7zlpeQ-i"
      },
      "id": "qKqs7zlpeQ-i"
    },
    {
      "cell_type": "code",
      "source": [
        "hash_list = [re.findall(\"#\\w+\",hash) for terms in clean_tweets for hash in terms]"
      ],
      "metadata": {
        "id": "u8E7JHFhePd2"
      },
      "id": "u8E7JHFhePd2",
      "execution_count": null,
      "outputs": []
    },
    {
      "cell_type": "code",
      "source": [
        "hash_list = [hash for text in hash_list for hash in text]"
      ],
      "metadata": {
        "id": "YbwM3PviePYX"
      },
      "id": "YbwM3PviePYX",
      "execution_count": null,
      "outputs": []
    },
    {
      "cell_type": "code",
      "source": [
        "hash_list[:20]"
      ],
      "metadata": {
        "colab": {
          "base_uri": "https://localhost:8080/"
        },
        "id": "WJTxNUVIePUa",
        "outputId": "afb82566-0b1c-4497-97cd-7ea871613e30"
      },
      "id": "WJTxNUVIePUa",
      "execution_count": null,
      "outputs": [
        {
          "output_type": "execute_result",
          "data": {
            "text/plain": [
              "['#run',\n",
              " '#lyft',\n",
              " '#disapointed',\n",
              " '#getthanked',\n",
              " '#model',\n",
              " '#motivation',\n",
              " '#allshowandnogo',\n",
              " '#school',\n",
              " '#exams',\n",
              " '#hate',\n",
              " '#imagine',\n",
              " '#actorslife',\n",
              " '#revolutionschool',\n",
              " '#girl',\n",
              " '#allin',\n",
              " '#cavs',\n",
              " '#champions',\n",
              " '#cleveland',\n",
              " '#clevelandcavaliers',\n",
              " '#gr8']"
            ]
          },
          "metadata": {},
          "execution_count": 48
        }
      ]
    },
    {
      "cell_type": "markdown",
      "source": [
        "Let's import the *Counter* from *collections* module and get the top 10 most occuring hash tags. "
      ],
      "metadata": {
        "id": "_VumQZhhfo05"
      },
      "id": "_VumQZhhfo05"
    },
    {
      "cell_type": "code",
      "source": [
        "from collections import Counter"
      ],
      "metadata": {
        "id": "iOIVKObSfoaC"
      },
      "id": "iOIVKObSfoaC",
      "execution_count": null,
      "outputs": []
    },
    {
      "cell_type": "code",
      "source": [
        "counter = Counter(hash_list) \n",
        "count_top = counter.most_common(10) # getting top 10 frequently occuring text \n",
        "count_top   "
      ],
      "metadata": {
        "colab": {
          "base_uri": "https://localhost:8080/"
        },
        "id": "JqjcicwcfoQt",
        "outputId": "cd5652c3-2d05-48d6-e1e5-a33ea39de7d4"
      },
      "id": "JqjcicwcfoQt",
      "execution_count": null,
      "outputs": [
        {
          "output_type": "execute_result",
          "data": {
            "text/plain": [
              "[('#love', 1542),\n",
              " ('#positive', 874),\n",
              " ('#healthy', 571),\n",
              " ('#smile', 548),\n",
              " ('#thankful', 491),\n",
              " ('#fun', 434),\n",
              " ('#life', 406),\n",
              " ('#summer', 367),\n",
              " ('#model', 365),\n",
              " ('#affirmation', 363)]"
            ]
          },
          "metadata": {},
          "execution_count": 50
        }
      ]
    },
    {
      "cell_type": "markdown",
      "source": [
        "Let's plot a graph to visualize this."
      ],
      "metadata": {
        "id": "6P01z2DJhC_y"
      },
      "id": "6P01z2DJhC_y"
    },
    {
      "cell_type": "code",
      "source": [
        "# first associate word in dictionary format\n",
        "dict_hash = {term:cnt for term,cnt in count_top}\n",
        "\n",
        "# now let's plot a horizontal bar graph\n",
        "import matplotlib.pyplot as plt\n",
        "plt.barh(list(dict_hash.keys()),list(dict_hash.values()))\n",
        "plt.title(\"Top 10 hash tags\")\n",
        "plt.show();"
      ],
      "metadata": {
        "colab": {
          "base_uri": "https://localhost:8080/",
          "height": 281
        },
        "id": "50eqe5psfoIK",
        "outputId": "5d697827-b782-47e2-e981-811d9cc43e1c"
      },
      "id": "50eqe5psfoIK",
      "execution_count": null,
      "outputs": [
        {
          "output_type": "display_data",
          "data": {
            "image/png": "[encoded data removed]",
            "text/plain": [
              "<Figure size 432x288 with 1 Axes>"
            ]
          },
          "metadata": {
            "needs_background": "light"
          }
        }
      ]
    },
    {
      "cell_type": "markdown",
      "source": [
        "### <b> Step-6:  Data formatting for predictive modeling </b>"
      ],
      "metadata": {
        "id": "1F-yM0zNjWdy"
      },
      "id": "1F-yM0zNjWdy"
    },
    {
      "cell_type": "code",
      "source": [
        "# joining the tokens back to form the strings\n",
        "tweet_sen = [\" \".join(text) for text in clean_hash_tweets]"
      ],
      "metadata": {
        "id": "llJuOEdNivUG"
      },
      "id": "llJuOEdNivUG",
      "execution_count": null,
      "outputs": []
    },
    {
      "cell_type": "code",
      "source": [
        "tweet_sen[1]"
      ],
      "metadata": {
        "colab": {
          "base_uri": "https://localhost:8080/",
          "height": 36
        },
        "id": "Rwg7cFCVkKvp",
        "outputId": "973b87b4-9a3a-49c5-d572-3ed7f6679f7e"
      },
      "id": "Rwg7cFCVkKvp",
      "execution_count": null,
      "outputs": [
        {
          "output_type": "execute_result",
          "data": {
            "application/vnd.google.colaboratory.intrinsic+json": {
              "type": "string"
            },
            "text/plain": [
              "\"thanks lyft credit can't use cause offer wheelchair vans pdx disapointed getthanked\""
            ]
          },
          "metadata": {},
          "execution_count": 53
        }
      ]
    },
    {
      "cell_type": "markdown",
      "source": [
        "<b> Next task is to separate the data into X and y."
      ],
      "metadata": {
        "id": "H1LVHYnYk620"
      },
      "id": "H1LVHYnYk620"
    },
    {
      "cell_type": "code",
      "source": [
        "# checking whether both are equal or not\n",
        "len(tweet_sen)"
      ],
      "metadata": {
        "colab": {
          "base_uri": "https://localhost:8080/"
        },
        "id": "EYeL9WtlkKs6",
        "outputId": "7069cb77-53e8-42cf-d472-fe233bbbf72c"
      },
      "id": "EYeL9WtlkKs6",
      "execution_count": null,
      "outputs": [
        {
          "output_type": "execute_result",
          "data": {
            "text/plain": [
              "31962"
            ]
          },
          "metadata": {},
          "execution_count": 54
        }
      ]
    },
    {
      "cell_type": "code",
      "source": [
        "len(df[\"label\"])"
      ],
      "metadata": {
        "colab": {
          "base_uri": "https://localhost:8080/"
        },
        "id": "3YT77s-skKqJ",
        "outputId": "5ec096ff-9e56-4d2b-b8ff-720a36e183b3"
      },
      "id": "3YT77s-skKqJ",
      "execution_count": null,
      "outputs": [
        {
          "output_type": "execute_result",
          "data": {
            "text/plain": [
              "31962"
            ]
          },
          "metadata": {},
          "execution_count": 55
        }
      ]
    },
    {
      "cell_type": "markdown",
      "source": [
        "So, both are same, we can proceed further for building model."
      ],
      "metadata": {
        "id": "YQd_7UU6lR7M"
      },
      "id": "YQd_7UU6lR7M"
    },
    {
      "cell_type": "code",
      "source": [
        "from sklearn.model_selection import train_test_split\n",
        "X = tweet_sen  # training set\n",
        "y = df[\"label\"].values # testing set "
      ],
      "metadata": {
        "id": "OFjyp9qIivRM"
      },
      "id": "OFjyp9qIivRM",
      "execution_count": null,
      "outputs": []
    },
    {
      "cell_type": "code",
      "source": [
        "X[:10]"
      ],
      "metadata": {
        "colab": {
          "base_uri": "https://localhost:8080/"
        },
        "id": "CteDT__RivOP",
        "outputId": "6a9c8158-5799-45c2-c8d2-292949f6c016"
      },
      "id": "CteDT__RivOP",
      "execution_count": null,
      "outputs": [
        {
          "output_type": "execute_result",
          "data": {
            "text/plain": [
              "['father dysfunctional selfish drags kids dysfunction run',\n",
              " \"thanks lyft credit can't use cause offer wheelchair vans pdx disapointed getthanked\",\n",
              " 'bihday majesty',\n",
              " 'model love take time urð',\n",
              " 'factsguide society motivation',\n",
              " '2/2 huge fan fare big talking leave chaos pay disputes get allshowandnogo',\n",
              " 'camping tomorrow dannyâ',\n",
              " \"next school year year exams can't think school exams hate imagine actorslife revolutionschool girl\",\n",
              " 'love land allin cavs champions cleveland clevelandcavaliers',\n",
              " \"welcome i'm gr8\"]"
            ]
          },
          "metadata": {},
          "execution_count": 57
        }
      ]
    },
    {
      "cell_type": "code",
      "source": [
        "y[:10]"
      ],
      "metadata": {
        "colab": {
          "base_uri": "https://localhost:8080/"
        },
        "id": "_IyeXA64ivK7",
        "outputId": "039eb1c6-5012-44e8-afbb-a2aa99e1c78a"
      },
      "id": "_IyeXA64ivK7",
      "execution_count": null,
      "outputs": [
        {
          "output_type": "execute_result",
          "data": {
            "text/plain": [
              "array([0, 0, 0, 0, 0, 0, 0, 0, 0, 0])"
            ]
          },
          "metadata": {},
          "execution_count": 58
        }
      ]
    },
    {
      "cell_type": "code",
      "source": [
        "X_train,X_test,y_train,y_test = train_test_split(X,y,test_size=0.3,random_state=42)"
      ],
      "metadata": {
        "id": "JjLVT73Oiu9C"
      },
      "id": "JjLVT73Oiu9C",
      "execution_count": null,
      "outputs": []
    },
    {
      "cell_type": "markdown",
      "source": [
        "### <b> Step-7: TF-IDF values for the terms as a feature to get into a vector space model </b>"
      ],
      "metadata": {
        "id": "Jt3DgXKUmjjb"
      },
      "id": "Jt3DgXKUmjjb"
    },
    {
      "cell_type": "markdown",
      "source": [
        "Since the machine learning models doesn't understand the text, we need to convert them into numerical form. Since we are going to use logistic regression for classification, we will use `TfidfVectorizer` of sklearn for this purpose. Had we using neural networks with keras, we could use `tf.keras.layers.TextVectorization`. For the present case, we will proceed with `TfidfVectorizer`."
      ],
      "metadata": {
        "id": "CE03fzPZ2X03"
      },
      "id": "CE03fzPZ2X03"
    },
    {
      "cell_type": "code",
      "source": [
        "from sklearn.feature_extraction.text import TfidfVectorizer\n",
        "tfidf = TfidfVectorizer(max_features=5000) # Instantiating with a maximum of 5000 terms vocabulary."
      ],
      "metadata": {
        "id": "vhgcBHxbmiUa"
      },
      "id": "vhgcBHxbmiUa",
      "execution_count": null,
      "outputs": []
    },
    {
      "cell_type": "code",
      "source": [
        "train_data = tfidf.fit_transform(X_train) # Fit and apply on the train set\n",
        "test_data = tfidf.transform(X_test) # apply on test data"
      ],
      "metadata": {
        "id": "dFbYAhpRn0dV"
      },
      "id": "dFbYAhpRn0dV",
      "execution_count": null,
      "outputs": []
    },
    {
      "cell_type": "markdown",
      "source": [
        "### <b> Step 8: Model building Using Logistic Regression </b>\n",
        "We will use simple logistic regression for the classification. But other classifier like Decision Tree and ensemble techinques like Random Forest and XGBoost could also be used."
      ],
      "metadata": {
        "id": "ddqN6sd0oXyL"
      },
      "id": "ddqN6sd0oXyL"
    },
    {
      "cell_type": "markdown",
      "source": [
        "Proceeding with logistic regression."
      ],
      "metadata": {
        "id": "E-NwtHgC3zKc"
      },
      "id": "E-NwtHgC3zKc"
    },
    {
      "cell_type": "code",
      "source": [
        "from sklearn.linear_model import LogisticRegression"
      ],
      "metadata": {
        "id": "Zc8tPN2Jn0m6"
      },
      "id": "Zc8tPN2Jn0m6",
      "execution_count": null,
      "outputs": []
    },
    {
      "cell_type": "markdown",
      "source": [
        "Let's fit it into the training data."
      ],
      "metadata": {
        "id": "-2qRbojOpO20"
      },
      "id": "-2qRbojOpO20"
    },
    {
      "cell_type": "code",
      "source": [
        "lr =LogisticRegression()\n",
        "lr.fit(train_data,y_train)  "
      ],
      "metadata": {
        "colab": {
          "base_uri": "https://localhost:8080/"
        },
        "id": "G0EXRpntn0vD",
        "outputId": "babba4ce-75bd-4a5e-a9b0-c3da6805e344"
      },
      "id": "G0EXRpntn0vD",
      "execution_count": null,
      "outputs": [
        {
          "output_type": "execute_result",
          "data": {
            "text/plain": [
              "LogisticRegression()"
            ]
          },
          "metadata": {},
          "execution_count": 63
        }
      ]
    },
    {
      "cell_type": "code",
      "source": [
        "y_train_pred = lr.predict(train_data)"
      ],
      "metadata": {
        "id": "sC6dOeEYpkx9"
      },
      "id": "sC6dOeEYpkx9",
      "execution_count": null,
      "outputs": []
    },
    {
      "cell_type": "code",
      "source": [
        "y_test_pred = lr.predict(test_data)"
      ],
      "metadata": {
        "id": "yMR3aT4hpugO"
      },
      "id": "yMR3aT4hpugO",
      "execution_count": null,
      "outputs": []
    },
    {
      "cell_type": "markdown",
      "source": [
        "### <b> Step 9- Model evaluation: Accuracy, recall, and f_1 score </b>"
      ],
      "metadata": {
        "id": "L2lCwaADqejG"
      },
      "id": "L2lCwaADqejG"
    },
    {
      "cell_type": "code",
      "source": [
        "from sklearn.metrics import confusion_matrix, accuracy_score, classification_report     "
      ],
      "metadata": {
        "id": "eQquBv0yqX0N"
      },
      "id": "eQquBv0yqX0N",
      "execution_count": null,
      "outputs": []
    },
    {
      "cell_type": "code",
      "source": [
        "confusion_matrix(y_test,y_test_pred)"
      ],
      "metadata": {
        "colab": {
          "base_uri": "https://localhost:8080/"
        },
        "id": "_hoXpXcYrO8I",
        "outputId": "c4804fdd-e2a4-437a-d0bd-0202739c0e21"
      },
      "id": "_hoXpXcYrO8I",
      "execution_count": null,
      "outputs": [
        {
          "output_type": "execute_result",
          "data": {
            "text/plain": [
              "array([[8879,   26],\n",
              "       [ 468,  216]])"
            ]
          },
          "metadata": {},
          "execution_count": 67
        }
      ]
    },
    {
      "cell_type": "code",
      "source": [
        "# checking the accuracy score on training data\n",
        "accuracy_score(y_train,y_train_pred)"
      ],
      "metadata": {
        "colab": {
          "base_uri": "https://localhost:8080/"
        },
        "id": "E9Ky7lQHrO_I",
        "outputId": "9a585797-16a9-4842-976a-2e01be756dac"
      },
      "id": "E9Ky7lQHrO_I",
      "execution_count": null,
      "outputs": [
        {
          "output_type": "execute_result",
          "data": {
            "text/plain": [
              "0.956197201984535"
            ]
          },
          "metadata": {},
          "execution_count": 68
        }
      ]
    },
    {
      "cell_type": "markdown",
      "source": [
        "Hence accuracy on train_set is approx 95.62%."
      ],
      "metadata": {
        "id": "uQS32mRA24tz"
      },
      "id": "uQS32mRA24tz"
    },
    {
      "cell_type": "code",
      "source": [
        "# printing the classification report for training data as \n",
        "print(classification_report(y_train,y_train_pred))"
      ],
      "metadata": {
        "colab": {
          "base_uri": "https://localhost:8080/"
        },
        "id": "Fa1iKgp1rPCp",
        "outputId": "a3aace6d-df2e-40a0-ada7-ec29c9790bbd"
      },
      "id": "Fa1iKgp1rPCp",
      "execution_count": null,
      "outputs": [
        {
          "output_type": "stream",
          "name": "stdout",
          "text": [
            "              precision    recall  f1-score   support\n",
            "\n",
            "           0       0.96      1.00      0.98     20815\n",
            "           1       0.96      0.39      0.55      1558\n",
            "\n",
            "    accuracy                           0.96     22373\n",
            "   macro avg       0.96      0.69      0.76     22373\n",
            "weighted avg       0.96      0.96      0.95     22373\n",
            "\n"
          ]
        }
      ]
    },
    {
      "cell_type": "markdown",
      "source": [
        "The table above provides the precision, recall, f1-score and support for each classes separately. As we can see we have got the f1-score for class-1 low and approx 0.55. So, we can use `class_weight` method of LogisticRegression."
      ],
      "metadata": {
        "id": "MU29WJpr3aB6"
      },
      "id": "MU29WJpr3aB6"
    },
    {
      "cell_type": "markdown",
      "source": [
        "### <b> Step 10-11: Adjusting the data and train again with the adjustment and evaluate </b>"
      ],
      "metadata": {
        "id": "fxoDLyhus4y9"
      },
      "id": "fxoDLyhus4y9"
    },
    {
      "cell_type": "markdown",
      "source": [
        "As the dataset contains more class of 0's than 1's, let's use `class_weight` method in LogisticRegression. "
      ],
      "metadata": {
        "id": "L3ATacRb5D9D"
      },
      "id": "L3ATacRb5D9D"
    },
    {
      "cell_type": "code",
      "source": [
        "lr = LogisticRegression(class_weight=\"balanced\")"
      ],
      "metadata": {
        "id": "Re2S3HwerPF1"
      },
      "id": "Re2S3HwerPF1",
      "execution_count": null,
      "outputs": []
    },
    {
      "cell_type": "code",
      "source": [
        "lr.fit(train_data,y_train)"
      ],
      "metadata": {
        "colab": {
          "base_uri": "https://localhost:8080/"
        },
        "id": "9wLw6DjXvEk6",
        "outputId": "0d069f08-6110-4fff-e95a-3d6981499e55"
      },
      "id": "9wLw6DjXvEk6",
      "execution_count": null,
      "outputs": [
        {
          "output_type": "execute_result",
          "data": {
            "text/plain": [
              "LogisticRegression(class_weight='balanced')"
            ]
          },
          "metadata": {},
          "execution_count": 71
        }
      ]
    },
    {
      "cell_type": "code",
      "source": [
        "y_train_pred = lr.predict(train_data)\n",
        "y_test_pred = lr.predict(test_data)"
      ],
      "metadata": {
        "id": "4h-q1db1vLQP"
      },
      "id": "4h-q1db1vLQP",
      "execution_count": null,
      "outputs": []
    },
    {
      "cell_type": "code",
      "source": [
        "accuracy_score(y_train,y_train_pred)"
      ],
      "metadata": {
        "colab": {
          "base_uri": "https://localhost:8080/"
        },
        "id": "dZq0E6r9vYnH",
        "outputId": "29c161c2-fb5e-44a0-afbe-dcd709b12496"
      },
      "id": "dZq0E6r9vYnH",
      "execution_count": null,
      "outputs": [
        {
          "output_type": "execute_result",
          "data": {
            "text/plain": [
              "0.9525767666383588"
            ]
          },
          "metadata": {},
          "execution_count": 73
        }
      ]
    },
    {
      "cell_type": "code",
      "source": [
        "print(classification_report(y_train,y_train_pred))"
      ],
      "metadata": {
        "colab": {
          "base_uri": "https://localhost:8080/"
        },
        "id": "ppU7sFU-viPA",
        "outputId": "1a153295-b72d-44b7-eba2-7bc515f392ec"
      },
      "id": "ppU7sFU-viPA",
      "execution_count": null,
      "outputs": [
        {
          "output_type": "stream",
          "name": "stdout",
          "text": [
            "              precision    recall  f1-score   support\n",
            "\n",
            "           0       1.00      0.95      0.97     20815\n",
            "           1       0.60      0.97      0.74      1558\n",
            "\n",
            "    accuracy                           0.95     22373\n",
            "   macro avg       0.80      0.96      0.86     22373\n",
            "weighted avg       0.97      0.95      0.96     22373\n",
            "\n"
          ]
        }
      ]
    },
    {
      "cell_type": "markdown",
      "source": [
        "So after applying `class_balance` method, as witnessed above, f1 score of class-1 has improved from 0.55 to 0.74. "
      ],
      "metadata": {
        "id": "sHDNlG445M4M"
      },
      "id": "sHDNlG445M4M"
    },
    {
      "cell_type": "markdown",
      "source": [
        "### <b> Step-12: Regularization and hyperparameters </b>"
      ],
      "metadata": {
        "id": "492JVuLQv3xQ"
      },
      "id": "492JVuLQv3xQ"
    },
    {
      "cell_type": "markdown",
      "source": [
        "Next we will use l1 and l2 regularization. These regularization helps in preventing the overfitting. We ill try to have best combination of parametres that would work with our models. So, we will use `GridSearhCV` with `StratifiedKFold` for cross validation. "
      ],
      "metadata": {
        "id": "aBP4zQ6y5bUb"
      },
      "id": "aBP4zQ6y5bUb"
    },
    {
      "cell_type": "code",
      "source": [
        "from sklearn.model_selection import GridSearchCV, StratifiedKFold"
      ],
      "metadata": {
        "id": "193j6F9Qv-EM"
      },
      "id": "193j6F9Qv-EM",
      "execution_count": null,
      "outputs": []
    },
    {
      "cell_type": "markdown",
      "source": [
        "Next task is to provide the parameter grid to choose for ‘C’ and ‘penalty’ parameters."
      ],
      "metadata": {
        "id": "Vy1lcOEIgtoK"
      },
      "id": "Vy1lcOEIgtoK"
    },
    {
      "cell_type": "code",
      "source": [
        "parameter_grid = {\"penalty\":[\"l1\",\"l2\"],\"C\": [0.01,0.1,1,10,100]}"
      ],
      "metadata": {
        "id": "frrco5FWgtMd"
      },
      "id": "frrco5FWgtMd",
      "execution_count": null,
      "outputs": []
    },
    {
      "cell_type": "code",
      "source": [
        "# creating an estimator for GridSearchCV\n",
        "balanced_lr = LogisticRegression(class_weight=\"balanced\")"
      ],
      "metadata": {
        "id": "ivMT6IlHwJ5-"
      },
      "id": "ivMT6IlHwJ5-",
      "execution_count": null,
      "outputs": []
    },
    {
      "cell_type": "markdown",
      "source": [
        "Now we will define the GridSearchCV"
      ],
      "metadata": {
        "id": "5GQWnL3Qjwol"
      },
      "id": "5GQWnL3Qjwol"
    },
    {
      "cell_type": "markdown",
      "source": [
        "### <b> Step-13: Assigning parameters for cross validation </b>"
      ],
      "metadata": {
        "id": "iYTYBtvT2PNa"
      },
      "id": "iYTYBtvT2PNa"
    },
    {
      "cell_type": "code",
      "source": [
        "grid_search = GridSearchCV(estimator=balanced_lr,param_grid=parameter_grid,cv=StratifiedKFold(4),verbose=1,n_jobs=-1,scoring=\"recall\")"
      ],
      "metadata": {
        "id": "NOr8yTo6j04q"
      },
      "id": "NOr8yTo6j04q",
      "execution_count": null,
      "outputs": []
    },
    {
      "cell_type": "code",
      "source": [
        "grid_search.fit(train_data,y_train)"
      ],
      "metadata": {
        "colab": {
          "base_uri": "https://localhost:8080/"
        },
        "id": "jGwwkaE4kZKq",
        "outputId": "5e752643-78d0-4795-adee-7d286298cb97"
      },
      "id": "jGwwkaE4kZKq",
      "execution_count": null,
      "outputs": [
        {
          "output_type": "stream",
          "name": "stdout",
          "text": [
            "Fitting 4 folds for each of 10 candidates, totalling 40 fits\n"
          ]
        },
        {
          "output_type": "stream",
          "name": "stderr",
          "text": [
            "/usr/local/lib/python3.7/dist-packages/sklearn/model_selection/_validation.py:372: FitFailedWarning: \n",
            "20 fits failed out of a total of 40.\n",
            "The score on these train-test partitions for these parameters will be set to nan.\n",
            "If these failures are not expected, you can try to debug them by setting error_score='raise'.\n",
            "\n",
            "Below are more details about the failures:\n",
            "--------------------------------------------------------------------------------\n",
            "20 fits failed with the following error:\n",
            "Traceback (most recent call last):\n",
            "  File \"/usr/local/lib/python3.7/dist-packages/sklearn/model_selection/_validation.py\", line 680, in _fit_and_score\n",
            "    estimator.fit(X_train, y_train, **fit_params)\n",
            "  File \"/usr/local/lib/python3.7/dist-packages/sklearn/linear_model/_logistic.py\", line 1461, in fit\n",
            "    solver = _check_solver(self.solver, self.penalty, self.dual)\n",
            "  File \"/usr/local/lib/python3.7/dist-packages/sklearn/linear_model/_logistic.py\", line 449, in _check_solver\n",
            "    % (solver, penalty)\n",
            "ValueError: Solver lbfgs supports only 'l2' or 'none' penalties, got l1 penalty.\n",
            "\n",
            "  warnings.warn(some_fits_failed_message, FitFailedWarning)\n",
            "/usr/local/lib/python3.7/dist-packages/sklearn/model_selection/_search.py:972: UserWarning: One or more of the test scores are non-finite: [       nan 0.70350339        nan 0.75227572        nan 0.76252389\n",
            "        nan 0.72657373        nan 0.69384352]\n",
            "  category=UserWarning,\n"
          ]
        },
        {
          "output_type": "execute_result",
          "data": {
            "text/plain": [
              "GridSearchCV(cv=StratifiedKFold(n_splits=4, random_state=None, shuffle=False),\n",
              "             estimator=LogisticRegression(class_weight='balanced'), n_jobs=-1,\n",
              "             param_grid={'C': [0.01, 0.1, 1, 10, 100], 'penalty': ['l1', 'l2']},\n",
              "             scoring='recall', verbose=1)"
            ]
          },
          "metadata": {},
          "execution_count": 91
        }
      ]
    },
    {
      "cell_type": "markdown",
      "source": [
        "Finding out the best estimator."
      ],
      "metadata": {
        "id": "g6JZ9wUKlm4T"
      },
      "id": "g6JZ9wUKlm4T"
    },
    {
      "cell_type": "code",
      "source": [
        "grid_search.best_estimator_"
      ],
      "metadata": {
        "colab": {
          "base_uri": "https://localhost:8080/"
        },
        "id": "S7T8G5bGlkN9",
        "outputId": "89379105-1999-4078-8947-f44cb78981e6"
      },
      "id": "S7T8G5bGlkN9",
      "execution_count": null,
      "outputs": [
        {
          "output_type": "execute_result",
          "data": {
            "text/plain": [
              "LogisticRegression(C=1, class_weight='balanced')"
            ]
          },
          "metadata": {},
          "execution_count": 92
        }
      ]
    },
    {
      "cell_type": "code",
      "source": [
        "import sklearn\n",
        "sklearn.__version__"
      ],
      "metadata": {
        "colab": {
          "base_uri": "https://localhost:8080/",
          "height": 36
        },
        "id": "lVH1JPJypv39",
        "outputId": "ec91a3d5-fe6e-4be9-b62d-cef7e4ecf1f8"
      },
      "id": "lVH1JPJypv39",
      "execution_count": null,
      "outputs": [
        {
          "output_type": "execute_result",
          "data": {
            "application/vnd.google.colaboratory.intrinsic+json": {
              "type": "string"
            },
            "text/plain": [
              "'1.0.2'"
            ]
          },
          "metadata": {},
          "execution_count": 95
        }
      ]
    },
    {
      "cell_type": "markdown",
      "source": [
        "  <b> Note: </b> Here above only 20 fits out of 40 fits is successful. This is because currently we are using `lbfgs` solver as by default solver of sklearn,doesn't support \"l1\" penalty. This solver is by default after 0.22 version of sklearn. Currently we are using 1.0.2 version, as shown above. So when we will predict the *test data*, the penalty used would be *l2.* "
      ],
      "metadata": {
        "id": "T_r_ECB8sPYQ"
      },
      "id": "T_r_ECB8sPYQ"
    },
    {
      "cell_type": "markdown",
      "source": [
        "### <b> Step-15: Predict and evaluate using the best estimator </b>"
      ],
      "metadata": {
        "id": "2ZSAJaYCuATC"
      },
      "id": "2ZSAJaYCuATC"
    },
    {
      "cell_type": "code",
      "source": [
        "y_test_pred = grid_search.best_estimator_.predict(test_data)"
      ],
      "metadata": {
        "id": "N6s3qDCruJq6"
      },
      "id": "N6s3qDCruJq6",
      "execution_count": null,
      "outputs": []
    },
    {
      "cell_type": "code",
      "source": [
        "print(classification_report(y_test,y_test_pred))"
      ],
      "metadata": {
        "colab": {
          "base_uri": "https://localhost:8080/"
        },
        "id": "T5WrK62du01Y",
        "outputId": "c75c7962-820b-4bae-91e5-a4b9aac674fd"
      },
      "id": "T5WrK62du01Y",
      "execution_count": null,
      "outputs": [
        {
          "output_type": "stream",
          "name": "stdout",
          "text": [
            "              precision    recall  f1-score   support\n",
            "\n",
            "           0       0.98      0.94      0.96      8905\n",
            "           1       0.49      0.77      0.60       684\n",
            "\n",
            "    accuracy                           0.93      9589\n",
            "   macro avg       0.74      0.85      0.78      9589\n",
            "weighted avg       0.95      0.93      0.93      9589\n",
            "\n"
          ]
        }
      ]
    },
    {
      "cell_type": "code",
      "source": [
        "from sklearn.metrics import recall_score,f1_score"
      ],
      "metadata": {
        "id": "F4YrgXHHveWB"
      },
      "id": "F4YrgXHHveWB",
      "execution_count": null,
      "outputs": []
    },
    {
      "cell_type": "code",
      "source": [
        "print('Recall Score : ' + str(recall_score(y_test,y_test_pred)))"
      ],
      "metadata": {
        "colab": {
          "base_uri": "https://localhost:8080/"
        },
        "id": "viZRW7QEwWJ5",
        "outputId": "7915ae4d-0d88-4090-9005-da444d5107dc"
      },
      "id": "viZRW7QEwWJ5",
      "execution_count": null,
      "outputs": [
        {
          "output_type": "stream",
          "name": "stdout",
          "text": [
            "Recall Score : 0.7690058479532164\n"
          ]
        }
      ]
    },
    {
      "cell_type": "markdown",
      "source": [
        "Hence the recall on the test set for the toxic comments is 0.7690058479532164"
      ],
      "metadata": {
        "id": "rOK_EbhUwtto"
      },
      "id": "rOK_EbhUwtto"
    },
    {
      "cell_type": "code",
      "source": [
        "print(\"f1 score: \" + str(f1_score(y_test,y_test_pred)))"
      ],
      "metadata": {
        "colab": {
          "base_uri": "https://localhost:8080/"
        },
        "id": "SMMS7Kgnwb4a",
        "outputId": "121cc72e-0a94-41fe-9ef0-76e02274f305"
      },
      "id": "SMMS7Kgnwb4a",
      "execution_count": null,
      "outputs": [
        {
          "output_type": "stream",
          "name": "stdout",
          "text": [
            "f1 score: 0.5987478656801366\n"
          ]
        }
      ]
    },
    {
      "cell_type": "markdown",
      "source": [
        "Hence f1 score is 0.5987478656801366"
      ],
      "metadata": {
        "id": "9JdF55k2xTUx"
      },
      "id": "9JdF55k2xTUx"
    }
  ],
  "metadata": {
    "kernelspec": {
      "display_name": "Python 3 (ipykernel)",
      "language": "python",
      "name": "python3"
    },
    "language_info": {
      "codemirror_mode": {
        "name": "ipython",
        "version": 3
      },
      "file_extension": ".py",
      "mimetype": "text/x-python",
      "name": "python",
      "nbconvert_exporter": "python",
      "pygments_lexer": "ipython3",
      "version": "3.9.7"
    },
    "colab": {
      "name": "Twitter_Project.ipynb",
      "provenance": [],
      "collapsed_sections": []
    }
  },
  "nbformat": 4,
  "nbformat_minor": 5
}